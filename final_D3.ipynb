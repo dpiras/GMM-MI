{
 "cells": [
  {
   "cell_type": "code",
   "execution_count": 1,
   "id": "3d304693",
   "metadata": {},
   "outputs": [],
   "source": [
    "import numpy as np\n",
    "from numpy.random import default_rng\n",
    "import matplotlib.pyplot as plt\n",
    "from sklearn.mixture import GaussianMixture as GMM\n",
    "from sklearn.mixture import BayesianGaussianMixture as BGMM\n",
    "import warnings\n",
    "import seaborn as sns\n",
    "#import pygmmis\n",
    "from my_gmm import my_GMM, estimate_MI_single_posterior_sample, consistent, bootstrap_multiprocessing\n",
    "#from multiprocess import set_start_method\n",
    "# https://pythonspeed.com/articles/python-multiprocessing/\n",
    "#set_start_method(\"fork\") # 'fork' seems to get deadlocked, 'spawn' is a bit slower but works\n",
    "#from multiprocess import Pool\n",
    "from functools import partial\n",
    "from sklearn.feature_selection import mutual_info_regression\n",
    "import gc\n",
    "import time\n",
    "from scipy.stats import multivariate_normal\n",
    "from scipy.stats import chi2 as chisquare\n",
    "\n",
    "from matplotlib.patches import Ellipse\n",
    "import pandas as pd\n",
    "\n",
    "from sklearn.utils import check_random_state\n",
    "from mpl_toolkits.axes_grid1.inset_locator import (inset_axes, InsetPosition,\n",
    "                                                  mark_inset)\n",
    "\n",
    "import pygmmis"
   ]
  },
  {
   "cell_type": "code",
   "execution_count": 2,
   "id": "b9d1d308",
   "metadata": {},
   "outputs": [],
   "source": [
    "def draw_ellipse(position, covariance, weight, ax=None, alpha=None, color=None, label=None, count=0, **kwargs):\n",
    "    \"\"\"Draw an ellipse with a given position and covariance\"\"\"\n",
    "    ax = ax or plt.gca()\n",
    "    # Convert covariance to principal axes\n",
    "    if covariance.shape == (2, 2):\n",
    "        U, s, Vt = np.linalg.svd(covariance)\n",
    "        angle = np.degrees(np.arctan2(U[1, 0], U[0, 0]))\n",
    "        width, height = 2 * np.sqrt(s)\n",
    "        #print(s)\n",
    "        \n",
    "    # Draw the Ellipse\n",
    "    # These should be 68% and 95% contours, from a chi2 table\n",
    "    ranges = [np.sqrt(5.991)] #[np.sqrt(0.77), np.sqrt(5.991)]\n",
    "    for nsig in ranges:\n",
    "        ax.add_patch(Ellipse(position, nsig * width, nsig * height,\n",
    "                             angle, color=color, alpha=alpha, **kwargs))\n",
    "    ax.scatter(position[0], position[1],  marker='X', s=2000*weight, color=color, alpha=alpha, label=label if count==0 else \"\")\n",
    "    ax.legend(fontsize=20, frameon=False)\n",
    "        \n",
    "def plot_covariance(means, covariances, weights, means_fitted, covariances_fitted, weights_fitted, N, ax=None):\n",
    "    ax = ax or plt.gca()\n",
    "    ax.set_xlim((-4, 4))\n",
    "    ax.set_ylim((-1.5, 4))\n",
    "    \n",
    "    w_factor = 0.5 # just for the plot\n",
    "    count=0\n",
    "    for mean, covariance, weight in zip(means, covariances, weights):\n",
    "        draw_ellipse(mean, covariance, weight, ax=ax, alpha=w_factor, fill=False, color='blue', linewidth=3, label='Ground truth', count=count)\n",
    "        count += 1\n",
    "\n",
    "    count=0\n",
    "    for mean_fitted, covariance_fitted, weight_fitted in zip(means_fitted, covariances_fitted, weights_fitted):\n",
    "        draw_ellipse(mean_fitted, covariance_fitted, weight_fitted, ax=ax, alpha=w_factor, fill=False, color='red', linewidth=3, label='Fitted', count=count)\n",
    "        count += 1"
   ]
  },
  {
   "cell_type": "code",
   "execution_count": 3,
   "id": "0f16075b",
   "metadata": {},
   "outputs": [],
   "source": [
    "# here we define a custom model for a fixed gmm with known parameters\n",
    "class FixedParMixture_:\n",
    "    \"\"\" A model to estimate gaussian mixture with fixed parameters matrix. \n",
    "        This is only needed to estimate its log-likelihood, not to sample from it\n",
    "        Note this is only for a 1D GMM, as in n_features=1! \n",
    "    \"\"\"\n",
    "    def __init__(self, n_components, mean, cov, weight):\n",
    "        self.n_components = n_components\n",
    "        self.mean = mean\n",
    "        self.cov = cov\n",
    "        self.w = weight\n",
    "\n",
    "    \n",
    "    def estimate_prob(self, X):\n",
    "        marginal = 0\n",
    "        for i in range(self.n_components):\n",
    "            mu = self.mean[i]\n",
    "            sigma = self.cov[i]\n",
    "            w = self.w[i]\n",
    "            marginal += w*multivariate_normal.pdf(x=np.array([X]).T, mean=np.array([mu]), cov=np.array([sigma]))         \n",
    "        return marginal\n",
    "        \n",
    "    \n",
    "    def score_samples(self, X):\n",
    "        \"\"\"Compute the log-likelihood of each sample.\n",
    "        Parameters\n",
    "        ----------\n",
    "        X : array-like of shape (n_samples, n_features)\n",
    "            List of n_features-dimensional data points. Each row\n",
    "            corresponds to a single data point.\n",
    "        Returns\n",
    "        -------\n",
    "        log_prob : array, shape (n_samples,)\n",
    "            Log-likelihood of each sample in `X` under the current model.\n",
    "            \n",
    "        This is taken from the sklearn source code\n",
    "        \"\"\"\n",
    "\n",
    "        return np.log(self.estimate_prob(X))\n",
    "\n",
    "def marginal_loglike_(gmm, points, n_components, i):\n",
    "    # i = 0 is x\n",
    "    # i = 1 is y\n",
    "    ll = FixedParMixture_(n_components, gmm.means_[:, i], gmm.covariances_[:, i, i], gmm.weights_).score_samples(points[:, i])\n",
    "    return ll\n"
   ]
  },
  {
   "cell_type": "code",
   "execution_count": 4,
   "id": "4a2d8798",
   "metadata": {},
   "outputs": [],
   "source": [
    "# three different models, chosen based on the number of components\n",
    "n_components = 3\n",
    "\n",
    "# fix random state for stability across runs\n",
    "random_state = 13\n",
    "\n",
    "if n_components == 1:\n",
    "    weights = np.array([1.0])\n",
    "    mu0, mu1, mu2 = [-1, 1], [0, 2], [-1.5, 2]\n",
    "    means = np.array([mu0])\n",
    "    C0, C1, C2 = [[1, 0], [0, 0.1]], [[0.5, 0.2], [0.2, 0.5]], [[0.1, 0.05], [0.05, 0.1]]\n",
    "    covariances = np.array([C1])\n",
    "    gmm_true = my_GMM(n_components=n_components, weights=weights, means=means, covariances=covariances, random_state=random_state)\n",
    "elif n_components == 2:\n",
    "    weights = np.array([0.96, 0.04])\n",
    "    mu0, mu1 = [0, 0], [1, 1]\n",
    "    means = np.array([mu0, mu1])\n",
    "    C0, C1 = [[1, 0], [0, 1]], [[0.1, 0.], [0., 0.1]]\n",
    "    covariances = np.array([C0, C1])\n",
    "    gmm_true = my_GMM(n_components=n_components, weights=weights, means=means, covariances=covariances, random_state=random_state)\n",
    "elif n_components == 3:\n",
    "    weights = np.array([0.3, 0.45, 0.25])\n",
    "    mu0, mu1, mu2 = [-1, 1], [0, 2], [-1.5, 2]\n",
    "    means = np.array([mu0, mu1, mu2])\n",
    "    C0, C1, C2 = [[1, 0], [0, 0.1]], [[0.5, 0.2], [0.2, 0.5]], [[0.1, 0.05], [0.05, 0.1]]\n",
    "    covariances = np.array([C0, C1, C2])\n",
    "    gmm_true = my_GMM(n_components=n_components, weights=weights, means=means, covariances=covariances, random_state=random_state)\n",
    "elif n_components == 5:\n",
    "    weights = np.array([0.2, 0.35, 0.15, 0.12, 0.18])\n",
    "    mu0, mu1, mu2, mu3, mu4 = [-1, 1], [0, 2], [-1.5, 2], [2, 1], [-0.25, 0]\n",
    "    means = np.array([mu0, mu1, mu2, mu3, mu4])\n",
    "    C0, C1, C2, C3, C4 = [[1, 0], [0, 0.1]], [[0.5, 0.2], [0.2, 0.5]], [[0.1, 0.05], [0.05, 0.1]], [[0.5, -0.1], [-0.1, 0.9]], [[0.2, -0.05], [-0.05, 0.1]]\n",
    "    covariances = np.array([C0, C1, C2, C3, C4])\n",
    "    gmm_true = my_GMM(n_components=n_components, weights=weights, means=means, covariances=covariances, random_state=random_state)\n",
    "elif n_components == 6:\n",
    "    # this is for D5'\n",
    "    n_components = 5\n",
    "    weights = np.array([0.2, 0.35, 0.15, 0.12, 0.18])\n",
    "    mu0, mu1, mu2, mu3, mu4 = [-1, 1], [0, 2], [-1.5, 2], [3, 1], [-0.25, 0]\n",
    "    means = np.array([mu0, mu1, mu2, mu3, mu4])\n",
    "    C0, C1, C2, C3, C4 = [[1, 0], [0, 0.1]], [[0.5, 0.2], [0.2, 0.5]], [[0.1, 0.05], [0.05, 0.1]], [[0.5, -0.1], [-0.1, 0.9]], [[0.2, -0.05], [-0.05, 0.1]]\n",
    "    covariances = np.array([C0, C1, C2, C3, C4])\n",
    "    gmm_true = my_GMM(n_components=n_components, weights=weights, means=means, covariances=covariances, random_state=random_state)"
   ]
  },
  {
   "cell_type": "code",
   "execution_count": 5,
   "id": "fb8c9b16",
   "metadata": {},
   "outputs": [],
   "source": [
    "def calc_entropy(n_comp, best_w, best_m, best_c):\n",
    "    best_fitted_GMM = my_GMM(n_components=n_comp, weights=best_w, means=best_m, covariances=best_c, random_state=0)\n",
    "    integral_samples = best_fitted_GMM.sample(1e6)[0]\n",
    "\n",
    "    log_values = best_fitted_GMM.score_samples(integral_samples)\n",
    "    best_mean_value = log_values.mean()\n",
    "    best_var_value = (log_values**2).mean()\n",
    "    best_var_value = best_var_value - best_mean_value**2\n",
    "    best_mean_value *= ds_size\n",
    "    best_var_value *=  ds_size\n",
    "    best_stddev_value = np.sqrt(best_var_value)\n",
    "    \n",
    "    return best_mean_value, best_stddev_value"
   ]
  },
  {
   "cell_type": "code",
   "execution_count": 6,
   "id": "f75fa849",
   "metadata": {},
   "outputs": [
    {
     "data": {
      "text/plain": [
       "0.13212342606785435"
      ]
     },
     "execution_count": 6,
     "metadata": {},
     "output_type": "execute_result"
    }
   ],
   "source": [
    "true_MI_analytical = estimate_MI_single_posterior_sample(gmm_true, MC_samples=1e5)\n",
    "true_MI_analytical"
   ]
  },
  {
   "cell_type": "markdown",
   "id": "b7c9d673",
   "metadata": {},
   "source": [
    "### Procedure: we loop over k components. Do 4-fold CV over N=1e4 samples, doing 10 inits each time. Pick the highest validation loss. Plot val loss as a function of k. Also check for optimality. Then select best model, and calculate MI for both best model and one with one more component."
   ]
  },
  {
   "cell_type": "code",
   "execution_count": 64,
   "id": "20304d34",
   "metadata": {},
   "outputs": [
    {
     "name": "stdout",
     "output_type": "stream",
     "text": [
      "1 component\n",
      "-22555.960435233123\n",
      "-13558.04047065242\n",
      "-10300.601792248533\n",
      "-22747.312807142083\n",
      "-13676.592955483307\n",
      "-10262.927906464942\n",
      "-22629.452632384247\n",
      "-13503.109286542443\n",
      "-10453.34038974702\n",
      "-22750.118556370122\n",
      "-13571.833722004256\n",
      "-10410.206995275308\n",
      "-22484.996080870453\n",
      "-13512.690142996906\n",
      "-10270.791904765483\n",
      "-22568.552701424935\n",
      "-13585.883087477425\n",
      "-10306.096461621166\n",
      "-22699.720078355418\n",
      "-13669.58091317521\n",
      "-10278.459279108649\n",
      "-22585.235453942267\n",
      "-13615.658243990374\n",
      "-10375.162108579909\n",
      "-22649.758369448355\n",
      "-13685.9139134189\n",
      "-10289.74967480278\n",
      "val_score = -24155.467526680506 2\n",
      "entropy -24150.845139979785, -13880.76976699305, -10744.479213109673\n",
      "True False False\n",
      "=====\n",
      "2 components\n",
      "-22555.960435233123\n",
      "-13558.04047065242\n",
      "-10300.601792248533\n",
      "-22747.312807142083\n",
      "-13676.592955483307\n",
      "-10262.927906464942\n",
      "-22629.452632384247\n",
      "-13503.109286542443\n",
      "-10453.34038974702\n",
      "-22750.118556370122\n",
      "-13571.833722004256\n",
      "-10410.206995275308\n",
      "-22484.996080870453\n",
      "-13512.690142996906\n",
      "-10270.791904765483\n",
      "-22568.552701424935\n",
      "-13585.883087477425\n",
      "-10306.096461621166\n",
      "-22699.720078355418\n",
      "-13669.58091317521\n",
      "-10278.459279108649\n",
      "-22585.235453942267\n",
      "-13615.658243990374\n",
      "-10375.162108579909\n",
      "-22649.758369448355\n",
      "-13685.9139134189\n",
      "-10289.74967480278\n",
      "val_score = -23247.879885985425 7\n",
      "entropy -23256.64503256785, -13693.01867578315, -10585.895406707214\n",
      "True True False\n",
      "False\n",
      "=====\n",
      "3 components\n",
      "-22555.960435233123\n",
      "-13558.04047065242\n",
      "-10300.601792248533\n",
      "-22747.312807142083\n",
      "-13676.592955483307\n",
      "-10262.927906464942\n",
      "-22629.452632384247\n",
      "-13503.109286542443\n",
      "-10453.34038974702\n",
      "-22750.118556370122\n",
      "-13571.833722004256\n",
      "-10410.206995275308\n",
      "-22484.996080870453\n",
      "-13512.690142996906\n",
      "-10270.791904765483\n",
      "-22568.552701424935\n",
      "-13585.883087477425\n",
      "-10306.096461621166\n",
      "-22699.720078355418\n",
      "-13669.58091317521\n",
      "-10278.459279108649\n",
      "-22585.235453942267\n",
      "-13615.658243990374\n",
      "-10375.162108579909\n",
      "-22649.758369448355\n",
      "-13685.9139134189\n",
      "-10289.74967480278\n",
      "val_score = -22642.195129993255 5\n",
      "entropy -22569.73224598425, -13605.15242289911, -10297.044023381739\n",
      "True True True\n",
      "False\n",
      "=====\n",
      "4 components\n",
      "-22555.960435233123\n",
      "-13558.04047065242\n",
      "-10300.601792248533\n",
      "-22747.312807142083\n",
      "-13676.592955483307\n",
      "-10262.927906464942\n",
      "-22629.452632384247\n",
      "-13503.109286542443\n",
      "-10453.34038974702\n",
      "-22750.118556370122\n",
      "-13571.833722004256\n",
      "-10410.206995275308\n",
      "-22484.996080870453\n",
      "-13512.690142996906\n",
      "-10270.791904765483\n",
      "-22568.552701424935\n",
      "-13585.883087477425\n",
      "-10306.096461621166\n",
      "-22699.720078355418\n",
      "-13669.58091317521\n",
      "-10278.459279108649\n",
      "-22585.235453942267\n",
      "-13615.658243990374\n",
      "-10375.162108579909\n",
      "-22649.758369448355\n",
      "-13685.9139134189\n",
      "-10289.74967480278\n",
      "val_score = -22645.525993628824 8\n",
      "entropy -22631.64612975227, -13668.93071579444, -10293.944657676453\n",
      "True True True\n",
      "True\n",
      "Reached convergence at 3 components\n"
     ]
    }
   ],
   "source": [
    "n_inits = 1\n",
    "n_datasets = 9\n",
    "C = 1/np.sqrt(1)\n",
    "ds_size = int(1e4)\n",
    "N = n_datasets*ds_size\n",
    "tol = 1e-6\n",
    "reg_covar = 1e-6\n",
    "n_components_loop = 4 # we break, so no need to loop for too long\n",
    "val_losses = np.zeros(( n_components_loop, 2 ))\n",
    "goodness_flags = np.zeros(n_components_loop)\n",
    "best_ws, best_ms, best_cs, best_ps = [], [], [], []\n",
    "\n",
    "X_all = np.zeros((n_datasets, ds_size, 2))\n",
    "\n",
    "# first, sample training and validation data\n",
    "# this is a mixture of training and validation, since we do m-fold CV\n",
    "for i in range(n_datasets):\n",
    "    gmm_true = my_GMM(n_components=n_components, weights=weights, means=means, covariances=covariances, random_state=i+9500)\n",
    "    X_all[i] = gmm_true.sample(ds_size)[0]\n",
    "    \n",
    "        \n",
    "for k in range(n_components_loop):\n",
    "    #best_validation_score = -np.inf\n",
    "    if k == 0:\n",
    "        print(f'{k+1} component')\n",
    "    else:\n",
    "        print(f'{k+1} components')\n",
    "        \n",
    "    val_scores_mus_devs = np.zeros(( int(n_datasets*n_inits), 2 ))\n",
    "    val_scores_mus_devs_x = np.zeros(( int(n_datasets*n_inits), 2 ))\n",
    "    val_scores_mus_devs_y = np.zeros(( int(n_datasets*n_inits), 2 ))\n",
    "\n",
    "    current_ws = np.zeros(( int(n_datasets*n_inits), k+1 ))\n",
    "    current_ms = np.zeros(( int(n_datasets*n_inits), k+1, 2 ))\n",
    "    current_cs = np.zeros(( int(n_datasets*n_inits), k+1, 2, 2))\n",
    "    current_ps = np.zeros(( int(n_datasets*n_inits), k+1, 2, 2 ))\n",
    "\n",
    "    for dataset in range(n_datasets):\n",
    "\n",
    "        X_training = X_all[dataset].reshape(ds_size, 2)\n",
    "        print(gmm_true.score_samples(X_training).sum())\n",
    "        \n",
    "        print(marginal_loglike_(gmm_true, X_training, 3, 0).sum())\n",
    "        print(marginal_loglike_(gmm_true, X_training, 3, 1).sum())\n",
    "        \n",
    "\n",
    "        X_validation = X_all[np.arange(len(X_all))!=dataset].reshape(n_datasets-1, ds_size, 2)#X_all[dataset*ds_size:(dataset+1)*ds_size]#X_all[mask]\n",
    "\n",
    "        for r, init in enumerate(range(n_inits)):\n",
    "            validation_scores = []\n",
    "            validation_scores_x, validation_scores_y = [], []\n",
    "            fitted_gmm = GMM(n_components=k+1, reg_covar=reg_covar, \n",
    "                             init_params='kmeans', tol=tol, max_iter=10000, \n",
    "                             random_state=r+dataset).fit(X_training)\n",
    "            # evaluate each fitted model on validation data\n",
    "            for j in range(n_datasets-1):\n",
    "                val_score = fitted_gmm.score_samples(X_validation[j].reshape(ds_size, 2)).sum()\n",
    "                validation_scores.append(np.copy(val_score))\n",
    "                \n",
    "                marginal_x = marginal_loglike_(fitted_gmm, X_validation[j].reshape(ds_size, 2), k+1, 0)\n",
    "                validation_scores_x.append(marginal_x.sum())\n",
    "                \n",
    "                marginal_y = marginal_loglike_(fitted_gmm, X_validation[j].reshape(ds_size, 2), k+1, 1)\n",
    "                validation_scores_y.append(marginal_y.sum())\n",
    "\n",
    "            #validation_scores.append( fitted_gmm.score_samples(X_training).sum() )\n",
    "            \n",
    "            val_score_mu, val_score_std = np.mean(validation_scores), np.std(validation_scores)\n",
    "            val_scores_mus_devs[dataset*n_inits+r] = val_score_mu, val_score_std\n",
    "            \n",
    "            val_score_mu_x, val_score_std_x = np.mean(validation_scores_x), np.std(validation_scores_x)\n",
    "            val_scores_mus_devs_x[dataset*n_inits+r] = val_score_mu_x, val_score_std_x\n",
    "            val_score_mu_y, val_score_std_y = np.mean(validation_scores_y), np.std(validation_scores_y)\n",
    "            val_scores_mus_devs_y[dataset*n_inits+r] = val_score_mu_y, val_score_std_y\n",
    "            \n",
    "            current_ws[dataset*n_inits+r] = np.copy(fitted_gmm.weights_)\n",
    "            current_ms[dataset*n_inits+r] = np.copy(fitted_gmm.means_)\n",
    "            current_cs[dataset*n_inits+r] = np.copy(fitted_gmm.covariances_)\n",
    "            current_ps[dataset*n_inits+r] = np.copy(fitted_gmm.precisions_)\n",
    "            \n",
    "            #print(val_score_mu)\n",
    "            \n",
    "            # check if current validation loss is highest\n",
    "            #if val_score_mu > best_validation_score:\n",
    "            #    #print('Found higher validation score')\n",
    "            #    best_validation_score = val_score_mu\n",
    "            #    best_validation_score_std = val_score_std\n",
    "            #    best_validation_score_x, best_validation_score_std_x = np.mean(validation_scores_x), np.std(validation_scores_x)\n",
    "            #    best_validation_score_y, best_validation_score_std_y = np.mean(validation_scores_y), np.std(validation_scores_y)\n",
    "            #    \n",
    "            #    # save current model\n",
    "            #    best_w, best_m, best_c = np.copy(fitted_gmm.weights_), np.copy(fitted_gmm.means_), np.copy(fitted_gmm.covariances_)\n",
    "            #    best_p = np.copy(fitted_gmm.precisions_)\n",
    "                \n",
    "    val_scores_mus = val_scores_mus_devs[:, 0]\n",
    "    best_index = np.argsort(val_scores_mus)[len(val_scores_mus)//2]\n",
    "    #best_index = np.argmax(val_scores_mus)\n",
    "\n",
    "    best_w, best_m, best_c, best_p = current_ws[best_index], current_ms[best_index], current_cs[best_index], current_ps[best_index]    \n",
    "    best_validation_score = val_scores_mus[best_index]\n",
    "    best_validation_score_std = val_scores_mus_devs[best_index, 1]\n",
    "    best_validation_score_x, best_validation_score_std_x = val_scores_mus_devs_x[best_index]\n",
    "    best_validation_score_y, best_validation_score_std_y = val_scores_mus_devs_y[best_index]\n",
    "    \n",
    "    print(f'val_score = {best_validation_score}', best_index)\n",
    "\n",
    "    # check that best model is good enough for the current component, including marginals\n",
    "    entropy_mu, entropy_std = calc_entropy(k+1, best_w, best_m, best_c)\n",
    "    entropy_mu_x, entropy_std_x = calc_entropy(k+1, best_w, best_m[:, :1], best_c[:, :1, :1])\n",
    "    entropy_mu_y, entropy_std_y = calc_entropy(k+1, best_w, best_m[:, 1:2], best_c[:, 1:2, 1:2])\n",
    "\n",
    "    print(f'entropy {entropy_mu}, {entropy_mu_x}, {entropy_mu_y}')\n",
    "    optim_flag = consistent(best_validation_score, entropy_mu, best_validation_score_std, entropy_std, C=C)\n",
    "    optim_flag_x = consistent(best_validation_score_x, entropy_mu_x, best_validation_score_std_x, entropy_std_x, C=C)\n",
    "    optim_flag_y = consistent(best_validation_score_y, entropy_mu_y, best_validation_score_std_y, entropy_std_y, C=C)\n",
    "    print(optim_flag, optim_flag_x, optim_flag_y)\n",
    "    \n",
    "    \n",
    "    # need to save current val_score mu and std, and whether this was a good model or not\n",
    "    val_losses[k] = np.array([best_validation_score, best_validation_score_std])\n",
    "    goodness_flags[k] = optim_flag and optim_flag_x and optim_flag_y\n",
    "    \n",
    "    # save also best model for current number of components\n",
    "    best_ws.append(best_w)\n",
    "    best_ms.append(best_m)\n",
    "    best_cs.append(best_c)\n",
    "    best_ps.append(best_p)\n",
    "    \n",
    "    \n",
    "    # check if we need to break, since we reached convergence\n",
    "    # skip first component, as we have nothing to compare it against\n",
    "    if k > 0:\n",
    "        validation_converged = consistent(val_losses[k][0], val_losses[k-1][0], val_losses[k][1], val_losses[k-1][1])\n",
    "        #print(validation_converged, goodness_flags[k], goodness_flags[k-1])\n",
    "        convergence_reached = goodness_flags[k] and goodness_flags[k-1] and validation_converged\n",
    "        print(bool(convergence_reached))\n",
    "        if convergence_reached:\n",
    "            print(f'Reached convergence at {k} components')\n",
    "            break\n",
    "            \n",
    "    print('=====')"
   ]
  },
  {
   "cell_type": "code",
   "execution_count": 54,
   "id": "df0d9ec9",
   "metadata": {},
   "outputs": [
    {
     "data": {
      "image/png": "[encoded data removed]",
      "text/plain": [
       "<Figure size 1080x1080 with 1 Axes>"
      ]
     },
     "metadata": {
      "needs_background": "light"
     },
     "output_type": "display_data"
    }
   ],
   "source": [
    "fig, ax = plt.subplots(1, 1, figsize=(15, 15))\n",
    "\n",
    "ax.errorbar(np.arange(len(best_ws))+1, val_losses[:len(best_ws), 0], val_losses[:len(best_ws), 1], fmt='.', color='b')\n",
    "\n",
    "ax.set_xticks(np.arange(len(best_ws))+1)\n",
    "ax.set_xticklabels(['1\\n(N)', '2\\n(Y)', '3\\n(Y)', '4\\n(Y)'])\n",
    "\n",
    "ax.set_xlabel('Number of components\\n(Good enough?)', fontsize=30)\n",
    "ax.set_ylabel('Log-likelihood on validation data', fontsize=30)\n",
    "\n",
    "ax.tick_params(axis='both', which='major', labelsize=25)"
   ]
  },
  {
   "cell_type": "code",
   "execution_count": 42,
   "id": "f9b0703e",
   "metadata": {},
   "outputs": [
    {
     "data": {
      "text/plain": [
       "array([1., 0., 0., 1.])"
      ]
     },
     "execution_count": 42,
     "metadata": {},
     "output_type": "execute_result"
    }
   ],
   "source": [
    "goodness_flags"
   ]
  },
  {
   "cell_type": "code",
   "execution_count": 43,
   "id": "32be5906",
   "metadata": {},
   "outputs": [],
   "source": [
    "# now calculate MI"
   ]
  },
  {
   "cell_type": "code",
   "execution_count": 55,
   "id": "aa9438a3",
   "metadata": {},
   "outputs": [],
   "source": [
    "X_all_flat = np.reshape(X_all, (-1, 2))\n",
    "bootstrap_samples = 50\n",
    "index_best = len(best_w)-2 # index is the length of all models, -1 since we stop at the second to last, -1 since it's an index\n",
    "MI_estimates = np.zeros(bootstrap_samples)\n",
    "MC_samples = 1e5"
   ]
  },
  {
   "cell_type": "code",
   "execution_count": 68,
   "id": "6c6f3a54",
   "metadata": {},
   "outputs": [
    {
     "name": "stdout",
     "output_type": "stream",
     "text": [
      "0.1335574494663991\n",
      "0.13309556729482147\n",
      "0.13294895810419835 0.002251557846691932\n"
     ]
    }
   ],
   "source": [
    "# first calculate the MI of the best-fit model\n",
    "gmm_best = my_GMM(n_components=index_best+1, weights=best_ws[index_best], means=best_ms[index_best],\n",
    "                  covariances=best_cs[index_best], random_state=0)\n",
    "single_MI = estimate_MI_single_posterior_sample(gmm_best, MC_samples=MC_samples)\n",
    "print(single_MI)\n",
    "    \n",
    "gmm_refit = GMM(n_components=index_best+1, n_init=1, tol=tol, max_iter=1000, \n",
    "          weights_init=best_ws[index_best], means_init=best_ms[index_best], \n",
    "          precisions_init=best_ps[index_best]).fit(X_all_flat)\n",
    "\n",
    "single_MI = estimate_MI_single_posterior_sample(gmm_refit, MC_samples=MC_samples)\n",
    "print(single_MI)\n",
    "    \n",
    "    \n",
    "for i in range(bootstrap_samples):\n",
    "    rng = np.random.default_rng()\n",
    "    X_bs = rng.choice(X_all_flat, X_all_flat.shape[0])\n",
    "    gmm = GMM(n_components=index_best+1, n_init=1, tol=tol, max_iter=1000, \n",
    "              weights_init=best_ws[index_best], means_init=best_ms[index_best], \n",
    "              precisions_init=best_ps[index_best]).fit(X_bs)\n",
    "\n",
    "    current_MI_estimate = estimate_MI_single_posterior_sample(gmm, MC_samples=MC_samples)\n",
    "    MI_estimates[i] = current_MI_estimate #- true_MI_analytical\n",
    "\n",
    "print(np.mean(MI_estimates), np.std(MI_estimates))"
   ]
  },
  {
   "cell_type": "code",
   "execution_count": 69,
   "id": "3a54dd8f",
   "metadata": {},
   "outputs": [
    {
     "data": {
      "text/plain": [
       "0.13212342606785435"
      ]
     },
     "execution_count": 69,
     "metadata": {},
     "output_type": "execute_result"
    }
   ],
   "source": [
    "true_MI_analytical"
   ]
  },
  {
   "cell_type": "code",
   "execution_count": null,
   "id": "76fb1f32",
   "metadata": {},
   "outputs": [
    {
     "name": "stdout",
     "output_type": "stream",
     "text": [
      "0.1335574494663991\n",
      "0.1335465149566876\n"
     ]
    }
   ],
   "source": [
    "index_best = len(best_w)-1\n",
    "MI_estimates = np.zeros(bootstrap_samples)\n",
    "\n",
    "# first calculate the MI of the best-fit model\n",
    "gmm_best = my_GMM(n_components=index_best+1, weights=best_ws[index_best], means=best_ms[index_best],\n",
    "                  covariances=best_cs[index_best], random_state=0)\n",
    "single_MI = estimate_MI_single_posterior_sample(gmm_best, MC_samples=MC_samples)\n",
    "print(single_MI)\n",
    "    \n",
    "gmm_refit = GMM(n_components=index_best+1, n_init=1, tol=tol, max_iter=1000, \n",
    "          weights_init=best_ws[index_best], means_init=best_ms[index_best], \n",
    "          precisions_init=best_ps[index_best]).fit(X_all_flat)\n",
    "\n",
    "single_MI = estimate_MI_single_posterior_sample(gmm_refit, MC_samples=MC_samples)\n",
    "print(single_MI)\n",
    "    \n",
    "    \n",
    "for i in range(bootstrap_samples):\n",
    "    rng = np.random.default_rng()\n",
    "    X_bs = rng.choice(X_all_flat, X_all_flat.shape[0])\n",
    "    gmm = GMM(n_components=index_best+1, n_init=1, tol=tol, max_iter=1000, \n",
    "              weights_init=best_ws[index_best], means_init=best_ms[index_best], \n",
    "              precisions_init=best_ps[index_best]).fit(X_bs)\n",
    "\n",
    "    current_MI_estimate = estimate_MI_single_posterior_sample(gmm, MC_samples=MC_samples)\n",
    "    MI_estimates[i] = current_MI_estimate #- true_MI_analytical\n",
    "\n",
    "print(np.mean(MI_estimates), np.std(MI_estimates))"
   ]
  },
  {
   "cell_type": "code",
   "execution_count": null,
   "id": "bb140ee2",
   "metadata": {},
   "outputs": [],
   "source": []
  },
  {
   "cell_type": "code",
   "execution_count": 15,
   "id": "d0a8e038",
   "metadata": {},
   "outputs": [
    {
     "data": {
      "text/plain": [
       "array([1., 1., 1., 1., 0., 0., 0.])"
      ]
     },
     "execution_count": 15,
     "metadata": {},
     "output_type": "execute_result"
    }
   ],
   "source": [
    "goodness_flags"
   ]
  },
  {
   "cell_type": "code",
   "execution_count": 8,
   "id": "10ce0d40",
   "metadata": {},
   "outputs": [
    {
     "data": {
      "image/png": "[encoded data removed]",
      "text/plain": [
       "<Figure size 1080x1080 with 1 Axes>"
      ]
     },
     "metadata": {
      "needs_background": "light"
     },
     "output_type": "display_data"
    }
   ],
   "source": [
    "fig, ax = plt.subplots(1, 1, figsize=(15, 15))\n",
    "\n",
    "ax.errorbar(np.arange(n_components_loop)+1, val_losses[:, 0], val_losses[:, 1], fmt='.', color='b')\n",
    "\n",
    "ax.set_xticks(np.arange(n_components_loop)+1)\n",
    "ax.set_xticklabels(['1\\n(N)', '2\\n(Y)', '3\\n(Y)', '4\\n(Y)', '5\\n(Y)', '6\\n(Y)', '7\\n(Y)'])\n",
    "\n",
    "ax.set_xlabel('Number of components\\n(Good enough?)', fontsize=30)\n",
    "ax.set_ylabel('Log-likelihood on validation data', fontsize=30)\n",
    "\n",
    "ax.tick_params(axis='both', which='major', labelsize=25)"
   ]
  },
  {
   "cell_type": "code",
   "execution_count": 13,
   "id": "635cfbdc",
   "metadata": {},
   "outputs": [
    {
     "data": {
      "text/plain": [
       "True"
      ]
     },
     "execution_count": 13,
     "metadata": {},
     "output_type": "execute_result"
    }
   ],
   "source": [
    "consistent(val_losses[3][0], val_losses[2][0], val_losses[3][1], val_losses[2][1])"
   ]
  },
  {
   "cell_type": "code",
   "execution_count": 10,
   "id": "b7e12d7c",
   "metadata": {},
   "outputs": [],
   "source": [
    "# now calculate MI"
   ]
  },
  {
   "cell_type": "code",
   "execution_count": 10,
   "id": "0cae2e97",
   "metadata": {},
   "outputs": [
    {
     "name": "stdout",
     "output_type": "stream",
     "text": [
      "0.12946225141257525\n",
      "0.13201668717655007 0.0029206827792536277\n"
     ]
    }
   ],
   "source": [
    "X_all_flat = np.reshape(X_all, (-1, 2))\n",
    "bootstrap_samples = 50\n",
    "index_best = 2\n",
    "MI_estimates = np.zeros(bootstrap_samples)\n",
    "MC_samples = 1e5\n",
    "\n",
    "# first calculate the MI of the best-fit model\n",
    "gmm_best = my_GMM(n_components=index_best+1, weights=best_ws[index_best], means=best_ms[index_best],\n",
    "                  covariances=best_cs[index_best], random_state=0)\n",
    "single_MI = estimate_MI_single_posterior_sample(gmm_best, MC_samples=MC_samples)\n",
    "print(single_MI)\n",
    "    \n",
    "for i in range(bootstrap_samples):\n",
    "    rng = np.random.default_rng()\n",
    "    X_bs = rng.choice(X_all_flat, X_all_flat.shape[0])\n",
    "    gmm = GMM(n_components=index_best+1, n_init=2, tol=tol, max_iter=1000, \n",
    "              weights_init=best_ws[index_best], means_init=best_ms[index_best], \n",
    "              precisions_init=best_ps[index_best]).fit(X_bs)\n",
    "\n",
    "    current_MI_estimate = estimate_MI_single_posterior_sample(gmm, MC_samples=MC_samples)\n",
    "    MI_estimates[i] = current_MI_estimate #- true_MI_analytical\n",
    "\n",
    "print(np.mean(MI_estimates), np.std(MI_estimates))"
   ]
  },
  {
   "cell_type": "code",
   "execution_count": 11,
   "id": "a1766373",
   "metadata": {},
   "outputs": [
    {
     "data": {
      "text/plain": [
       "0.13240196036094962"
      ]
     },
     "execution_count": 11,
     "metadata": {},
     "output_type": "execute_result"
    }
   ],
   "source": [
    "true_MI_analytical"
   ]
  },
  {
   "cell_type": "code",
   "execution_count": 12,
   "id": "160badce",
   "metadata": {},
   "outputs": [
    {
     "name": "stdout",
     "output_type": "stream",
     "text": [
      "0.12724024230855294\n",
      "0.13233515844171817 0.002501061014414741\n"
     ]
    }
   ],
   "source": [
    "index_best = 3\n",
    "MI_estimates = np.zeros(bootstrap_samples)\n",
    "\n",
    "# first calculate the MI of the best-fit model\n",
    "gmm_best = my_GMM(n_components=index_best+1, weights=best_ws[index_best], means=best_ms[index_best],\n",
    "                  covariances=best_cs[index_best], random_state=0)\n",
    "single_MI = estimate_MI_single_posterior_sample(gmm_best, MC_samples=MC_samples)\n",
    "print(single_MI)\n",
    "    \n",
    "for i in range(bootstrap_samples):\n",
    "    rng = np.random.default_rng()\n",
    "    X_bs = rng.choice(X_all_flat, X_all_flat.shape[0])\n",
    "    gmm = GMM(n_components=index_best+1, n_init=1, tol=tol, max_iter=1000, \n",
    "              weights_init=best_ws[index_best], means_init=best_ms[index_best], \n",
    "              precisions_init=best_ps[index_best]).fit(X_bs)\n",
    "\n",
    "    current_MI_estimate = estimate_MI_single_posterior_sample(gmm, MC_samples=MC_samples)\n",
    "    MI_estimates[i] = current_MI_estimate #- true_MI_analytical\n",
    "\n",
    "print(np.mean(MI_estimates), np.std(MI_estimates))"
   ]
  },
  {
   "cell_type": "code",
   "execution_count": null,
   "id": "42df75de",
   "metadata": {},
   "outputs": [],
   "source": [
    "0.13201668717655007 0.0029206827792536277"
   ]
  },
  {
   "cell_type": "code",
   "execution_count": 15,
   "id": "7c3fc8b4",
   "metadata": {},
   "outputs": [
    {
     "data": {
      "text/plain": [
       "-0.0017744669561260418"
      ]
     },
     "execution_count": 15,
     "metadata": {},
     "output_type": "execute_result"
    }
   ],
   "source": [
    "0.13201668717655007-true_MI_analytical"
   ]
  },
  {
   "cell_type": "code",
   "execution_count": null,
   "id": "77f26974",
   "metadata": {},
   "outputs": [],
   "source": []
  }
 ],
 "metadata": {
  "kernelspec": {
   "display_name": "Python 3 (ipykernel)",
   "language": "python",
   "name": "python3"
  },
  "language_info": {
   "codemirror_mode": {
    "name": "ipython",
    "version": 3
   },
   "file_extension": ".py",
   "mimetype": "text/x-python",
   "name": "python",
   "nbconvert_exporter": "python",
   "pygments_lexer": "ipython3",
   "version": "3.7.11"
  }
 },
 "nbformat": 4,
 "nbformat_minor": 5
}
