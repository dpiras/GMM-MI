{
 "cells": [
  {
   "cell_type": "code",
   "execution_count": 5,
   "id": "3d304693",
   "metadata": {},
   "outputs": [],
   "source": [
    "import numpy as np\n",
    "from numpy.random import default_rng\n",
    "import matplotlib.pyplot as plt\n",
    "from sklearn.mixture import GaussianMixture as GMM\n",
    "from sklearn.mixture import BayesianGaussianMixture as BGMM\n",
    "import warnings\n",
    "import seaborn as sns\n",
    "#import pygmmis\n",
    "from my_gmm import my_GMM, estimate_MI_single_posterior_sample, consistent, bootstrap_multiprocessing\n",
    "#from multiprocess import set_start_method\n",
    "# https://pythonspeed.com/articles/python-multiprocessing/\n",
    "#set_start_method(\"fork\") # 'fork' seems to get deadlocked, 'spawn' is a bit slower but works\n",
    "#from multiprocess import Pool\n",
    "from functools import partial\n",
    "from sklearn.feature_selection import mutual_info_regression\n",
    "import gc\n",
    "import time\n",
    "from scipy.stats import multivariate_normal\n",
    "from scipy.stats import chi2 as chisquare\n",
    "\n",
    "from matplotlib.patches import Ellipse\n",
    "import pandas as pd\n",
    "\n",
    "from sklearn.utils import check_random_state\n",
    "from mpl_toolkits.axes_grid1.inset_locator import (inset_axes, InsetPosition,\n",
    "                                                  mark_inset)\n",
    "\n",
    "import pygmmis"
   ]
  },
  {
   "cell_type": "code",
   "execution_count": 7,
   "id": "b9d1d308",
   "metadata": {},
   "outputs": [],
   "source": [
    "def draw_ellipse_fitted(position, covariance, weight, ax=None, alpha=None, color=None, label=None, count=0, **kwargs):\n",
    "    \"\"\"Draw an ellipse with a given position and covariance\"\"\"\n",
    "    ax = ax or plt.gca()\n",
    "    # Convert covariance to principal axes\n",
    "    if covariance.shape == (2, 2):\n",
    "        U, s, Vt = np.linalg.svd(covariance)\n",
    "        angle = np.degrees(np.arctan2(U[1, 0], U[0, 0]))\n",
    "        width, height = 2 * np.sqrt(s)\n",
    "        #print(s)\n",
    "        \n",
    "    # Draw the Ellipse\n",
    "    # These should be 68% and 95% contours, from a chi2 table\n",
    "    ranges = [np.sqrt(5.991)] #[np.sqrt(0.77), np.sqrt(5.991)]\n",
    "    for nsig in ranges:\n",
    "        ax.add_patch(Ellipse(position, nsig * width, nsig * height,\n",
    "                             angle, color=color, alpha=alpha, label=label if count==0 else \"\", **kwargs))\n",
    "    ax.scatter(position[0], position[1],  marker='X', s=2000*weight, color=color, alpha=alpha, )\n",
    "    ax.legend(fontsize=30, frameon=False, loc='lower left')\n",
    "    \n",
    "def draw_ellipse_gt(position, covariance, weight, ax=None, alpha=None, color=None, label=None, count=0, **kwargs):\n",
    "    \"\"\"Draw an ellipse with a given position and covariance\"\"\"\n",
    "    ax = ax or plt.gca()\n",
    "    # Convert covariance to principal axes\n",
    "    if covariance.shape == (2, 2):\n",
    "        U, s, Vt = np.linalg.svd(covariance)\n",
    "        angle = np.degrees(np.arctan2(U[1, 0], U[0, 0]))\n",
    "        width, height = 2 * np.sqrt(s)\n",
    "        #print(s)\n",
    "        \n",
    "    # Draw the Ellipse\n",
    "    # These should be 68% and 95% contours, from a chi2 table\n",
    "    ranges = [np.sqrt(5.991)] #[np.sqrt(0.77), np.sqrt(5.991)]\n",
    "    for nsig in ranges:\n",
    "        ax.add_patch(Ellipse(position, nsig * width, nsig * height,\n",
    "                             angle, color=color, alpha=alpha,  label=label if count==0 else \"\", **kwargs))\n",
    "    ax.scatter(position[0], position[1],  marker='X', s=2000*weight, color=color, alpha=alpha)\n",
    "    ax.legend(fontsize=32, frameon=False, loc='lower left')\n",
    "    \n",
    "        \n",
    "def plot_covariance(means, covariances, weights, means_fitted, covariances_fitted, weights_fitted,  ax=None, bf=False):\n",
    "    ax = ax or plt.gca()\n",
    "    ax.set_xlim((-4, 5))\n",
    "    ax.set_ylim((-2.1, 4.5))\n",
    "    \n",
    "    w_factor = 1 # just for the plot\n",
    "    count=0\n",
    "    for mean, covariance, weight in zip(means, covariances, weights):\n",
    "        #if weight < 0.19:\n",
    "        #    count += 1\n",
    "        #    continue\n",
    "        draw_ellipse_gt(mean, covariance, weight, ax=ax, alpha=0.2, fill=True, color='grey', linewidth=4, label='Ground truth (GT)', count=count)\n",
    "        count += 1\n",
    "\n",
    "    count=0\n",
    "    for i, (mean_fitted, covariance_fitted, weight_fitted) in enumerate(zip(means_fitted, covariances_fitted, weights_fitted)):\n",
    "        #if weight_fitted < 0.2:\n",
    "            #count += 1\n",
    "        #    continue\n",
    "        if bf:\n",
    "            draw_ellipse_fitted(mean_fitted, covariance_fitted, weight_fitted, ax=ax, alpha=w_factor, fill=False, color='darkblue', linewidth=3, label='Bad fit (BF)', count=count)\n",
    "        else:\n",
    "            draw_ellipse_fitted(mean_fitted, covariance_fitted, weight_fitted, ax=ax, alpha=w_factor, fill=False, color='darkblue', linewidth=3, label='Scrambled means (SM)', count=count)\n",
    "\n",
    "        count += 1\n",
    "    "
   ]
  },
  {
   "cell_type": "code",
   "execution_count": 8,
   "id": "5978bb72",
   "metadata": {},
   "outputs": [],
   "source": [
    "# here we define a custom model for a fixed gmm with known parameters\n",
    "class FixedParMixture_:\n",
    "    \"\"\" A model to estimate gaussian mixture with fixed parameters matrix. \n",
    "        This is only needed to estimate its log-likelihood, not to sample from it\n",
    "        Note this is only for a 1D GMM, as in n_features=1! \n",
    "    \"\"\"\n",
    "    def __init__(self, n_components, mean, cov, weight):\n",
    "        self.n_components = n_components\n",
    "        self.mean = mean\n",
    "        self.cov = cov\n",
    "        self.w = weight\n",
    "\n",
    "    \n",
    "    def estimate_prob(self, X):\n",
    "        marginal = 0\n",
    "        for i in range(self.n_components):\n",
    "            mu = self.mean[i]\n",
    "            sigma = self.cov[i]\n",
    "            w = self.w[i]\n",
    "            marginal += w*multivariate_normal.pdf(x=np.array([X]).T, mean=np.array([mu]), cov=np.array([sigma]))         \n",
    "        return marginal\n",
    "        \n",
    "    \n",
    "    def score_samples(self, X):\n",
    "        \"\"\"Compute the log-likelihood of each sample.\n",
    "        Parameters\n",
    "        ----------\n",
    "        X : array-like of shape (n_samples, n_features)\n",
    "            List of n_features-dimensional data points. Each row\n",
    "            corresponds to a single data point.\n",
    "        Returns\n",
    "        -------\n",
    "        log_prob : array, shape (n_samples,)\n",
    "            Log-likelihood of each sample in `X` under the current model.\n",
    "            \n",
    "        This is taken from the sklearn source code\n",
    "        \"\"\"\n",
    "\n",
    "        return np.log(self.estimate_prob(X))\n",
    "\n",
    "def marginal_loglike_(gmm, points, n_components, i):\n",
    "    # i = 0 is x\n",
    "    # i = 1 is y\n",
    "    ll = FixedParMixture_(n_components, gmm.means_[:, i], gmm.covariances_[:, i, i], gmm.weights_).score_samples(points[:, i])\n",
    "    return ll\n"
   ]
  },
  {
   "cell_type": "code",
   "execution_count": 9,
   "id": "4a2d8798",
   "metadata": {},
   "outputs": [],
   "source": [
    "# three different models, chosen based on the number of components\n",
    "n_components = 6\n",
    "\n",
    "# fix random state for stability across runs\n",
    "random_state = 15\n",
    "\n",
    "if n_components == 1:\n",
    "    weights = np.array([1.0])\n",
    "    mu0, mu1, mu2 = [-1, 1], [0, 2], [-1.5, 2]\n",
    "    means = np.array([mu0])\n",
    "    C0, C1, C2 = [[1, 0], [0, 0.1]], [[0.5, 0.2], [0.2, 0.5]], [[0.1, 0.05], [0.05, 0.1]]\n",
    "    covariances = np.array([C1])\n",
    "    gmm_true = my_GMM(n_components=n_components, weights=weights, means=means, covariances=covariances, random_state=random_state)\n",
    "elif n_components == 2:\n",
    "    weights = np.array([0.96, 0.04])\n",
    "    mu0, mu1 = [0, 0], [1, 1]\n",
    "    means = np.array([mu0, mu1])\n",
    "    C0, C1 = [[1, 0], [0, 1]], [[0.1, 0.], [0., 0.1]]\n",
    "    covariances = np.array([C0, C1])\n",
    "    gmm_true = my_GMM(n_components=n_components, weights=weights, means=means, covariances=covariances, random_state=random_state)\n",
    "elif n_components == 3:\n",
    "    weights = np.array([0.3, 0.45, 0.25])\n",
    "    mu0, mu1, mu2 = [-1, 1], [0, 2], [-1.5, 2]\n",
    "    means = np.array([mu0, mu1, mu2])\n",
    "    C0, C1, C2 = [[1, 0], [0, 0.1]], [[0.5, 0.2], [0.2, 0.5]], [[0.1, 0.05], [0.05, 0.1]]\n",
    "    covariances = np.array([C0, C1, C2])\n",
    "    gmm_true = my_GMM(n_components=n_components, weights=weights, means=means, covariances=covariances, random_state=random_state)\n",
    "elif n_components == 5:\n",
    "    weights = np.array([0.2, 0.35, 0.15, 0.12, 0.18])\n",
    "    mu0, mu1, mu2, mu3, mu4 = [-1, 1], [0, 2], [-1.5, 2], [2, 1], [-0.25, 0]\n",
    "    means = np.array([mu0, mu1, mu2, mu3, mu4])\n",
    "    C0, C1, C2, C3, C4 = [[1, 0], [0, 0.1]], [[0.5, 0.2], [0.2, 0.5]], [[0.1, 0.05], [0.05, 0.1]], [[0.5, -0.1], [-0.1, 0.9]], [[0.2, -0.05], [-0.05, 0.1]]\n",
    "    covariances = np.array([C0, C1, C2, C3, C4])\n",
    "    gmm_true = my_GMM(n_components=n_components, weights=weights, means=means, covariances=covariances, random_state=random_state)\n",
    "elif n_components == 6:\n",
    "    # this is for D5'\n",
    "    n_components = 5\n",
    "    weights = np.array([0.2, 0.35, 0.15, 0.12, 0.18])\n",
    "    mu0, mu1, mu2, mu3, mu4 = [-1, 1], [0, 2], [-1.5, 2], [3, 1], [-0.25, 0]\n",
    "    means = np.array([mu0, mu1, mu2, mu3, mu4])\n",
    "    C0, C1, C2, C3, C4 = [[1, 0], [0, 0.1]], [[0.5, 0.2], [0.2, 0.5]], [[0.1, 0.05], [0.05, 0.1]], [[0.5, -0.1], [-0.1, 0.9]], [[0.2, -0.05], [-0.05, 0.1]]\n",
    "    covariances = np.array([C0, C1, C2, C3, C4])\n",
    "    gmm_true = my_GMM(n_components=n_components, weights=weights, means=means, covariances=covariances, random_state=random_state)"
   ]
  },
  {
   "cell_type": "code",
   "execution_count": 10,
   "id": "4ea976b4",
   "metadata": {},
   "outputs": [],
   "source": [
    "def calc_entropy(n_comp, best_w, best_m, best_c):\n",
    "    best_fitted_GMM = my_GMM(n_components=n_comp, weights=best_w, means=best_m, covariances=best_c, random_state=0)\n",
    "    integral_samples = best_fitted_GMM.sample(1e6)[0]\n",
    "\n",
    "    log_values = best_fitted_GMM.score_samples(integral_samples)\n",
    "    best_mean_value = log_values.mean()\n",
    "    best_var_value = (log_values**2).mean()\n",
    "    best_var_value = best_var_value - best_mean_value**2\n",
    "    best_mean_value *= ds_size\n",
    "    best_var_value *=  ds_size\n",
    "    best_stddev_value = np.sqrt(best_var_value)\n",
    "    \n",
    "    return best_mean_value, best_stddev_value"
   ]
  },
  {
   "cell_type": "code",
   "execution_count": 11,
   "id": "34ca71eb",
   "metadata": {},
   "outputs": [
    {
     "data": {
      "text/plain": [
       "0.17966613888271626"
      ]
     },
     "execution_count": 11,
     "metadata": {},
     "output_type": "execute_result"
    }
   ],
   "source": [
    "true_MI_analytical = estimate_MI_single_posterior_sample(gmm_true, MC_samples=1e7)\n",
    "true_MI_analytical"
   ]
  },
  {
   "cell_type": "markdown",
   "id": "029807c7",
   "metadata": {},
   "source": [
    "### Procedure: we loop over k components. Do 4-fold CV over N=1e4 samples, doing 10 inits each time. Pick the highest validation loss. Plot val loss as a function of k. Also check for optimality. Then select best model, and calculate MI for both best model and one with one more component."
   ]
  },
  {
   "cell_type": "code",
   "execution_count": 12,
   "id": "e7115ebe",
   "metadata": {},
   "outputs": [],
   "source": [
    "tic = time.time()"
   ]
  },
  {
   "cell_type": "code",
   "execution_count": 13,
   "id": "20304d34",
   "metadata": {
    "scrolled": false
   },
   "outputs": [
    {
     "name": "stdout",
     "output_type": "stream",
     "text": [
      "1 component\n",
      "-27800.453151258902\n",
      "-27811.38773902186\n",
      "-27750.792525020195\n",
      "-27919.034829433047\n",
      "-27838.50891058268\n",
      "[-31634.62575703 -31665.87850165 -31667.97454319 -31634.86353638\n",
      " -31640.41978903]\n",
      "val_score = -31640.419789028234 4\n",
      "entropy -31662.10413023129, -17919.86576425988, -13780.965851874653\n",
      "True True True\n",
      "=====\n",
      "2 components\n",
      "-27800.453151258902\n",
      "-27811.38773902186\n",
      "-27750.792525020195\n",
      "-27919.034829433047\n",
      "-27838.50891058268\n",
      "[-30018.68233266 -30027.82108261 -30038.10042774 -30001.21684241\n",
      " -29996.52843083]\n",
      "val_score = -30018.682332660614 0\n",
      "entropy -29972.123072141374, -16327.517765911993, -13766.96272628881\n",
      "True True True\n",
      "False\n",
      "=====\n",
      "3 components\n",
      "-27800.453151258902\n",
      "-27811.38773902186\n",
      "-27750.792525020195\n",
      "-27919.034829433047\n",
      "-27838.50891058268\n",
      "[-29149.17435735 -28654.01403657 -28671.61278492 -28625.69514244\n",
      " -29116.475854  ]\n",
      "val_score = -28671.61278492334 2\n",
      "entropy -28572.845963274794, -16215.986346800915, -13346.260370265203\n",
      "True False False\n",
      "False\n",
      "=====\n",
      "4 components\n",
      "-27800.453151258902\n",
      "-27811.38773902186\n",
      "-27750.792525020195\n",
      "-27919.034829433047\n",
      "-27838.50891058268\n",
      "[-28174.58118682 -28164.95730169 -28187.16605912 -28145.4448218\n",
      " -28160.43254136]\n",
      "val_score = -28164.957301692943 1\n",
      "entropy -28148.12244156208, -16277.293480485701, -13206.894858177668\n",
      "True True False\n",
      "False\n",
      "=====\n",
      "5 components\n",
      "-27800.453151258902\n",
      "-27811.38773902186\n",
      "-27750.792525020195\n",
      "-27919.034829433047\n",
      "-27838.50891058268\n",
      "[-27848.01128236 -27839.29865084 -27848.9082768  -27809.71725604\n",
      " -27833.10248343]\n",
      "val_score = -27839.298650839468 1\n",
      "entropy -27793.93258176926, -16247.415090471572, -13337.143072667783\n",
      "True True True\n",
      "False\n",
      "=====\n",
      "6 components\n",
      "-27800.453151258902\n",
      "-27811.38773902186\n",
      "-27750.792525020195\n",
      "-27919.034829433047\n",
      "-27838.50891058268\n",
      "[-27850.69141765 -27839.84696271 -27851.94249157 -27814.07779427\n",
      " -27834.85953247]\n",
      "val_score = -27839.846962710224 1\n",
      "entropy -27793.61255759314, -16242.474907042766, -13341.425038989795\n",
      "True True True\n",
      "True\n",
      "Reached convergence at 5 components\n",
      "=====\n",
      "7 components\n",
      "-27800.453151258902\n",
      "-27811.38773902186\n",
      "-27750.792525020195\n",
      "-27919.034829433047\n",
      "-27838.50891058268\n",
      "[-27852.60753613 -27855.15976361 -27855.14920115 -27825.02584932\n",
      " -27834.79297654]\n",
      "val_score = -27852.60753613471 0\n",
      "entropy -27778.47261774528, -16198.741826522188, -13392.88433596524\n",
      "True True True\n",
      "True\n",
      "Reached convergence at 6 components\n",
      "=====\n"
     ]
    }
   ],
   "source": [
    "n_inits = 1\n",
    "n_datasets = 5\n",
    "C = 1/np.sqrt(1)\n",
    "ds_size = int(1e4)\n",
    "N = n_datasets*ds_size\n",
    "tol = 1e-6\n",
    "reg_covar = 1e-6\n",
    "n_components_loop = 7 # we break, so no need to loop for too long\n",
    "val_losses = np.zeros(( n_components_loop, 2 ))\n",
    "goodness_flags = np.zeros(n_components_loop)\n",
    "best_ws, best_ms, best_cs, best_ps = [], [], [], []\n",
    "\n",
    "X_all = np.zeros((n_datasets, ds_size, 2))\n",
    "\n",
    "# first, sample training and validation data\n",
    "# this is a mixture of training and validation, since we do m-fold CV\n",
    "for i in range(n_datasets):\n",
    "    gmm_true = my_GMM(n_components=n_components, weights=weights, means=means, covariances=covariances, random_state=i+100000000)\n",
    "    X_all[i] = gmm_true.sample(ds_size)[0]\n",
    "        \n",
    "for k in range(n_components_loop):\n",
    "    #best_validation_score = -np.inf\n",
    "    if k == 0:\n",
    "        print(f'{k+1} component')\n",
    "    else:\n",
    "        print(f'{k+1} components')\n",
    "        \n",
    "    val_scores_mus_devs = np.zeros(( int(n_datasets*n_inits), 2 ))\n",
    "    val_scores_mus_devs_x = np.zeros(( int(n_datasets*n_inits), 2 ))\n",
    "    val_scores_mus_devs_y = np.zeros(( int(n_datasets*n_inits), 2 ))\n",
    "\n",
    "    current_ws = np.zeros(( int(n_datasets*n_inits), k+1 ))\n",
    "    current_ms = np.zeros(( int(n_datasets*n_inits), k+1, 2 ))\n",
    "    current_cs = np.zeros(( int(n_datasets*n_inits), k+1, 2, 2))\n",
    "    current_ps = np.zeros(( int(n_datasets*n_inits), k+1, 2, 2 ))\n",
    "\n",
    "    for dataset in range(n_datasets):\n",
    "\n",
    "        X_training = X_all[dataset].reshape(ds_size, 2)\n",
    "        print(gmm_true.score_samples(X_training).sum())\n",
    "\n",
    "        X_validation = X_all[np.arange(len(X_all))!=dataset].reshape(n_datasets-1, ds_size, 2)#X_all[dataset*ds_size:(dataset+1)*ds_size]#X_all[mask]\n",
    "\n",
    "        for r, init in enumerate(range(n_inits)):\n",
    "            validation_scores = []\n",
    "            validation_scores_x, validation_scores_y = [], []\n",
    "            fitted_gmm = GMM(n_components=k+1, reg_covar=reg_covar, \n",
    "                             init_params='kmeans', tol=tol, max_iter=10000, \n",
    "                             random_state=r+dataset).fit(X_training)\n",
    "            # evaluate each fitted model on validation data\n",
    "            for j in range(n_datasets-1):\n",
    "                val_score = fitted_gmm.score_samples(X_validation[j].reshape(ds_size, 2)).sum()\n",
    "                validation_scores.append(np.copy(val_score))\n",
    "                \n",
    "                marginal_x = marginal_loglike_(fitted_gmm, X_validation[j].reshape(ds_size, 2), k+1, 0)\n",
    "                validation_scores_x.append(marginal_x.sum())\n",
    "                \n",
    "                marginal_y = marginal_loglike_(fitted_gmm, X_validation[j].reshape(ds_size, 2), k+1, 1)\n",
    "                validation_scores_y.append(marginal_y.sum())\n",
    "\n",
    "            #validation_scores.append( fitted_gmm.score_samples(X_training).sum() )\n",
    "            \n",
    "            val_score_mu, val_score_std = np.mean(validation_scores), np.std(validation_scores)\n",
    "            val_scores_mus_devs[dataset*n_inits+r] = val_score_mu, val_score_std\n",
    "            \n",
    "            val_score_mu_x, val_score_std_x = np.mean(validation_scores_x), np.std(validation_scores_x)\n",
    "            val_scores_mus_devs_x[dataset*n_inits+r] = val_score_mu_x, val_score_std_x\n",
    "            val_score_mu_y, val_score_std_y = np.mean(validation_scores_y), np.std(validation_scores_y)\n",
    "            val_scores_mus_devs_y[dataset*n_inits+r] = val_score_mu_y, val_score_std_y\n",
    "            \n",
    "            current_ws[dataset*n_inits+r] = np.copy(fitted_gmm.weights_)\n",
    "            current_ms[dataset*n_inits+r] = np.copy(fitted_gmm.means_)\n",
    "            current_cs[dataset*n_inits+r] = np.copy(fitted_gmm.covariances_)\n",
    "            current_ps[dataset*n_inits+r] = np.copy(fitted_gmm.precisions_)\n",
    "            \n",
    "            #print(val_score_mu)\n",
    "            \n",
    "            # check if current validation loss is highest\n",
    "            #if val_score_mu > best_validation_score:\n",
    "            #    #print('Found higher validation score')\n",
    "            #    best_validation_score = val_score_mu\n",
    "            #    best_validation_score_std = val_score_std\n",
    "            #    best_validation_score_x, best_validation_score_std_x = np.mean(validation_scores_x), np.std(validation_scores_x)\n",
    "            #    best_validation_score_y, best_validation_score_std_y = np.mean(validation_scores_y), np.std(validation_scores_y)\n",
    "            #    \n",
    "            #    # save current model\n",
    "            #    best_w, best_m, best_c = np.copy(fitted_gmm.weights_), np.copy(fitted_gmm.means_), np.copy(fitted_gmm.covariances_)\n",
    "            #    best_p = np.copy(fitted_gmm.precisions_)\n",
    "                \n",
    "    val_scores_mus = val_scores_mus_devs[:, 0]\n",
    "    print(val_scores_mus)\n",
    "    best_index = np.argsort(val_scores_mus)[len(val_scores_mus)//2]\n",
    "    #best_index = np.argmax(val_scores_mus)\n",
    "    \n",
    "    best_w, best_m, best_c, best_p = current_ws[best_index], current_ms[best_index], current_cs[best_index], current_ps[best_index]    \n",
    "    best_validation_score = val_scores_mus[best_index]\n",
    "    best_validation_score_std = val_scores_mus_devs[best_index, 1]\n",
    "    best_validation_score_x, best_validation_score_std_x = val_scores_mus_devs_x[best_index]\n",
    "    best_validation_score_y, best_validation_score_std_y = val_scores_mus_devs_y[best_index]\n",
    "    \n",
    "    print(f'val_score = {best_validation_score}', best_index)\n",
    "\n",
    "    # check that best model is good enough for the current component, including marginals\n",
    "    entropy_mu, entropy_std = calc_entropy(k+1, best_w, best_m, best_c)\n",
    "    entropy_mu_x, entropy_std_x = calc_entropy(k+1, best_w, best_m[:, :1], best_c[:, :1, :1])\n",
    "    entropy_mu_y, entropy_std_y = calc_entropy(k+1, best_w, best_m[:, 1:2], best_c[:, 1:2, 1:2])\n",
    "\n",
    "    print(f'entropy {entropy_mu}, {entropy_mu_x}, {entropy_mu_y}')\n",
    "    #print(best_validation_score_x, entropy_mu_x)\n",
    "    optim_flag = consistent(best_validation_score, entropy_mu, best_validation_score_std, entropy_std, C=C)\n",
    "    optim_flag_x = consistent(best_validation_score_x, entropy_mu_x, best_validation_score_std_x, entropy_std_x, C=C)\n",
    "    optim_flag_y = consistent(best_validation_score_y, entropy_mu_y, best_validation_score_std_y, entropy_std_y, C=C)\n",
    "    print(optim_flag, optim_flag_x, optim_flag_y)\n",
    "    \n",
    "    \n",
    "    # need to save current val_score mu and std, and whether this was a good model or not\n",
    "    val_losses[k] = np.array([best_validation_score, best_validation_score_std])\n",
    "    goodness_flags[k] = optim_flag and optim_flag_x and optim_flag_y\n",
    "    \n",
    "    # save also best model for current number of components\n",
    "    best_ws.append(best_w)\n",
    "    best_ms.append(best_m)\n",
    "    best_cs.append(best_c)\n",
    "    best_ps.append(best_p)\n",
    "    \n",
    "    \n",
    "    # check if we need to break, since we reached convergence\n",
    "    # skip first component, as we have nothing to compare it against\n",
    "    if k > 0:\n",
    "        validation_converged = consistent(val_losses[k][0], val_losses[k-1][0], val_losses[k][1], val_losses[k-1][1])\n",
    "        #print(validation_converged, goodness_flags[k], goodness_flags[k-1])\n",
    "        convergence_reached = goodness_flags[k] and goodness_flags[k-1] and validation_converged\n",
    "        print(bool(convergence_reached))\n",
    "        if convergence_reached:\n",
    "            print(f'Reached convergence at {k} components')\n",
    "            #break\n",
    "            \n",
    "    print('=====')"
   ]
  },
  {
   "cell_type": "code",
   "execution_count": 22,
   "id": "e91f4d74",
   "metadata": {},
   "outputs": [
    {
     "data": {
      "text/plain": [
       "(-27797.570151095475, 106.08485776478993)"
      ]
     },
     "execution_count": 22,
     "metadata": {},
     "output_type": "execute_result"
    }
   ],
   "source": [
    "calc_entropy(6, gmm_true.weights_, gmm_true.means_, gmm_true.covariances_)"
   ]
  },
  {
   "cell_type": "code",
   "execution_count": 23,
   "id": "47118970",
   "metadata": {},
   "outputs": [
    {
     "data": {
      "text/plain": [
       "array([0., 1., 0., 0., 1., 1., 0.])"
      ]
     },
     "execution_count": 23,
     "metadata": {},
     "output_type": "execute_result"
    }
   ],
   "source": [
    "goodness_flags"
   ]
  },
  {
   "cell_type": "code",
   "execution_count": 35,
   "id": "df0d9ec9",
   "metadata": {},
   "outputs": [
    {
     "data": {
      "image/png": "[encoded data removed]",
      "text/plain": [
       "<Figure size 1080x1080 with 1 Axes>"
      ]
     },
     "metadata": {
      "needs_background": "light"
     },
     "output_type": "display_data"
    }
   ],
   "source": [
    "fig, ax = plt.subplots(1, 1, figsize=(15, 15))\n",
    "\n",
    "ax.errorbar(np.arange(len(best_ws))+1, val_losses[:len(best_ws), 0], val_losses[:len(best_ws), 1], fmt='.', color='b')\n",
    "\n",
    "ax.set_xticks(np.arange(len(best_ws))+1)\n",
    "ax.set_xticklabels(['1\\n(N)', '2\\n(Y)', '3\\n(Y)', '4\\n(N)', '5\\n(Y)', '6\\n(Y)'])\n",
    "\n",
    "ax.set_xlabel('Number of components\\n(Good enough?)', fontsize=30)\n",
    "ax.set_ylabel('Log-likelihood on validation data', fontsize=30)\n",
    "\n",
    "ax.tick_params(axis='both', which='major', labelsize=25)"
   ]
  },
  {
   "cell_type": "code",
   "execution_count": 36,
   "id": "32be5906",
   "metadata": {},
   "outputs": [],
   "source": [
    "# now calculate MI"
   ]
  },
  {
   "cell_type": "code",
   "execution_count": 14,
   "id": "6c6f3a54",
   "metadata": {},
   "outputs": [
    {
     "name": "stdout",
     "output_type": "stream",
     "text": [
      "0.1799787345621426\n",
      "0.17891407553638597\n",
      "0.18025095832346827 0.00227077416731545\n"
     ]
    }
   ],
   "source": [
    "X_all_flat = np.reshape(X_all, (-1, 2))\n",
    "bootstrap_samples = 50\n",
    "index_best = len(best_w)-2 # index is the length of all models, -1 since we stop at the second to last, -1 since it's an index\n",
    "MI_estimates = np.zeros(bootstrap_samples)\n",
    "MC_samples = 1e5\n",
    "\n",
    "# first calculate the MI of the best-fit model\n",
    "gmm_best = my_GMM(n_components=index_best+1, weights=best_ws[index_best], means=best_ms[index_best],\n",
    "                  covariances=best_cs[index_best], random_state=0)\n",
    "single_MI = estimate_MI_single_posterior_sample(gmm_best, MC_samples=MC_samples)\n",
    "print(single_MI)\n",
    "\n",
    "gmm_refit = GMM(n_components=index_best+1, n_init=1, tol=tol, max_iter=1000, \n",
    "          weights_init=best_ws[index_best], means_init=best_ms[index_best], \n",
    "          precisions_init=best_ps[index_best]).fit(X_all_flat)\n",
    "\n",
    "single_MI = estimate_MI_single_posterior_sample(gmm_refit, MC_samples=MC_samples)\n",
    "print(single_MI)\n",
    "\n",
    "for i in range(bootstrap_samples):\n",
    "    rng = np.random.default_rng()\n",
    "    X_bs = rng.choice(X_all_flat, X_all_flat.shape[0])\n",
    "    gmm = GMM(n_components=index_best+1, n_init=1, tol=tol, max_iter=1000, \n",
    "              weights_init=best_ws[index_best], means_init=best_ms[index_best], \n",
    "              precisions_init=best_ps[index_best]).fit(X_bs)\n",
    "\n",
    "    current_MI_estimate = estimate_MI_single_posterior_sample(gmm, MC_samples=MC_samples)\n",
    "    MI_estimates[i] = current_MI_estimate #- true_MI_analytical\n",
    "\n",
    "print(np.mean(MI_estimates), np.std(MI_estimates))"
   ]
  },
  {
   "cell_type": "code",
   "execution_count": 15,
   "id": "3a54dd8f",
   "metadata": {},
   "outputs": [
    {
     "data": {
      "text/plain": [
       "0.17966613888271626"
      ]
     },
     "execution_count": 15,
     "metadata": {},
     "output_type": "execute_result"
    }
   ],
   "source": [
    "true_MI_analytical"
   ]
  },
  {
   "cell_type": "code",
   "execution_count": 16,
   "id": "76fb1f32",
   "metadata": {},
   "outputs": [
    {
     "name": "stdout",
     "output_type": "stream",
     "text": [
      "0.18029415213491545\n",
      "0.1778460344002362\n",
      "0.17916530077580212 0.0027949471786064065\n"
     ]
    }
   ],
   "source": [
    "index_best = len(best_w)-1\n",
    "MI_estimates = np.zeros(bootstrap_samples)\n",
    "\n",
    "# first calculate the MI of the best-fit model\n",
    "gmm_best = my_GMM(n_components=index_best+1, weights=best_ws[index_best], means=best_ms[index_best],\n",
    "                  covariances=best_cs[index_best], random_state=0)\n",
    "single_MI = estimate_MI_single_posterior_sample(gmm_best, MC_samples=MC_samples)\n",
    "print(single_MI)\n",
    "\n",
    "gmm_refit = GMM(n_components=index_best+1, n_init=1, tol=tol, max_iter=1000, \n",
    "          weights_init=best_ws[index_best], means_init=best_ms[index_best], \n",
    "          precisions_init=best_ps[index_best]).fit(X_all_flat)\n",
    "\n",
    "single_MI = estimate_MI_single_posterior_sample(gmm_refit, MC_samples=MC_samples)\n",
    "print(single_MI)\n",
    "\n",
    "for i in range(bootstrap_samples):\n",
    "    rng = np.random.default_rng()\n",
    "    X_bs = rng.choice(X_all_flat, X_all_flat.shape[0])\n",
    "    gmm = GMM(n_components=index_best+1, n_init=1, tol=tol, max_iter=1000, \n",
    "              weights_init=best_ws[index_best], means_init=best_ms[index_best], \n",
    "              precisions_init=best_ps[index_best]).fit(X_bs)\n",
    "\n",
    "    current_MI_estimate = estimate_MI_single_posterior_sample(gmm, MC_samples=MC_samples)\n",
    "    MI_estimates[i] = current_MI_estimate #- true_MI_analytical\n",
    "\n",
    "print(np.mean(MI_estimates), np.std(MI_estimates))"
   ]
  },
  {
   "cell_type": "code",
   "execution_count": 40,
   "id": "5a9b69f5",
   "metadata": {},
   "outputs": [
    {
     "data": {
      "text/plain": [
       "1184.6492483615875"
      ]
     },
     "execution_count": 40,
     "metadata": {},
     "output_type": "execute_result"
    }
   ],
   "source": [
    "time.time()-tic"
   ]
  },
  {
   "cell_type": "code",
   "execution_count": null,
   "id": "b46528c1",
   "metadata": {},
   "outputs": [],
   "source": []
  },
  {
   "cell_type": "code",
   "execution_count": null,
   "id": "e970420e",
   "metadata": {},
   "outputs": [],
   "source": []
  },
  {
   "cell_type": "markdown",
   "id": "75ed14ce",
   "metadata": {},
   "source": [
    "### Plots"
   ]
  },
  {
   "cell_type": "code",
   "execution_count": 18,
   "id": "4401699a",
   "metadata": {},
   "outputs": [],
   "source": [
    "D3_anal = 0.13212342606785435\n",
    "D3_est1 = (0.13309556729482147, 0.0021217980283232056)\n",
    "D3_est2 = (0.13112328527917977, 0.0017786786700360602)"
   ]
  },
  {
   "cell_type": "code",
   "execution_count": 19,
   "id": "e215124f",
   "metadata": {},
   "outputs": [],
   "source": [
    "D5_anal = 0.1680061653738809\n",
    "D5_est1 = (0.16882052546758525, 0.00227077416731545)\n",
    "D5_est2 = (0.16638625187904318, 0.0022261657748503102)"
   ]
  },
  {
   "cell_type": "code",
   "execution_count": 20,
   "id": "a6ebc943",
   "metadata": {},
   "outputs": [],
   "source": [
    "D5p_anal = 0.17966613888271626\n",
    "D5p_est1 = (0.17891407553638597, 0.0027118801011382743)\n",
    "D5p_est2 = (0.1778460344002362, 0.0027949471786064065)"
   ]
  },
  {
   "cell_type": "code",
   "execution_count": 6,
   "id": "cf8094ae",
   "metadata": {
    "scrolled": false
   },
   "outputs": [
    {
     "data": {
      "image/png": "[encoded data removed]",
      "text/plain": [
       "<Figure size 1080x1728 with 3 Axes>"
      ]
     },
     "metadata": {
      "needs_background": "light"
     },
     "output_type": "display_data"
    }
   ],
   "source": [
    "fig, ax = plt.subplots(3, 1, figsize=(15, 24))\n",
    "\n",
    "def plot_MI(analytical, estimate, errorbar, estimate2, errorbar2, ax, label, legend=False):\n",
    "    ax.axvline(analytical, 0, linestyle='--', lw=3, color='k', label='Ground truth')\n",
    "    ax.tick_params(axis='both', which='major', labelsize=25, size=10)\n",
    "    ax.errorbar(estimate, 0.3, 0, errorbar, fmt='.', markersize=20, color='b', capsize=10, elinewidth=2, label='MI at k*')\n",
    "    ax.errorbar(estimate2, 0.6, 0, errorbar2, fmt='.', markersize=20, color='salmon', capsize=10, elinewidth=2, label='MI at k*+1')\n",
    "    ax.set_ylabel(label, fontsize=30)\n",
    "    if legend:\n",
    "        ax.legend(fontsize=30, frameon=False)\n",
    "        \n",
    "    ax.axes.yaxis.set_ticks([])\n",
    "\n",
    "    \n",
    "\n",
    "plot_MI(D3_anal, D3_est1[0], D3_est1[1], D3_est2[0], D3_est2[1], ax=ax[0], label='D3', legend=False)\n",
    "plot_MI(D5_anal, D5_est1[0], D5_est1[1], D5_est2[0], D5_est2[1], ax=ax[1], label='D5', legend=True)\n",
    "plot_MI(D5p_anal, D5p_est1[0], D5p_est1[1], D5p_est2[0], D5p_est2[1], ax=ax[2], label=\"D5'\", legend=False)\n",
    "\n",
    "ax[2].set_xlabel('Mutual information', fontsize=40)\n",
    "plt.savefig('./MI_values.png');"
   ]
  },
  {
   "cell_type": "code",
   "execution_count": null,
   "id": "0a0fa3a9",
   "metadata": {},
   "outputs": [],
   "source": []
  },
  {
   "cell_type": "code",
   "execution_count": 21,
   "id": "ddf7ea0c",
   "metadata": {},
   "outputs": [
    {
     "data": {
      "image/png": "[encoded data removed]",
      "text/plain": [
       "<Figure size 792x360 with 1 Axes>"
      ]
     },
     "metadata": {
      "needs_background": "light"
     },
     "output_type": "display_data"
    }
   ],
   "source": [
    "fig, ax = plt.subplots(1, 1, figsize=(11, 5))\n",
    "\n",
    "#ax.errorbar(np.arange(n_components_loop)+1, val_losses[:, 0], val_losses[:, 1], fmt='.', markersize=20, color='b', capsize=4, elinewidth=2)\n",
    "\n",
    "ax.set_xticks([0, 0.025, 0.05])\n",
    "ax.set_xticklabels([f'D3', f'D5', f\"D5'\"])\n",
    "ax.set_xlim(-0.01, 0.06)\n",
    "\n",
    "ax.axvline(0, 0, linestyle='--', lw=3, color='k', label='Ground\\ntruth')\n",
    "ax.axvline(0.025, 0, linestyle='--', lw=3, color='k')\n",
    "ax.axvline(0.05, 0, linestyle='--', lw=3, color='k')\n",
    "\n",
    "ax.errorbar(D3_est2[0]-D3_anal, 0.4, 0, D3_est2[1], fmt='.', markersize=20, color='#0057b8', capsize=4, elinewidth=3, label='MI at k*+1')\n",
    "ax.errorbar(D3_est1[0]-D3_anal, 0.2, 0, D3_est1[1], fmt='.', markersize=20, color='#ffd700', capsize=4, elinewidth=3, label='MI at k*')\n",
    "\n",
    "ax.errorbar(D5_est1[0]-D5_anal+0.025, 0.2, 0, D5_est1[1], fmt='.', markersize=20, color='#ffd700', capsize=4, elinewidth=3)\n",
    "ax.errorbar(D5_est2[0]-D5_anal+0.025, 0.4, 0, D5_est2[1], fmt='.', markersize=20, color='#0057b8', capsize=4, elinewidth=3)\n",
    "\n",
    "ax.errorbar(D5p_est1[0]-D5p_anal+0.05, 0.2, 0, D5p_est1[1], fmt='.', markersize=20, color='#ffd700', capsize=4, elinewidth=3)\n",
    "ax.errorbar(D5p_est2[0]-D5p_anal+0.05, 0.4, 0, D5p_est2[1], fmt='.', markersize=20, color='#0057b8', capsize=4, elinewidth=3)\n",
    "\n",
    "\n",
    "ax.set_xlabel('Mutual information', fontsize=30)\n",
    "#ax.set_ylabel('Log-likelihood on validation data', fontsize=40)\n",
    "ax.set_ylim((0.15, 0.45))\n",
    "\n",
    "ax.tick_params(axis='both', which='major', labelsize=25, size=10)\n",
    "\n",
    "#ax.set_title('D5', fontsize=40)\n",
    "\n",
    "#circle1 = matplotlib.patches.Ellips)e((5, -27280), 0.5, 300, color='salmon', fill=False, lw=3, label='Identified as best model'\n",
    "                                    \n",
    "#ax.add_patch(circle1)\n",
    "ax.legend(fontsize=30, frameon=False, bbox_to_anchor=(1.5, 0.9))\n",
    "ax.get_yaxis().set_visible(False);"
   ]
  },
  {
   "cell_type": "code",
   "execution_count": null,
   "id": "18103fca",
   "metadata": {},
   "outputs": [],
   "source": []
  },
  {
   "cell_type": "code",
   "execution_count": null,
   "id": "b0b0afe2",
   "metadata": {},
   "outputs": [],
   "source": []
  },
  {
   "cell_type": "code",
   "execution_count": null,
   "id": "8f9c1724",
   "metadata": {},
   "outputs": [],
   "source": []
  },
  {
   "cell_type": "code",
   "execution_count": null,
   "id": "710e8a4f",
   "metadata": {},
   "outputs": [],
   "source": []
  },
  {
   "cell_type": "code",
   "execution_count": null,
   "id": "8153eaed",
   "metadata": {},
   "outputs": [],
   "source": []
  },
  {
   "cell_type": "code",
   "execution_count": null,
   "id": "3684ac75",
   "metadata": {},
   "outputs": [],
   "source": []
  },
  {
   "cell_type": "code",
   "execution_count": 12,
   "id": "2797e1bc",
   "metadata": {},
   "outputs": [
    {
     "name": "stdout",
     "output_type": "stream",
     "text": [
      "False\n"
     ]
    }
   ],
   "source": [
    "n_inits = 1\n",
    "n_datasets = 50\n",
    "ds_size = int(1e4)\n",
    "N = n_datasets*ds_size\n",
    "tol = 1e-6\n",
    "reg_covar = 1e-6\n",
    "n_components_loop = 10 # we break, so no need to loop for too long\n",
    "val_losses = np.zeros(( n_components_loop, 2 ))\n",
    "goodness_flags = np.zeros(n_components_loop)\n",
    "best_ws, best_ms, best_cs, best_ps = [], [], [], []\n",
    "\n",
    "X_all = np.zeros((n_datasets, ds_size, 2))\n",
    "\n",
    "# first, sample training and validation data\n",
    "# this is a mixture of training and validation, since we do m-fold CV\n",
    "for i in range(n_datasets):\n",
    "    gmm_true = my_GMM(n_components=n_components, weights=weights, means=means, covariances=covariances, random_state=i)\n",
    "    X_all[i] = gmm_true.sample(ds_size)[0]\n",
    "        \n",
    "for k in range(5, 6):\n",
    "    best_validation_score = -np.inf\n",
    "\n",
    "    for dataset in range(n_datasets):\n",
    "\n",
    "        X_training = X_all[dataset].reshape(ds_size, 2) \n",
    "        X_validation = X_all[np.arange(len(X_all))!=dataset].reshape(n_datasets-1, ds_size, 2)#X_all[dataset*ds_size:(dataset+1)*ds_size]#X_all[mask]\n",
    "\n",
    "        for r, init in enumerate(range(n_inits)):\n",
    "            validation_scores = []\n",
    "            validation_scores_x, validation_scores_y = [], []\n",
    "            fitted_gmm = GMM(n_components=k+1, reg_covar=reg_covar, \n",
    "                             init_params='kmeans', tol=tol, max_iter=10000, \n",
    "                             random_state=r+dataset).fit(X_training)\n",
    "            # evaluate each fitted model on validation data\n",
    "            for j in range(n_datasets-1):\n",
    "                val_score = fitted_gmm.score_samples(X_validation[j].reshape(ds_size, 2)).sum()\n",
    "                validation_scores.append(np.copy(val_score))\n",
    "                \n",
    "                marginal_x = marginal_loglike_(fitted_gmm, X_validation[j].reshape(ds_size, 2), k+1, 0)\n",
    "                validation_scores_x.append(marginal_x.sum())\n",
    "                \n",
    "                marginal_y = marginal_loglike_(fitted_gmm, X_validation[j].reshape(ds_size, 2), k+1, 1)\n",
    "                validation_scores_y.append(marginal_y.sum())\n",
    "\n",
    "            val_score_mu, val_score_std = np.mean(validation_scores), np.std(validation_scores)\n",
    "\n",
    "            # check if current validation loss is highest\n",
    "            if val_score_mu > best_validation_score:\n",
    "                #print('Found higher validation score')\n",
    "                best_validation_score = val_score_mu\n",
    "                best_validation_score_std = val_score_std\n",
    "                best_validation_score_x, best_validation_score_std_x = np.mean(validation_scores_x), np.std(validation_scores_x)\n",
    "                best_validation_score_y, best_validation_score_std_y = np.mean(validation_scores_y), np.std(validation_scores_y)\n",
    "\n",
    "                # save current model\n",
    "                best_w, best_m, best_c = np.copy(fitted_gmm.weights_), np.copy(fitted_gmm.means_), np.copy(fitted_gmm.covariances_)\n",
    "                best_p = np.copy(fitted_gmm.precisions_)\n",
    "                \n",
    "                \n",
    "    # check that best model is good enough for the current component, including marginals\n",
    "    entropy_mu, entropy_std = calc_entropy(k+1, best_w, best_m, best_c)\n",
    "    entropy_mu_x, entropy_std_x = calc_entropy(k+1, best_w, best_m[:, :1], best_c[:, :1, :1])\n",
    "    entropy_mu_y, entropy_std_y = calc_entropy(k+1, best_w, best_m[:, 1:2], best_c[:, 1:2, 1:2])\n",
    "\n",
    "    optim_flag = consistent(best_validation_score, entropy_mu, best_validation_score_std, entropy_std)\n",
    "    optim_flag_x = consistent(best_validation_score_x, entropy_mu_x, best_validation_score_std_x, entropy_std_x)\n",
    "    optim_flag_y = consistent(best_validation_score_y, entropy_mu_y, best_validation_score_std_y, entropy_std_y)\n",
    "    #print(optim_flag and optim_flag_x and optim_flag_y)\n",
    "    \n",
    "    \n",
    "    # need to save current val_score mu and std, and whether this was a good model or not\n",
    "    val_losses[k] = np.array([best_validation_score, best_validation_score_std])\n",
    "    goodness_flags[k] = optim_flag and optim_flag_x and optim_flag_y\n",
    "    \n",
    "    # save also best model for current number of components\n",
    "    best_ws.append(best_w)\n",
    "    best_ms.append(best_m)\n",
    "    best_cs.append(best_c)\n",
    "    best_ps.append(best_p)\n",
    "    \n",
    "    \n",
    "    # check if we need to break, since we reached convergence\n",
    "    # skip first component, as we have nothing to compare it against\n",
    "    if k > 0:\n",
    "        validation_converged = consistent(val_losses[k][0], val_losses[k-1][0], val_losses[k][1], val_losses[k-1][1])\n",
    "        #print(validation_converged, goodness_flags[k], goodness_flags[k-1])\n",
    "        convergence_reached = goodness_flags[k] and goodness_flags[k-1] and validation_converged\n",
    "        print(bool(convergence_reached))\n",
    "        if convergence_reached:\n",
    "            print(f'Reached convergence at {k} components')\n",
    "            break"
   ]
  },
  {
   "cell_type": "code",
   "execution_count": 13,
   "id": "348f00cc",
   "metadata": {},
   "outputs": [
    {
     "data": {
      "text/plain": [
       "[array(-27614.84262274),\n",
       " array(-27773.00517589),\n",
       " array(-27870.72190662),\n",
       " array(-27773.09482142),\n",
       " array(-27522.68218737),\n",
       " array(-27936.16902748),\n",
       " array(-27731.09187643),\n",
       " array(-27678.21743534),\n",
       " array(-27807.44386185),\n",
       " array(-27913.36461648),\n",
       " array(-27733.40723253),\n",
       " array(-27713.95206449),\n",
       " array(-28010.05176367),\n",
       " array(-27707.75664636),\n",
       " array(-27944.5228633),\n",
       " array(-27959.89825368),\n",
       " array(-28039.533102),\n",
       " array(-27794.9915865),\n",
       " array(-27838.8093664),\n",
       " array(-27780.12885641),\n",
       " array(-27925.00127837),\n",
       " array(-27909.72934759),\n",
       " array(-27823.65433585),\n",
       " array(-28013.67166818),\n",
       " array(-27831.90437256),\n",
       " array(-27765.83713777),\n",
       " array(-27663.89869814),\n",
       " array(-27815.78918803),\n",
       " array(-27716.45613628),\n",
       " array(-27880.18701287),\n",
       " array(-27844.05431676),\n",
       " array(-27739.89256424),\n",
       " array(-27997.73604892),\n",
       " array(-27660.71266834),\n",
       " array(-27863.40694625),\n",
       " array(-27970.56942731),\n",
       " array(-27865.83375827),\n",
       " array(-27804.58593767),\n",
       " array(-27809.17976318),\n",
       " array(-27928.14907975),\n",
       " array(-27867.54919864),\n",
       " array(-27921.38913024),\n",
       " array(-27757.53446986),\n",
       " array(-28066.79574655),\n",
       " array(-27845.04994045),\n",
       " array(-27680.65892241),\n",
       " array(-27913.04264559),\n",
       " array(-27976.74626794),\n",
       " array(-27847.12819531)]"
      ]
     },
     "execution_count": 13,
     "metadata": {},
     "output_type": "execute_result"
    }
   ],
   "source": [
    "validation_scores"
   ]
  },
  {
   "cell_type": "code",
   "execution_count": 22,
   "id": "448d9a41",
   "metadata": {},
   "outputs": [],
   "source": [
    "entropy_scores = []\n",
    "for r in range(49):\n",
    "    best_fitted_GMM = my_GMM(n_components=5, weights=best_w, means=best_m, covariances=best_c, random_state=r+100)\n",
    "    integral_samples = best_fitted_GMM.sample(ds_size)[0]\n",
    "\n",
    "    log_values = best_fitted_GMM.score_samples(integral_samples)\n",
    "    entropy_scores.append(log_values.sum())\n"
   ]
  },
  {
   "cell_type": "code",
   "execution_count": 23,
   "id": "d759cc88",
   "metadata": {},
   "outputs": [
    {
     "data": {
      "text/plain": [
       "array([[ 1.        , -0.04877054],\n",
       "       [-0.04877054,  1.        ]])"
      ]
     },
     "execution_count": 23,
     "metadata": {},
     "output_type": "execute_result"
    }
   ],
   "source": [
    "np.corrcoef(validation_scores, entropy_scores)"
   ]
  },
  {
   "cell_type": "code",
   "execution_count": null,
   "id": "2aeb314d",
   "metadata": {},
   "outputs": [],
   "source": []
  },
  {
   "cell_type": "code",
   "execution_count": null,
   "id": "df53005f",
   "metadata": {},
   "outputs": [],
   "source": []
  }
 ],
 "metadata": {
  "kernelspec": {
   "display_name": "Python 3 (ipykernel)",
   "language": "python",
   "name": "python3"
  },
  "language_info": {
   "codemirror_mode": {
    "name": "ipython",
    "version": 3
   },
   "file_extension": ".py",
   "mimetype": "text/x-python",
   "name": "python",
   "nbconvert_exporter": "python",
   "pygments_lexer": "ipython3",
   "version": "3.7.11"
  }
 },
 "nbformat": 4,
 "nbformat_minor": 5
}
