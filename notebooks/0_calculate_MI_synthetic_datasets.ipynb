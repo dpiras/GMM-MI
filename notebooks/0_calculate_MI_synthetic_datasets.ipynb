{
 "cells": [
  {
   "cell_type": "markdown",
   "id": "4cf7dc6d",
   "metadata": {},
   "source": [
    "In this notebook, we calculate the \"true\" mutual information for a set of synthetic datasets. We use Monte Carlo integration with a large number of samples to estimate the MI integral (unless an analytic version is available), and save the results."
   ]
  },
  {
   "cell_type": "markdown",
   "id": "593596a8",
   "metadata": {},
   "source": [
    "### Import packages"
   ]
  },
  {
   "cell_type": "code",
   "execution_count": 1,
   "id": "10ebd866",
   "metadata": {},
   "outputs": [],
   "source": [
    "import os\n",
    "import numpy as np\n",
    "from gmm_mi.gmm import GMM\n",
    "from gmm_mi.gmm_mi import GMM_MI\n",
    "import gmm_mi.data.synthetic_data as synthetic_data\n",
    "from gmm_mi.utils import analytic_MI"
   ]
  },
  {
   "cell_type": "markdown",
   "id": "e34f587c",
   "metadata": {},
   "source": [
    "### Iterate over the datasets and store the results"
   ]
  },
  {
   "cell_type": "code",
   "execution_count": 2,
   "id": "53754cb5",
   "metadata": {},
   "outputs": [],
   "source": [
    "MI_method = 'MC'\n",
    "MC_samples = 1e8\n",
    "dataset_names = []\n",
    "MI_values = []"
   ]
  },
  {
   "cell_type": "code",
   "execution_count": 3,
   "id": "aed80f42",
   "metadata": {},
   "outputs": [],
   "source": [
    "for d_name, obj in synthetic_data.__dict__.items(): # iterate through every module's attributes\n",
    "    if isinstance(obj, GMM):\n",
    "        dataset_names.append(d_name)\n",
    "        # if 1D, calculate using analytic formula for MI\n",
    "        if len(obj.weights_init) == 1:\n",
    "            MI_value = analytic_MI.calculate_MI_D1_analytical(obj.covariances_init[0])\n",
    "            MI_values.append(MI_value)\n",
    "            continue\n",
    "        if MI_method == 'MC':\n",
    "            MI_value = obj.estimate_MI_MC(MC_samples=MC_samples)\n",
    "        elif MI_method == 'quad':\n",
    "            MI_value = obj.estimate_MI_quad()\n",
    "        MI_values.append(MI_value)"
   ]
  },
  {
   "cell_type": "markdown",
   "id": "e8dacfcb",
   "metadata": {},
   "source": [
    "### Save the MI values"
   ]
  },
  {
   "cell_type": "code",
   "execution_count": 4,
   "id": "cedf88cd",
   "metadata": {},
   "outputs": [],
   "source": [
    "root_folder = './MI_synthetic_datasets/'\n",
    "if not os.path.isdir(root_folder):\n",
    "    os.mkdir(root_folder)\n",
    "    \n",
    "for i, MI_value in enumerate(MI_values):\n",
    "    np.save(f\"{root_folder}MI_{dataset_names[i]}\", MI_value)"
   ]
  }
 ],
 "metadata": {
  "kernelspec": {
   "display_name": "Python 3 (ipykernel)",
   "language": "python",
   "name": "python3"
  },
  "language_info": {
   "codemirror_mode": {
    "name": "ipython",
    "version": 3
   },
   "file_extension": ".py",
   "mimetype": "text/x-python",
   "name": "python",
   "nbconvert_exporter": "python",
   "pygments_lexer": "ipython3",
   "version": "3.7.11"
  }
 },
 "nbformat": 4,
 "nbformat_minor": 5
}
