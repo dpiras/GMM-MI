{
 "cells": [
  {
   "cell_type": "markdown",
   "id": "89af4efe",
   "metadata": {},
   "source": [
    "In this notebook, we compare GMM-MI with the [KSG estimator](https://scikit-learn.org/stable/modules/generated/sklearn.feature_selection.mutual_info_regression.html) and the [MINE estimator](https://github.com/gtegner/mine-pytorch) on an ordered exponential Weinman distribution with varying free parameter $\\alpha$. To run this notebook you would need to install the MINE package following the instructions in the repository; here we already cloned the repository for you and adapted the code to work with python 3.9, so that you only need to run:\n",
    "```\n",
    "cd mine-pytorch\n",
    "pip install -e .\n",
    "```\n",
    "Note the MINE results are not \"reproducible\", in the sense that the seed is not fixed."
   ]
  },
  {
   "cell_type": "markdown",
   "id": "593596a8",
   "metadata": {},
   "source": [
    "### Import packages"
   ]
  },
  {
   "cell_type": "code",
   "execution_count": 1,
   "id": "a981deba",
   "metadata": {},
   "outputs": [
    {
     "name": "stdout",
     "output_type": "stream",
     "text": [
      "Device: cpu\n"
     ]
    }
   ],
   "source": [
    "import numpy as np\n",
    "import time\n",
    "import matplotlib.pyplot as plt\n",
    "# GMM-MI\n",
    "from gmm_mi.mi import EstimateMI\n",
    "from gmm_mi.param_holders import GMMFitParamHolder, SelectComponentsParamHolder, MIDistParamHolder\n",
    "from gmm_mi.utils.analytic_MI import calculate_MI_weinman_analytical\n",
    "# KSG\n",
    "from sklearn.feature_selection import mutual_info_regression\n",
    "# MINE\n",
    "from sklearn.model_selection import train_test_split\n",
    "import torch\n",
    "from torch.utils.data import TensorDataset, DataLoader\n",
    "from mine.models.mine import MutualInformationEstimator\n",
    "from pytorch_lightning import Trainer\n",
    "import logging\n",
    "logging.getLogger().setLevel(logging.ERROR)\n",
    "device = 'cuda' if torch.cuda.is_available() else 'cpu'\n",
    "num_gpus = 1 if device=='cuda' else 0"
   ]
  },
  {
   "cell_type": "markdown",
   "id": "5143b6c8",
   "metadata": {},
   "source": [
    "### Calculate the true MI of the synthetic models"
   ]
  },
  {
   "cell_type": "code",
   "execution_count": 2,
   "id": "ba8a30a6",
   "metadata": {
    "scrolled": false
   },
   "outputs": [],
   "source": [
    "alphas = np.logspace(-1, 2, 20)\n",
    "N = int(2e2)\n",
    "# fix random state for stability across runs\n",
    "random_state = 31\n",
    "random_gen = np.random.default_rng(random_state)\n",
    "\n",
    "analytic = []\n",
    "for alpha in alphas:\n",
    "    analytic.append(calculate_MI_weinman_analytical(alpha))"
   ]
  },
  {
   "cell_type": "markdown",
   "id": "466a097a",
   "metadata": {},
   "source": [
    "### KSG"
   ]
  },
  {
   "cell_type": "code",
   "execution_count": 3,
   "id": "1b971bfb",
   "metadata": {},
   "outputs": [
    {
     "name": "stdout",
     "output_type": "stream",
     "text": [
      "Total time for KSG: 0.038 s\n"
     ]
    }
   ],
   "source": [
    "knn_estimates = []\n",
    "n_neighbors = 1 # keep minimum bias\n",
    "\n",
    "initial_time = time.time()\n",
    "\n",
    "for alpha in alphas:\n",
    "    beta = 0.5\n",
    "    x_samples = random_gen.exponential(scale=beta, size=N)\n",
    "    # then for each x, we sample from an exp\n",
    "    y_samples = random_gen.exponential(scale = alpha, size=N) + x_samples\n",
    "    X = np.stack((np.log(x_samples), np.log(y_samples)), axis=0).T\n",
    "    knn_estimates.append(mutual_info_regression(X[:, 0].reshape(-1, 1), X[:, 1], \n",
    "                                                n_neighbors=n_neighbors))\n",
    "\n",
    "ksg_time = time.time()-initial_time    \n",
    "    \n",
    "print(f'Total time for KSG: {ksg_time:.3f} s')"
   ]
  },
  {
   "cell_type": "markdown",
   "id": "a7e611b7",
   "metadata": {},
   "source": [
    "### MINE"
   ]
  },
  {
   "cell_type": "code",
   "execution_count": 4,
   "id": "1b157296",
   "metadata": {
    "scrolled": true
   },
   "outputs": [
    {
     "name": "stderr",
     "output_type": "stream",
     "text": [
      "Multiprocessing is handled by SLURM.\n",
      "GPU available: False, used: False\n",
      "TPU available: False, using: 0 TPU cores\n",
      "IPU available: False, using: 0 IPUs\n",
      "HPU available: False, using: 0 HPUs\n",
      "/home/dpiras/.conda/envs/MI/lib/python3.9/site-packages/pytorch_lightning/callbacks/model_checkpoint.py:616: UserWarning: Checkpoint directory /home/dpiras/MI/notebooks/comparisons/lightning_logs/version_455820/checkpoints exists and is not empty.\n",
      "  rank_zero_warn(f\"Checkpoint directory {dirpath} exists and is not empty.\")\n",
      "\n",
      "  | Name        | Type             | Params\n",
      "-------------------------------------------------\n",
      "0 | T           | CustomSequential | 10.5 K\n",
      "1 | energy_loss | Mine             | 10.5 K\n",
      "-------------------------------------------------\n",
      "10.5 K    Trainable params\n",
      "0         Non-trainable params\n",
      "10.5 K    Total params\n",
      "0.042     Total estimated model params size (MB)\n",
      "SLURM auto-requeueing enabled. Setting signal handlers.\n",
      "/home/dpiras/.conda/envs/MI/lib/python3.9/site-packages/pytorch_lightning/trainer/connectors/data_connector.py:236: PossibleUserWarning: The dataloader, train_dataloader, does not have many workers which may be a bottleneck. Consider increasing the value of the `num_workers` argument` (try 40 which is the number of cpus on this machine) in the `DataLoader` init to improve performance.\n",
      "  rank_zero_warn(\n",
      "/home/dpiras/.conda/envs/MI/lib/python3.9/site-packages/pytorch_lightning/trainer/trainer.py:1892: PossibleUserWarning: The number of training batches (6) is smaller than the logging interval Trainer(log_every_n_steps=50). Set a lower value for log_every_n_steps if you want to see logs for the training epoch.\n",
      "  rank_zero_warn(\n"
     ]
    },
    {
     "data": {
      "application/vnd.jupyter.widget-view+json": {
       "model_id": "a7e628c89daf4fba97201f210f68bf78",
       "version_major": 2,
       "version_minor": 0
      },
      "text/plain": [
       "Training: 0it [00:00, ?it/s]"
      ]
     },
     "metadata": {},
     "output_type": "display_data"
    },
    {
     "name": "stderr",
     "output_type": "stream",
     "text": [
      "`Trainer.fit` stopped: `max_epochs=50` reached.\n",
      "/home/dpiras/.conda/envs/MI/lib/python3.9/site-packages/pytorch_lightning/trainer/trainer.py:1386: UserWarning: `.test(ckpt_path=None)` was called without a model. The best model of the previous `fit` call will be used. You can pass `.test(ckpt_path='best')` to use the best model or `.test(ckpt_path='last')` to use the last model. If you pass a value, this warning will be silenced.\n",
      "  rank_zero_warn(\n",
      "Restoring states from the checkpoint path at /home/dpiras/MI/notebooks/comparisons/lightning_logs/version_455820/checkpoints/epoch=49-step=300-v120.ckpt\n",
      "Loaded model weights from checkpoint at /home/dpiras/MI/notebooks/comparisons/lightning_logs/version_455820/checkpoints/epoch=49-step=300-v120.ckpt\n",
      "/home/dpiras/.conda/envs/MI/lib/python3.9/site-packages/pytorch_lightning/trainer/connectors/data_connector.py:489: PossibleUserWarning: Your `test_dataloader`'s sampler has shuffling enabled, it is strongly recommended that you turn shuffling off for val/test/predict dataloaders.\n",
      "  rank_zero_warn(\n",
      "/home/dpiras/.conda/envs/MI/lib/python3.9/site-packages/pytorch_lightning/trainer/connectors/data_connector.py:236: PossibleUserWarning: The dataloader, test_dataloader 0, does not have many workers which may be a bottleneck. Consider increasing the value of the `num_workers` argument` (try 40 which is the number of cpus on this machine) in the `DataLoader` init to improve performance.\n",
      "  rank_zero_warn(\n"
     ]
    },
    {
     "data": {
      "application/vnd.jupyter.widget-view+json": {
       "model_id": "ce2c62f3514648d69bf53820c858e302",
       "version_major": 2,
       "version_minor": 0
      },
      "text/plain": [
       "Testing: 0it [00:00, ?it/s]"
      ]
     },
     "metadata": {},
     "output_type": "display_data"
    },
    {
     "name": "stderr",
     "output_type": "stream",
     "text": [
      "Multiprocessing is handled by SLURM.\n",
      "GPU available: False, used: False\n",
      "TPU available: False, using: 0 TPU cores\n",
      "IPU available: False, using: 0 IPUs\n",
      "HPU available: False, using: 0 HPUs\n",
      "\n",
      "  | Name        | Type             | Params\n",
      "-------------------------------------------------\n",
      "0 | T           | CustomSequential | 10.5 K\n",
      "1 | energy_loss | Mine             | 10.5 K\n",
      "-------------------------------------------------\n",
      "10.5 K    Trainable params\n",
      "0         Non-trainable params\n",
      "10.5 K    Total params\n",
      "0.042     Total estimated model params size (MB)\n",
      "SLURM auto-requeueing enabled. Setting signal handlers.\n"
     ]
    },
    {
     "data": {
      "application/vnd.jupyter.widget-view+json": {
       "model_id": "b833109ddd414fecb10ad43b4af906ea",
       "version_major": 2,
       "version_minor": 0
      },
      "text/plain": [
       "Training: 0it [00:00, ?it/s]"
      ]
     },
     "metadata": {},
     "output_type": "display_data"
    },
    {
     "name": "stderr",
     "output_type": "stream",
     "text": [
      "`Trainer.fit` stopped: `max_epochs=50` reached.\n",
      "Restoring states from the checkpoint path at /home/dpiras/MI/notebooks/comparisons/lightning_logs/version_455820/checkpoints/epoch=49-step=300-v121.ckpt\n",
      "Loaded model weights from checkpoint at /home/dpiras/MI/notebooks/comparisons/lightning_logs/version_455820/checkpoints/epoch=49-step=300-v121.ckpt\n"
     ]
    },
    {
     "data": {
      "application/vnd.jupyter.widget-view+json": {
       "model_id": "c82e84036bfc47e8949a7a0d33343b70",
       "version_major": 2,
       "version_minor": 0
      },
      "text/plain": [
       "Testing: 0it [00:00, ?it/s]"
      ]
     },
     "metadata": {},
     "output_type": "display_data"
    },
    {
     "name": "stderr",
     "output_type": "stream",
     "text": [
      "Multiprocessing is handled by SLURM.\n",
      "GPU available: False, used: False\n",
      "TPU available: False, using: 0 TPU cores\n",
      "IPU available: False, using: 0 IPUs\n",
      "HPU available: False, using: 0 HPUs\n",
      "\n",
      "  | Name        | Type             | Params\n",
      "-------------------------------------------------\n",
      "0 | T           | CustomSequential | 10.5 K\n",
      "1 | energy_loss | Mine             | 10.5 K\n",
      "-------------------------------------------------\n",
      "10.5 K    Trainable params\n",
      "0         Non-trainable params\n",
      "10.5 K    Total params\n",
      "0.042     Total estimated model params size (MB)\n",
      "SLURM auto-requeueing enabled. Setting signal handlers.\n"
     ]
    },
    {
     "data": {
      "application/vnd.jupyter.widget-view+json": {
       "model_id": "fd63049b5ab54b4ab2edf7e3aecb942f",
       "version_major": 2,
       "version_minor": 0
      },
      "text/plain": [
       "Training: 0it [00:00, ?it/s]"
      ]
     },
     "metadata": {},
     "output_type": "display_data"
    },
    {
     "name": "stderr",
     "output_type": "stream",
     "text": [
      "`Trainer.fit` stopped: `max_epochs=50` reached.\n",
      "Restoring states from the checkpoint path at /home/dpiras/MI/notebooks/comparisons/lightning_logs/version_455820/checkpoints/epoch=49-step=300-v122.ckpt\n",
      "Loaded model weights from checkpoint at /home/dpiras/MI/notebooks/comparisons/lightning_logs/version_455820/checkpoints/epoch=49-step=300-v122.ckpt\n"
     ]
    },
    {
     "data": {
      "application/vnd.jupyter.widget-view+json": {
       "model_id": "8a1329ea644b470ca4c91f81e4006894",
       "version_major": 2,
       "version_minor": 0
      },
      "text/plain": [
       "Testing: 0it [00:00, ?it/s]"
      ]
     },
     "metadata": {},
     "output_type": "display_data"
    },
    {
     "name": "stderr",
     "output_type": "stream",
     "text": [
      "Multiprocessing is handled by SLURM.\n",
      "GPU available: False, used: False\n",
      "TPU available: False, using: 0 TPU cores\n",
      "IPU available: False, using: 0 IPUs\n",
      "HPU available: False, using: 0 HPUs\n",
      "\n",
      "  | Name        | Type             | Params\n",
      "-------------------------------------------------\n",
      "0 | T           | CustomSequential | 10.5 K\n",
      "1 | energy_loss | Mine             | 10.5 K\n",
      "-------------------------------------------------\n",
      "10.5 K    Trainable params\n",
      "0         Non-trainable params\n",
      "10.5 K    Total params\n",
      "0.042     Total estimated model params size (MB)\n",
      "SLURM auto-requeueing enabled. Setting signal handlers.\n"
     ]
    },
    {
     "data": {
      "application/vnd.jupyter.widget-view+json": {
       "model_id": "31102ae7eb9f4829bd7422d20fdd7177",
       "version_major": 2,
       "version_minor": 0
      },
      "text/plain": [
       "Training: 0it [00:00, ?it/s]"
      ]
     },
     "metadata": {},
     "output_type": "display_data"
    },
    {
     "name": "stderr",
     "output_type": "stream",
     "text": [
      "`Trainer.fit` stopped: `max_epochs=50` reached.\n",
      "Restoring states from the checkpoint path at /home/dpiras/MI/notebooks/comparisons/lightning_logs/version_455820/checkpoints/epoch=49-step=300-v123.ckpt\n",
      "Loaded model weights from checkpoint at /home/dpiras/MI/notebooks/comparisons/lightning_logs/version_455820/checkpoints/epoch=49-step=300-v123.ckpt\n"
     ]
    },
    {
     "data": {
      "application/vnd.jupyter.widget-view+json": {
       "model_id": "4458c5ac8a884246b4497e7aa12c7156",
       "version_major": 2,
       "version_minor": 0
      },
      "text/plain": [
       "Testing: 0it [00:00, ?it/s]"
      ]
     },
     "metadata": {},
     "output_type": "display_data"
    },
    {
     "name": "stderr",
     "output_type": "stream",
     "text": [
      "Multiprocessing is handled by SLURM.\n",
      "GPU available: False, used: False\n",
      "TPU available: False, using: 0 TPU cores\n",
      "IPU available: False, using: 0 IPUs\n",
      "HPU available: False, using: 0 HPUs\n",
      "\n",
      "  | Name        | Type             | Params\n",
      "-------------------------------------------------\n",
      "0 | T           | CustomSequential | 10.5 K\n",
      "1 | energy_loss | Mine             | 10.5 K\n",
      "-------------------------------------------------\n",
      "10.5 K    Trainable params\n",
      "0         Non-trainable params\n",
      "10.5 K    Total params\n",
      "0.042     Total estimated model params size (MB)\n",
      "SLURM auto-requeueing enabled. Setting signal handlers.\n"
     ]
    },
    {
     "data": {
      "application/vnd.jupyter.widget-view+json": {
       "model_id": "4d552490b29c4e33a9ad13b18faa9727",
       "version_major": 2,
       "version_minor": 0
      },
      "text/plain": [
       "Training: 0it [00:00, ?it/s]"
      ]
     },
     "metadata": {},
     "output_type": "display_data"
    },
    {
     "name": "stderr",
     "output_type": "stream",
     "text": [
      "`Trainer.fit` stopped: `max_epochs=50` reached.\n",
      "Restoring states from the checkpoint path at /home/dpiras/MI/notebooks/comparisons/lightning_logs/version_455820/checkpoints/epoch=49-step=300-v124.ckpt\n",
      "Loaded model weights from checkpoint at /home/dpiras/MI/notebooks/comparisons/lightning_logs/version_455820/checkpoints/epoch=49-step=300-v124.ckpt\n"
     ]
    },
    {
     "data": {
      "application/vnd.jupyter.widget-view+json": {
       "model_id": "e06f8e3547564b70912d54eba35eb4b0",
       "version_major": 2,
       "version_minor": 0
      },
      "text/plain": [
       "Testing: 0it [00:00, ?it/s]"
      ]
     },
     "metadata": {},
     "output_type": "display_data"
    },
    {
     "name": "stderr",
     "output_type": "stream",
     "text": [
      "Multiprocessing is handled by SLURM.\n",
      "GPU available: False, used: False\n",
      "TPU available: False, using: 0 TPU cores\n",
      "IPU available: False, using: 0 IPUs\n",
      "HPU available: False, using: 0 HPUs\n",
      "\n",
      "  | Name        | Type             | Params\n",
      "-------------------------------------------------\n",
      "0 | T           | CustomSequential | 10.5 K\n",
      "1 | energy_loss | Mine             | 10.5 K\n",
      "-------------------------------------------------\n",
      "10.5 K    Trainable params\n",
      "0         Non-trainable params\n",
      "10.5 K    Total params\n",
      "0.042     Total estimated model params size (MB)\n",
      "SLURM auto-requeueing enabled. Setting signal handlers.\n"
     ]
    },
    {
     "data": {
      "application/vnd.jupyter.widget-view+json": {
       "model_id": "f53e304668e6466086a755d97e95a9dd",
       "version_major": 2,
       "version_minor": 0
      },
      "text/plain": [
       "Training: 0it [00:00, ?it/s]"
      ]
     },
     "metadata": {},
     "output_type": "display_data"
    },
    {
     "name": "stderr",
     "output_type": "stream",
     "text": [
      "`Trainer.fit` stopped: `max_epochs=50` reached.\n",
      "Restoring states from the checkpoint path at /home/dpiras/MI/notebooks/comparisons/lightning_logs/version_455820/checkpoints/epoch=49-step=300-v125.ckpt\n",
      "Loaded model weights from checkpoint at /home/dpiras/MI/notebooks/comparisons/lightning_logs/version_455820/checkpoints/epoch=49-step=300-v125.ckpt\n"
     ]
    },
    {
     "data": {
      "application/vnd.jupyter.widget-view+json": {
       "model_id": "3c99a58c3e3345e59e10b6e59fc32d4a",
       "version_major": 2,
       "version_minor": 0
      },
      "text/plain": [
       "Testing: 0it [00:00, ?it/s]"
      ]
     },
     "metadata": {},
     "output_type": "display_data"
    },
    {
     "name": "stderr",
     "output_type": "stream",
     "text": [
      "Multiprocessing is handled by SLURM.\n",
      "GPU available: False, used: False\n",
      "TPU available: False, using: 0 TPU cores\n",
      "IPU available: False, using: 0 IPUs\n",
      "HPU available: False, using: 0 HPUs\n",
      "\n",
      "  | Name        | Type             | Params\n",
      "-------------------------------------------------\n",
      "0 | T           | CustomSequential | 10.5 K\n",
      "1 | energy_loss | Mine             | 10.5 K\n",
      "-------------------------------------------------\n",
      "10.5 K    Trainable params\n",
      "0         Non-trainable params\n",
      "10.5 K    Total params\n",
      "0.042     Total estimated model params size (MB)\n",
      "SLURM auto-requeueing enabled. Setting signal handlers.\n"
     ]
    },
    {
     "data": {
      "application/vnd.jupyter.widget-view+json": {
       "model_id": "aef29e21f1a74f959bcf0893dcd0c034",
       "version_major": 2,
       "version_minor": 0
      },
      "text/plain": [
       "Training: 0it [00:00, ?it/s]"
      ]
     },
     "metadata": {},
     "output_type": "display_data"
    },
    {
     "name": "stderr",
     "output_type": "stream",
     "text": [
      "`Trainer.fit` stopped: `max_epochs=50` reached.\n",
      "Restoring states from the checkpoint path at /home/dpiras/MI/notebooks/comparisons/lightning_logs/version_455820/checkpoints/epoch=49-step=300-v126.ckpt\n",
      "Loaded model weights from checkpoint at /home/dpiras/MI/notebooks/comparisons/lightning_logs/version_455820/checkpoints/epoch=49-step=300-v126.ckpt\n"
     ]
    },
    {
     "data": {
      "application/vnd.jupyter.widget-view+json": {
       "model_id": "6336b9e56313435cab755ae474e3b4bc",
       "version_major": 2,
       "version_minor": 0
      },
      "text/plain": [
       "Testing: 0it [00:00, ?it/s]"
      ]
     },
     "metadata": {},
     "output_type": "display_data"
    },
    {
     "name": "stderr",
     "output_type": "stream",
     "text": [
      "Multiprocessing is handled by SLURM.\n",
      "GPU available: False, used: False\n",
      "TPU available: False, using: 0 TPU cores\n",
      "IPU available: False, using: 0 IPUs\n",
      "HPU available: False, using: 0 HPUs\n",
      "\n",
      "  | Name        | Type             | Params\n",
      "-------------------------------------------------\n",
      "0 | T           | CustomSequential | 10.5 K\n",
      "1 | energy_loss | Mine             | 10.5 K\n",
      "-------------------------------------------------\n",
      "10.5 K    Trainable params\n",
      "0         Non-trainable params\n",
      "10.5 K    Total params\n",
      "0.042     Total estimated model params size (MB)\n",
      "SLURM auto-requeueing enabled. Setting signal handlers.\n"
     ]
    },
    {
     "data": {
      "application/vnd.jupyter.widget-view+json": {
       "model_id": "098426b217b6468bbf497e173d0846fa",
       "version_major": 2,
       "version_minor": 0
      },
      "text/plain": [
       "Training: 0it [00:00, ?it/s]"
      ]
     },
     "metadata": {},
     "output_type": "display_data"
    },
    {
     "name": "stderr",
     "output_type": "stream",
     "text": [
      "`Trainer.fit` stopped: `max_epochs=50` reached.\n",
      "Restoring states from the checkpoint path at /home/dpiras/MI/notebooks/comparisons/lightning_logs/version_455820/checkpoints/epoch=49-step=300-v127.ckpt\n",
      "Loaded model weights from checkpoint at /home/dpiras/MI/notebooks/comparisons/lightning_logs/version_455820/checkpoints/epoch=49-step=300-v127.ckpt\n"
     ]
    },
    {
     "data": {
      "application/vnd.jupyter.widget-view+json": {
       "model_id": "ff7be58d4a874ad38fe59b07a28113fb",
       "version_major": 2,
       "version_minor": 0
      },
      "text/plain": [
       "Testing: 0it [00:00, ?it/s]"
      ]
     },
     "metadata": {},
     "output_type": "display_data"
    },
    {
     "name": "stderr",
     "output_type": "stream",
     "text": [
      "Multiprocessing is handled by SLURM.\n",
      "GPU available: False, used: False\n",
      "TPU available: False, using: 0 TPU cores\n",
      "IPU available: False, using: 0 IPUs\n",
      "HPU available: False, using: 0 HPUs\n",
      "\n",
      "  | Name        | Type             | Params\n",
      "-------------------------------------------------\n",
      "0 | T           | CustomSequential | 10.5 K\n",
      "1 | energy_loss | Mine             | 10.5 K\n",
      "-------------------------------------------------\n",
      "10.5 K    Trainable params\n",
      "0         Non-trainable params\n",
      "10.5 K    Total params\n",
      "0.042     Total estimated model params size (MB)\n",
      "SLURM auto-requeueing enabled. Setting signal handlers.\n"
     ]
    },
    {
     "data": {
      "application/vnd.jupyter.widget-view+json": {
       "model_id": "2930dbe314384a5ab4dc61359c665890",
       "version_major": 2,
       "version_minor": 0
      },
      "text/plain": [
       "Training: 0it [00:00, ?it/s]"
      ]
     },
     "metadata": {},
     "output_type": "display_data"
    },
    {
     "name": "stderr",
     "output_type": "stream",
     "text": [
      "`Trainer.fit` stopped: `max_epochs=50` reached.\n",
      "Restoring states from the checkpoint path at /home/dpiras/MI/notebooks/comparisons/lightning_logs/version_455820/checkpoints/epoch=49-step=300-v128.ckpt\n",
      "Loaded model weights from checkpoint at /home/dpiras/MI/notebooks/comparisons/lightning_logs/version_455820/checkpoints/epoch=49-step=300-v128.ckpt\n"
     ]
    },
    {
     "data": {
      "application/vnd.jupyter.widget-view+json": {
       "model_id": "fd27a5ed76ba4c85a28d1631af577ae4",
       "version_major": 2,
       "version_minor": 0
      },
      "text/plain": [
       "Testing: 0it [00:00, ?it/s]"
      ]
     },
     "metadata": {},
     "output_type": "display_data"
    },
    {
     "name": "stderr",
     "output_type": "stream",
     "text": [
      "Multiprocessing is handled by SLURM.\n",
      "GPU available: False, used: False\n",
      "TPU available: False, using: 0 TPU cores\n",
      "IPU available: False, using: 0 IPUs\n",
      "HPU available: False, using: 0 HPUs\n",
      "\n",
      "  | Name        | Type             | Params\n",
      "-------------------------------------------------\n",
      "0 | T           | CustomSequential | 10.5 K\n",
      "1 | energy_loss | Mine             | 10.5 K\n",
      "-------------------------------------------------\n",
      "10.5 K    Trainable params\n",
      "0         Non-trainable params\n",
      "10.5 K    Total params\n",
      "0.042     Total estimated model params size (MB)\n",
      "SLURM auto-requeueing enabled. Setting signal handlers.\n"
     ]
    },
    {
     "data": {
      "application/vnd.jupyter.widget-view+json": {
       "model_id": "901698b9145348958740b1cf91386093",
       "version_major": 2,
       "version_minor": 0
      },
      "text/plain": [
       "Training: 0it [00:00, ?it/s]"
      ]
     },
     "metadata": {},
     "output_type": "display_data"
    },
    {
     "name": "stderr",
     "output_type": "stream",
     "text": [
      "`Trainer.fit` stopped: `max_epochs=50` reached.\n",
      "Restoring states from the checkpoint path at /home/dpiras/MI/notebooks/comparisons/lightning_logs/version_455820/checkpoints/epoch=49-step=300-v129.ckpt\n",
      "Loaded model weights from checkpoint at /home/dpiras/MI/notebooks/comparisons/lightning_logs/version_455820/checkpoints/epoch=49-step=300-v129.ckpt\n"
     ]
    },
    {
     "data": {
      "application/vnd.jupyter.widget-view+json": {
       "model_id": "f51c2ae8d65649ac982a34c461625b8e",
       "version_major": 2,
       "version_minor": 0
      },
      "text/plain": [
       "Testing: 0it [00:00, ?it/s]"
      ]
     },
     "metadata": {},
     "output_type": "display_data"
    },
    {
     "name": "stderr",
     "output_type": "stream",
     "text": [
      "Multiprocessing is handled by SLURM.\n",
      "GPU available: False, used: False\n",
      "TPU available: False, using: 0 TPU cores\n",
      "IPU available: False, using: 0 IPUs\n",
      "HPU available: False, using: 0 HPUs\n",
      "\n",
      "  | Name        | Type             | Params\n",
      "-------------------------------------------------\n",
      "0 | T           | CustomSequential | 10.5 K\n",
      "1 | energy_loss | Mine             | 10.5 K\n",
      "-------------------------------------------------\n",
      "10.5 K    Trainable params\n",
      "0         Non-trainable params\n",
      "10.5 K    Total params\n",
      "0.042     Total estimated model params size (MB)\n",
      "SLURM auto-requeueing enabled. Setting signal handlers.\n"
     ]
    },
    {
     "data": {
      "application/vnd.jupyter.widget-view+json": {
       "model_id": "552804168ef7417aa652a467239318ff",
       "version_major": 2,
       "version_minor": 0
      },
      "text/plain": [
       "Training: 0it [00:00, ?it/s]"
      ]
     },
     "metadata": {},
     "output_type": "display_data"
    },
    {
     "name": "stderr",
     "output_type": "stream",
     "text": [
      "`Trainer.fit` stopped: `max_epochs=50` reached.\n",
      "Restoring states from the checkpoint path at /home/dpiras/MI/notebooks/comparisons/lightning_logs/version_455820/checkpoints/epoch=49-step=300-v130.ckpt\n",
      "Loaded model weights from checkpoint at /home/dpiras/MI/notebooks/comparisons/lightning_logs/version_455820/checkpoints/epoch=49-step=300-v130.ckpt\n"
     ]
    },
    {
     "data": {
      "application/vnd.jupyter.widget-view+json": {
       "model_id": "14c5120908994f83a8a35f0f278e8944",
       "version_major": 2,
       "version_minor": 0
      },
      "text/plain": [
       "Testing: 0it [00:00, ?it/s]"
      ]
     },
     "metadata": {},
     "output_type": "display_data"
    },
    {
     "name": "stderr",
     "output_type": "stream",
     "text": [
      "Multiprocessing is handled by SLURM.\n",
      "GPU available: False, used: False\n",
      "TPU available: False, using: 0 TPU cores\n",
      "IPU available: False, using: 0 IPUs\n",
      "HPU available: False, using: 0 HPUs\n",
      "\n",
      "  | Name        | Type             | Params\n",
      "-------------------------------------------------\n",
      "0 | T           | CustomSequential | 10.5 K\n",
      "1 | energy_loss | Mine             | 10.5 K\n",
      "-------------------------------------------------\n",
      "10.5 K    Trainable params\n",
      "0         Non-trainable params\n",
      "10.5 K    Total params\n",
      "0.042     Total estimated model params size (MB)\n",
      "SLURM auto-requeueing enabled. Setting signal handlers.\n"
     ]
    },
    {
     "data": {
      "application/vnd.jupyter.widget-view+json": {
       "model_id": "b62fe87caefb46119cdaa0f20d3fdfcb",
       "version_major": 2,
       "version_minor": 0
      },
      "text/plain": [
       "Training: 0it [00:00, ?it/s]"
      ]
     },
     "metadata": {},
     "output_type": "display_data"
    },
    {
     "name": "stderr",
     "output_type": "stream",
     "text": [
      "`Trainer.fit` stopped: `max_epochs=50` reached.\n",
      "Restoring states from the checkpoint path at /home/dpiras/MI/notebooks/comparisons/lightning_logs/version_455820/checkpoints/epoch=49-step=300-v131.ckpt\n",
      "Loaded model weights from checkpoint at /home/dpiras/MI/notebooks/comparisons/lightning_logs/version_455820/checkpoints/epoch=49-step=300-v131.ckpt\n"
     ]
    },
    {
     "data": {
      "application/vnd.jupyter.widget-view+json": {
       "model_id": "a22b7f81f1f240ed90155a394433087a",
       "version_major": 2,
       "version_minor": 0
      },
      "text/plain": [
       "Testing: 0it [00:00, ?it/s]"
      ]
     },
     "metadata": {},
     "output_type": "display_data"
    },
    {
     "name": "stderr",
     "output_type": "stream",
     "text": [
      "Multiprocessing is handled by SLURM.\n",
      "GPU available: False, used: False\n",
      "TPU available: False, using: 0 TPU cores\n",
      "IPU available: False, using: 0 IPUs\n",
      "HPU available: False, using: 0 HPUs\n",
      "\n",
      "  | Name        | Type             | Params\n",
      "-------------------------------------------------\n",
      "0 | T           | CustomSequential | 10.5 K\n",
      "1 | energy_loss | Mine             | 10.5 K\n",
      "-------------------------------------------------\n",
      "10.5 K    Trainable params\n",
      "0         Non-trainable params\n",
      "10.5 K    Total params\n",
      "0.042     Total estimated model params size (MB)\n",
      "SLURM auto-requeueing enabled. Setting signal handlers.\n"
     ]
    },
    {
     "data": {
      "application/vnd.jupyter.widget-view+json": {
       "model_id": "b92454ea0f57411e8db10fea8c22c2d3",
       "version_major": 2,
       "version_minor": 0
      },
      "text/plain": [
       "Training: 0it [00:00, ?it/s]"
      ]
     },
     "metadata": {},
     "output_type": "display_data"
    },
    {
     "name": "stderr",
     "output_type": "stream",
     "text": [
      "`Trainer.fit` stopped: `max_epochs=50` reached.\n",
      "Restoring states from the checkpoint path at /home/dpiras/MI/notebooks/comparisons/lightning_logs/version_455820/checkpoints/epoch=49-step=300-v132.ckpt\n",
      "Loaded model weights from checkpoint at /home/dpiras/MI/notebooks/comparisons/lightning_logs/version_455820/checkpoints/epoch=49-step=300-v132.ckpt\n"
     ]
    },
    {
     "data": {
      "application/vnd.jupyter.widget-view+json": {
       "model_id": "1d7a5c44cdc2490b894d6c5ab16aa9d8",
       "version_major": 2,
       "version_minor": 0
      },
      "text/plain": [
       "Testing: 0it [00:00, ?it/s]"
      ]
     },
     "metadata": {},
     "output_type": "display_data"
    },
    {
     "name": "stderr",
     "output_type": "stream",
     "text": [
      "Multiprocessing is handled by SLURM.\n",
      "GPU available: False, used: False\n",
      "TPU available: False, using: 0 TPU cores\n",
      "IPU available: False, using: 0 IPUs\n",
      "HPU available: False, using: 0 HPUs\n",
      "\n",
      "  | Name        | Type             | Params\n",
      "-------------------------------------------------\n",
      "0 | T           | CustomSequential | 10.5 K\n",
      "1 | energy_loss | Mine             | 10.5 K\n",
      "-------------------------------------------------\n",
      "10.5 K    Trainable params\n",
      "0         Non-trainable params\n",
      "10.5 K    Total params\n",
      "0.042     Total estimated model params size (MB)\n",
      "SLURM auto-requeueing enabled. Setting signal handlers.\n"
     ]
    },
    {
     "data": {
      "application/vnd.jupyter.widget-view+json": {
       "model_id": "cc3368eed3254faf81c88460618cb389",
       "version_major": 2,
       "version_minor": 0
      },
      "text/plain": [
       "Training: 0it [00:00, ?it/s]"
      ]
     },
     "metadata": {},
     "output_type": "display_data"
    },
    {
     "name": "stderr",
     "output_type": "stream",
     "text": [
      "`Trainer.fit` stopped: `max_epochs=50` reached.\n",
      "Restoring states from the checkpoint path at /home/dpiras/MI/notebooks/comparisons/lightning_logs/version_455820/checkpoints/epoch=49-step=300-v133.ckpt\n",
      "Loaded model weights from checkpoint at /home/dpiras/MI/notebooks/comparisons/lightning_logs/version_455820/checkpoints/epoch=49-step=300-v133.ckpt\n"
     ]
    },
    {
     "data": {
      "application/vnd.jupyter.widget-view+json": {
       "model_id": "02207e0db4674527874d3461126ecb3f",
       "version_major": 2,
       "version_minor": 0
      },
      "text/plain": [
       "Testing: 0it [00:00, ?it/s]"
      ]
     },
     "metadata": {},
     "output_type": "display_data"
    },
    {
     "name": "stderr",
     "output_type": "stream",
     "text": [
      "Multiprocessing is handled by SLURM.\n",
      "GPU available: False, used: False\n",
      "TPU available: False, using: 0 TPU cores\n",
      "IPU available: False, using: 0 IPUs\n",
      "HPU available: False, using: 0 HPUs\n",
      "\n",
      "  | Name        | Type             | Params\n",
      "-------------------------------------------------\n",
      "0 | T           | CustomSequential | 10.5 K\n",
      "1 | energy_loss | Mine             | 10.5 K\n",
      "-------------------------------------------------\n",
      "10.5 K    Trainable params\n",
      "0         Non-trainable params\n",
      "10.5 K    Total params\n",
      "0.042     Total estimated model params size (MB)\n",
      "SLURM auto-requeueing enabled. Setting signal handlers.\n"
     ]
    },
    {
     "data": {
      "application/vnd.jupyter.widget-view+json": {
       "model_id": "7024f0e4c3584fc9b13f10663b6d92d2",
       "version_major": 2,
       "version_minor": 0
      },
      "text/plain": [
       "Training: 0it [00:00, ?it/s]"
      ]
     },
     "metadata": {},
     "output_type": "display_data"
    },
    {
     "name": "stderr",
     "output_type": "stream",
     "text": [
      "`Trainer.fit` stopped: `max_epochs=50` reached.\n",
      "Restoring states from the checkpoint path at /home/dpiras/MI/notebooks/comparisons/lightning_logs/version_455820/checkpoints/epoch=49-step=300-v134.ckpt\n",
      "Loaded model weights from checkpoint at /home/dpiras/MI/notebooks/comparisons/lightning_logs/version_455820/checkpoints/epoch=49-step=300-v134.ckpt\n"
     ]
    },
    {
     "data": {
      "application/vnd.jupyter.widget-view+json": {
       "model_id": "67b6f5bbaf3b4891b398944b5f06b132",
       "version_major": 2,
       "version_minor": 0
      },
      "text/plain": [
       "Testing: 0it [00:00, ?it/s]"
      ]
     },
     "metadata": {},
     "output_type": "display_data"
    },
    {
     "name": "stderr",
     "output_type": "stream",
     "text": [
      "Multiprocessing is handled by SLURM.\n",
      "GPU available: False, used: False\n",
      "TPU available: False, using: 0 TPU cores\n",
      "IPU available: False, using: 0 IPUs\n",
      "HPU available: False, using: 0 HPUs\n",
      "\n",
      "  | Name        | Type             | Params\n",
      "-------------------------------------------------\n",
      "0 | T           | CustomSequential | 10.5 K\n",
      "1 | energy_loss | Mine             | 10.5 K\n",
      "-------------------------------------------------\n",
      "10.5 K    Trainable params\n",
      "0         Non-trainable params\n",
      "10.5 K    Total params\n",
      "0.042     Total estimated model params size (MB)\n",
      "SLURM auto-requeueing enabled. Setting signal handlers.\n"
     ]
    },
    {
     "data": {
      "application/vnd.jupyter.widget-view+json": {
       "model_id": "2819bb81dd854d1d90332cd2d3a84ab3",
       "version_major": 2,
       "version_minor": 0
      },
      "text/plain": [
       "Training: 0it [00:00, ?it/s]"
      ]
     },
     "metadata": {},
     "output_type": "display_data"
    },
    {
     "name": "stderr",
     "output_type": "stream",
     "text": [
      "`Trainer.fit` stopped: `max_epochs=50` reached.\n",
      "Restoring states from the checkpoint path at /home/dpiras/MI/notebooks/comparisons/lightning_logs/version_455820/checkpoints/epoch=49-step=300-v135.ckpt\n",
      "Loaded model weights from checkpoint at /home/dpiras/MI/notebooks/comparisons/lightning_logs/version_455820/checkpoints/epoch=49-step=300-v135.ckpt\n"
     ]
    },
    {
     "data": {
      "application/vnd.jupyter.widget-view+json": {
       "model_id": "0b4e1b69164b490d8b7492b434ff8d40",
       "version_major": 2,
       "version_minor": 0
      },
      "text/plain": [
       "Testing: 0it [00:00, ?it/s]"
      ]
     },
     "metadata": {},
     "output_type": "display_data"
    },
    {
     "name": "stderr",
     "output_type": "stream",
     "text": [
      "Multiprocessing is handled by SLURM.\n",
      "GPU available: False, used: False\n",
      "TPU available: False, using: 0 TPU cores\n",
      "IPU available: False, using: 0 IPUs\n",
      "HPU available: False, using: 0 HPUs\n",
      "\n",
      "  | Name        | Type             | Params\n",
      "-------------------------------------------------\n",
      "0 | T           | CustomSequential | 10.5 K\n",
      "1 | energy_loss | Mine             | 10.5 K\n",
      "-------------------------------------------------\n",
      "10.5 K    Trainable params\n",
      "0         Non-trainable params\n",
      "10.5 K    Total params\n",
      "0.042     Total estimated model params size (MB)\n",
      "SLURM auto-requeueing enabled. Setting signal handlers.\n"
     ]
    },
    {
     "data": {
      "application/vnd.jupyter.widget-view+json": {
       "model_id": "126f5032bb1946ec9450396218a6be3b",
       "version_major": 2,
       "version_minor": 0
      },
      "text/plain": [
       "Training: 0it [00:00, ?it/s]"
      ]
     },
     "metadata": {},
     "output_type": "display_data"
    },
    {
     "name": "stderr",
     "output_type": "stream",
     "text": [
      "`Trainer.fit` stopped: `max_epochs=50` reached.\n",
      "Restoring states from the checkpoint path at /home/dpiras/MI/notebooks/comparisons/lightning_logs/version_455820/checkpoints/epoch=49-step=300-v136.ckpt\n",
      "Loaded model weights from checkpoint at /home/dpiras/MI/notebooks/comparisons/lightning_logs/version_455820/checkpoints/epoch=49-step=300-v136.ckpt\n"
     ]
    },
    {
     "data": {
      "application/vnd.jupyter.widget-view+json": {
       "model_id": "d15be01bce7a42d5b800097291923bcc",
       "version_major": 2,
       "version_minor": 0
      },
      "text/plain": [
       "Testing: 0it [00:00, ?it/s]"
      ]
     },
     "metadata": {},
     "output_type": "display_data"
    },
    {
     "name": "stderr",
     "output_type": "stream",
     "text": [
      "Multiprocessing is handled by SLURM.\n",
      "GPU available: False, used: False\n",
      "TPU available: False, using: 0 TPU cores\n",
      "IPU available: False, using: 0 IPUs\n",
      "HPU available: False, using: 0 HPUs\n",
      "\n",
      "  | Name        | Type             | Params\n",
      "-------------------------------------------------\n",
      "0 | T           | CustomSequential | 10.5 K\n",
      "1 | energy_loss | Mine             | 10.5 K\n",
      "-------------------------------------------------\n",
      "10.5 K    Trainable params\n",
      "0         Non-trainable params\n",
      "10.5 K    Total params\n",
      "0.042     Total estimated model params size (MB)\n",
      "SLURM auto-requeueing enabled. Setting signal handlers.\n"
     ]
    },
    {
     "data": {
      "application/vnd.jupyter.widget-view+json": {
       "model_id": "4a6dd97f10ec42d0852cd663c25379e4",
       "version_major": 2,
       "version_minor": 0
      },
      "text/plain": [
       "Training: 0it [00:00, ?it/s]"
      ]
     },
     "metadata": {},
     "output_type": "display_data"
    },
    {
     "name": "stderr",
     "output_type": "stream",
     "text": [
      "`Trainer.fit` stopped: `max_epochs=50` reached.\n",
      "Restoring states from the checkpoint path at /home/dpiras/MI/notebooks/comparisons/lightning_logs/version_455820/checkpoints/epoch=49-step=300-v137.ckpt\n",
      "Loaded model weights from checkpoint at /home/dpiras/MI/notebooks/comparisons/lightning_logs/version_455820/checkpoints/epoch=49-step=300-v137.ckpt\n"
     ]
    },
    {
     "data": {
      "application/vnd.jupyter.widget-view+json": {
       "model_id": "822382b77a0d45d3ad6e15a33f112631",
       "version_major": 2,
       "version_minor": 0
      },
      "text/plain": [
       "Testing: 0it [00:00, ?it/s]"
      ]
     },
     "metadata": {},
     "output_type": "display_data"
    },
    {
     "name": "stderr",
     "output_type": "stream",
     "text": [
      "Multiprocessing is handled by SLURM.\n",
      "GPU available: False, used: False\n",
      "TPU available: False, using: 0 TPU cores\n",
      "IPU available: False, using: 0 IPUs\n",
      "HPU available: False, using: 0 HPUs\n",
      "\n",
      "  | Name        | Type             | Params\n",
      "-------------------------------------------------\n",
      "0 | T           | CustomSequential | 10.5 K\n",
      "1 | energy_loss | Mine             | 10.5 K\n",
      "-------------------------------------------------\n",
      "10.5 K    Trainable params\n",
      "0         Non-trainable params\n",
      "10.5 K    Total params\n",
      "0.042     Total estimated model params size (MB)\n",
      "SLURM auto-requeueing enabled. Setting signal handlers.\n"
     ]
    },
    {
     "data": {
      "application/vnd.jupyter.widget-view+json": {
       "model_id": "56e4f526dd5a4a159ab22079d73672dc",
       "version_major": 2,
       "version_minor": 0
      },
      "text/plain": [
       "Training: 0it [00:00, ?it/s]"
      ]
     },
     "metadata": {},
     "output_type": "display_data"
    },
    {
     "name": "stderr",
     "output_type": "stream",
     "text": [
      "`Trainer.fit` stopped: `max_epochs=50` reached.\n",
      "Restoring states from the checkpoint path at /home/dpiras/MI/notebooks/comparisons/lightning_logs/version_455820/checkpoints/epoch=49-step=300-v138.ckpt\n",
      "Loaded model weights from checkpoint at /home/dpiras/MI/notebooks/comparisons/lightning_logs/version_455820/checkpoints/epoch=49-step=300-v138.ckpt\n"
     ]
    },
    {
     "data": {
      "application/vnd.jupyter.widget-view+json": {
       "model_id": "6e0954540eed486793edd7118f92815f",
       "version_major": 2,
       "version_minor": 0
      },
      "text/plain": [
       "Testing: 0it [00:00, ?it/s]"
      ]
     },
     "metadata": {},
     "output_type": "display_data"
    },
    {
     "name": "stderr",
     "output_type": "stream",
     "text": [
      "Multiprocessing is handled by SLURM.\n",
      "GPU available: False, used: False\n",
      "TPU available: False, using: 0 TPU cores\n",
      "IPU available: False, using: 0 IPUs\n",
      "HPU available: False, using: 0 HPUs\n",
      "\n",
      "  | Name        | Type             | Params\n",
      "-------------------------------------------------\n",
      "0 | T           | CustomSequential | 10.5 K\n",
      "1 | energy_loss | Mine             | 10.5 K\n",
      "-------------------------------------------------\n",
      "10.5 K    Trainable params\n",
      "0         Non-trainable params\n",
      "10.5 K    Total params\n",
      "0.042     Total estimated model params size (MB)\n",
      "SLURM auto-requeueing enabled. Setting signal handlers.\n"
     ]
    },
    {
     "data": {
      "application/vnd.jupyter.widget-view+json": {
       "model_id": "e8a3e50249cb46e2bce34751a7cae2ee",
       "version_major": 2,
       "version_minor": 0
      },
      "text/plain": [
       "Training: 0it [00:00, ?it/s]"
      ]
     },
     "metadata": {},
     "output_type": "display_data"
    },
    {
     "name": "stderr",
     "output_type": "stream",
     "text": [
      "`Trainer.fit` stopped: `max_epochs=50` reached.\n",
      "Restoring states from the checkpoint path at /home/dpiras/MI/notebooks/comparisons/lightning_logs/version_455820/checkpoints/epoch=49-step=300-v139.ckpt\n",
      "Loaded model weights from checkpoint at /home/dpiras/MI/notebooks/comparisons/lightning_logs/version_455820/checkpoints/epoch=49-step=300-v139.ckpt\n"
     ]
    },
    {
     "data": {
      "application/vnd.jupyter.widget-view+json": {
       "model_id": "90ef67df05424889963716f468ab6773",
       "version_major": 2,
       "version_minor": 0
      },
      "text/plain": [
       "Testing: 0it [00:00, ?it/s]"
      ]
     },
     "metadata": {},
     "output_type": "display_data"
    },
    {
     "name": "stdout",
     "output_type": "stream",
     "text": [
      "Total time for MINE: 55.740 s\n"
     ]
    }
   ],
   "source": [
    "mine_estimates = []\n",
    "\n",
    "dim = 1\n",
    "lr = 1e-3\n",
    "epochs = 50\n",
    "batch_size = 32\n",
    "loss_type = ['mine']  # mine, mine_biased, fdiv\n",
    "loss = loss_type[0]\n",
    "\n",
    "initial_time = time.time()\n",
    "\n",
    "for alpha in alphas:\n",
    "    beta = 0.5\n",
    "    x_samples = random_gen.exponential(scale=beta, size=N)\n",
    "    # then for each x, we sample from an exp\n",
    "    y_samples = random_gen.exponential(scale = alpha, size=N) + x_samples\n",
    "    X = np.stack((np.log(x_samples), np.log(y_samples)), axis=0).T\n",
    "\n",
    "    N = X.shape[0]\n",
    "    train_size = int(0.9 * N)\n",
    "    test_size = N - train_size\n",
    "\n",
    "    train_set, test_set = train_test_split(X, test_size=0.1, random_state=42)\n",
    "\n",
    "    tensor_x = torch.Tensor(train_set[:, :1]) # transform to torch tensor\n",
    "    tensor_y = torch.Tensor(train_set[:, 1:]) # transform to torch tensor\n",
    "    my_dataset = TensorDataset(tensor_x,tensor_y)\n",
    "    train_loader = torch.utils.data.DataLoader(my_dataset, batch_size=batch_size, shuffle=True)\n",
    "\n",
    "    tensor_x = torch.Tensor(test_set[:, :1]) # transform to torch tensor\n",
    "    tensor_y = torch.Tensor(test_set[:, 1:]) # transform to torch tensor\n",
    "    my_dataset = TensorDataset(tensor_x,tensor_y)\n",
    "    test_loader = torch.utils.data.DataLoader(my_dataset, batch_size=batch_size, shuffle=True)\n",
    "\n",
    "    kwargs = {\n",
    "        'lr': lr,\n",
    "        'batch_size': batch_size,\n",
    "        'train_loader': train_loader,\n",
    "        'test_loader': test_loader,\n",
    "        'alpha': 1.\n",
    "    }\n",
    "\n",
    "    model = MutualInformationEstimator(\n",
    "        dim, dim, loss=loss, **kwargs).to(device)\n",
    "    \n",
    "    trainer = Trainer(max_epochs=epochs)\n",
    "    trainer.fit(model)\n",
    "    trainer.test()\n",
    "\n",
    "    mine_estimates.append(model.avg_test_mi)\n",
    "\n",
    "mine_time = time.time()-initial_time    \n",
    "    \n",
    "print(f'Total time for MINE: {mine_time:.3f} s')"
   ]
  },
  {
   "cell_type": "markdown",
   "id": "71e5944d",
   "metadata": {},
   "source": [
    "### GMM-MI"
   ]
  },
  {
   "cell_type": "code",
   "execution_count": 5,
   "id": "c8afd65e",
   "metadata": {},
   "outputs": [],
   "source": [
    "# all unspecified parameters are set to their default values\n",
    "\n",
    "# parameters for every GMM fit that is being run\n",
    "gmm_fit_params = GMMFitParamHolder(threshold_fit=1e-5,\n",
    "                                   reg_covar=1e-12)\n",
    "\n",
    "# parameters to choose the number of components\n",
    "select_components_params = SelectComponentsParamHolder(n_inits=3,\n",
    "                                                       n_folds=2)\n",
    "\n",
    "# parameters for MI distribution estimation\n",
    "mi_dist_params = MIDistParamHolder(n_bootstrap=100,\n",
    "                                   MC_samples=1e4)"
   ]
  },
  {
   "cell_type": "code",
   "execution_count": 6,
   "id": "8f63fce3",
   "metadata": {},
   "outputs": [
    {
     "name": "stderr",
     "output_type": "stream",
     "text": [
      "100%|██████████| 100/100 [00:01<00:00, 67.11it/s]\n",
      "100%|██████████| 100/100 [00:02<00:00, 42.75it/s]\n",
      "100%|██████████| 100/100 [00:01<00:00, 50.93it/s]\n",
      "100%|██████████| 100/100 [00:01<00:00, 55.22it/s]\n",
      "100%|██████████| 100/100 [00:01<00:00, 83.45it/s]\n",
      "100%|██████████| 100/100 [00:02<00:00, 38.60it/s]\n",
      "100%|██████████| 100/100 [00:01<00:00, 62.01it/s]\n",
      "100%|██████████| 100/100 [00:01<00:00, 67.55it/s]\n",
      "100%|██████████| 100/100 [00:01<00:00, 67.79it/s]\n",
      "100%|██████████| 100/100 [00:01<00:00, 70.58it/s]\n",
      "100%|██████████| 100/100 [00:02<00:00, 39.43it/s]\n",
      "100%|██████████| 100/100 [00:00<00:00, 278.69it/s]\n",
      "100%|██████████| 100/100 [00:01<00:00, 65.46it/s]\n",
      "100%|██████████| 100/100 [00:00<00:00, 288.03it/s]\n",
      "100%|██████████| 100/100 [00:00<00:00, 287.73it/s]\n",
      "100%|██████████| 100/100 [00:01<00:00, 61.57it/s]\n",
      "100%|██████████| 100/100 [00:02<00:00, 35.57it/s]\n",
      "100%|██████████| 100/100 [00:02<00:00, 45.76it/s]\n",
      "100%|██████████| 100/100 [00:01<00:00, 55.87it/s]\n",
      "100%|██████████| 100/100 [00:01<00:00, 55.41it/s]"
     ]
    },
    {
     "name": "stdout",
     "output_type": "stream",
     "text": [
      "Total time for GMM: 43.370 s\n"
     ]
    },
    {
     "name": "stderr",
     "output_type": "stream",
     "text": [
      "\n"
     ]
    }
   ],
   "source": [
    "all_MI_estimates = np.zeros((len(alphas), 2))\n",
    "\n",
    "initial_time = time.time()\n",
    "\n",
    "for r, alpha in enumerate(alphas):\n",
    "    beta = 0.5\n",
    "    x_samples = random_gen.exponential(scale=beta, size=N)\n",
    "    # then for each x, we sample from an exp\n",
    "    y_samples = random_gen.exponential(scale = alpha, size=N) + x_samples\n",
    "    X = np.stack((np.log(x_samples), np.log(y_samples)), axis=0).T\n",
    "\n",
    "    mi_estimator = EstimateMI(gmm_fit_params=gmm_fit_params,\n",
    "                              select_components_params=select_components_params,\n",
    "                              mi_dist_params=mi_dist_params)\n",
    "    MI_mean, MI_std = mi_estimator.fit(X)   \n",
    "\n",
    "    # store results\n",
    "    all_MI_estimates[r, 0] = MI_mean\n",
    "    all_MI_estimates[r, 1] = MI_std\n",
    "\n",
    "gmm_mi_time = time.time()-initial_time\n",
    "print(f'Total time for GMM: {gmm_mi_time:.3f} s')"
   ]
  },
  {
   "cell_type": "markdown",
   "id": "51c2b52e",
   "metadata": {},
   "source": [
    "### Plot results"
   ]
  },
  {
   "cell_type": "code",
   "execution_count": 7,
   "id": "a85bf780",
   "metadata": {},
   "outputs": [
    {
     "data": {
      "image/png": "[encoded data removed]",
      "text/plain": [
       "<Figure size 1200x700 with 1 Axes>"
      ]
     },
     "metadata": {},
     "output_type": "display_data"
    }
   ],
   "source": [
    "# let's plot all of this\n",
    "fig, ax = plt.subplots(1, 1, figsize=(12, 7))\n",
    "\n",
    "sigmas = 2\n",
    "lw=3\n",
    "\n",
    "ax.tick_params(axis='both', which='major', labelsize=22, size=10)\n",
    "ax.tick_params(axis='both', which='minor', labelsize=22, size=5)\n",
    "ax.plot(alphas, knn_estimates, c='tomato', lw=lw, label=f'KSG ({ksg_time/len(alphas):.3f} s, single estimate)')\n",
    "ax.plot(alphas, mine_estimates, c='darkgreen', ls='-.', lw=lw, label=f'MINE ({mine_time/len(alphas):.1f} s, single estimate)')\n",
    "ax.plot(alphas, all_MI_estimates[:, 0], color='grey', alpha=0.8)\n",
    "ax.fill_between(alphas, all_MI_estimates[:, 0] - sigmas*all_MI_estimates[:, 1], \n",
    "                all_MI_estimates[:, 0]+sigmas*all_MI_estimates[:, 1], \n",
    "                color='grey', alpha=0.8, label=f'GMM-MI ({gmm_mi_time/len(alphas):.1f} s, full distribution)')\n",
    "ax.plot(alphas, analytic, ls='--', c='black', lw=lw, label='Ground truth')\n",
    "\n",
    "ax.legend(fontsize=25, frameon=False)\n",
    "        \n",
    "ax.set_xlabel(r'$\\alpha$', fontsize=30)\n",
    "ax.set_ylabel('Mutual information [nat]', fontsize=25);\n",
    "\n",
    "ax.set_xscale('log')\n",
    "\n",
    "plt.savefig('./figures/exp_exp_comparison.pdf',  bbox_inches='tight');"
   ]
  },
  {
   "cell_type": "code",
   "execution_count": null,
   "id": "1de33572",
   "metadata": {},
   "outputs": [],
   "source": []
  }
 ],
 "metadata": {
  "kernelspec": {
   "display_name": "Python 3 (ipykernel)",
   "language": "python",
   "name": "python3"
  },
  "language_info": {
   "codemirror_mode": {
    "name": "ipython",
    "version": 3
   },
   "file_extension": ".py",
   "mimetype": "text/x-python",
   "name": "python",
   "nbconvert_exporter": "python",
   "pygments_lexer": "ipython3",
   "version": "3.9.13"
  }
 },
 "nbformat": 4,
 "nbformat_minor": 5
}
