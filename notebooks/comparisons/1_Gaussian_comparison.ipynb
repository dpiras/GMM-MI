{
 "cells": [
  {
   "cell_type": "markdown",
   "id": "89af4efe",
   "metadata": {},
   "source": [
    "In this notebook, we compare GMM-MI with the [KSG estimator](https://scikit-learn.org/stable/modules/generated/sklearn.feature_selection.mutual_info_regression.html) and the [MINE estimator](https://github.com/gtegner/mine-pytorch) on a simple bivariate Gaussian with varying level of correlation. To run this notebook you would need to install the MINE package following the instructions in the repository; here we already cloned the repository for you and adapted the code to work with python 3.9, so that you only need to run:\n",
    "```\n",
    "cd mine-pytorch\n",
    "pip install -e .\n",
    "```\n",
    "Note the MINE results are not \"reproducible\", in the sense that the seed is not fixed."
   ]
  },
  {
   "cell_type": "markdown",
   "id": "593596a8",
   "metadata": {},
   "source": [
    "### Import packages"
   ]
  },
  {
   "cell_type": "code",
   "execution_count": 1,
   "id": "a981deba",
   "metadata": {},
   "outputs": [
    {
     "name": "stdout",
     "output_type": "stream",
     "text": [
      "Device: cpu\n"
     ]
    }
   ],
   "source": [
    "import numpy as np\n",
    "import time\n",
    "import matplotlib.pyplot as plt\n",
    "# GMM-MI\n",
    "from gmm_mi.mi import EstimateMI\n",
    "from gmm_mi.param_holders import GMMFitParamHolder, SelectComponentsParamHolder, MIDistParamHolder\n",
    "from gmm_mi.gmm import GMMWithMI as GMM\n",
    "from gmm_mi.utils.analytic_MI import calculate_MI_D1_analytical\n",
    "# KSG\n",
    "from sklearn.feature_selection import mutual_info_regression\n",
    "# MINE\n",
    "from sklearn.model_selection import train_test_split\n",
    "import torch\n",
    "from torch.utils.data import TensorDataset, DataLoader\n",
    "from mine.models.mine import MutualInformationEstimator\n",
    "from pytorch_lightning import Trainer\n",
    "import logging\n",
    "logging.getLogger().setLevel(logging.ERROR)\n",
    "device = 'cuda' if torch.cuda.is_available() else 'cpu'\n",
    "num_gpus = 1 if device=='cuda' else 0"
   ]
  },
  {
   "cell_type": "markdown",
   "id": "5143b6c8",
   "metadata": {},
   "source": [
    "### Calculate the true MI of the synthetic models"
   ]
  },
  {
   "cell_type": "code",
   "execution_count": 2,
   "id": "ba8a30a6",
   "metadata": {
    "scrolled": false
   },
   "outputs": [],
   "source": [
    "rhos = np.linspace(-0.99, 0.99, 20)\n",
    "N = 2e2\n",
    "n_components = 1\n",
    "weights = np.array([1.])\n",
    "means = np.zeros((1, 2))\n",
    "# fix random state for stability across runs\n",
    "random_state = 13\n",
    "\n",
    "analytic = []\n",
    "for rho in rhos:\n",
    "    C0 = [[1, rho], [rho, 1]]\n",
    "    covariances = np.array([C0])[0]\n",
    "    analytic.append(calculate_MI_D1_analytical(covariances))"
   ]
  },
  {
   "cell_type": "markdown",
   "id": "466a097a",
   "metadata": {},
   "source": [
    "### KSG"
   ]
  },
  {
   "cell_type": "code",
   "execution_count": 3,
   "id": "1b971bfb",
   "metadata": {},
   "outputs": [
    {
     "name": "stdout",
     "output_type": "stream",
     "text": [
      "Total time for KSG: 0.047 s\n"
     ]
    }
   ],
   "source": [
    "knn_estimates = []\n",
    "n_neighbors = 1 # keep minimum bias\n",
    "\n",
    "initial_time = time.time()\n",
    "\n",
    "for rho in rhos:\n",
    "    C0 = [[1, rho], [rho, 1]]\n",
    "    covariances = np.array([C0])\n",
    "    gmm_true = GMM(n_components=n_components, weights_init=weights, \n",
    "                   means_init=means, covariances_init=covariances, random_state=random_state)\n",
    "    X = gmm_true.sample(N)[0]\n",
    "    knn_estimates.append(mutual_info_regression(X[:, 0].reshape(-1, 1), X[:, 1], \n",
    "                                                n_neighbors=n_neighbors))\n",
    "\n",
    "ksg_time = time.time()-initial_time    \n",
    "    \n",
    "print(f'Total time for KSG: {ksg_time:.3f} s')"
   ]
  },
  {
   "cell_type": "markdown",
   "id": "a7e611b7",
   "metadata": {},
   "source": [
    "### MINE"
   ]
  },
  {
   "cell_type": "code",
   "execution_count": 4,
   "id": "1b157296",
   "metadata": {
    "scrolled": true
   },
   "outputs": [
    {
     "name": "stderr",
     "output_type": "stream",
     "text": [
      "Multiprocessing is handled by SLURM.\n",
      "GPU available: False, used: False\n",
      "TPU available: False, using: 0 TPU cores\n",
      "IPU available: False, using: 0 IPUs\n",
      "HPU available: False, using: 0 HPUs\n",
      "/home/dpiras/.conda/envs/MI/lib/python3.9/site-packages/pytorch_lightning/callbacks/model_checkpoint.py:616: UserWarning: Checkpoint directory /home/dpiras/MI/notebooks/comparisons/lightning_logs/version_480432/checkpoints exists and is not empty.\n",
      "  rank_zero_warn(f\"Checkpoint directory {dirpath} exists and is not empty.\")\n",
      "\n",
      "  | Name        | Type             | Params\n",
      "-------------------------------------------------\n",
      "0 | T           | CustomSequential | 10.5 K\n",
      "1 | energy_loss | Mine             | 10.5 K\n",
      "-------------------------------------------------\n",
      "10.5 K    Trainable params\n",
      "0         Non-trainable params\n",
      "10.5 K    Total params\n",
      "0.042     Total estimated model params size (MB)\n",
      "SLURM auto-requeueing enabled. Setting signal handlers.\n",
      "/home/dpiras/.conda/envs/MI/lib/python3.9/site-packages/pytorch_lightning/trainer/connectors/data_connector.py:236: PossibleUserWarning: The dataloader, train_dataloader, does not have many workers which may be a bottleneck. Consider increasing the value of the `num_workers` argument` (try 40 which is the number of cpus on this machine) in the `DataLoader` init to improve performance.\n",
      "  rank_zero_warn(\n",
      "/home/dpiras/.conda/envs/MI/lib/python3.9/site-packages/pytorch_lightning/trainer/trainer.py:1892: PossibleUserWarning: The number of training batches (6) is smaller than the logging interval Trainer(log_every_n_steps=50). Set a lower value for log_every_n_steps if you want to see logs for the training epoch.\n",
      "  rank_zero_warn(\n"
     ]
    },
    {
     "data": {
      "application/vnd.jupyter.widget-view+json": {
       "model_id": "4d16b93b0ff446e6af7b749bb5dfb3a4",
       "version_major": 2,
       "version_minor": 0
      },
      "text/plain": [
       "Training: 0it [00:00, ?it/s]"
      ]
     },
     "metadata": {},
     "output_type": "display_data"
    },
    {
     "name": "stderr",
     "output_type": "stream",
     "text": [
      "`Trainer.fit` stopped: `max_epochs=50` reached.\n",
      "/home/dpiras/.conda/envs/MI/lib/python3.9/site-packages/pytorch_lightning/trainer/trainer.py:1386: UserWarning: `.test(ckpt_path=None)` was called without a model. The best model of the previous `fit` call will be used. You can pass `.test(ckpt_path='best')` to use the best model or `.test(ckpt_path='last')` to use the last model. If you pass a value, this warning will be silenced.\n",
      "  rank_zero_warn(\n",
      "Restoring states from the checkpoint path at /home/dpiras/MI/notebooks/comparisons/lightning_logs/version_480432/checkpoints/epoch=49-step=300-v60.ckpt\n",
      "Loaded model weights from checkpoint at /home/dpiras/MI/notebooks/comparisons/lightning_logs/version_480432/checkpoints/epoch=49-step=300-v60.ckpt\n",
      "/home/dpiras/.conda/envs/MI/lib/python3.9/site-packages/pytorch_lightning/trainer/connectors/data_connector.py:489: PossibleUserWarning: Your `test_dataloader`'s sampler has shuffling enabled, it is strongly recommended that you turn shuffling off for val/test/predict dataloaders.\n",
      "  rank_zero_warn(\n",
      "/home/dpiras/.conda/envs/MI/lib/python3.9/site-packages/pytorch_lightning/trainer/connectors/data_connector.py:236: PossibleUserWarning: The dataloader, test_dataloader 0, does not have many workers which may be a bottleneck. Consider increasing the value of the `num_workers` argument` (try 40 which is the number of cpus on this machine) in the `DataLoader` init to improve performance.\n",
      "  rank_zero_warn(\n"
     ]
    },
    {
     "data": {
      "application/vnd.jupyter.widget-view+json": {
       "model_id": "ec5a5f208f984932bea9fbfb8996da14",
       "version_major": 2,
       "version_minor": 0
      },
      "text/plain": [
       "Testing: 0it [00:00, ?it/s]"
      ]
     },
     "metadata": {},
     "output_type": "display_data"
    },
    {
     "name": "stderr",
     "output_type": "stream",
     "text": [
      "Multiprocessing is handled by SLURM.\n",
      "GPU available: False, used: False\n",
      "TPU available: False, using: 0 TPU cores\n",
      "IPU available: False, using: 0 IPUs\n",
      "HPU available: False, using: 0 HPUs\n",
      "\n",
      "  | Name        | Type             | Params\n",
      "-------------------------------------------------\n",
      "0 | T           | CustomSequential | 10.5 K\n",
      "1 | energy_loss | Mine             | 10.5 K\n",
      "-------------------------------------------------\n",
      "10.5 K    Trainable params\n",
      "0         Non-trainable params\n",
      "10.5 K    Total params\n",
      "0.042     Total estimated model params size (MB)\n",
      "SLURM auto-requeueing enabled. Setting signal handlers.\n"
     ]
    },
    {
     "data": {
      "application/vnd.jupyter.widget-view+json": {
       "model_id": "8a550f68f4544f68adfa25ac25edec97",
       "version_major": 2,
       "version_minor": 0
      },
      "text/plain": [
       "Training: 0it [00:00, ?it/s]"
      ]
     },
     "metadata": {},
     "output_type": "display_data"
    },
    {
     "name": "stderr",
     "output_type": "stream",
     "text": [
      "`Trainer.fit` stopped: `max_epochs=50` reached.\n",
      "Restoring states from the checkpoint path at /home/dpiras/MI/notebooks/comparisons/lightning_logs/version_480432/checkpoints/epoch=49-step=300-v61.ckpt\n",
      "Loaded model weights from checkpoint at /home/dpiras/MI/notebooks/comparisons/lightning_logs/version_480432/checkpoints/epoch=49-step=300-v61.ckpt\n"
     ]
    },
    {
     "data": {
      "application/vnd.jupyter.widget-view+json": {
       "model_id": "fe0bc768e3f4401c841860af6cb03ce9",
       "version_major": 2,
       "version_minor": 0
      },
      "text/plain": [
       "Testing: 0it [00:00, ?it/s]"
      ]
     },
     "metadata": {},
     "output_type": "display_data"
    },
    {
     "name": "stderr",
     "output_type": "stream",
     "text": [
      "Multiprocessing is handled by SLURM.\n",
      "GPU available: False, used: False\n",
      "TPU available: False, using: 0 TPU cores\n",
      "IPU available: False, using: 0 IPUs\n",
      "HPU available: False, using: 0 HPUs\n",
      "\n",
      "  | Name        | Type             | Params\n",
      "-------------------------------------------------\n",
      "0 | T           | CustomSequential | 10.5 K\n",
      "1 | energy_loss | Mine             | 10.5 K\n",
      "-------------------------------------------------\n",
      "10.5 K    Trainable params\n",
      "0         Non-trainable params\n",
      "10.5 K    Total params\n",
      "0.042     Total estimated model params size (MB)\n",
      "SLURM auto-requeueing enabled. Setting signal handlers.\n"
     ]
    },
    {
     "data": {
      "application/vnd.jupyter.widget-view+json": {
       "model_id": "fdc45b6f9f6e409e8a27d5d44753ced3",
       "version_major": 2,
       "version_minor": 0
      },
      "text/plain": [
       "Training: 0it [00:00, ?it/s]"
      ]
     },
     "metadata": {},
     "output_type": "display_data"
    },
    {
     "name": "stderr",
     "output_type": "stream",
     "text": [
      "`Trainer.fit` stopped: `max_epochs=50` reached.\n",
      "Restoring states from the checkpoint path at /home/dpiras/MI/notebooks/comparisons/lightning_logs/version_480432/checkpoints/epoch=49-step=300-v62.ckpt\n",
      "Loaded model weights from checkpoint at /home/dpiras/MI/notebooks/comparisons/lightning_logs/version_480432/checkpoints/epoch=49-step=300-v62.ckpt\n"
     ]
    },
    {
     "data": {
      "application/vnd.jupyter.widget-view+json": {
       "model_id": "ff9998b47da84d3386234b226608c993",
       "version_major": 2,
       "version_minor": 0
      },
      "text/plain": [
       "Testing: 0it [00:00, ?it/s]"
      ]
     },
     "metadata": {},
     "output_type": "display_data"
    },
    {
     "name": "stderr",
     "output_type": "stream",
     "text": [
      "Multiprocessing is handled by SLURM.\n",
      "GPU available: False, used: False\n",
      "TPU available: False, using: 0 TPU cores\n",
      "IPU available: False, using: 0 IPUs\n",
      "HPU available: False, using: 0 HPUs\n",
      "\n",
      "  | Name        | Type             | Params\n",
      "-------------------------------------------------\n",
      "0 | T           | CustomSequential | 10.5 K\n",
      "1 | energy_loss | Mine             | 10.5 K\n",
      "-------------------------------------------------\n",
      "10.5 K    Trainable params\n",
      "0         Non-trainable params\n",
      "10.5 K    Total params\n",
      "0.042     Total estimated model params size (MB)\n",
      "SLURM auto-requeueing enabled. Setting signal handlers.\n"
     ]
    },
    {
     "data": {
      "application/vnd.jupyter.widget-view+json": {
       "model_id": "2161f109dea84882839a7547370e4f89",
       "version_major": 2,
       "version_minor": 0
      },
      "text/plain": [
       "Training: 0it [00:00, ?it/s]"
      ]
     },
     "metadata": {},
     "output_type": "display_data"
    },
    {
     "name": "stderr",
     "output_type": "stream",
     "text": [
      "`Trainer.fit` stopped: `max_epochs=50` reached.\n",
      "Restoring states from the checkpoint path at /home/dpiras/MI/notebooks/comparisons/lightning_logs/version_480432/checkpoints/epoch=49-step=300-v63.ckpt\n",
      "Loaded model weights from checkpoint at /home/dpiras/MI/notebooks/comparisons/lightning_logs/version_480432/checkpoints/epoch=49-step=300-v63.ckpt\n"
     ]
    },
    {
     "data": {
      "application/vnd.jupyter.widget-view+json": {
       "model_id": "37b2b0d6cdb440afb122fa39a6a1436c",
       "version_major": 2,
       "version_minor": 0
      },
      "text/plain": [
       "Testing: 0it [00:00, ?it/s]"
      ]
     },
     "metadata": {},
     "output_type": "display_data"
    },
    {
     "name": "stderr",
     "output_type": "stream",
     "text": [
      "Multiprocessing is handled by SLURM.\n",
      "GPU available: False, used: False\n",
      "TPU available: False, using: 0 TPU cores\n",
      "IPU available: False, using: 0 IPUs\n",
      "HPU available: False, using: 0 HPUs\n",
      "\n",
      "  | Name        | Type             | Params\n",
      "-------------------------------------------------\n",
      "0 | T           | CustomSequential | 10.5 K\n",
      "1 | energy_loss | Mine             | 10.5 K\n",
      "-------------------------------------------------\n",
      "10.5 K    Trainable params\n",
      "0         Non-trainable params\n",
      "10.5 K    Total params\n",
      "0.042     Total estimated model params size (MB)\n",
      "SLURM auto-requeueing enabled. Setting signal handlers.\n"
     ]
    },
    {
     "data": {
      "application/vnd.jupyter.widget-view+json": {
       "model_id": "a6a94c6541c74a1a8d9fcbc4c1c0c90e",
       "version_major": 2,
       "version_minor": 0
      },
      "text/plain": [
       "Training: 0it [00:00, ?it/s]"
      ]
     },
     "metadata": {},
     "output_type": "display_data"
    },
    {
     "name": "stderr",
     "output_type": "stream",
     "text": [
      "`Trainer.fit` stopped: `max_epochs=50` reached.\n",
      "Restoring states from the checkpoint path at /home/dpiras/MI/notebooks/comparisons/lightning_logs/version_480432/checkpoints/epoch=49-step=300-v64.ckpt\n",
      "Loaded model weights from checkpoint at /home/dpiras/MI/notebooks/comparisons/lightning_logs/version_480432/checkpoints/epoch=49-step=300-v64.ckpt\n"
     ]
    },
    {
     "data": {
      "application/vnd.jupyter.widget-view+json": {
       "model_id": "03909c9417c14b9ba1a068c8acfaed78",
       "version_major": 2,
       "version_minor": 0
      },
      "text/plain": [
       "Testing: 0it [00:00, ?it/s]"
      ]
     },
     "metadata": {},
     "output_type": "display_data"
    },
    {
     "name": "stderr",
     "output_type": "stream",
     "text": [
      "Multiprocessing is handled by SLURM.\n",
      "GPU available: False, used: False\n",
      "TPU available: False, using: 0 TPU cores\n",
      "IPU available: False, using: 0 IPUs\n",
      "HPU available: False, using: 0 HPUs\n",
      "\n",
      "  | Name        | Type             | Params\n",
      "-------------------------------------------------\n",
      "0 | T           | CustomSequential | 10.5 K\n",
      "1 | energy_loss | Mine             | 10.5 K\n",
      "-------------------------------------------------\n",
      "10.5 K    Trainable params\n",
      "0         Non-trainable params\n",
      "10.5 K    Total params\n",
      "0.042     Total estimated model params size (MB)\n",
      "SLURM auto-requeueing enabled. Setting signal handlers.\n"
     ]
    },
    {
     "data": {
      "application/vnd.jupyter.widget-view+json": {
       "model_id": "8e89cf5b41534ac78c7eb43f51e8881f",
       "version_major": 2,
       "version_minor": 0
      },
      "text/plain": [
       "Training: 0it [00:00, ?it/s]"
      ]
     },
     "metadata": {},
     "output_type": "display_data"
    },
    {
     "name": "stderr",
     "output_type": "stream",
     "text": [
      "`Trainer.fit` stopped: `max_epochs=50` reached.\n",
      "Restoring states from the checkpoint path at /home/dpiras/MI/notebooks/comparisons/lightning_logs/version_480432/checkpoints/epoch=49-step=300-v65.ckpt\n",
      "Loaded model weights from checkpoint at /home/dpiras/MI/notebooks/comparisons/lightning_logs/version_480432/checkpoints/epoch=49-step=300-v65.ckpt\n"
     ]
    },
    {
     "data": {
      "application/vnd.jupyter.widget-view+json": {
       "model_id": "cf4e87ed95e444b2a637b46054f53997",
       "version_major": 2,
       "version_minor": 0
      },
      "text/plain": [
       "Testing: 0it [00:00, ?it/s]"
      ]
     },
     "metadata": {},
     "output_type": "display_data"
    },
    {
     "name": "stderr",
     "output_type": "stream",
     "text": [
      "Multiprocessing is handled by SLURM.\n",
      "GPU available: False, used: False\n",
      "TPU available: False, using: 0 TPU cores\n",
      "IPU available: False, using: 0 IPUs\n",
      "HPU available: False, using: 0 HPUs\n",
      "\n",
      "  | Name        | Type             | Params\n",
      "-------------------------------------------------\n",
      "0 | T           | CustomSequential | 10.5 K\n",
      "1 | energy_loss | Mine             | 10.5 K\n",
      "-------------------------------------------------\n",
      "10.5 K    Trainable params\n",
      "0         Non-trainable params\n",
      "10.5 K    Total params\n",
      "0.042     Total estimated model params size (MB)\n",
      "SLURM auto-requeueing enabled. Setting signal handlers.\n"
     ]
    },
    {
     "data": {
      "application/vnd.jupyter.widget-view+json": {
       "model_id": "9838536546454e16994177f824b8fbba",
       "version_major": 2,
       "version_minor": 0
      },
      "text/plain": [
       "Training: 0it [00:00, ?it/s]"
      ]
     },
     "metadata": {},
     "output_type": "display_data"
    },
    {
     "name": "stderr",
     "output_type": "stream",
     "text": [
      "`Trainer.fit` stopped: `max_epochs=50` reached.\n",
      "Restoring states from the checkpoint path at /home/dpiras/MI/notebooks/comparisons/lightning_logs/version_480432/checkpoints/epoch=49-step=300-v66.ckpt\n",
      "Loaded model weights from checkpoint at /home/dpiras/MI/notebooks/comparisons/lightning_logs/version_480432/checkpoints/epoch=49-step=300-v66.ckpt\n"
     ]
    },
    {
     "data": {
      "application/vnd.jupyter.widget-view+json": {
       "model_id": "53c38ab6d8ae4997a893c31d691a8e5e",
       "version_major": 2,
       "version_minor": 0
      },
      "text/plain": [
       "Testing: 0it [00:00, ?it/s]"
      ]
     },
     "metadata": {},
     "output_type": "display_data"
    },
    {
     "name": "stderr",
     "output_type": "stream",
     "text": [
      "Multiprocessing is handled by SLURM.\n",
      "GPU available: False, used: False\n",
      "TPU available: False, using: 0 TPU cores\n",
      "IPU available: False, using: 0 IPUs\n",
      "HPU available: False, using: 0 HPUs\n",
      "\n",
      "  | Name        | Type             | Params\n",
      "-------------------------------------------------\n",
      "0 | T           | CustomSequential | 10.5 K\n",
      "1 | energy_loss | Mine             | 10.5 K\n",
      "-------------------------------------------------\n",
      "10.5 K    Trainable params\n",
      "0         Non-trainable params\n",
      "10.5 K    Total params\n",
      "0.042     Total estimated model params size (MB)\n",
      "SLURM auto-requeueing enabled. Setting signal handlers.\n"
     ]
    },
    {
     "data": {
      "application/vnd.jupyter.widget-view+json": {
       "model_id": "4936ec1e781343469e847c9c9278badc",
       "version_major": 2,
       "version_minor": 0
      },
      "text/plain": [
       "Training: 0it [00:00, ?it/s]"
      ]
     },
     "metadata": {},
     "output_type": "display_data"
    },
    {
     "name": "stderr",
     "output_type": "stream",
     "text": [
      "`Trainer.fit` stopped: `max_epochs=50` reached.\n",
      "Restoring states from the checkpoint path at /home/dpiras/MI/notebooks/comparisons/lightning_logs/version_480432/checkpoints/epoch=49-step=300-v67.ckpt\n",
      "Loaded model weights from checkpoint at /home/dpiras/MI/notebooks/comparisons/lightning_logs/version_480432/checkpoints/epoch=49-step=300-v67.ckpt\n"
     ]
    },
    {
     "data": {
      "application/vnd.jupyter.widget-view+json": {
       "model_id": "c51d26aceefa4cb8afda3ca72a29fe2b",
       "version_major": 2,
       "version_minor": 0
      },
      "text/plain": [
       "Testing: 0it [00:00, ?it/s]"
      ]
     },
     "metadata": {},
     "output_type": "display_data"
    },
    {
     "name": "stderr",
     "output_type": "stream",
     "text": [
      "Multiprocessing is handled by SLURM.\n",
      "GPU available: False, used: False\n",
      "TPU available: False, using: 0 TPU cores\n",
      "IPU available: False, using: 0 IPUs\n",
      "HPU available: False, using: 0 HPUs\n",
      "\n",
      "  | Name        | Type             | Params\n",
      "-------------------------------------------------\n",
      "0 | T           | CustomSequential | 10.5 K\n",
      "1 | energy_loss | Mine             | 10.5 K\n",
      "-------------------------------------------------\n",
      "10.5 K    Trainable params\n",
      "0         Non-trainable params\n",
      "10.5 K    Total params\n",
      "0.042     Total estimated model params size (MB)\n",
      "SLURM auto-requeueing enabled. Setting signal handlers.\n"
     ]
    },
    {
     "data": {
      "application/vnd.jupyter.widget-view+json": {
       "model_id": "c16ff5872b2341faa4e225961b7583c4",
       "version_major": 2,
       "version_minor": 0
      },
      "text/plain": [
       "Training: 0it [00:00, ?it/s]"
      ]
     },
     "metadata": {},
     "output_type": "display_data"
    },
    {
     "name": "stderr",
     "output_type": "stream",
     "text": [
      "`Trainer.fit` stopped: `max_epochs=50` reached.\n",
      "Restoring states from the checkpoint path at /home/dpiras/MI/notebooks/comparisons/lightning_logs/version_480432/checkpoints/epoch=49-step=300-v68.ckpt\n",
      "Loaded model weights from checkpoint at /home/dpiras/MI/notebooks/comparisons/lightning_logs/version_480432/checkpoints/epoch=49-step=300-v68.ckpt\n"
     ]
    },
    {
     "data": {
      "application/vnd.jupyter.widget-view+json": {
       "model_id": "50e888e398c549aba6ab7847b5468c29",
       "version_major": 2,
       "version_minor": 0
      },
      "text/plain": [
       "Testing: 0it [00:00, ?it/s]"
      ]
     },
     "metadata": {},
     "output_type": "display_data"
    },
    {
     "name": "stderr",
     "output_type": "stream",
     "text": [
      "Multiprocessing is handled by SLURM.\n",
      "GPU available: False, used: False\n",
      "TPU available: False, using: 0 TPU cores\n",
      "IPU available: False, using: 0 IPUs\n",
      "HPU available: False, using: 0 HPUs\n",
      "\n",
      "  | Name        | Type             | Params\n",
      "-------------------------------------------------\n",
      "0 | T           | CustomSequential | 10.5 K\n",
      "1 | energy_loss | Mine             | 10.5 K\n",
      "-------------------------------------------------\n",
      "10.5 K    Trainable params\n",
      "0         Non-trainable params\n",
      "10.5 K    Total params\n",
      "0.042     Total estimated model params size (MB)\n",
      "SLURM auto-requeueing enabled. Setting signal handlers.\n"
     ]
    },
    {
     "data": {
      "application/vnd.jupyter.widget-view+json": {
       "model_id": "0236aaa237ee4b5db9c5c875dec016c8",
       "version_major": 2,
       "version_minor": 0
      },
      "text/plain": [
       "Training: 0it [00:00, ?it/s]"
      ]
     },
     "metadata": {},
     "output_type": "display_data"
    },
    {
     "name": "stderr",
     "output_type": "stream",
     "text": [
      "`Trainer.fit` stopped: `max_epochs=50` reached.\n",
      "Restoring states from the checkpoint path at /home/dpiras/MI/notebooks/comparisons/lightning_logs/version_480432/checkpoints/epoch=49-step=300-v69.ckpt\n",
      "Loaded model weights from checkpoint at /home/dpiras/MI/notebooks/comparisons/lightning_logs/version_480432/checkpoints/epoch=49-step=300-v69.ckpt\n"
     ]
    },
    {
     "data": {
      "application/vnd.jupyter.widget-view+json": {
       "model_id": "dbc22a44aa4a4b819e3227008930dc43",
       "version_major": 2,
       "version_minor": 0
      },
      "text/plain": [
       "Testing: 0it [00:00, ?it/s]"
      ]
     },
     "metadata": {},
     "output_type": "display_data"
    },
    {
     "name": "stderr",
     "output_type": "stream",
     "text": [
      "Multiprocessing is handled by SLURM.\n",
      "GPU available: False, used: False\n",
      "TPU available: False, using: 0 TPU cores\n",
      "IPU available: False, using: 0 IPUs\n",
      "HPU available: False, using: 0 HPUs\n",
      "\n",
      "  | Name        | Type             | Params\n",
      "-------------------------------------------------\n",
      "0 | T           | CustomSequential | 10.5 K\n",
      "1 | energy_loss | Mine             | 10.5 K\n",
      "-------------------------------------------------\n",
      "10.5 K    Trainable params\n",
      "0         Non-trainable params\n",
      "10.5 K    Total params\n",
      "0.042     Total estimated model params size (MB)\n",
      "SLURM auto-requeueing enabled. Setting signal handlers.\n"
     ]
    },
    {
     "data": {
      "application/vnd.jupyter.widget-view+json": {
       "model_id": "10c0ff3fe2d0413dbe3c0cffaff2186a",
       "version_major": 2,
       "version_minor": 0
      },
      "text/plain": [
       "Training: 0it [00:00, ?it/s]"
      ]
     },
     "metadata": {},
     "output_type": "display_data"
    },
    {
     "name": "stderr",
     "output_type": "stream",
     "text": [
      "`Trainer.fit` stopped: `max_epochs=50` reached.\n",
      "Restoring states from the checkpoint path at /home/dpiras/MI/notebooks/comparisons/lightning_logs/version_480432/checkpoints/epoch=49-step=300-v70.ckpt\n",
      "Loaded model weights from checkpoint at /home/dpiras/MI/notebooks/comparisons/lightning_logs/version_480432/checkpoints/epoch=49-step=300-v70.ckpt\n"
     ]
    },
    {
     "data": {
      "application/vnd.jupyter.widget-view+json": {
       "model_id": "810660b8aaed41b0952dcd2a981beb2c",
       "version_major": 2,
       "version_minor": 0
      },
      "text/plain": [
       "Testing: 0it [00:00, ?it/s]"
      ]
     },
     "metadata": {},
     "output_type": "display_data"
    },
    {
     "name": "stderr",
     "output_type": "stream",
     "text": [
      "Multiprocessing is handled by SLURM.\n",
      "GPU available: False, used: False\n",
      "TPU available: False, using: 0 TPU cores\n",
      "IPU available: False, using: 0 IPUs\n",
      "HPU available: False, using: 0 HPUs\n",
      "\n",
      "  | Name        | Type             | Params\n",
      "-------------------------------------------------\n",
      "0 | T           | CustomSequential | 10.5 K\n",
      "1 | energy_loss | Mine             | 10.5 K\n",
      "-------------------------------------------------\n",
      "10.5 K    Trainable params\n",
      "0         Non-trainable params\n",
      "10.5 K    Total params\n",
      "0.042     Total estimated model params size (MB)\n",
      "SLURM auto-requeueing enabled. Setting signal handlers.\n"
     ]
    },
    {
     "data": {
      "application/vnd.jupyter.widget-view+json": {
       "model_id": "837bda82aaf9462fb0f9900ea5ba89df",
       "version_major": 2,
       "version_minor": 0
      },
      "text/plain": [
       "Training: 0it [00:00, ?it/s]"
      ]
     },
     "metadata": {},
     "output_type": "display_data"
    },
    {
     "name": "stderr",
     "output_type": "stream",
     "text": [
      "`Trainer.fit` stopped: `max_epochs=50` reached.\n",
      "Restoring states from the checkpoint path at /home/dpiras/MI/notebooks/comparisons/lightning_logs/version_480432/checkpoints/epoch=49-step=300-v71.ckpt\n",
      "Loaded model weights from checkpoint at /home/dpiras/MI/notebooks/comparisons/lightning_logs/version_480432/checkpoints/epoch=49-step=300-v71.ckpt\n"
     ]
    },
    {
     "data": {
      "application/vnd.jupyter.widget-view+json": {
       "model_id": "45515b1e0f6a46e2a7f2b48d4000275e",
       "version_major": 2,
       "version_minor": 0
      },
      "text/plain": [
       "Testing: 0it [00:00, ?it/s]"
      ]
     },
     "metadata": {},
     "output_type": "display_data"
    },
    {
     "name": "stderr",
     "output_type": "stream",
     "text": [
      "Multiprocessing is handled by SLURM.\n",
      "GPU available: False, used: False\n",
      "TPU available: False, using: 0 TPU cores\n",
      "IPU available: False, using: 0 IPUs\n",
      "HPU available: False, using: 0 HPUs\n",
      "\n",
      "  | Name        | Type             | Params\n",
      "-------------------------------------------------\n",
      "0 | T           | CustomSequential | 10.5 K\n",
      "1 | energy_loss | Mine             | 10.5 K\n",
      "-------------------------------------------------\n",
      "10.5 K    Trainable params\n",
      "0         Non-trainable params\n",
      "10.5 K    Total params\n",
      "0.042     Total estimated model params size (MB)\n",
      "SLURM auto-requeueing enabled. Setting signal handlers.\n"
     ]
    },
    {
     "data": {
      "application/vnd.jupyter.widget-view+json": {
       "model_id": "266e6b000ae9432aa6428d81831770bd",
       "version_major": 2,
       "version_minor": 0
      },
      "text/plain": [
       "Training: 0it [00:00, ?it/s]"
      ]
     },
     "metadata": {},
     "output_type": "display_data"
    },
    {
     "name": "stderr",
     "output_type": "stream",
     "text": [
      "`Trainer.fit` stopped: `max_epochs=50` reached.\n",
      "Restoring states from the checkpoint path at /home/dpiras/MI/notebooks/comparisons/lightning_logs/version_480432/checkpoints/epoch=49-step=300-v72.ckpt\n",
      "Loaded model weights from checkpoint at /home/dpiras/MI/notebooks/comparisons/lightning_logs/version_480432/checkpoints/epoch=49-step=300-v72.ckpt\n"
     ]
    },
    {
     "data": {
      "application/vnd.jupyter.widget-view+json": {
       "model_id": "8865ab02a9e14c3ab767053bd482dd45",
       "version_major": 2,
       "version_minor": 0
      },
      "text/plain": [
       "Testing: 0it [00:00, ?it/s]"
      ]
     },
     "metadata": {},
     "output_type": "display_data"
    },
    {
     "name": "stderr",
     "output_type": "stream",
     "text": [
      "Multiprocessing is handled by SLURM.\n",
      "GPU available: False, used: False\n",
      "TPU available: False, using: 0 TPU cores\n",
      "IPU available: False, using: 0 IPUs\n",
      "HPU available: False, using: 0 HPUs\n",
      "\n",
      "  | Name        | Type             | Params\n",
      "-------------------------------------------------\n",
      "0 | T           | CustomSequential | 10.5 K\n",
      "1 | energy_loss | Mine             | 10.5 K\n",
      "-------------------------------------------------\n",
      "10.5 K    Trainable params\n",
      "0         Non-trainable params\n",
      "10.5 K    Total params\n",
      "0.042     Total estimated model params size (MB)\n",
      "SLURM auto-requeueing enabled. Setting signal handlers.\n"
     ]
    },
    {
     "data": {
      "application/vnd.jupyter.widget-view+json": {
       "model_id": "8601b5d507fd475ab6df23da9f2a21c7",
       "version_major": 2,
       "version_minor": 0
      },
      "text/plain": [
       "Training: 0it [00:00, ?it/s]"
      ]
     },
     "metadata": {},
     "output_type": "display_data"
    },
    {
     "name": "stderr",
     "output_type": "stream",
     "text": [
      "`Trainer.fit` stopped: `max_epochs=50` reached.\n",
      "Restoring states from the checkpoint path at /home/dpiras/MI/notebooks/comparisons/lightning_logs/version_480432/checkpoints/epoch=49-step=300-v73.ckpt\n",
      "Loaded model weights from checkpoint at /home/dpiras/MI/notebooks/comparisons/lightning_logs/version_480432/checkpoints/epoch=49-step=300-v73.ckpt\n"
     ]
    },
    {
     "data": {
      "application/vnd.jupyter.widget-view+json": {
       "model_id": "577b5552b23f4b9281859c72f0d8fc7a",
       "version_major": 2,
       "version_minor": 0
      },
      "text/plain": [
       "Testing: 0it [00:00, ?it/s]"
      ]
     },
     "metadata": {},
     "output_type": "display_data"
    },
    {
     "name": "stderr",
     "output_type": "stream",
     "text": [
      "Multiprocessing is handled by SLURM.\n",
      "GPU available: False, used: False\n",
      "TPU available: False, using: 0 TPU cores\n",
      "IPU available: False, using: 0 IPUs\n",
      "HPU available: False, using: 0 HPUs\n",
      "\n",
      "  | Name        | Type             | Params\n",
      "-------------------------------------------------\n",
      "0 | T           | CustomSequential | 10.5 K\n",
      "1 | energy_loss | Mine             | 10.5 K\n",
      "-------------------------------------------------\n",
      "10.5 K    Trainable params\n",
      "0         Non-trainable params\n",
      "10.5 K    Total params\n",
      "0.042     Total estimated model params size (MB)\n",
      "SLURM auto-requeueing enabled. Setting signal handlers.\n"
     ]
    },
    {
     "data": {
      "application/vnd.jupyter.widget-view+json": {
       "model_id": "f62a30687748485aa993f720e3b1597c",
       "version_major": 2,
       "version_minor": 0
      },
      "text/plain": [
       "Training: 0it [00:00, ?it/s]"
      ]
     },
     "metadata": {},
     "output_type": "display_data"
    },
    {
     "name": "stderr",
     "output_type": "stream",
     "text": [
      "`Trainer.fit` stopped: `max_epochs=50` reached.\n",
      "Restoring states from the checkpoint path at /home/dpiras/MI/notebooks/comparisons/lightning_logs/version_480432/checkpoints/epoch=49-step=300-v74.ckpt\n",
      "Loaded model weights from checkpoint at /home/dpiras/MI/notebooks/comparisons/lightning_logs/version_480432/checkpoints/epoch=49-step=300-v74.ckpt\n"
     ]
    },
    {
     "data": {
      "application/vnd.jupyter.widget-view+json": {
       "model_id": "f78488291d1e4502ae143bd0d47d29c2",
       "version_major": 2,
       "version_minor": 0
      },
      "text/plain": [
       "Testing: 0it [00:00, ?it/s]"
      ]
     },
     "metadata": {},
     "output_type": "display_data"
    },
    {
     "name": "stderr",
     "output_type": "stream",
     "text": [
      "Multiprocessing is handled by SLURM.\n",
      "GPU available: False, used: False\n",
      "TPU available: False, using: 0 TPU cores\n",
      "IPU available: False, using: 0 IPUs\n",
      "HPU available: False, using: 0 HPUs\n",
      "\n",
      "  | Name        | Type             | Params\n",
      "-------------------------------------------------\n",
      "0 | T           | CustomSequential | 10.5 K\n",
      "1 | energy_loss | Mine             | 10.5 K\n",
      "-------------------------------------------------\n",
      "10.5 K    Trainable params\n",
      "0         Non-trainable params\n",
      "10.5 K    Total params\n",
      "0.042     Total estimated model params size (MB)\n",
      "SLURM auto-requeueing enabled. Setting signal handlers.\n"
     ]
    },
    {
     "data": {
      "application/vnd.jupyter.widget-view+json": {
       "model_id": "b97c9db5ee7e49549625714388c46e03",
       "version_major": 2,
       "version_minor": 0
      },
      "text/plain": [
       "Training: 0it [00:00, ?it/s]"
      ]
     },
     "metadata": {},
     "output_type": "display_data"
    },
    {
     "name": "stderr",
     "output_type": "stream",
     "text": [
      "`Trainer.fit` stopped: `max_epochs=50` reached.\n",
      "Restoring states from the checkpoint path at /home/dpiras/MI/notebooks/comparisons/lightning_logs/version_480432/checkpoints/epoch=49-step=300-v75.ckpt\n",
      "Loaded model weights from checkpoint at /home/dpiras/MI/notebooks/comparisons/lightning_logs/version_480432/checkpoints/epoch=49-step=300-v75.ckpt\n"
     ]
    },
    {
     "data": {
      "application/vnd.jupyter.widget-view+json": {
       "model_id": "b6cd8b9fa06c4771a89d1715349755e4",
       "version_major": 2,
       "version_minor": 0
      },
      "text/plain": [
       "Testing: 0it [00:00, ?it/s]"
      ]
     },
     "metadata": {},
     "output_type": "display_data"
    },
    {
     "name": "stderr",
     "output_type": "stream",
     "text": [
      "Multiprocessing is handled by SLURM.\n",
      "GPU available: False, used: False\n",
      "TPU available: False, using: 0 TPU cores\n",
      "IPU available: False, using: 0 IPUs\n",
      "HPU available: False, using: 0 HPUs\n",
      "\n",
      "  | Name        | Type             | Params\n",
      "-------------------------------------------------\n",
      "0 | T           | CustomSequential | 10.5 K\n",
      "1 | energy_loss | Mine             | 10.5 K\n",
      "-------------------------------------------------\n",
      "10.5 K    Trainable params\n",
      "0         Non-trainable params\n",
      "10.5 K    Total params\n",
      "0.042     Total estimated model params size (MB)\n",
      "SLURM auto-requeueing enabled. Setting signal handlers.\n"
     ]
    },
    {
     "data": {
      "application/vnd.jupyter.widget-view+json": {
       "model_id": "528836ae84584fc7b4518f06e288a1e6",
       "version_major": 2,
       "version_minor": 0
      },
      "text/plain": [
       "Training: 0it [00:00, ?it/s]"
      ]
     },
     "metadata": {},
     "output_type": "display_data"
    },
    {
     "name": "stderr",
     "output_type": "stream",
     "text": [
      "`Trainer.fit` stopped: `max_epochs=50` reached.\n",
      "Restoring states from the checkpoint path at /home/dpiras/MI/notebooks/comparisons/lightning_logs/version_480432/checkpoints/epoch=49-step=300-v76.ckpt\n",
      "Loaded model weights from checkpoint at /home/dpiras/MI/notebooks/comparisons/lightning_logs/version_480432/checkpoints/epoch=49-step=300-v76.ckpt\n"
     ]
    },
    {
     "data": {
      "application/vnd.jupyter.widget-view+json": {
       "model_id": "ac63f4a3a82c49b38fc3549eaf538099",
       "version_major": 2,
       "version_minor": 0
      },
      "text/plain": [
       "Testing: 0it [00:00, ?it/s]"
      ]
     },
     "metadata": {},
     "output_type": "display_data"
    },
    {
     "name": "stderr",
     "output_type": "stream",
     "text": [
      "Multiprocessing is handled by SLURM.\n",
      "GPU available: False, used: False\n",
      "TPU available: False, using: 0 TPU cores\n",
      "IPU available: False, using: 0 IPUs\n",
      "HPU available: False, using: 0 HPUs\n",
      "\n",
      "  | Name        | Type             | Params\n",
      "-------------------------------------------------\n",
      "0 | T           | CustomSequential | 10.5 K\n",
      "1 | energy_loss | Mine             | 10.5 K\n",
      "-------------------------------------------------\n",
      "10.5 K    Trainable params\n",
      "0         Non-trainable params\n",
      "10.5 K    Total params\n",
      "0.042     Total estimated model params size (MB)\n",
      "SLURM auto-requeueing enabled. Setting signal handlers.\n"
     ]
    },
    {
     "data": {
      "application/vnd.jupyter.widget-view+json": {
       "model_id": "364db2916b9049078fdea71b901af30f",
       "version_major": 2,
       "version_minor": 0
      },
      "text/plain": [
       "Training: 0it [00:00, ?it/s]"
      ]
     },
     "metadata": {},
     "output_type": "display_data"
    },
    {
     "name": "stderr",
     "output_type": "stream",
     "text": [
      "`Trainer.fit` stopped: `max_epochs=50` reached.\n",
      "Restoring states from the checkpoint path at /home/dpiras/MI/notebooks/comparisons/lightning_logs/version_480432/checkpoints/epoch=49-step=300-v77.ckpt\n",
      "Loaded model weights from checkpoint at /home/dpiras/MI/notebooks/comparisons/lightning_logs/version_480432/checkpoints/epoch=49-step=300-v77.ckpt\n"
     ]
    },
    {
     "data": {
      "application/vnd.jupyter.widget-view+json": {
       "model_id": "36de6ae7ad8a48f7b7ad7501ee0dfa92",
       "version_major": 2,
       "version_minor": 0
      },
      "text/plain": [
       "Testing: 0it [00:00, ?it/s]"
      ]
     },
     "metadata": {},
     "output_type": "display_data"
    },
    {
     "name": "stderr",
     "output_type": "stream",
     "text": [
      "Multiprocessing is handled by SLURM.\n",
      "GPU available: False, used: False\n",
      "TPU available: False, using: 0 TPU cores\n",
      "IPU available: False, using: 0 IPUs\n",
      "HPU available: False, using: 0 HPUs\n",
      "\n",
      "  | Name        | Type             | Params\n",
      "-------------------------------------------------\n",
      "0 | T           | CustomSequential | 10.5 K\n",
      "1 | energy_loss | Mine             | 10.5 K\n",
      "-------------------------------------------------\n",
      "10.5 K    Trainable params\n",
      "0         Non-trainable params\n",
      "10.5 K    Total params\n",
      "0.042     Total estimated model params size (MB)\n",
      "SLURM auto-requeueing enabled. Setting signal handlers.\n"
     ]
    },
    {
     "data": {
      "application/vnd.jupyter.widget-view+json": {
       "model_id": "885e306d894d43c89d13b085d51b8f2f",
       "version_major": 2,
       "version_minor": 0
      },
      "text/plain": [
       "Training: 0it [00:00, ?it/s]"
      ]
     },
     "metadata": {},
     "output_type": "display_data"
    },
    {
     "name": "stderr",
     "output_type": "stream",
     "text": [
      "`Trainer.fit` stopped: `max_epochs=50` reached.\n",
      "Restoring states from the checkpoint path at /home/dpiras/MI/notebooks/comparisons/lightning_logs/version_480432/checkpoints/epoch=49-step=300-v78.ckpt\n",
      "Loaded model weights from checkpoint at /home/dpiras/MI/notebooks/comparisons/lightning_logs/version_480432/checkpoints/epoch=49-step=300-v78.ckpt\n"
     ]
    },
    {
     "data": {
      "application/vnd.jupyter.widget-view+json": {
       "model_id": "31f5e5803e3f4ea4a0b4477877ac3c3e",
       "version_major": 2,
       "version_minor": 0
      },
      "text/plain": [
       "Testing: 0it [00:00, ?it/s]"
      ]
     },
     "metadata": {},
     "output_type": "display_data"
    },
    {
     "name": "stderr",
     "output_type": "stream",
     "text": [
      "Multiprocessing is handled by SLURM.\n",
      "GPU available: False, used: False\n",
      "TPU available: False, using: 0 TPU cores\n",
      "IPU available: False, using: 0 IPUs\n",
      "HPU available: False, using: 0 HPUs\n",
      "\n",
      "  | Name        | Type             | Params\n",
      "-------------------------------------------------\n",
      "0 | T           | CustomSequential | 10.5 K\n",
      "1 | energy_loss | Mine             | 10.5 K\n",
      "-------------------------------------------------\n",
      "10.5 K    Trainable params\n",
      "0         Non-trainable params\n",
      "10.5 K    Total params\n",
      "0.042     Total estimated model params size (MB)\n",
      "SLURM auto-requeueing enabled. Setting signal handlers.\n"
     ]
    },
    {
     "data": {
      "application/vnd.jupyter.widget-view+json": {
       "model_id": "0a8d1f5ebb7c4e52bba4a46cb62bbba9",
       "version_major": 2,
       "version_minor": 0
      },
      "text/plain": [
       "Training: 0it [00:00, ?it/s]"
      ]
     },
     "metadata": {},
     "output_type": "display_data"
    },
    {
     "name": "stderr",
     "output_type": "stream",
     "text": [
      "`Trainer.fit` stopped: `max_epochs=50` reached.\n",
      "Restoring states from the checkpoint path at /home/dpiras/MI/notebooks/comparisons/lightning_logs/version_480432/checkpoints/epoch=49-step=300-v79.ckpt\n",
      "Loaded model weights from checkpoint at /home/dpiras/MI/notebooks/comparisons/lightning_logs/version_480432/checkpoints/epoch=49-step=300-v79.ckpt\n"
     ]
    },
    {
     "data": {
      "application/vnd.jupyter.widget-view+json": {
       "model_id": "136555730da44f7b8730f4b20ad69dcd",
       "version_major": 2,
       "version_minor": 0
      },
      "text/plain": [
       "Testing: 0it [00:00, ?it/s]"
      ]
     },
     "metadata": {},
     "output_type": "display_data"
    },
    {
     "name": "stdout",
     "output_type": "stream",
     "text": [
      "Total time for MINE: 75.642 s\n"
     ]
    }
   ],
   "source": [
    "mine_estimates = []\n",
    "\n",
    "dim = 1\n",
    "lr = 1e-3\n",
    "epochs = 50\n",
    "batch_size = 32\n",
    "loss_type = ['mine']  # mine, mine_biased, fdiv\n",
    "loss = loss_type[0]\n",
    "\n",
    "initial_time = time.time()\n",
    "\n",
    "for rho in rhos:\n",
    "    C0 = [[1, rho], [rho, 1]]\n",
    "    covariances = np.array([C0])\n",
    "    gmm_true = GMM(n_components=n_components, weights_init=weights, \n",
    "                   means_init=means, covariances_init=covariances, random_state=random_state)\n",
    "    X = gmm_true.sample(N)[0]\n",
    "\n",
    "    N = X.shape[0]\n",
    "    train_size = int(0.9 * N)\n",
    "    test_size = N - train_size\n",
    "\n",
    "    train_set, test_set = train_test_split(X, test_size=0.1, random_state=42)\n",
    "\n",
    "    tensor_x = torch.Tensor(train_set[:, :1]) # transform to torch tensor\n",
    "    tensor_y = torch.Tensor(train_set[:, 1:]) # transform to torch tensor\n",
    "    my_dataset = TensorDataset(tensor_x,tensor_y)\n",
    "    train_loader = torch.utils.data.DataLoader(my_dataset, batch_size=batch_size, shuffle=True)\n",
    "\n",
    "    tensor_x = torch.Tensor(test_set[:, :1]) # transform to torch tensor\n",
    "    tensor_y = torch.Tensor(test_set[:, 1:]) # transform to torch tensor\n",
    "    my_dataset = TensorDataset(tensor_x,tensor_y)\n",
    "    test_loader = torch.utils.data.DataLoader(my_dataset, batch_size=batch_size, shuffle=True)\n",
    "\n",
    "    kwargs = {\n",
    "        'lr': lr,\n",
    "        'batch_size': batch_size,\n",
    "        'train_loader': train_loader,\n",
    "        'test_loader': test_loader,\n",
    "        'alpha': 1.\n",
    "    }\n",
    "\n",
    "    model = MutualInformationEstimator(\n",
    "        dim, dim, loss=loss, **kwargs).to(device)\n",
    "    \n",
    "    trainer = Trainer(max_epochs=epochs)\n",
    "    trainer.fit(model)\n",
    "    trainer.test()\n",
    "\n",
    "    mine_estimates.append(model.avg_test_mi)\n",
    "\n",
    "mine_time = time.time()-initial_time    \n",
    "    \n",
    "print(f'Total time for MINE: {mine_time:.3f} s')"
   ]
  },
  {
   "cell_type": "markdown",
   "id": "71e5944d",
   "metadata": {},
   "source": [
    "### GMM-MI"
   ]
  },
  {
   "cell_type": "code",
   "execution_count": 5,
   "id": "1cae869a",
   "metadata": {},
   "outputs": [],
   "source": [
    "# all unspecified parameters are set to their default values\n",
    "\n",
    "# parameters for every GMM fit that is being run\n",
    "gmm_fit_params = GMMFitParamHolder(threshold_fit=1e-5,\n",
    "                                   reg_covar=1e-12)\n",
    "\n",
    "# parameters to choose the number of components\n",
    "select_components_params = SelectComponentsParamHolder(n_inits=3,\n",
    "                                                       n_folds=2)\n",
    "\n",
    "# parameters for MI distribution estimation\n",
    "mi_dist_params = MIDistParamHolder(n_bootstrap=100,\n",
    "                                   MC_samples=1e4)"
   ]
  },
  {
   "cell_type": "code",
   "execution_count": 6,
   "id": "407b768d",
   "metadata": {},
   "outputs": [
    {
     "name": "stderr",
     "output_type": "stream",
     "text": [
      "100%|██████████| 100/100 [00:00<00:00, 294.91it/s]\n",
      "100%|██████████| 100/100 [00:00<00:00, 296.71it/s]\n",
      "100%|██████████| 100/100 [00:00<00:00, 297.36it/s]\n",
      "100%|██████████| 100/100 [00:00<00:00, 296.85it/s]\n",
      "100%|██████████| 100/100 [00:00<00:00, 294.68it/s]\n",
      "100%|██████████| 100/100 [00:00<00:00, 297.96it/s]\n",
      "100%|██████████| 100/100 [00:00<00:00, 303.40it/s]\n",
      "100%|██████████| 100/100 [00:00<00:00, 295.65it/s]\n",
      "100%|██████████| 100/100 [00:00<00:00, 298.36it/s]\n",
      "100%|██████████| 100/100 [00:00<00:00, 298.20it/s]\n",
      "100%|██████████| 100/100 [00:00<00:00, 297.87it/s]\n",
      "100%|██████████| 100/100 [00:00<00:00, 290.80it/s]\n",
      "100%|██████████| 100/100 [00:00<00:00, 297.81it/s]\n",
      "100%|██████████| 100/100 [00:00<00:00, 298.73it/s]\n",
      "100%|██████████| 100/100 [00:00<00:00, 298.30it/s]\n",
      "100%|██████████| 100/100 [00:00<00:00, 298.40it/s]\n",
      "100%|██████████| 100/100 [00:00<00:00, 298.22it/s]\n",
      "100%|██████████| 100/100 [00:00<00:00, 298.63it/s]\n",
      "100%|██████████| 100/100 [00:00<00:00, 298.65it/s]\n",
      "100%|██████████| 100/100 [00:00<00:00, 294.16it/s]"
     ]
    },
    {
     "name": "stdout",
     "output_type": "stream",
     "text": [
      "Total time for GMM: 13.067 s\n"
     ]
    },
    {
     "name": "stderr",
     "output_type": "stream",
     "text": [
      "\n"
     ]
    }
   ],
   "source": [
    "all_MI_estimates = np.zeros((len(rhos), 2))\n",
    "\n",
    "initial_time = time.time()\n",
    "\n",
    "for r, rho in enumerate(rhos):\n",
    "    C0 = [[1, rho], [rho, 1]]\n",
    "    covariances = np.array([C0])\n",
    "    gmm_true = GMM(n_components=n_components, weights_init=weights, \n",
    "                   means_init=means, covariances_init=covariances, random_state=random_state)\n",
    "    X = gmm_true.sample(N)[0]\n",
    "\n",
    "    mi_estimator = EstimateMI(gmm_fit_params=gmm_fit_params,\n",
    "                              select_components_params=select_components_params,\n",
    "                              mi_dist_params=mi_dist_params)\n",
    "    MI_mean, MI_std = mi_estimator.fit(X)   \n",
    "\n",
    "    # store results\n",
    "    all_MI_estimates[r, 0] = MI_mean\n",
    "    all_MI_estimates[r, 1] = MI_std\n",
    "\n",
    "gmm_mi_time = time.time()-initial_time\n",
    "print(f'Total time for GMM: {gmm_mi_time:.3f} s')"
   ]
  },
  {
   "cell_type": "markdown",
   "id": "51c2b52e",
   "metadata": {},
   "source": [
    "### Plot results"
   ]
  },
  {
   "cell_type": "code",
   "execution_count": 7,
   "id": "e0b05a1c",
   "metadata": {},
   "outputs": [
    {
     "data": {
      "image/png": "[encoded data removed]",
      "text/plain": [
       "<Figure size 1200x700 with 1 Axes>"
      ]
     },
     "metadata": {},
     "output_type": "display_data"
    }
   ],
   "source": [
    "# let's plot the results\n",
    "fig, ax = plt.subplots(1, 1, figsize=(12, 7))\n",
    "\n",
    "sigmas = 2\n",
    "lw = 3\n",
    "\n",
    "ax.tick_params(axis='both', which='major', labelsize=22, size=10)\n",
    "ax.plot(rhos, knn_estimates, c='tomato', lw=lw, label=f'KSG ({ksg_time/len(rhos):.3f} s , single estimate)')\n",
    "ax.plot(rhos, mine_estimates, c='darkgreen', ls='-.', lw=lw, label=f'MINE ({mine_time/len(rhos):.1f} s, single estimate)')\n",
    "ax.plot(rhos, all_MI_estimates[:, 0], color='grey', alpha=0.8)\n",
    "ax.fill_between(rhos, all_MI_estimates[:, 0] - sigmas*all_MI_estimates[:, 1], \n",
    "                all_MI_estimates[:, 0]+sigmas*all_MI_estimates[:, 1], color='grey', \n",
    "                alpha=0.8, label=f'GMM-MI ({gmm_mi_time/len(rhos):.1f} s, full distribution)')\n",
    "ax.plot(rhos, analytic, ls='--', c='black', lw=lw, label='Ground truth')\n",
    "\n",
    "ax.legend(fontsize=25, frameon=False)\n",
    "        \n",
    "ax.set_xlabel(r'$\\rho$', fontsize=30)\n",
    "ax.set_ylabel('Mutual information [nat]', fontsize=25);\n",
    "\n",
    "plt.savefig('./figures/D1_comparison.pdf',  bbox_inches='tight');"
   ]
  },
  {
   "cell_type": "code",
   "execution_count": null,
   "id": "eb35fe13",
   "metadata": {},
   "outputs": [],
   "source": []
  }
 ],
 "metadata": {
  "kernelspec": {
   "display_name": "Python 3 (ipykernel)",
   "language": "python",
   "name": "python3"
  },
  "language_info": {
   "codemirror_mode": {
    "name": "ipython",
    "version": 3
   },
   "file_extension": ".py",
   "mimetype": "text/x-python",
   "name": "python",
   "nbconvert_exporter": "python",
   "pygments_lexer": "ipython3",
   "version": "3.9.13"
  }
 },
 "nbformat": 4,
 "nbformat_minor": 5
}
