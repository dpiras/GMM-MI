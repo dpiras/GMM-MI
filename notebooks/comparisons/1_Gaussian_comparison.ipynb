{
 "cells": [
  {
   "cell_type": "markdown",
   "id": "89af4efe",
   "metadata": {},
   "source": [
    "In this notebook, we compare GMM-MI with the [KSG estimator](https://scikit-learn.org/stable/modules/generated/sklearn.feature_selection.mutual_info_regression.html) and the [MINE estimator](https://github.com/gtegner/mine-pytorch) on a simple bivariate Gaussian with varying level of correlation. To run this notebook you would need to install the MINE package following the instructions in the repository; here we already cloned the repository for you and adapted the code to work with python 3.9, so that you only need to run:\n",
    "```\n",
    "cd mine-pytorch\n",
    "pip install -e .\n",
    "```\n",
    "Note the MINE results are not \"reproducible\", in the sense that the seed is not fixed."
   ]
  },
  {
   "cell_type": "markdown",
   "id": "593596a8",
   "metadata": {},
   "source": [
    "### Import packages"
   ]
  },
  {
   "cell_type": "code",
   "execution_count": 1,
   "id": "a981deba",
   "metadata": {},
   "outputs": [
    {
     "name": "stdout",
     "output_type": "stream",
     "text": [
      "Device: cpu\n"
     ]
    }
   ],
   "source": [
    "import numpy as np\n",
    "import time\n",
    "import matplotlib.pyplot as plt\n",
    "# GMM-MI\n",
    "from gmm_mi.mi import EstimateMI\n",
    "from gmm_mi.param_holders import GMMFitParamHolder, SelectComponentsParamHolder, MIDistParamHolder\n",
    "from gmm_mi.gmm import GMMWithMI as GMM\n",
    "from gmm_mi.utils.analytic_MI import calculate_MI_D1_analytical\n",
    "# KSG\n",
    "from sklearn.feature_selection import mutual_info_regression\n",
    "# MINE\n",
    "from sklearn.model_selection import train_test_split\n",
    "import torch\n",
    "from torch.utils.data import TensorDataset, DataLoader\n",
    "from mine.models.mine import MutualInformationEstimator\n",
    "from pytorch_lightning import Trainer\n",
    "import logging\n",
    "logging.getLogger().setLevel(logging.ERROR)\n",
    "device = 'cuda' if torch.cuda.is_available() else 'cpu'\n",
    "num_gpus = 1 if device=='cuda' else 0"
   ]
  },
  {
   "cell_type": "markdown",
   "id": "5143b6c8",
   "metadata": {},
   "source": [
    "### Calculate the true MI of the synthetic models"
   ]
  },
  {
   "cell_type": "code",
   "execution_count": 2,
   "id": "ba8a30a6",
   "metadata": {
    "scrolled": false
   },
   "outputs": [],
   "source": [
    "rhos = np.linspace(-0.99, 0.99, 20)\n",
    "N = 2e2\n",
    "n_components = 1\n",
    "weights = np.array([1.])\n",
    "means = np.zeros((1, 2))\n",
    "# fix random state for stability across runs\n",
    "random_state = 13\n",
    "\n",
    "analytic = []\n",
    "for rho in rhos:\n",
    "    C0 = [[1, rho], [rho, 1]]\n",
    "    covariances = np.array([C0])[0]\n",
    "    analytic.append(calculate_MI_D1_analytical(covariances))"
   ]
  },
  {
   "cell_type": "markdown",
   "id": "466a097a",
   "metadata": {},
   "source": [
    "### KSG"
   ]
  },
  {
   "cell_type": "code",
   "execution_count": 3,
   "id": "1b971bfb",
   "metadata": {},
   "outputs": [
    {
     "name": "stdout",
     "output_type": "stream",
     "text": [
      "Total time for KSG: 0.045 s\n"
     ]
    }
   ],
   "source": [
    "knn_estimates = []\n",
    "n_neighbors = 1 # keep minimum bias\n",
    "\n",
    "initial_time = time.time()\n",
    "\n",
    "for rho in rhos:\n",
    "    C0 = [[1, rho], [rho, 1]]\n",
    "    covariances = np.array([C0])\n",
    "    gmm_true = GMM(n_components=n_components, weights_init=weights, \n",
    "                   means_init=means, covariances_init=covariances, random_state=random_state)\n",
    "    X = gmm_true.sample(N)[0]\n",
    "    knn_estimates.append(mutual_info_regression(X[:, 0].reshape(-1, 1), X[:, 1], \n",
    "                                                n_neighbors=n_neighbors))\n",
    "\n",
    "ksg_time = time.time()-initial_time    \n",
    "    \n",
    "print(f'Total time for KSG: {ksg_time:.3f} s')"
   ]
  },
  {
   "cell_type": "markdown",
   "id": "a7e611b7",
   "metadata": {},
   "source": [
    "### MINE"
   ]
  },
  {
   "cell_type": "code",
   "execution_count": 4,
   "id": "1b157296",
   "metadata": {
    "scrolled": true
   },
   "outputs": [
    {
     "name": "stderr",
     "output_type": "stream",
     "text": [
      "Multiprocessing is handled by SLURM.\n",
      "GPU available: False, used: False\n",
      "TPU available: False, using: 0 TPU cores\n",
      "IPU available: False, using: 0 IPUs\n",
      "HPU available: False, using: 0 HPUs\n",
      "/home/dpiras/.conda/envs/MI/lib/python3.9/site-packages/pytorch_lightning/callbacks/model_checkpoint.py:616: UserWarning: Checkpoint directory /home/dpiras/MI/notebooks/comparisons/lightning_logs/version_455820/checkpoints exists and is not empty.\n",
      "  rank_zero_warn(f\"Checkpoint directory {dirpath} exists and is not empty.\")\n",
      "\n",
      "  | Name        | Type             | Params\n",
      "-------------------------------------------------\n",
      "0 | T           | CustomSequential | 10.5 K\n",
      "1 | energy_loss | Mine             | 10.5 K\n",
      "-------------------------------------------------\n",
      "10.5 K    Trainable params\n",
      "0         Non-trainable params\n",
      "10.5 K    Total params\n",
      "0.042     Total estimated model params size (MB)\n",
      "SLURM auto-requeueing enabled. Setting signal handlers.\n",
      "/home/dpiras/.conda/envs/MI/lib/python3.9/site-packages/pytorch_lightning/trainer/connectors/data_connector.py:236: PossibleUserWarning: The dataloader, train_dataloader, does not have many workers which may be a bottleneck. Consider increasing the value of the `num_workers` argument` (try 40 which is the number of cpus on this machine) in the `DataLoader` init to improve performance.\n",
      "  rank_zero_warn(\n",
      "/home/dpiras/.conda/envs/MI/lib/python3.9/site-packages/pytorch_lightning/trainer/trainer.py:1892: PossibleUserWarning: The number of training batches (6) is smaller than the logging interval Trainer(log_every_n_steps=50). Set a lower value for log_every_n_steps if you want to see logs for the training epoch.\n",
      "  rank_zero_warn(\n"
     ]
    },
    {
     "data": {
      "application/vnd.jupyter.widget-view+json": {
       "model_id": "6980c62a6ffd4b48940c963e2f9448e5",
       "version_major": 2,
       "version_minor": 0
      },
      "text/plain": [
       "Training: 0it [00:00, ?it/s]"
      ]
     },
     "metadata": {},
     "output_type": "display_data"
    },
    {
     "name": "stderr",
     "output_type": "stream",
     "text": [
      "`Trainer.fit` stopped: `max_epochs=50` reached.\n",
      "/home/dpiras/.conda/envs/MI/lib/python3.9/site-packages/pytorch_lightning/trainer/trainer.py:1386: UserWarning: `.test(ckpt_path=None)` was called without a model. The best model of the previous `fit` call will be used. You can pass `.test(ckpt_path='best')` to use the best model or `.test(ckpt_path='last')` to use the last model. If you pass a value, this warning will be silenced.\n",
      "  rank_zero_warn(\n",
      "Restoring states from the checkpoint path at /home/dpiras/MI/notebooks/comparisons/lightning_logs/version_455820/checkpoints/epoch=49-step=300-v40.ckpt\n",
      "Loaded model weights from checkpoint at /home/dpiras/MI/notebooks/comparisons/lightning_logs/version_455820/checkpoints/epoch=49-step=300-v40.ckpt\n",
      "/home/dpiras/.conda/envs/MI/lib/python3.9/site-packages/pytorch_lightning/trainer/connectors/data_connector.py:489: PossibleUserWarning: Your `test_dataloader`'s sampler has shuffling enabled, it is strongly recommended that you turn shuffling off for val/test/predict dataloaders.\n",
      "  rank_zero_warn(\n",
      "/home/dpiras/.conda/envs/MI/lib/python3.9/site-packages/pytorch_lightning/trainer/connectors/data_connector.py:236: PossibleUserWarning: The dataloader, test_dataloader 0, does not have many workers which may be a bottleneck. Consider increasing the value of the `num_workers` argument` (try 40 which is the number of cpus on this machine) in the `DataLoader` init to improve performance.\n",
      "  rank_zero_warn(\n"
     ]
    },
    {
     "data": {
      "application/vnd.jupyter.widget-view+json": {
       "model_id": "3631737eaabe48a0a67c7cef747037f4",
       "version_major": 2,
       "version_minor": 0
      },
      "text/plain": [
       "Testing: 0it [00:00, ?it/s]"
      ]
     },
     "metadata": {},
     "output_type": "display_data"
    },
    {
     "name": "stderr",
     "output_type": "stream",
     "text": [
      "Multiprocessing is handled by SLURM.\n",
      "GPU available: False, used: False\n",
      "TPU available: False, using: 0 TPU cores\n",
      "IPU available: False, using: 0 IPUs\n",
      "HPU available: False, using: 0 HPUs\n",
      "\n",
      "  | Name        | Type             | Params\n",
      "-------------------------------------------------\n",
      "0 | T           | CustomSequential | 10.5 K\n",
      "1 | energy_loss | Mine             | 10.5 K\n",
      "-------------------------------------------------\n",
      "10.5 K    Trainable params\n",
      "0         Non-trainable params\n",
      "10.5 K    Total params\n",
      "0.042     Total estimated model params size (MB)\n",
      "SLURM auto-requeueing enabled. Setting signal handlers.\n"
     ]
    },
    {
     "data": {
      "application/vnd.jupyter.widget-view+json": {
       "model_id": "3dbd8d4257be4e66a6194e9b00305b45",
       "version_major": 2,
       "version_minor": 0
      },
      "text/plain": [
       "Training: 0it [00:00, ?it/s]"
      ]
     },
     "metadata": {},
     "output_type": "display_data"
    },
    {
     "name": "stderr",
     "output_type": "stream",
     "text": [
      "`Trainer.fit` stopped: `max_epochs=50` reached.\n",
      "Restoring states from the checkpoint path at /home/dpiras/MI/notebooks/comparisons/lightning_logs/version_455820/checkpoints/epoch=49-step=300-v41.ckpt\n",
      "Loaded model weights from checkpoint at /home/dpiras/MI/notebooks/comparisons/lightning_logs/version_455820/checkpoints/epoch=49-step=300-v41.ckpt\n"
     ]
    },
    {
     "data": {
      "application/vnd.jupyter.widget-view+json": {
       "model_id": "d5c46c97d67647fd87ea232c855e8e49",
       "version_major": 2,
       "version_minor": 0
      },
      "text/plain": [
       "Testing: 0it [00:00, ?it/s]"
      ]
     },
     "metadata": {},
     "output_type": "display_data"
    },
    {
     "name": "stderr",
     "output_type": "stream",
     "text": [
      "Multiprocessing is handled by SLURM.\n",
      "GPU available: False, used: False\n",
      "TPU available: False, using: 0 TPU cores\n",
      "IPU available: False, using: 0 IPUs\n",
      "HPU available: False, using: 0 HPUs\n",
      "\n",
      "  | Name        | Type             | Params\n",
      "-------------------------------------------------\n",
      "0 | T           | CustomSequential | 10.5 K\n",
      "1 | energy_loss | Mine             | 10.5 K\n",
      "-------------------------------------------------\n",
      "10.5 K    Trainable params\n",
      "0         Non-trainable params\n",
      "10.5 K    Total params\n",
      "0.042     Total estimated model params size (MB)\n",
      "SLURM auto-requeueing enabled. Setting signal handlers.\n"
     ]
    },
    {
     "data": {
      "application/vnd.jupyter.widget-view+json": {
       "model_id": "06878e60320540f189e3f37dc526a75d",
       "version_major": 2,
       "version_minor": 0
      },
      "text/plain": [
       "Training: 0it [00:00, ?it/s]"
      ]
     },
     "metadata": {},
     "output_type": "display_data"
    },
    {
     "name": "stderr",
     "output_type": "stream",
     "text": [
      "`Trainer.fit` stopped: `max_epochs=50` reached.\n",
      "Restoring states from the checkpoint path at /home/dpiras/MI/notebooks/comparisons/lightning_logs/version_455820/checkpoints/epoch=49-step=300-v42.ckpt\n",
      "Loaded model weights from checkpoint at /home/dpiras/MI/notebooks/comparisons/lightning_logs/version_455820/checkpoints/epoch=49-step=300-v42.ckpt\n"
     ]
    },
    {
     "data": {
      "application/vnd.jupyter.widget-view+json": {
       "model_id": "22fdeed6d9c344449aef1bd4211a236b",
       "version_major": 2,
       "version_minor": 0
      },
      "text/plain": [
       "Testing: 0it [00:00, ?it/s]"
      ]
     },
     "metadata": {},
     "output_type": "display_data"
    },
    {
     "name": "stderr",
     "output_type": "stream",
     "text": [
      "Multiprocessing is handled by SLURM.\n",
      "GPU available: False, used: False\n",
      "TPU available: False, using: 0 TPU cores\n",
      "IPU available: False, using: 0 IPUs\n",
      "HPU available: False, using: 0 HPUs\n",
      "\n",
      "  | Name        | Type             | Params\n",
      "-------------------------------------------------\n",
      "0 | T           | CustomSequential | 10.5 K\n",
      "1 | energy_loss | Mine             | 10.5 K\n",
      "-------------------------------------------------\n",
      "10.5 K    Trainable params\n",
      "0         Non-trainable params\n",
      "10.5 K    Total params\n",
      "0.042     Total estimated model params size (MB)\n",
      "SLURM auto-requeueing enabled. Setting signal handlers.\n"
     ]
    },
    {
     "data": {
      "application/vnd.jupyter.widget-view+json": {
       "model_id": "ff0f49fb5f1547669aab8f8dcd9f87f9",
       "version_major": 2,
       "version_minor": 0
      },
      "text/plain": [
       "Training: 0it [00:00, ?it/s]"
      ]
     },
     "metadata": {},
     "output_type": "display_data"
    },
    {
     "name": "stderr",
     "output_type": "stream",
     "text": [
      "`Trainer.fit` stopped: `max_epochs=50` reached.\n",
      "Restoring states from the checkpoint path at /home/dpiras/MI/notebooks/comparisons/lightning_logs/version_455820/checkpoints/epoch=49-step=300-v43.ckpt\n",
      "Loaded model weights from checkpoint at /home/dpiras/MI/notebooks/comparisons/lightning_logs/version_455820/checkpoints/epoch=49-step=300-v43.ckpt\n"
     ]
    },
    {
     "data": {
      "application/vnd.jupyter.widget-view+json": {
       "model_id": "920f1763b12a4c999d5a301ef5b5ef94",
       "version_major": 2,
       "version_minor": 0
      },
      "text/plain": [
       "Testing: 0it [00:00, ?it/s]"
      ]
     },
     "metadata": {},
     "output_type": "display_data"
    },
    {
     "name": "stderr",
     "output_type": "stream",
     "text": [
      "Multiprocessing is handled by SLURM.\n",
      "GPU available: False, used: False\n",
      "TPU available: False, using: 0 TPU cores\n",
      "IPU available: False, using: 0 IPUs\n",
      "HPU available: False, using: 0 HPUs\n",
      "\n",
      "  | Name        | Type             | Params\n",
      "-------------------------------------------------\n",
      "0 | T           | CustomSequential | 10.5 K\n",
      "1 | energy_loss | Mine             | 10.5 K\n",
      "-------------------------------------------------\n",
      "10.5 K    Trainable params\n",
      "0         Non-trainable params\n",
      "10.5 K    Total params\n",
      "0.042     Total estimated model params size (MB)\n",
      "SLURM auto-requeueing enabled. Setting signal handlers.\n"
     ]
    },
    {
     "data": {
      "application/vnd.jupyter.widget-view+json": {
       "model_id": "23c5666ec9e549fcb125bed4d2045914",
       "version_major": 2,
       "version_minor": 0
      },
      "text/plain": [
       "Training: 0it [00:00, ?it/s]"
      ]
     },
     "metadata": {},
     "output_type": "display_data"
    },
    {
     "name": "stderr",
     "output_type": "stream",
     "text": [
      "`Trainer.fit` stopped: `max_epochs=50` reached.\n",
      "Restoring states from the checkpoint path at /home/dpiras/MI/notebooks/comparisons/lightning_logs/version_455820/checkpoints/epoch=49-step=300-v44.ckpt\n",
      "Loaded model weights from checkpoint at /home/dpiras/MI/notebooks/comparisons/lightning_logs/version_455820/checkpoints/epoch=49-step=300-v44.ckpt\n"
     ]
    },
    {
     "data": {
      "application/vnd.jupyter.widget-view+json": {
       "model_id": "31b1a609265e4357bf8bf3bbefac3ef2",
       "version_major": 2,
       "version_minor": 0
      },
      "text/plain": [
       "Testing: 0it [00:00, ?it/s]"
      ]
     },
     "metadata": {},
     "output_type": "display_data"
    },
    {
     "name": "stderr",
     "output_type": "stream",
     "text": [
      "Multiprocessing is handled by SLURM.\n",
      "GPU available: False, used: False\n",
      "TPU available: False, using: 0 TPU cores\n",
      "IPU available: False, using: 0 IPUs\n",
      "HPU available: False, using: 0 HPUs\n",
      "\n",
      "  | Name        | Type             | Params\n",
      "-------------------------------------------------\n",
      "0 | T           | CustomSequential | 10.5 K\n",
      "1 | energy_loss | Mine             | 10.5 K\n",
      "-------------------------------------------------\n",
      "10.5 K    Trainable params\n",
      "0         Non-trainable params\n",
      "10.5 K    Total params\n",
      "0.042     Total estimated model params size (MB)\n",
      "SLURM auto-requeueing enabled. Setting signal handlers.\n"
     ]
    },
    {
     "data": {
      "application/vnd.jupyter.widget-view+json": {
       "model_id": "7dcd04d663df43f1a18839b116763539",
       "version_major": 2,
       "version_minor": 0
      },
      "text/plain": [
       "Training: 0it [00:00, ?it/s]"
      ]
     },
     "metadata": {},
     "output_type": "display_data"
    },
    {
     "name": "stderr",
     "output_type": "stream",
     "text": [
      "`Trainer.fit` stopped: `max_epochs=50` reached.\n",
      "Restoring states from the checkpoint path at /home/dpiras/MI/notebooks/comparisons/lightning_logs/version_455820/checkpoints/epoch=49-step=300-v45.ckpt\n",
      "Loaded model weights from checkpoint at /home/dpiras/MI/notebooks/comparisons/lightning_logs/version_455820/checkpoints/epoch=49-step=300-v45.ckpt\n"
     ]
    },
    {
     "data": {
      "application/vnd.jupyter.widget-view+json": {
       "model_id": "f638be2d2244493e92c32c658d668f67",
       "version_major": 2,
       "version_minor": 0
      },
      "text/plain": [
       "Testing: 0it [00:00, ?it/s]"
      ]
     },
     "metadata": {},
     "output_type": "display_data"
    },
    {
     "name": "stderr",
     "output_type": "stream",
     "text": [
      "Multiprocessing is handled by SLURM.\n",
      "GPU available: False, used: False\n",
      "TPU available: False, using: 0 TPU cores\n",
      "IPU available: False, using: 0 IPUs\n",
      "HPU available: False, using: 0 HPUs\n",
      "\n",
      "  | Name        | Type             | Params\n",
      "-------------------------------------------------\n",
      "0 | T           | CustomSequential | 10.5 K\n",
      "1 | energy_loss | Mine             | 10.5 K\n",
      "-------------------------------------------------\n",
      "10.5 K    Trainable params\n",
      "0         Non-trainable params\n",
      "10.5 K    Total params\n",
      "0.042     Total estimated model params size (MB)\n",
      "SLURM auto-requeueing enabled. Setting signal handlers.\n"
     ]
    },
    {
     "data": {
      "application/vnd.jupyter.widget-view+json": {
       "model_id": "6d84402f45a04c028bfd5fc3b385c9d2",
       "version_major": 2,
       "version_minor": 0
      },
      "text/plain": [
       "Training: 0it [00:00, ?it/s]"
      ]
     },
     "metadata": {},
     "output_type": "display_data"
    },
    {
     "name": "stderr",
     "output_type": "stream",
     "text": [
      "`Trainer.fit` stopped: `max_epochs=50` reached.\n",
      "Restoring states from the checkpoint path at /home/dpiras/MI/notebooks/comparisons/lightning_logs/version_455820/checkpoints/epoch=49-step=300-v46.ckpt\n",
      "Loaded model weights from checkpoint at /home/dpiras/MI/notebooks/comparisons/lightning_logs/version_455820/checkpoints/epoch=49-step=300-v46.ckpt\n"
     ]
    },
    {
     "data": {
      "application/vnd.jupyter.widget-view+json": {
       "model_id": "4a8666ad8da941b3b5907267ab9a6d08",
       "version_major": 2,
       "version_minor": 0
      },
      "text/plain": [
       "Testing: 0it [00:00, ?it/s]"
      ]
     },
     "metadata": {},
     "output_type": "display_data"
    },
    {
     "name": "stderr",
     "output_type": "stream",
     "text": [
      "Multiprocessing is handled by SLURM.\n",
      "GPU available: False, used: False\n",
      "TPU available: False, using: 0 TPU cores\n",
      "IPU available: False, using: 0 IPUs\n",
      "HPU available: False, using: 0 HPUs\n",
      "\n",
      "  | Name        | Type             | Params\n",
      "-------------------------------------------------\n",
      "0 | T           | CustomSequential | 10.5 K\n",
      "1 | energy_loss | Mine             | 10.5 K\n",
      "-------------------------------------------------\n",
      "10.5 K    Trainable params\n",
      "0         Non-trainable params\n",
      "10.5 K    Total params\n",
      "0.042     Total estimated model params size (MB)\n",
      "SLURM auto-requeueing enabled. Setting signal handlers.\n"
     ]
    },
    {
     "data": {
      "application/vnd.jupyter.widget-view+json": {
       "model_id": "a86f7e60a6d14ae8b625918b81174d23",
       "version_major": 2,
       "version_minor": 0
      },
      "text/plain": [
       "Training: 0it [00:00, ?it/s]"
      ]
     },
     "metadata": {},
     "output_type": "display_data"
    },
    {
     "name": "stderr",
     "output_type": "stream",
     "text": [
      "`Trainer.fit` stopped: `max_epochs=50` reached.\n",
      "Restoring states from the checkpoint path at /home/dpiras/MI/notebooks/comparisons/lightning_logs/version_455820/checkpoints/epoch=49-step=300-v47.ckpt\n",
      "Loaded model weights from checkpoint at /home/dpiras/MI/notebooks/comparisons/lightning_logs/version_455820/checkpoints/epoch=49-step=300-v47.ckpt\n"
     ]
    },
    {
     "data": {
      "application/vnd.jupyter.widget-view+json": {
       "model_id": "18d84d136b6b45968c2e19c0427f8d90",
       "version_major": 2,
       "version_minor": 0
      },
      "text/plain": [
       "Testing: 0it [00:00, ?it/s]"
      ]
     },
     "metadata": {},
     "output_type": "display_data"
    },
    {
     "name": "stderr",
     "output_type": "stream",
     "text": [
      "Multiprocessing is handled by SLURM.\n",
      "GPU available: False, used: False\n",
      "TPU available: False, using: 0 TPU cores\n",
      "IPU available: False, using: 0 IPUs\n",
      "HPU available: False, using: 0 HPUs\n",
      "\n",
      "  | Name        | Type             | Params\n",
      "-------------------------------------------------\n",
      "0 | T           | CustomSequential | 10.5 K\n",
      "1 | energy_loss | Mine             | 10.5 K\n",
      "-------------------------------------------------\n",
      "10.5 K    Trainable params\n",
      "0         Non-trainable params\n",
      "10.5 K    Total params\n",
      "0.042     Total estimated model params size (MB)\n",
      "SLURM auto-requeueing enabled. Setting signal handlers.\n"
     ]
    },
    {
     "data": {
      "application/vnd.jupyter.widget-view+json": {
       "model_id": "97583a3a421043a6a344d3f476232b37",
       "version_major": 2,
       "version_minor": 0
      },
      "text/plain": [
       "Training: 0it [00:00, ?it/s]"
      ]
     },
     "metadata": {},
     "output_type": "display_data"
    },
    {
     "name": "stderr",
     "output_type": "stream",
     "text": [
      "`Trainer.fit` stopped: `max_epochs=50` reached.\n",
      "Restoring states from the checkpoint path at /home/dpiras/MI/notebooks/comparisons/lightning_logs/version_455820/checkpoints/epoch=49-step=300-v48.ckpt\n",
      "Loaded model weights from checkpoint at /home/dpiras/MI/notebooks/comparisons/lightning_logs/version_455820/checkpoints/epoch=49-step=300-v48.ckpt\n"
     ]
    },
    {
     "data": {
      "application/vnd.jupyter.widget-view+json": {
       "model_id": "e8274475307b4e3cb13a360082fbe479",
       "version_major": 2,
       "version_minor": 0
      },
      "text/plain": [
       "Testing: 0it [00:00, ?it/s]"
      ]
     },
     "metadata": {},
     "output_type": "display_data"
    },
    {
     "name": "stderr",
     "output_type": "stream",
     "text": [
      "Multiprocessing is handled by SLURM.\n",
      "GPU available: False, used: False\n",
      "TPU available: False, using: 0 TPU cores\n",
      "IPU available: False, using: 0 IPUs\n",
      "HPU available: False, using: 0 HPUs\n",
      "\n",
      "  | Name        | Type             | Params\n",
      "-------------------------------------------------\n",
      "0 | T           | CustomSequential | 10.5 K\n",
      "1 | energy_loss | Mine             | 10.5 K\n",
      "-------------------------------------------------\n",
      "10.5 K    Trainable params\n",
      "0         Non-trainable params\n",
      "10.5 K    Total params\n",
      "0.042     Total estimated model params size (MB)\n",
      "SLURM auto-requeueing enabled. Setting signal handlers.\n"
     ]
    },
    {
     "data": {
      "application/vnd.jupyter.widget-view+json": {
       "model_id": "96b27ae8c82f43b89840dc14b4f05310",
       "version_major": 2,
       "version_minor": 0
      },
      "text/plain": [
       "Training: 0it [00:00, ?it/s]"
      ]
     },
     "metadata": {},
     "output_type": "display_data"
    },
    {
     "name": "stderr",
     "output_type": "stream",
     "text": [
      "`Trainer.fit` stopped: `max_epochs=50` reached.\n",
      "Restoring states from the checkpoint path at /home/dpiras/MI/notebooks/comparisons/lightning_logs/version_455820/checkpoints/epoch=49-step=300-v49.ckpt\n",
      "Loaded model weights from checkpoint at /home/dpiras/MI/notebooks/comparisons/lightning_logs/version_455820/checkpoints/epoch=49-step=300-v49.ckpt\n"
     ]
    },
    {
     "data": {
      "application/vnd.jupyter.widget-view+json": {
       "model_id": "c7ceb1a92db848588c65cd3f2b0adcb5",
       "version_major": 2,
       "version_minor": 0
      },
      "text/plain": [
       "Testing: 0it [00:00, ?it/s]"
      ]
     },
     "metadata": {},
     "output_type": "display_data"
    },
    {
     "name": "stderr",
     "output_type": "stream",
     "text": [
      "Multiprocessing is handled by SLURM.\n",
      "GPU available: False, used: False\n",
      "TPU available: False, using: 0 TPU cores\n",
      "IPU available: False, using: 0 IPUs\n",
      "HPU available: False, using: 0 HPUs\n",
      "\n",
      "  | Name        | Type             | Params\n",
      "-------------------------------------------------\n",
      "0 | T           | CustomSequential | 10.5 K\n",
      "1 | energy_loss | Mine             | 10.5 K\n",
      "-------------------------------------------------\n",
      "10.5 K    Trainable params\n",
      "0         Non-trainable params\n",
      "10.5 K    Total params\n",
      "0.042     Total estimated model params size (MB)\n",
      "SLURM auto-requeueing enabled. Setting signal handlers.\n"
     ]
    },
    {
     "data": {
      "application/vnd.jupyter.widget-view+json": {
       "model_id": "a2a1c2e503134a96b64dafa38adfdfa2",
       "version_major": 2,
       "version_minor": 0
      },
      "text/plain": [
       "Training: 0it [00:00, ?it/s]"
      ]
     },
     "metadata": {},
     "output_type": "display_data"
    },
    {
     "name": "stderr",
     "output_type": "stream",
     "text": [
      "`Trainer.fit` stopped: `max_epochs=50` reached.\n",
      "Restoring states from the checkpoint path at /home/dpiras/MI/notebooks/comparisons/lightning_logs/version_455820/checkpoints/epoch=49-step=300-v50.ckpt\n",
      "Loaded model weights from checkpoint at /home/dpiras/MI/notebooks/comparisons/lightning_logs/version_455820/checkpoints/epoch=49-step=300-v50.ckpt\n"
     ]
    },
    {
     "data": {
      "application/vnd.jupyter.widget-view+json": {
       "model_id": "183a41eded644dd3a89dfc755ac2558b",
       "version_major": 2,
       "version_minor": 0
      },
      "text/plain": [
       "Testing: 0it [00:00, ?it/s]"
      ]
     },
     "metadata": {},
     "output_type": "display_data"
    },
    {
     "name": "stderr",
     "output_type": "stream",
     "text": [
      "Multiprocessing is handled by SLURM.\n",
      "GPU available: False, used: False\n",
      "TPU available: False, using: 0 TPU cores\n",
      "IPU available: False, using: 0 IPUs\n",
      "HPU available: False, using: 0 HPUs\n",
      "\n",
      "  | Name        | Type             | Params\n",
      "-------------------------------------------------\n",
      "0 | T           | CustomSequential | 10.5 K\n",
      "1 | energy_loss | Mine             | 10.5 K\n",
      "-------------------------------------------------\n",
      "10.5 K    Trainable params\n",
      "0         Non-trainable params\n",
      "10.5 K    Total params\n",
      "0.042     Total estimated model params size (MB)\n",
      "SLURM auto-requeueing enabled. Setting signal handlers.\n"
     ]
    },
    {
     "data": {
      "application/vnd.jupyter.widget-view+json": {
       "model_id": "a2f8d7ea35e8478e8ebbf6df939e8df1",
       "version_major": 2,
       "version_minor": 0
      },
      "text/plain": [
       "Training: 0it [00:00, ?it/s]"
      ]
     },
     "metadata": {},
     "output_type": "display_data"
    },
    {
     "name": "stderr",
     "output_type": "stream",
     "text": [
      "`Trainer.fit` stopped: `max_epochs=50` reached.\n",
      "Restoring states from the checkpoint path at /home/dpiras/MI/notebooks/comparisons/lightning_logs/version_455820/checkpoints/epoch=49-step=300-v51.ckpt\n",
      "Loaded model weights from checkpoint at /home/dpiras/MI/notebooks/comparisons/lightning_logs/version_455820/checkpoints/epoch=49-step=300-v51.ckpt\n"
     ]
    },
    {
     "data": {
      "application/vnd.jupyter.widget-view+json": {
       "model_id": "e8cc7df13b8e4feba998b5b79d921388",
       "version_major": 2,
       "version_minor": 0
      },
      "text/plain": [
       "Testing: 0it [00:00, ?it/s]"
      ]
     },
     "metadata": {},
     "output_type": "display_data"
    },
    {
     "name": "stderr",
     "output_type": "stream",
     "text": [
      "Multiprocessing is handled by SLURM.\n",
      "GPU available: False, used: False\n",
      "TPU available: False, using: 0 TPU cores\n",
      "IPU available: False, using: 0 IPUs\n",
      "HPU available: False, using: 0 HPUs\n",
      "\n",
      "  | Name        | Type             | Params\n",
      "-------------------------------------------------\n",
      "0 | T           | CustomSequential | 10.5 K\n",
      "1 | energy_loss | Mine             | 10.5 K\n",
      "-------------------------------------------------\n",
      "10.5 K    Trainable params\n",
      "0         Non-trainable params\n",
      "10.5 K    Total params\n",
      "0.042     Total estimated model params size (MB)\n",
      "SLURM auto-requeueing enabled. Setting signal handlers.\n"
     ]
    },
    {
     "data": {
      "application/vnd.jupyter.widget-view+json": {
       "model_id": "405c05a5ba6e47c4a3fd2e0fb86146fb",
       "version_major": 2,
       "version_minor": 0
      },
      "text/plain": [
       "Training: 0it [00:00, ?it/s]"
      ]
     },
     "metadata": {},
     "output_type": "display_data"
    },
    {
     "name": "stderr",
     "output_type": "stream",
     "text": [
      "`Trainer.fit` stopped: `max_epochs=50` reached.\n",
      "Restoring states from the checkpoint path at /home/dpiras/MI/notebooks/comparisons/lightning_logs/version_455820/checkpoints/epoch=49-step=300-v52.ckpt\n",
      "Loaded model weights from checkpoint at /home/dpiras/MI/notebooks/comparisons/lightning_logs/version_455820/checkpoints/epoch=49-step=300-v52.ckpt\n"
     ]
    },
    {
     "data": {
      "application/vnd.jupyter.widget-view+json": {
       "model_id": "06f0936168e04b15a8e8bbaef411bdd3",
       "version_major": 2,
       "version_minor": 0
      },
      "text/plain": [
       "Testing: 0it [00:00, ?it/s]"
      ]
     },
     "metadata": {},
     "output_type": "display_data"
    },
    {
     "name": "stderr",
     "output_type": "stream",
     "text": [
      "Multiprocessing is handled by SLURM.\n",
      "GPU available: False, used: False\n",
      "TPU available: False, using: 0 TPU cores\n",
      "IPU available: False, using: 0 IPUs\n",
      "HPU available: False, using: 0 HPUs\n",
      "\n",
      "  | Name        | Type             | Params\n",
      "-------------------------------------------------\n",
      "0 | T           | CustomSequential | 10.5 K\n",
      "1 | energy_loss | Mine             | 10.5 K\n",
      "-------------------------------------------------\n",
      "10.5 K    Trainable params\n",
      "0         Non-trainable params\n",
      "10.5 K    Total params\n",
      "0.042     Total estimated model params size (MB)\n",
      "SLURM auto-requeueing enabled. Setting signal handlers.\n"
     ]
    },
    {
     "data": {
      "application/vnd.jupyter.widget-view+json": {
       "model_id": "de5aca3ecf144838af3c61b53b69e579",
       "version_major": 2,
       "version_minor": 0
      },
      "text/plain": [
       "Training: 0it [00:00, ?it/s]"
      ]
     },
     "metadata": {},
     "output_type": "display_data"
    },
    {
     "name": "stderr",
     "output_type": "stream",
     "text": [
      "`Trainer.fit` stopped: `max_epochs=50` reached.\n",
      "Restoring states from the checkpoint path at /home/dpiras/MI/notebooks/comparisons/lightning_logs/version_455820/checkpoints/epoch=49-step=300-v53.ckpt\n",
      "Loaded model weights from checkpoint at /home/dpiras/MI/notebooks/comparisons/lightning_logs/version_455820/checkpoints/epoch=49-step=300-v53.ckpt\n"
     ]
    },
    {
     "data": {
      "application/vnd.jupyter.widget-view+json": {
       "model_id": "4e49a73c6a964cffb0dc853b30f0ff45",
       "version_major": 2,
       "version_minor": 0
      },
      "text/plain": [
       "Testing: 0it [00:00, ?it/s]"
      ]
     },
     "metadata": {},
     "output_type": "display_data"
    },
    {
     "name": "stderr",
     "output_type": "stream",
     "text": [
      "Multiprocessing is handled by SLURM.\n",
      "GPU available: False, used: False\n",
      "TPU available: False, using: 0 TPU cores\n",
      "IPU available: False, using: 0 IPUs\n",
      "HPU available: False, using: 0 HPUs\n",
      "\n",
      "  | Name        | Type             | Params\n",
      "-------------------------------------------------\n",
      "0 | T           | CustomSequential | 10.5 K\n",
      "1 | energy_loss | Mine             | 10.5 K\n",
      "-------------------------------------------------\n",
      "10.5 K    Trainable params\n",
      "0         Non-trainable params\n",
      "10.5 K    Total params\n",
      "0.042     Total estimated model params size (MB)\n",
      "SLURM auto-requeueing enabled. Setting signal handlers.\n"
     ]
    },
    {
     "data": {
      "application/vnd.jupyter.widget-view+json": {
       "model_id": "5302bde3752049a38e8f1ebeb7205d48",
       "version_major": 2,
       "version_minor": 0
      },
      "text/plain": [
       "Training: 0it [00:00, ?it/s]"
      ]
     },
     "metadata": {},
     "output_type": "display_data"
    },
    {
     "name": "stderr",
     "output_type": "stream",
     "text": [
      "`Trainer.fit` stopped: `max_epochs=50` reached.\n",
      "Restoring states from the checkpoint path at /home/dpiras/MI/notebooks/comparisons/lightning_logs/version_455820/checkpoints/epoch=49-step=300-v54.ckpt\n",
      "Loaded model weights from checkpoint at /home/dpiras/MI/notebooks/comparisons/lightning_logs/version_455820/checkpoints/epoch=49-step=300-v54.ckpt\n"
     ]
    },
    {
     "data": {
      "application/vnd.jupyter.widget-view+json": {
       "model_id": "1fb53dd7283f4896a3e1ddd91445aceb",
       "version_major": 2,
       "version_minor": 0
      },
      "text/plain": [
       "Testing: 0it [00:00, ?it/s]"
      ]
     },
     "metadata": {},
     "output_type": "display_data"
    },
    {
     "name": "stderr",
     "output_type": "stream",
     "text": [
      "Multiprocessing is handled by SLURM.\n",
      "GPU available: False, used: False\n",
      "TPU available: False, using: 0 TPU cores\n",
      "IPU available: False, using: 0 IPUs\n",
      "HPU available: False, using: 0 HPUs\n",
      "\n",
      "  | Name        | Type             | Params\n",
      "-------------------------------------------------\n",
      "0 | T           | CustomSequential | 10.5 K\n",
      "1 | energy_loss | Mine             | 10.5 K\n",
      "-------------------------------------------------\n",
      "10.5 K    Trainable params\n",
      "0         Non-trainable params\n",
      "10.5 K    Total params\n",
      "0.042     Total estimated model params size (MB)\n",
      "SLURM auto-requeueing enabled. Setting signal handlers.\n"
     ]
    },
    {
     "data": {
      "application/vnd.jupyter.widget-view+json": {
       "model_id": "006eff65c62d4f0fac2623b9975771db",
       "version_major": 2,
       "version_minor": 0
      },
      "text/plain": [
       "Training: 0it [00:00, ?it/s]"
      ]
     },
     "metadata": {},
     "output_type": "display_data"
    },
    {
     "name": "stderr",
     "output_type": "stream",
     "text": [
      "`Trainer.fit` stopped: `max_epochs=50` reached.\n",
      "Restoring states from the checkpoint path at /home/dpiras/MI/notebooks/comparisons/lightning_logs/version_455820/checkpoints/epoch=49-step=300-v55.ckpt\n",
      "Loaded model weights from checkpoint at /home/dpiras/MI/notebooks/comparisons/lightning_logs/version_455820/checkpoints/epoch=49-step=300-v55.ckpt\n"
     ]
    },
    {
     "data": {
      "application/vnd.jupyter.widget-view+json": {
       "model_id": "b75cdcc05c0844f3ad1fd6b3f0c85e49",
       "version_major": 2,
       "version_minor": 0
      },
      "text/plain": [
       "Testing: 0it [00:00, ?it/s]"
      ]
     },
     "metadata": {},
     "output_type": "display_data"
    },
    {
     "name": "stderr",
     "output_type": "stream",
     "text": [
      "Multiprocessing is handled by SLURM.\n",
      "GPU available: False, used: False\n",
      "TPU available: False, using: 0 TPU cores\n",
      "IPU available: False, using: 0 IPUs\n",
      "HPU available: False, using: 0 HPUs\n",
      "\n",
      "  | Name        | Type             | Params\n",
      "-------------------------------------------------\n",
      "0 | T           | CustomSequential | 10.5 K\n",
      "1 | energy_loss | Mine             | 10.5 K\n",
      "-------------------------------------------------\n",
      "10.5 K    Trainable params\n",
      "0         Non-trainable params\n",
      "10.5 K    Total params\n",
      "0.042     Total estimated model params size (MB)\n",
      "SLURM auto-requeueing enabled. Setting signal handlers.\n"
     ]
    },
    {
     "data": {
      "application/vnd.jupyter.widget-view+json": {
       "model_id": "025e7f1dcd2240d79c784e6abae2d7b0",
       "version_major": 2,
       "version_minor": 0
      },
      "text/plain": [
       "Training: 0it [00:00, ?it/s]"
      ]
     },
     "metadata": {},
     "output_type": "display_data"
    },
    {
     "name": "stderr",
     "output_type": "stream",
     "text": [
      "`Trainer.fit` stopped: `max_epochs=50` reached.\n",
      "Restoring states from the checkpoint path at /home/dpiras/MI/notebooks/comparisons/lightning_logs/version_455820/checkpoints/epoch=49-step=300-v56.ckpt\n",
      "Loaded model weights from checkpoint at /home/dpiras/MI/notebooks/comparisons/lightning_logs/version_455820/checkpoints/epoch=49-step=300-v56.ckpt\n"
     ]
    },
    {
     "data": {
      "application/vnd.jupyter.widget-view+json": {
       "model_id": "32ff459b31fb48fcb4a682b17547335c",
       "version_major": 2,
       "version_minor": 0
      },
      "text/plain": [
       "Testing: 0it [00:00, ?it/s]"
      ]
     },
     "metadata": {},
     "output_type": "display_data"
    },
    {
     "name": "stderr",
     "output_type": "stream",
     "text": [
      "Multiprocessing is handled by SLURM.\n",
      "GPU available: False, used: False\n",
      "TPU available: False, using: 0 TPU cores\n",
      "IPU available: False, using: 0 IPUs\n",
      "HPU available: False, using: 0 HPUs\n",
      "\n",
      "  | Name        | Type             | Params\n",
      "-------------------------------------------------\n",
      "0 | T           | CustomSequential | 10.5 K\n",
      "1 | energy_loss | Mine             | 10.5 K\n",
      "-------------------------------------------------\n",
      "10.5 K    Trainable params\n",
      "0         Non-trainable params\n",
      "10.5 K    Total params\n",
      "0.042     Total estimated model params size (MB)\n",
      "SLURM auto-requeueing enabled. Setting signal handlers.\n"
     ]
    },
    {
     "data": {
      "application/vnd.jupyter.widget-view+json": {
       "model_id": "74dd25c532ef46b2b3c90bd5556cb411",
       "version_major": 2,
       "version_minor": 0
      },
      "text/plain": [
       "Training: 0it [00:00, ?it/s]"
      ]
     },
     "metadata": {},
     "output_type": "display_data"
    },
    {
     "name": "stderr",
     "output_type": "stream",
     "text": [
      "`Trainer.fit` stopped: `max_epochs=50` reached.\n",
      "Restoring states from the checkpoint path at /home/dpiras/MI/notebooks/comparisons/lightning_logs/version_455820/checkpoints/epoch=49-step=300-v57.ckpt\n",
      "Loaded model weights from checkpoint at /home/dpiras/MI/notebooks/comparisons/lightning_logs/version_455820/checkpoints/epoch=49-step=300-v57.ckpt\n"
     ]
    },
    {
     "data": {
      "application/vnd.jupyter.widget-view+json": {
       "model_id": "24bcd17006724abd93dfb1e71113a0c9",
       "version_major": 2,
       "version_minor": 0
      },
      "text/plain": [
       "Testing: 0it [00:00, ?it/s]"
      ]
     },
     "metadata": {},
     "output_type": "display_data"
    },
    {
     "name": "stderr",
     "output_type": "stream",
     "text": [
      "Multiprocessing is handled by SLURM.\n",
      "GPU available: False, used: False\n",
      "TPU available: False, using: 0 TPU cores\n",
      "IPU available: False, using: 0 IPUs\n",
      "HPU available: False, using: 0 HPUs\n",
      "\n",
      "  | Name        | Type             | Params\n",
      "-------------------------------------------------\n",
      "0 | T           | CustomSequential | 10.5 K\n",
      "1 | energy_loss | Mine             | 10.5 K\n",
      "-------------------------------------------------\n",
      "10.5 K    Trainable params\n",
      "0         Non-trainable params\n",
      "10.5 K    Total params\n",
      "0.042     Total estimated model params size (MB)\n",
      "SLURM auto-requeueing enabled. Setting signal handlers.\n"
     ]
    },
    {
     "data": {
      "application/vnd.jupyter.widget-view+json": {
       "model_id": "81b5505162d64b7fa852893f6010d84d",
       "version_major": 2,
       "version_minor": 0
      },
      "text/plain": [
       "Training: 0it [00:00, ?it/s]"
      ]
     },
     "metadata": {},
     "output_type": "display_data"
    },
    {
     "name": "stderr",
     "output_type": "stream",
     "text": [
      "`Trainer.fit` stopped: `max_epochs=50` reached.\n",
      "Restoring states from the checkpoint path at /home/dpiras/MI/notebooks/comparisons/lightning_logs/version_455820/checkpoints/epoch=49-step=300-v58.ckpt\n",
      "Loaded model weights from checkpoint at /home/dpiras/MI/notebooks/comparisons/lightning_logs/version_455820/checkpoints/epoch=49-step=300-v58.ckpt\n"
     ]
    },
    {
     "data": {
      "application/vnd.jupyter.widget-view+json": {
       "model_id": "ff0b4fb5ea894d039d15ee339640d702",
       "version_major": 2,
       "version_minor": 0
      },
      "text/plain": [
       "Testing: 0it [00:00, ?it/s]"
      ]
     },
     "metadata": {},
     "output_type": "display_data"
    },
    {
     "name": "stderr",
     "output_type": "stream",
     "text": [
      "Multiprocessing is handled by SLURM.\n",
      "GPU available: False, used: False\n",
      "TPU available: False, using: 0 TPU cores\n",
      "IPU available: False, using: 0 IPUs\n",
      "HPU available: False, using: 0 HPUs\n",
      "\n",
      "  | Name        | Type             | Params\n",
      "-------------------------------------------------\n",
      "0 | T           | CustomSequential | 10.5 K\n",
      "1 | energy_loss | Mine             | 10.5 K\n",
      "-------------------------------------------------\n",
      "10.5 K    Trainable params\n",
      "0         Non-trainable params\n",
      "10.5 K    Total params\n",
      "0.042     Total estimated model params size (MB)\n",
      "SLURM auto-requeueing enabled. Setting signal handlers.\n"
     ]
    },
    {
     "data": {
      "application/vnd.jupyter.widget-view+json": {
       "model_id": "b99b3d016c19436aaf3a6407b7353fa5",
       "version_major": 2,
       "version_minor": 0
      },
      "text/plain": [
       "Training: 0it [00:00, ?it/s]"
      ]
     },
     "metadata": {},
     "output_type": "display_data"
    },
    {
     "name": "stderr",
     "output_type": "stream",
     "text": [
      "`Trainer.fit` stopped: `max_epochs=50` reached.\n",
      "Restoring states from the checkpoint path at /home/dpiras/MI/notebooks/comparisons/lightning_logs/version_455820/checkpoints/epoch=49-step=300-v59.ckpt\n",
      "Loaded model weights from checkpoint at /home/dpiras/MI/notebooks/comparisons/lightning_logs/version_455820/checkpoints/epoch=49-step=300-v59.ckpt\n"
     ]
    },
    {
     "data": {
      "application/vnd.jupyter.widget-view+json": {
       "model_id": "56ed1bbc18784003853ddc47dae580f8",
       "version_major": 2,
       "version_minor": 0
      },
      "text/plain": [
       "Testing: 0it [00:00, ?it/s]"
      ]
     },
     "metadata": {},
     "output_type": "display_data"
    },
    {
     "name": "stdout",
     "output_type": "stream",
     "text": [
      "Total time for MINE: 56.046 s\n"
     ]
    }
   ],
   "source": [
    "mine_estimates = []\n",
    "\n",
    "dim = 1\n",
    "lr = 1e-3\n",
    "epochs = 50\n",
    "batch_size = 32\n",
    "loss_type = ['mine']  # mine, mine_biased, fdiv\n",
    "loss = loss_type[0]\n",
    "\n",
    "initial_time = time.time()\n",
    "\n",
    "for rho in rhos:\n",
    "    C0 = [[1, rho], [rho, 1]]\n",
    "    covariances = np.array([C0])\n",
    "    gmm_true = GMM(n_components=n_components, weights_init=weights, \n",
    "                   means_init=means, covariances_init=covariances, random_state=random_state)\n",
    "    X = gmm_true.sample(N)[0]\n",
    "\n",
    "    N = X.shape[0]\n",
    "    train_size = int(0.9 * N)\n",
    "    test_size = N - train_size\n",
    "\n",
    "    train_set, test_set = train_test_split(X, test_size=0.1, random_state=42)\n",
    "\n",
    "    tensor_x = torch.Tensor(train_set[:, :1]) # transform to torch tensor\n",
    "    tensor_y = torch.Tensor(train_set[:, 1:]) # transform to torch tensor\n",
    "    my_dataset = TensorDataset(tensor_x,tensor_y)\n",
    "    train_loader = torch.utils.data.DataLoader(my_dataset, batch_size=batch_size, shuffle=True)\n",
    "\n",
    "    tensor_x = torch.Tensor(test_set[:, :1]) # transform to torch tensor\n",
    "    tensor_y = torch.Tensor(test_set[:, 1:]) # transform to torch tensor\n",
    "    my_dataset = TensorDataset(tensor_x,tensor_y)\n",
    "    test_loader = torch.utils.data.DataLoader(my_dataset, batch_size=batch_size, shuffle=True)\n",
    "\n",
    "    kwargs = {\n",
    "        'lr': lr,\n",
    "        'batch_size': batch_size,\n",
    "        'train_loader': train_loader,\n",
    "        'test_loader': test_loader,\n",
    "        'alpha': 1.\n",
    "    }\n",
    "\n",
    "    model = MutualInformationEstimator(\n",
    "        dim, dim, loss=loss, **kwargs).to(device)\n",
    "    \n",
    "    trainer = Trainer(max_epochs=epochs)\n",
    "    trainer.fit(model)\n",
    "    trainer.test()\n",
    "\n",
    "    mine_estimates.append(model.avg_test_mi)\n",
    "\n",
    "mine_time = time.time()-initial_time    \n",
    "    \n",
    "print(f'Total time for MINE: {mine_time:.3f} s')"
   ]
  },
  {
   "cell_type": "markdown",
   "id": "71e5944d",
   "metadata": {},
   "source": [
    "### GMM-MI"
   ]
  },
  {
   "cell_type": "code",
   "execution_count": 5,
   "id": "1cae869a",
   "metadata": {},
   "outputs": [],
   "source": [
    "# all unspecified parameters are set to their default values\n",
    "\n",
    "# parameters for every GMM fit that is being run\n",
    "gmm_fit_params = GMMFitParamHolder(threshold_fit=1e-5,\n",
    "                                   reg_covar=1e-12)\n",
    "\n",
    "# parameters to choose the number of components\n",
    "select_components_params = SelectComponentsParamHolder(n_inits=3,\n",
    "                                                       n_folds=2)\n",
    "\n",
    "# parameters for MI distribution estimation\n",
    "mi_dist_params = MIDistParamHolder(n_bootstrap=100,\n",
    "                                   MC_samples=1e4)"
   ]
  },
  {
   "cell_type": "code",
   "execution_count": 6,
   "id": "407b768d",
   "metadata": {},
   "outputs": [
    {
     "name": "stderr",
     "output_type": "stream",
     "text": [
      "100%|██████████| 100/100 [00:00<00:00, 288.83it/s]\n",
      "100%|██████████| 100/100 [00:00<00:00, 293.73it/s]\n",
      "100%|██████████| 100/100 [00:00<00:00, 286.81it/s]\n",
      "100%|██████████| 100/100 [00:00<00:00, 290.65it/s]\n",
      "100%|██████████| 100/100 [00:00<00:00, 291.65it/s]\n",
      "100%|██████████| 100/100 [00:00<00:00, 284.58it/s]\n",
      "100%|██████████| 100/100 [00:00<00:00, 292.66it/s]\n",
      "100%|██████████| 100/100 [00:00<00:00, 293.19it/s]\n",
      "100%|██████████| 100/100 [00:00<00:00, 293.26it/s]\n",
      "100%|██████████| 100/100 [00:00<00:00, 292.38it/s]\n",
      "100%|██████████| 100/100 [00:00<00:00, 291.35it/s]\n",
      "100%|██████████| 100/100 [00:00<00:00, 293.67it/s]\n",
      "100%|██████████| 100/100 [00:00<00:00, 292.29it/s]\n",
      "100%|██████████| 100/100 [00:00<00:00, 292.11it/s]\n",
      "100%|██████████| 100/100 [00:00<00:00, 289.16it/s]\n",
      "100%|██████████| 100/100 [00:00<00:00, 290.84it/s]\n",
      "100%|██████████| 100/100 [00:00<00:00, 292.16it/s]\n",
      "100%|██████████| 100/100 [00:00<00:00, 292.70it/s]\n",
      "100%|██████████| 100/100 [00:00<00:00, 290.66it/s]\n",
      "100%|██████████| 100/100 [00:00<00:00, 288.13it/s]"
     ]
    },
    {
     "name": "stdout",
     "output_type": "stream",
     "text": [
      "Total time for GMM: 13.397 s\n"
     ]
    },
    {
     "name": "stderr",
     "output_type": "stream",
     "text": [
      "\n"
     ]
    }
   ],
   "source": [
    "all_MI_estimates = np.zeros((len(rhos), 2))\n",
    "\n",
    "initial_time = time.time()\n",
    "\n",
    "for r, rho in enumerate(rhos):\n",
    "    C0 = [[1, rho], [rho, 1]]\n",
    "    covariances = np.array([C0])\n",
    "    gmm_true = GMM(n_components=n_components, weights_init=weights, \n",
    "                   means_init=means, covariances_init=covariances, random_state=random_state)\n",
    "    X = gmm_true.sample(N)[0]\n",
    "\n",
    "    mi_estimator = EstimateMI(gmm_fit_params=gmm_fit_params,\n",
    "                              select_components_params=select_components_params,\n",
    "                              mi_dist_params=mi_dist_params)\n",
    "    MI_mean, MI_std = mi_estimator.fit(X)   \n",
    "\n",
    "    # store results\n",
    "    all_MI_estimates[r, 0] = MI_mean\n",
    "    all_MI_estimates[r, 1] = MI_std\n",
    "\n",
    "gmm_mi_time = time.time()-initial_time\n",
    "print(f'Total time for GMM: {gmm_mi_time:.3f} s')"
   ]
  },
  {
   "cell_type": "markdown",
   "id": "51c2b52e",
   "metadata": {},
   "source": [
    "### Plot results"
   ]
  },
  {
   "cell_type": "code",
   "execution_count": 7,
   "id": "e0b05a1c",
   "metadata": {},
   "outputs": [
    {
     "data": {
      "image/png": "[encoded data removed]",
      "text/plain": [
       "<Figure size 1200x700 with 1 Axes>"
      ]
     },
     "metadata": {},
     "output_type": "display_data"
    }
   ],
   "source": [
    "# let's plot the results\n",
    "fig, ax = plt.subplots(1, 1, figsize=(12, 7))\n",
    "\n",
    "sigmas = 2\n",
    "lw = 3\n",
    "\n",
    "ax.tick_params(axis='both', which='major', labelsize=22, size=10)\n",
    "ax.plot(rhos, knn_estimates, c='tomato', lw=lw, label=f'KSG ({ksg_time/len(rhos):.3f} s , single estimate)')\n",
    "ax.plot(rhos, mine_estimates, c='darkgreen', ls='-.', lw=lw, label=f'MINE ({mine_time/len(rhos):.1f} s, single estimate)')\n",
    "ax.plot(rhos, all_MI_estimates[:, 0], color='grey', alpha=0.8)\n",
    "ax.fill_between(rhos, all_MI_estimates[:, 0] - sigmas*all_MI_estimates[:, 1], \n",
    "                all_MI_estimates[:, 0]+sigmas*all_MI_estimates[:, 1], color='grey', \n",
    "                alpha=0.8, label=f'GMM-MI ({gmm_mi_time/len(rhos):.1f} s, full distribution)')\n",
    "ax.plot(rhos, analytic, ls='--', c='black', lw=lw, label='Ground truth')\n",
    "\n",
    "ax.legend(fontsize=25, frameon=False)\n",
    "        \n",
    "ax.set_xlabel(r'$\\rho$', fontsize=30)\n",
    "ax.set_ylabel('Mutual information [nat]', fontsize=25);\n",
    "\n",
    "plt.savefig('./figures/D1_comparison.pdf',  bbox_inches='tight');"
   ]
  },
  {
   "cell_type": "code",
   "execution_count": null,
   "id": "a4a63e2a",
   "metadata": {},
   "outputs": [],
   "source": []
  }
 ],
 "metadata": {
  "kernelspec": {
   "display_name": "Python 3 (ipykernel)",
   "language": "python",
   "name": "python3"
  },
  "language_info": {
   "codemirror_mode": {
    "name": "ipython",
    "version": 3
   },
   "file_extension": ".py",
   "mimetype": "text/x-python",
   "name": "python",
   "nbconvert_exporter": "python",
   "pygments_lexer": "ipython3",
   "version": "3.9.13"
  }
 },
 "nbformat": 4,
 "nbformat_minor": 5
}
