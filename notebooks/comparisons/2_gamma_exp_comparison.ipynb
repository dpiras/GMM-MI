{
 "cells": [
  {
   "cell_type": "markdown",
   "id": "89af4efe",
   "metadata": {},
   "source": [
    "In this notebook, we compare GMM-MI with the [KSG estimator](https://scikit-learn.org/stable/modules/generated/sklearn.feature_selection.mutual_info_regression.html) and the [MINE estimator](https://github.com/gtegner/mine-pytorch) on a gamma-exponential distribution with varying free parameter $\\alpha$. To run this notebook you would need to install the MINE package following the instructions in the repository; here we already cloned the repository for you and adapted the code to work with python 3.9, so that you only need to run:\n",
    "```\n",
    "cd mine-pytorch\n",
    "pip install -e .\n",
    "```\n",
    "Note the MINE results are not \"reproducible\", in the sense that the seed is not fixed."
   ]
  },
  {
   "cell_type": "markdown",
   "id": "593596a8",
   "metadata": {},
   "source": [
    "### Import packages"
   ]
  },
  {
   "cell_type": "code",
   "execution_count": 1,
   "id": "a981deba",
   "metadata": {},
   "outputs": [
    {
     "name": "stdout",
     "output_type": "stream",
     "text": [
      "Device: cpu\n"
     ]
    }
   ],
   "source": [
    "import numpy as np\n",
    "import time\n",
    "import matplotlib.pyplot as plt\n",
    "# GMM-MI\n",
    "from gmm_mi.mi import EstimateMI\n",
    "from gmm_mi.param_holders import GMMFitParamHolder, SelectComponentsParamHolder, MIDistParamHolder\n",
    "from gmm_mi.utils.analytic_MI import calculate_MI_gammaexp_analytical\n",
    "# KSG\n",
    "from sklearn.feature_selection import mutual_info_regression\n",
    "# MINE\n",
    "from sklearn.model_selection import train_test_split\n",
    "import torch\n",
    "from torch.utils.data import TensorDataset, DataLoader\n",
    "from mine.models.mine import MutualInformationEstimator\n",
    "from pytorch_lightning import Trainer\n",
    "import logging\n",
    "logging.getLogger().setLevel(logging.ERROR)\n",
    "device = 'cuda' if torch.cuda.is_available() else 'cpu'\n",
    "num_gpus = 1 if device=='cuda' else 0"
   ]
  },
  {
   "cell_type": "markdown",
   "id": "5143b6c8",
   "metadata": {},
   "source": [
    "### Calculate the true MI of the synthetic models"
   ]
  },
  {
   "cell_type": "code",
   "execution_count": 2,
   "id": "ba8a30a6",
   "metadata": {
    "scrolled": false
   },
   "outputs": [],
   "source": [
    "alphas = np.logspace(-1, 2, 20)\n",
    "N = int(2e2)\n",
    "# fix random state for stability across runs\n",
    "random_state = 30\n",
    "random_gen = np.random.default_rng(random_state)\n",
    "\n",
    "analytic = []\n",
    "for alpha in alphas:\n",
    "    analytic.append(calculate_MI_gammaexp_analytical(alpha))"
   ]
  },
  {
   "cell_type": "markdown",
   "id": "466a097a",
   "metadata": {},
   "source": [
    "### KSG"
   ]
  },
  {
   "cell_type": "code",
   "execution_count": 3,
   "id": "1b971bfb",
   "metadata": {},
   "outputs": [
    {
     "name": "stdout",
     "output_type": "stream",
     "text": [
      "Total time for KSG: 0.037 s\n"
     ]
    }
   ],
   "source": [
    "knn_estimates = []\n",
    "n_neighbors = 1 # keep minimum bias\n",
    "\n",
    "initial_time = time.time()\n",
    "\n",
    "for alpha in alphas:\n",
    "    x_samples = random_gen.gamma(alpha, 1, N)\n",
    "    # then for each x, we sample from an exp\n",
    "    y_samples = random_gen.exponential(scale = 1/x_samples)\n",
    "    X = np.stack((np.log(x_samples), np.log(y_samples)), axis=0).T\n",
    "    knn_estimates.append(mutual_info_regression(X[:, 0].reshape(-1, 1), X[:, 1], \n",
    "                                                n_neighbors=n_neighbors))\n",
    "\n",
    "ksg_time = time.time()-initial_time    \n",
    "    \n",
    "print(f'Total time for KSG: {ksg_time:.3f} s')"
   ]
  },
  {
   "cell_type": "markdown",
   "id": "a7e611b7",
   "metadata": {},
   "source": [
    "### MINE"
   ]
  },
  {
   "cell_type": "code",
   "execution_count": 4,
   "id": "1b157296",
   "metadata": {
    "scrolled": true
   },
   "outputs": [
    {
     "name": "stderr",
     "output_type": "stream",
     "text": [
      "Multiprocessing is handled by SLURM.\n",
      "GPU available: False, used: False\n",
      "TPU available: False, using: 0 TPU cores\n",
      "IPU available: False, using: 0 IPUs\n",
      "HPU available: False, using: 0 HPUs\n",
      "/home/dpiras/.conda/envs/MI/lib/python3.9/site-packages/pytorch_lightning/callbacks/model_checkpoint.py:616: UserWarning: Checkpoint directory /home/dpiras/MI/notebooks/comparisons/lightning_logs/version_498207/checkpoints exists and is not empty.\n",
      "  rank_zero_warn(f\"Checkpoint directory {dirpath} exists and is not empty.\")\n",
      "\n",
      "  | Name        | Type             | Params\n",
      "-------------------------------------------------\n",
      "0 | T           | CustomSequential | 10.5 K\n",
      "1 | energy_loss | Mine             | 10.5 K\n",
      "-------------------------------------------------\n",
      "10.5 K    Trainable params\n",
      "0         Non-trainable params\n",
      "10.5 K    Total params\n",
      "0.042     Total estimated model params size (MB)\n",
      "SLURM auto-requeueing enabled. Setting signal handlers.\n",
      "/home/dpiras/.conda/envs/MI/lib/python3.9/site-packages/pytorch_lightning/trainer/connectors/data_connector.py:236: PossibleUserWarning: The dataloader, train_dataloader, does not have many workers which may be a bottleneck. Consider increasing the value of the `num_workers` argument` (try 40 which is the number of cpus on this machine) in the `DataLoader` init to improve performance.\n",
      "  rank_zero_warn(\n",
      "/home/dpiras/.conda/envs/MI/lib/python3.9/site-packages/pytorch_lightning/trainer/trainer.py:1892: PossibleUserWarning: The number of training batches (6) is smaller than the logging interval Trainer(log_every_n_steps=50). Set a lower value for log_every_n_steps if you want to see logs for the training epoch.\n",
      "  rank_zero_warn(\n"
     ]
    },
    {
     "data": {
      "application/vnd.jupyter.widget-view+json": {
       "model_id": "2355796533dd4f55b3c89374a362229d",
       "version_major": 2,
       "version_minor": 0
      },
      "text/plain": [
       "Training: 0it [00:00, ?it/s]"
      ]
     },
     "metadata": {},
     "output_type": "display_data"
    },
    {
     "name": "stderr",
     "output_type": "stream",
     "text": [
      "`Trainer.fit` stopped: `max_epochs=50` reached.\n",
      "/home/dpiras/.conda/envs/MI/lib/python3.9/site-packages/pytorch_lightning/trainer/trainer.py:1386: UserWarning: `.test(ckpt_path=None)` was called without a model. The best model of the previous `fit` call will be used. You can pass `.test(ckpt_path='best')` to use the best model or `.test(ckpt_path='last')` to use the last model. If you pass a value, this warning will be silenced.\n",
      "  rank_zero_warn(\n",
      "Restoring states from the checkpoint path at /home/dpiras/MI/notebooks/comparisons/lightning_logs/version_498207/checkpoints/epoch=49-step=300-v51.ckpt\n",
      "Loaded model weights from checkpoint at /home/dpiras/MI/notebooks/comparisons/lightning_logs/version_498207/checkpoints/epoch=49-step=300-v51.ckpt\n",
      "/home/dpiras/.conda/envs/MI/lib/python3.9/site-packages/pytorch_lightning/trainer/connectors/data_connector.py:489: PossibleUserWarning: Your `test_dataloader`'s sampler has shuffling enabled, it is strongly recommended that you turn shuffling off for val/test/predict dataloaders.\n",
      "  rank_zero_warn(\n",
      "/home/dpiras/.conda/envs/MI/lib/python3.9/site-packages/pytorch_lightning/trainer/connectors/data_connector.py:236: PossibleUserWarning: The dataloader, test_dataloader 0, does not have many workers which may be a bottleneck. Consider increasing the value of the `num_workers` argument` (try 40 which is the number of cpus on this machine) in the `DataLoader` init to improve performance.\n",
      "  rank_zero_warn(\n"
     ]
    },
    {
     "data": {
      "application/vnd.jupyter.widget-view+json": {
       "model_id": "0efba00afde64427a40d19244e9f1879",
       "version_major": 2,
       "version_minor": 0
      },
      "text/plain": [
       "Testing: 0it [00:00, ?it/s]"
      ]
     },
     "metadata": {},
     "output_type": "display_data"
    },
    {
     "name": "stderr",
     "output_type": "stream",
     "text": [
      "Multiprocessing is handled by SLURM.\n",
      "GPU available: False, used: False\n",
      "TPU available: False, using: 0 TPU cores\n",
      "IPU available: False, using: 0 IPUs\n",
      "HPU available: False, using: 0 HPUs\n",
      "\n",
      "  | Name        | Type             | Params\n",
      "-------------------------------------------------\n",
      "0 | T           | CustomSequential | 10.5 K\n",
      "1 | energy_loss | Mine             | 10.5 K\n",
      "-------------------------------------------------\n",
      "10.5 K    Trainable params\n",
      "0         Non-trainable params\n",
      "10.5 K    Total params\n",
      "0.042     Total estimated model params size (MB)\n",
      "SLURM auto-requeueing enabled. Setting signal handlers.\n"
     ]
    },
    {
     "data": {
      "application/vnd.jupyter.widget-view+json": {
       "model_id": "a9cf01a4f49444ffac7b480c76dce279",
       "version_major": 2,
       "version_minor": 0
      },
      "text/plain": [
       "Training: 0it [00:00, ?it/s]"
      ]
     },
     "metadata": {},
     "output_type": "display_data"
    },
    {
     "name": "stderr",
     "output_type": "stream",
     "text": [
      "`Trainer.fit` stopped: `max_epochs=50` reached.\n",
      "Restoring states from the checkpoint path at /home/dpiras/MI/notebooks/comparisons/lightning_logs/version_498207/checkpoints/epoch=49-step=300-v52.ckpt\n",
      "Loaded model weights from checkpoint at /home/dpiras/MI/notebooks/comparisons/lightning_logs/version_498207/checkpoints/epoch=49-step=300-v52.ckpt\n"
     ]
    },
    {
     "data": {
      "application/vnd.jupyter.widget-view+json": {
       "model_id": "dc9067d599bb4559a87eff787c3ab1c2",
       "version_major": 2,
       "version_minor": 0
      },
      "text/plain": [
       "Testing: 0it [00:00, ?it/s]"
      ]
     },
     "metadata": {},
     "output_type": "display_data"
    },
    {
     "name": "stderr",
     "output_type": "stream",
     "text": [
      "Multiprocessing is handled by SLURM.\n",
      "GPU available: False, used: False\n",
      "TPU available: False, using: 0 TPU cores\n",
      "IPU available: False, using: 0 IPUs\n",
      "HPU available: False, using: 0 HPUs\n",
      "\n",
      "  | Name        | Type             | Params\n",
      "-------------------------------------------------\n",
      "0 | T           | CustomSequential | 10.5 K\n",
      "1 | energy_loss | Mine             | 10.5 K\n",
      "-------------------------------------------------\n",
      "10.5 K    Trainable params\n",
      "0         Non-trainable params\n",
      "10.5 K    Total params\n",
      "0.042     Total estimated model params size (MB)\n",
      "SLURM auto-requeueing enabled. Setting signal handlers.\n"
     ]
    },
    {
     "data": {
      "application/vnd.jupyter.widget-view+json": {
       "model_id": "3308f1498ae749fc8547e38d8e5c029c",
       "version_major": 2,
       "version_minor": 0
      },
      "text/plain": [
       "Training: 0it [00:00, ?it/s]"
      ]
     },
     "metadata": {},
     "output_type": "display_data"
    },
    {
     "name": "stderr",
     "output_type": "stream",
     "text": [
      "`Trainer.fit` stopped: `max_epochs=50` reached.\n",
      "Restoring states from the checkpoint path at /home/dpiras/MI/notebooks/comparisons/lightning_logs/version_498207/checkpoints/epoch=49-step=300-v53.ckpt\n",
      "Loaded model weights from checkpoint at /home/dpiras/MI/notebooks/comparisons/lightning_logs/version_498207/checkpoints/epoch=49-step=300-v53.ckpt\n"
     ]
    },
    {
     "data": {
      "application/vnd.jupyter.widget-view+json": {
       "model_id": "c4ce05d467ed4fed99a6d3894d94de67",
       "version_major": 2,
       "version_minor": 0
      },
      "text/plain": [
       "Testing: 0it [00:00, ?it/s]"
      ]
     },
     "metadata": {},
     "output_type": "display_data"
    },
    {
     "name": "stderr",
     "output_type": "stream",
     "text": [
      "Multiprocessing is handled by SLURM.\n",
      "GPU available: False, used: False\n",
      "TPU available: False, using: 0 TPU cores\n",
      "IPU available: False, using: 0 IPUs\n",
      "HPU available: False, using: 0 HPUs\n",
      "\n",
      "  | Name        | Type             | Params\n",
      "-------------------------------------------------\n",
      "0 | T           | CustomSequential | 10.5 K\n",
      "1 | energy_loss | Mine             | 10.5 K\n",
      "-------------------------------------------------\n",
      "10.5 K    Trainable params\n",
      "0         Non-trainable params\n",
      "10.5 K    Total params\n",
      "0.042     Total estimated model params size (MB)\n",
      "SLURM auto-requeueing enabled. Setting signal handlers.\n"
     ]
    },
    {
     "data": {
      "application/vnd.jupyter.widget-view+json": {
       "model_id": "b5119b2fe55a4d3e9b586db49cefe2a4",
       "version_major": 2,
       "version_minor": 0
      },
      "text/plain": [
       "Training: 0it [00:00, ?it/s]"
      ]
     },
     "metadata": {},
     "output_type": "display_data"
    },
    {
     "name": "stderr",
     "output_type": "stream",
     "text": [
      "`Trainer.fit` stopped: `max_epochs=50` reached.\n",
      "Restoring states from the checkpoint path at /home/dpiras/MI/notebooks/comparisons/lightning_logs/version_498207/checkpoints/epoch=49-step=300-v54.ckpt\n",
      "Loaded model weights from checkpoint at /home/dpiras/MI/notebooks/comparisons/lightning_logs/version_498207/checkpoints/epoch=49-step=300-v54.ckpt\n"
     ]
    },
    {
     "data": {
      "application/vnd.jupyter.widget-view+json": {
       "model_id": "4ca78072804848aea910642af2395272",
       "version_major": 2,
       "version_minor": 0
      },
      "text/plain": [
       "Testing: 0it [00:00, ?it/s]"
      ]
     },
     "metadata": {},
     "output_type": "display_data"
    },
    {
     "name": "stderr",
     "output_type": "stream",
     "text": [
      "Multiprocessing is handled by SLURM.\n",
      "GPU available: False, used: False\n",
      "TPU available: False, using: 0 TPU cores\n",
      "IPU available: False, using: 0 IPUs\n",
      "HPU available: False, using: 0 HPUs\n",
      "\n",
      "  | Name        | Type             | Params\n",
      "-------------------------------------------------\n",
      "0 | T           | CustomSequential | 10.5 K\n",
      "1 | energy_loss | Mine             | 10.5 K\n",
      "-------------------------------------------------\n",
      "10.5 K    Trainable params\n",
      "0         Non-trainable params\n",
      "10.5 K    Total params\n",
      "0.042     Total estimated model params size (MB)\n",
      "SLURM auto-requeueing enabled. Setting signal handlers.\n"
     ]
    },
    {
     "data": {
      "application/vnd.jupyter.widget-view+json": {
       "model_id": "67f81ebe65924a07973b2d735f395c47",
       "version_major": 2,
       "version_minor": 0
      },
      "text/plain": [
       "Training: 0it [00:00, ?it/s]"
      ]
     },
     "metadata": {},
     "output_type": "display_data"
    },
    {
     "name": "stderr",
     "output_type": "stream",
     "text": [
      "`Trainer.fit` stopped: `max_epochs=50` reached.\n",
      "Restoring states from the checkpoint path at /home/dpiras/MI/notebooks/comparisons/lightning_logs/version_498207/checkpoints/epoch=49-step=300-v55.ckpt\n",
      "Loaded model weights from checkpoint at /home/dpiras/MI/notebooks/comparisons/lightning_logs/version_498207/checkpoints/epoch=49-step=300-v55.ckpt\n"
     ]
    },
    {
     "data": {
      "application/vnd.jupyter.widget-view+json": {
       "model_id": "ee5dfa667e8f4744a6b20b4bd0deff19",
       "version_major": 2,
       "version_minor": 0
      },
      "text/plain": [
       "Testing: 0it [00:00, ?it/s]"
      ]
     },
     "metadata": {},
     "output_type": "display_data"
    },
    {
     "name": "stderr",
     "output_type": "stream",
     "text": [
      "Multiprocessing is handled by SLURM.\n",
      "GPU available: False, used: False\n",
      "TPU available: False, using: 0 TPU cores\n",
      "IPU available: False, using: 0 IPUs\n",
      "HPU available: False, using: 0 HPUs\n",
      "\n",
      "  | Name        | Type             | Params\n",
      "-------------------------------------------------\n",
      "0 | T           | CustomSequential | 10.5 K\n",
      "1 | energy_loss | Mine             | 10.5 K\n",
      "-------------------------------------------------\n",
      "10.5 K    Trainable params\n",
      "0         Non-trainable params\n",
      "10.5 K    Total params\n",
      "0.042     Total estimated model params size (MB)\n",
      "SLURM auto-requeueing enabled. Setting signal handlers.\n"
     ]
    },
    {
     "data": {
      "application/vnd.jupyter.widget-view+json": {
       "model_id": "12d13ae6f45f4a77b9fb021b4f8e7242",
       "version_major": 2,
       "version_minor": 0
      },
      "text/plain": [
       "Training: 0it [00:00, ?it/s]"
      ]
     },
     "metadata": {},
     "output_type": "display_data"
    },
    {
     "name": "stderr",
     "output_type": "stream",
     "text": [
      "`Trainer.fit` stopped: `max_epochs=50` reached.\n",
      "Restoring states from the checkpoint path at /home/dpiras/MI/notebooks/comparisons/lightning_logs/version_498207/checkpoints/epoch=49-step=300-v56.ckpt\n",
      "Loaded model weights from checkpoint at /home/dpiras/MI/notebooks/comparisons/lightning_logs/version_498207/checkpoints/epoch=49-step=300-v56.ckpt\n"
     ]
    },
    {
     "data": {
      "application/vnd.jupyter.widget-view+json": {
       "model_id": "7b43a4c00ed242f7892f528d9c9c461c",
       "version_major": 2,
       "version_minor": 0
      },
      "text/plain": [
       "Testing: 0it [00:00, ?it/s]"
      ]
     },
     "metadata": {},
     "output_type": "display_data"
    },
    {
     "name": "stderr",
     "output_type": "stream",
     "text": [
      "Multiprocessing is handled by SLURM.\n",
      "GPU available: False, used: False\n",
      "TPU available: False, using: 0 TPU cores\n",
      "IPU available: False, using: 0 IPUs\n",
      "HPU available: False, using: 0 HPUs\n",
      "\n",
      "  | Name        | Type             | Params\n",
      "-------------------------------------------------\n",
      "0 | T           | CustomSequential | 10.5 K\n",
      "1 | energy_loss | Mine             | 10.5 K\n",
      "-------------------------------------------------\n",
      "10.5 K    Trainable params\n",
      "0         Non-trainable params\n",
      "10.5 K    Total params\n",
      "0.042     Total estimated model params size (MB)\n",
      "SLURM auto-requeueing enabled. Setting signal handlers.\n"
     ]
    },
    {
     "data": {
      "application/vnd.jupyter.widget-view+json": {
       "model_id": "4c110c49461a40208605263d1b2caebc",
       "version_major": 2,
       "version_minor": 0
      },
      "text/plain": [
       "Training: 0it [00:00, ?it/s]"
      ]
     },
     "metadata": {},
     "output_type": "display_data"
    },
    {
     "name": "stderr",
     "output_type": "stream",
     "text": [
      "`Trainer.fit` stopped: `max_epochs=50` reached.\n",
      "Restoring states from the checkpoint path at /home/dpiras/MI/notebooks/comparisons/lightning_logs/version_498207/checkpoints/epoch=49-step=300-v57.ckpt\n",
      "Loaded model weights from checkpoint at /home/dpiras/MI/notebooks/comparisons/lightning_logs/version_498207/checkpoints/epoch=49-step=300-v57.ckpt\n"
     ]
    },
    {
     "data": {
      "application/vnd.jupyter.widget-view+json": {
       "model_id": "8aa2fb7785704affbcfab446133a3a79",
       "version_major": 2,
       "version_minor": 0
      },
      "text/plain": [
       "Testing: 0it [00:00, ?it/s]"
      ]
     },
     "metadata": {},
     "output_type": "display_data"
    },
    {
     "name": "stderr",
     "output_type": "stream",
     "text": [
      "Multiprocessing is handled by SLURM.\n",
      "GPU available: False, used: False\n",
      "TPU available: False, using: 0 TPU cores\n",
      "IPU available: False, using: 0 IPUs\n",
      "HPU available: False, using: 0 HPUs\n",
      "\n",
      "  | Name        | Type             | Params\n",
      "-------------------------------------------------\n",
      "0 | T           | CustomSequential | 10.5 K\n",
      "1 | energy_loss | Mine             | 10.5 K\n",
      "-------------------------------------------------\n",
      "10.5 K    Trainable params\n",
      "0         Non-trainable params\n",
      "10.5 K    Total params\n",
      "0.042     Total estimated model params size (MB)\n",
      "SLURM auto-requeueing enabled. Setting signal handlers.\n"
     ]
    },
    {
     "data": {
      "application/vnd.jupyter.widget-view+json": {
       "model_id": "9dafed9803834b6bb69f2eb2ba9043b8",
       "version_major": 2,
       "version_minor": 0
      },
      "text/plain": [
       "Training: 0it [00:00, ?it/s]"
      ]
     },
     "metadata": {},
     "output_type": "display_data"
    },
    {
     "name": "stderr",
     "output_type": "stream",
     "text": [
      "`Trainer.fit` stopped: `max_epochs=50` reached.\n",
      "Restoring states from the checkpoint path at /home/dpiras/MI/notebooks/comparisons/lightning_logs/version_498207/checkpoints/epoch=49-step=300-v58.ckpt\n",
      "Loaded model weights from checkpoint at /home/dpiras/MI/notebooks/comparisons/lightning_logs/version_498207/checkpoints/epoch=49-step=300-v58.ckpt\n"
     ]
    },
    {
     "data": {
      "application/vnd.jupyter.widget-view+json": {
       "model_id": "27e6bc3ef29640d4b963f8c32b0282b9",
       "version_major": 2,
       "version_minor": 0
      },
      "text/plain": [
       "Testing: 0it [00:00, ?it/s]"
      ]
     },
     "metadata": {},
     "output_type": "display_data"
    },
    {
     "name": "stderr",
     "output_type": "stream",
     "text": [
      "Multiprocessing is handled by SLURM.\n",
      "GPU available: False, used: False\n",
      "TPU available: False, using: 0 TPU cores\n",
      "IPU available: False, using: 0 IPUs\n",
      "HPU available: False, using: 0 HPUs\n",
      "\n",
      "  | Name        | Type             | Params\n",
      "-------------------------------------------------\n",
      "0 | T           | CustomSequential | 10.5 K\n",
      "1 | energy_loss | Mine             | 10.5 K\n",
      "-------------------------------------------------\n",
      "10.5 K    Trainable params\n",
      "0         Non-trainable params\n",
      "10.5 K    Total params\n",
      "0.042     Total estimated model params size (MB)\n",
      "SLURM auto-requeueing enabled. Setting signal handlers.\n"
     ]
    },
    {
     "data": {
      "application/vnd.jupyter.widget-view+json": {
       "model_id": "62c4d2fc726c43ed90c2ad43d3aa7cb3",
       "version_major": 2,
       "version_minor": 0
      },
      "text/plain": [
       "Training: 0it [00:00, ?it/s]"
      ]
     },
     "metadata": {},
     "output_type": "display_data"
    },
    {
     "name": "stderr",
     "output_type": "stream",
     "text": [
      "`Trainer.fit` stopped: `max_epochs=50` reached.\n",
      "Restoring states from the checkpoint path at /home/dpiras/MI/notebooks/comparisons/lightning_logs/version_498207/checkpoints/epoch=49-step=300-v59.ckpt\n",
      "Loaded model weights from checkpoint at /home/dpiras/MI/notebooks/comparisons/lightning_logs/version_498207/checkpoints/epoch=49-step=300-v59.ckpt\n"
     ]
    },
    {
     "data": {
      "application/vnd.jupyter.widget-view+json": {
       "model_id": "ac1bc8ff13504548aaa8fe8c61871cf2",
       "version_major": 2,
       "version_minor": 0
      },
      "text/plain": [
       "Testing: 0it [00:00, ?it/s]"
      ]
     },
     "metadata": {},
     "output_type": "display_data"
    },
    {
     "name": "stderr",
     "output_type": "stream",
     "text": [
      "Multiprocessing is handled by SLURM.\n",
      "GPU available: False, used: False\n",
      "TPU available: False, using: 0 TPU cores\n",
      "IPU available: False, using: 0 IPUs\n",
      "HPU available: False, using: 0 HPUs\n",
      "\n",
      "  | Name        | Type             | Params\n",
      "-------------------------------------------------\n",
      "0 | T           | CustomSequential | 10.5 K\n",
      "1 | energy_loss | Mine             | 10.5 K\n",
      "-------------------------------------------------\n",
      "10.5 K    Trainable params\n",
      "0         Non-trainable params\n",
      "10.5 K    Total params\n",
      "0.042     Total estimated model params size (MB)\n",
      "SLURM auto-requeueing enabled. Setting signal handlers.\n"
     ]
    },
    {
     "data": {
      "application/vnd.jupyter.widget-view+json": {
       "model_id": "80852f68681e44639e13d1c94dbd23db",
       "version_major": 2,
       "version_minor": 0
      },
      "text/plain": [
       "Training: 0it [00:00, ?it/s]"
      ]
     },
     "metadata": {},
     "output_type": "display_data"
    },
    {
     "name": "stderr",
     "output_type": "stream",
     "text": [
      "`Trainer.fit` stopped: `max_epochs=50` reached.\n",
      "Restoring states from the checkpoint path at /home/dpiras/MI/notebooks/comparisons/lightning_logs/version_498207/checkpoints/epoch=49-step=300-v60.ckpt\n",
      "Loaded model weights from checkpoint at /home/dpiras/MI/notebooks/comparisons/lightning_logs/version_498207/checkpoints/epoch=49-step=300-v60.ckpt\n"
     ]
    },
    {
     "data": {
      "application/vnd.jupyter.widget-view+json": {
       "model_id": "344bf43477944d9d93e1f7371b137e74",
       "version_major": 2,
       "version_minor": 0
      },
      "text/plain": [
       "Testing: 0it [00:00, ?it/s]"
      ]
     },
     "metadata": {},
     "output_type": "display_data"
    },
    {
     "name": "stderr",
     "output_type": "stream",
     "text": [
      "Multiprocessing is handled by SLURM.\n",
      "GPU available: False, used: False\n",
      "TPU available: False, using: 0 TPU cores\n",
      "IPU available: False, using: 0 IPUs\n",
      "HPU available: False, using: 0 HPUs\n",
      "\n",
      "  | Name        | Type             | Params\n",
      "-------------------------------------------------\n",
      "0 | T           | CustomSequential | 10.5 K\n",
      "1 | energy_loss | Mine             | 10.5 K\n",
      "-------------------------------------------------\n",
      "10.5 K    Trainable params\n",
      "0         Non-trainable params\n",
      "10.5 K    Total params\n",
      "0.042     Total estimated model params size (MB)\n",
      "SLURM auto-requeueing enabled. Setting signal handlers.\n"
     ]
    },
    {
     "data": {
      "application/vnd.jupyter.widget-view+json": {
       "model_id": "cb917aa7c7bb498995d1e6272f7af49a",
       "version_major": 2,
       "version_minor": 0
      },
      "text/plain": [
       "Training: 0it [00:00, ?it/s]"
      ]
     },
     "metadata": {},
     "output_type": "display_data"
    },
    {
     "name": "stderr",
     "output_type": "stream",
     "text": [
      "`Trainer.fit` stopped: `max_epochs=50` reached.\n",
      "Restoring states from the checkpoint path at /home/dpiras/MI/notebooks/comparisons/lightning_logs/version_498207/checkpoints/epoch=49-step=300-v61.ckpt\n",
      "Loaded model weights from checkpoint at /home/dpiras/MI/notebooks/comparisons/lightning_logs/version_498207/checkpoints/epoch=49-step=300-v61.ckpt\n"
     ]
    },
    {
     "data": {
      "application/vnd.jupyter.widget-view+json": {
       "model_id": "e5ff89301ef74e9c8c2d0e504ae453b8",
       "version_major": 2,
       "version_minor": 0
      },
      "text/plain": [
       "Testing: 0it [00:00, ?it/s]"
      ]
     },
     "metadata": {},
     "output_type": "display_data"
    },
    {
     "name": "stderr",
     "output_type": "stream",
     "text": [
      "Multiprocessing is handled by SLURM.\n",
      "GPU available: False, used: False\n",
      "TPU available: False, using: 0 TPU cores\n",
      "IPU available: False, using: 0 IPUs\n",
      "HPU available: False, using: 0 HPUs\n",
      "\n",
      "  | Name        | Type             | Params\n",
      "-------------------------------------------------\n",
      "0 | T           | CustomSequential | 10.5 K\n",
      "1 | energy_loss | Mine             | 10.5 K\n",
      "-------------------------------------------------\n",
      "10.5 K    Trainable params\n",
      "0         Non-trainable params\n",
      "10.5 K    Total params\n",
      "0.042     Total estimated model params size (MB)\n",
      "SLURM auto-requeueing enabled. Setting signal handlers.\n"
     ]
    },
    {
     "data": {
      "application/vnd.jupyter.widget-view+json": {
       "model_id": "d80349a2a76f47e58db49b3ccef7047e",
       "version_major": 2,
       "version_minor": 0
      },
      "text/plain": [
       "Training: 0it [00:00, ?it/s]"
      ]
     },
     "metadata": {},
     "output_type": "display_data"
    },
    {
     "name": "stderr",
     "output_type": "stream",
     "text": [
      "`Trainer.fit` stopped: `max_epochs=50` reached.\n",
      "Restoring states from the checkpoint path at /home/dpiras/MI/notebooks/comparisons/lightning_logs/version_498207/checkpoints/epoch=49-step=300-v62.ckpt\n",
      "Loaded model weights from checkpoint at /home/dpiras/MI/notebooks/comparisons/lightning_logs/version_498207/checkpoints/epoch=49-step=300-v62.ckpt\n"
     ]
    },
    {
     "data": {
      "application/vnd.jupyter.widget-view+json": {
       "model_id": "bdd07b8ac5c84ca0920338f30a98778a",
       "version_major": 2,
       "version_minor": 0
      },
      "text/plain": [
       "Testing: 0it [00:00, ?it/s]"
      ]
     },
     "metadata": {},
     "output_type": "display_data"
    },
    {
     "name": "stderr",
     "output_type": "stream",
     "text": [
      "Multiprocessing is handled by SLURM.\n",
      "GPU available: False, used: False\n",
      "TPU available: False, using: 0 TPU cores\n",
      "IPU available: False, using: 0 IPUs\n",
      "HPU available: False, using: 0 HPUs\n",
      "\n",
      "  | Name        | Type             | Params\n",
      "-------------------------------------------------\n",
      "0 | T           | CustomSequential | 10.5 K\n",
      "1 | energy_loss | Mine             | 10.5 K\n",
      "-------------------------------------------------\n",
      "10.5 K    Trainable params\n",
      "0         Non-trainable params\n",
      "10.5 K    Total params\n",
      "0.042     Total estimated model params size (MB)\n",
      "SLURM auto-requeueing enabled. Setting signal handlers.\n"
     ]
    },
    {
     "data": {
      "application/vnd.jupyter.widget-view+json": {
       "model_id": "03f153c82a864c259f4d832c2df07f34",
       "version_major": 2,
       "version_minor": 0
      },
      "text/plain": [
       "Training: 0it [00:00, ?it/s]"
      ]
     },
     "metadata": {},
     "output_type": "display_data"
    },
    {
     "name": "stderr",
     "output_type": "stream",
     "text": [
      "`Trainer.fit` stopped: `max_epochs=50` reached.\n",
      "Restoring states from the checkpoint path at /home/dpiras/MI/notebooks/comparisons/lightning_logs/version_498207/checkpoints/epoch=49-step=300-v63.ckpt\n",
      "Loaded model weights from checkpoint at /home/dpiras/MI/notebooks/comparisons/lightning_logs/version_498207/checkpoints/epoch=49-step=300-v63.ckpt\n"
     ]
    },
    {
     "data": {
      "application/vnd.jupyter.widget-view+json": {
       "model_id": "138edf69133e4a7e9a5fc1ca6aba09f6",
       "version_major": 2,
       "version_minor": 0
      },
      "text/plain": [
       "Testing: 0it [00:00, ?it/s]"
      ]
     },
     "metadata": {},
     "output_type": "display_data"
    },
    {
     "name": "stderr",
     "output_type": "stream",
     "text": [
      "Multiprocessing is handled by SLURM.\n",
      "GPU available: False, used: False\n",
      "TPU available: False, using: 0 TPU cores\n",
      "IPU available: False, using: 0 IPUs\n",
      "HPU available: False, using: 0 HPUs\n",
      "\n",
      "  | Name        | Type             | Params\n",
      "-------------------------------------------------\n",
      "0 | T           | CustomSequential | 10.5 K\n",
      "1 | energy_loss | Mine             | 10.5 K\n",
      "-------------------------------------------------\n",
      "10.5 K    Trainable params\n",
      "0         Non-trainable params\n",
      "10.5 K    Total params\n",
      "0.042     Total estimated model params size (MB)\n",
      "SLURM auto-requeueing enabled. Setting signal handlers.\n"
     ]
    },
    {
     "data": {
      "application/vnd.jupyter.widget-view+json": {
       "model_id": "92aa45170c664bbda7dd3ffe8bdcc37c",
       "version_major": 2,
       "version_minor": 0
      },
      "text/plain": [
       "Training: 0it [00:00, ?it/s]"
      ]
     },
     "metadata": {},
     "output_type": "display_data"
    },
    {
     "name": "stderr",
     "output_type": "stream",
     "text": [
      "`Trainer.fit` stopped: `max_epochs=50` reached.\n",
      "Restoring states from the checkpoint path at /home/dpiras/MI/notebooks/comparisons/lightning_logs/version_498207/checkpoints/epoch=49-step=300-v64.ckpt\n",
      "Loaded model weights from checkpoint at /home/dpiras/MI/notebooks/comparisons/lightning_logs/version_498207/checkpoints/epoch=49-step=300-v64.ckpt\n"
     ]
    },
    {
     "data": {
      "application/vnd.jupyter.widget-view+json": {
       "model_id": "480a6c00ef764b3583bcb55ef2dd4b54",
       "version_major": 2,
       "version_minor": 0
      },
      "text/plain": [
       "Testing: 0it [00:00, ?it/s]"
      ]
     },
     "metadata": {},
     "output_type": "display_data"
    },
    {
     "name": "stderr",
     "output_type": "stream",
     "text": [
      "Multiprocessing is handled by SLURM.\n",
      "GPU available: False, used: False\n",
      "TPU available: False, using: 0 TPU cores\n",
      "IPU available: False, using: 0 IPUs\n",
      "HPU available: False, using: 0 HPUs\n",
      "\n",
      "  | Name        | Type             | Params\n",
      "-------------------------------------------------\n",
      "0 | T           | CustomSequential | 10.5 K\n",
      "1 | energy_loss | Mine             | 10.5 K\n",
      "-------------------------------------------------\n",
      "10.5 K    Trainable params\n",
      "0         Non-trainable params\n",
      "10.5 K    Total params\n",
      "0.042     Total estimated model params size (MB)\n",
      "SLURM auto-requeueing enabled. Setting signal handlers.\n"
     ]
    },
    {
     "data": {
      "application/vnd.jupyter.widget-view+json": {
       "model_id": "2d6001f93180497a80f26c9326ea12c2",
       "version_major": 2,
       "version_minor": 0
      },
      "text/plain": [
       "Training: 0it [00:00, ?it/s]"
      ]
     },
     "metadata": {},
     "output_type": "display_data"
    },
    {
     "name": "stderr",
     "output_type": "stream",
     "text": [
      "`Trainer.fit` stopped: `max_epochs=50` reached.\n",
      "Restoring states from the checkpoint path at /home/dpiras/MI/notebooks/comparisons/lightning_logs/version_498207/checkpoints/epoch=49-step=300-v65.ckpt\n",
      "Loaded model weights from checkpoint at /home/dpiras/MI/notebooks/comparisons/lightning_logs/version_498207/checkpoints/epoch=49-step=300-v65.ckpt\n"
     ]
    },
    {
     "data": {
      "application/vnd.jupyter.widget-view+json": {
       "model_id": "090a48f3ed624201a929cd11c18279c9",
       "version_major": 2,
       "version_minor": 0
      },
      "text/plain": [
       "Testing: 0it [00:00, ?it/s]"
      ]
     },
     "metadata": {},
     "output_type": "display_data"
    },
    {
     "name": "stderr",
     "output_type": "stream",
     "text": [
      "Multiprocessing is handled by SLURM.\n",
      "GPU available: False, used: False\n",
      "TPU available: False, using: 0 TPU cores\n",
      "IPU available: False, using: 0 IPUs\n",
      "HPU available: False, using: 0 HPUs\n",
      "\n",
      "  | Name        | Type             | Params\n",
      "-------------------------------------------------\n",
      "0 | T           | CustomSequential | 10.5 K\n",
      "1 | energy_loss | Mine             | 10.5 K\n",
      "-------------------------------------------------\n",
      "10.5 K    Trainable params\n",
      "0         Non-trainable params\n",
      "10.5 K    Total params\n",
      "0.042     Total estimated model params size (MB)\n",
      "SLURM auto-requeueing enabled. Setting signal handlers.\n"
     ]
    },
    {
     "data": {
      "application/vnd.jupyter.widget-view+json": {
       "model_id": "95cfe2e485564854be859f7fb94f84fa",
       "version_major": 2,
       "version_minor": 0
      },
      "text/plain": [
       "Training: 0it [00:00, ?it/s]"
      ]
     },
     "metadata": {},
     "output_type": "display_data"
    },
    {
     "name": "stderr",
     "output_type": "stream",
     "text": [
      "`Trainer.fit` stopped: `max_epochs=50` reached.\n",
      "Restoring states from the checkpoint path at /home/dpiras/MI/notebooks/comparisons/lightning_logs/version_498207/checkpoints/epoch=49-step=300-v66.ckpt\n",
      "Loaded model weights from checkpoint at /home/dpiras/MI/notebooks/comparisons/lightning_logs/version_498207/checkpoints/epoch=49-step=300-v66.ckpt\n"
     ]
    },
    {
     "data": {
      "application/vnd.jupyter.widget-view+json": {
       "model_id": "f6cbc6e7f2e543d59cf6180b2ccd9d53",
       "version_major": 2,
       "version_minor": 0
      },
      "text/plain": [
       "Testing: 0it [00:00, ?it/s]"
      ]
     },
     "metadata": {},
     "output_type": "display_data"
    },
    {
     "name": "stderr",
     "output_type": "stream",
     "text": [
      "Multiprocessing is handled by SLURM.\n",
      "GPU available: False, used: False\n",
      "TPU available: False, using: 0 TPU cores\n",
      "IPU available: False, using: 0 IPUs\n",
      "HPU available: False, using: 0 HPUs\n",
      "\n",
      "  | Name        | Type             | Params\n",
      "-------------------------------------------------\n",
      "0 | T           | CustomSequential | 10.5 K\n",
      "1 | energy_loss | Mine             | 10.5 K\n",
      "-------------------------------------------------\n",
      "10.5 K    Trainable params\n",
      "0         Non-trainable params\n",
      "10.5 K    Total params\n",
      "0.042     Total estimated model params size (MB)\n",
      "SLURM auto-requeueing enabled. Setting signal handlers.\n"
     ]
    },
    {
     "data": {
      "application/vnd.jupyter.widget-view+json": {
       "model_id": "88f6a5b1df9f42299383cf9f8df495d4",
       "version_major": 2,
       "version_minor": 0
      },
      "text/plain": [
       "Training: 0it [00:00, ?it/s]"
      ]
     },
     "metadata": {},
     "output_type": "display_data"
    },
    {
     "name": "stderr",
     "output_type": "stream",
     "text": [
      "`Trainer.fit` stopped: `max_epochs=50` reached.\n",
      "Restoring states from the checkpoint path at /home/dpiras/MI/notebooks/comparisons/lightning_logs/version_498207/checkpoints/epoch=49-step=300-v67.ckpt\n",
      "Loaded model weights from checkpoint at /home/dpiras/MI/notebooks/comparisons/lightning_logs/version_498207/checkpoints/epoch=49-step=300-v67.ckpt\n"
     ]
    },
    {
     "data": {
      "application/vnd.jupyter.widget-view+json": {
       "model_id": "f8bce53d316e4bb9a3e31d6f722fc0e9",
       "version_major": 2,
       "version_minor": 0
      },
      "text/plain": [
       "Testing: 0it [00:00, ?it/s]"
      ]
     },
     "metadata": {},
     "output_type": "display_data"
    },
    {
     "name": "stderr",
     "output_type": "stream",
     "text": [
      "Multiprocessing is handled by SLURM.\n",
      "GPU available: False, used: False\n",
      "TPU available: False, using: 0 TPU cores\n",
      "IPU available: False, using: 0 IPUs\n",
      "HPU available: False, using: 0 HPUs\n",
      "\n",
      "  | Name        | Type             | Params\n",
      "-------------------------------------------------\n",
      "0 | T           | CustomSequential | 10.5 K\n",
      "1 | energy_loss | Mine             | 10.5 K\n",
      "-------------------------------------------------\n",
      "10.5 K    Trainable params\n",
      "0         Non-trainable params\n",
      "10.5 K    Total params\n",
      "0.042     Total estimated model params size (MB)\n",
      "SLURM auto-requeueing enabled. Setting signal handlers.\n"
     ]
    },
    {
     "data": {
      "application/vnd.jupyter.widget-view+json": {
       "model_id": "50df5ae323dd4321987ab08454314603",
       "version_major": 2,
       "version_minor": 0
      },
      "text/plain": [
       "Training: 0it [00:00, ?it/s]"
      ]
     },
     "metadata": {},
     "output_type": "display_data"
    },
    {
     "name": "stderr",
     "output_type": "stream",
     "text": [
      "`Trainer.fit` stopped: `max_epochs=50` reached.\n",
      "Restoring states from the checkpoint path at /home/dpiras/MI/notebooks/comparisons/lightning_logs/version_498207/checkpoints/epoch=49-step=300-v68.ckpt\n",
      "Loaded model weights from checkpoint at /home/dpiras/MI/notebooks/comparisons/lightning_logs/version_498207/checkpoints/epoch=49-step=300-v68.ckpt\n"
     ]
    },
    {
     "data": {
      "application/vnd.jupyter.widget-view+json": {
       "model_id": "6fbc14dd518c4a84b0cc0ebdb3cb9233",
       "version_major": 2,
       "version_minor": 0
      },
      "text/plain": [
       "Testing: 0it [00:00, ?it/s]"
      ]
     },
     "metadata": {},
     "output_type": "display_data"
    },
    {
     "name": "stderr",
     "output_type": "stream",
     "text": [
      "Multiprocessing is handled by SLURM.\n",
      "GPU available: False, used: False\n",
      "TPU available: False, using: 0 TPU cores\n",
      "IPU available: False, using: 0 IPUs\n",
      "HPU available: False, using: 0 HPUs\n",
      "\n",
      "  | Name        | Type             | Params\n",
      "-------------------------------------------------\n",
      "0 | T           | CustomSequential | 10.5 K\n",
      "1 | energy_loss | Mine             | 10.5 K\n",
      "-------------------------------------------------\n",
      "10.5 K    Trainable params\n",
      "0         Non-trainable params\n",
      "10.5 K    Total params\n",
      "0.042     Total estimated model params size (MB)\n",
      "SLURM auto-requeueing enabled. Setting signal handlers.\n"
     ]
    },
    {
     "data": {
      "application/vnd.jupyter.widget-view+json": {
       "model_id": "8a486b7758d64843beafc8a1cfc7eccc",
       "version_major": 2,
       "version_minor": 0
      },
      "text/plain": [
       "Training: 0it [00:00, ?it/s]"
      ]
     },
     "metadata": {},
     "output_type": "display_data"
    },
    {
     "name": "stderr",
     "output_type": "stream",
     "text": [
      "`Trainer.fit` stopped: `max_epochs=50` reached.\n",
      "Restoring states from the checkpoint path at /home/dpiras/MI/notebooks/comparisons/lightning_logs/version_498207/checkpoints/epoch=49-step=300-v69.ckpt\n",
      "Loaded model weights from checkpoint at /home/dpiras/MI/notebooks/comparisons/lightning_logs/version_498207/checkpoints/epoch=49-step=300-v69.ckpt\n"
     ]
    },
    {
     "data": {
      "application/vnd.jupyter.widget-view+json": {
       "model_id": "4428f98b3d9142f986e3fb5a718743d9",
       "version_major": 2,
       "version_minor": 0
      },
      "text/plain": [
       "Testing: 0it [00:00, ?it/s]"
      ]
     },
     "metadata": {},
     "output_type": "display_data"
    },
    {
     "name": "stderr",
     "output_type": "stream",
     "text": [
      "Multiprocessing is handled by SLURM.\n",
      "GPU available: False, used: False\n",
      "TPU available: False, using: 0 TPU cores\n",
      "IPU available: False, using: 0 IPUs\n",
      "HPU available: False, using: 0 HPUs\n",
      "\n",
      "  | Name        | Type             | Params\n",
      "-------------------------------------------------\n",
      "0 | T           | CustomSequential | 10.5 K\n",
      "1 | energy_loss | Mine             | 10.5 K\n",
      "-------------------------------------------------\n",
      "10.5 K    Trainable params\n",
      "0         Non-trainable params\n",
      "10.5 K    Total params\n",
      "0.042     Total estimated model params size (MB)\n",
      "SLURM auto-requeueing enabled. Setting signal handlers.\n"
     ]
    },
    {
     "data": {
      "application/vnd.jupyter.widget-view+json": {
       "model_id": "21fafb144806428db28547bded6f6151",
       "version_major": 2,
       "version_minor": 0
      },
      "text/plain": [
       "Training: 0it [00:00, ?it/s]"
      ]
     },
     "metadata": {},
     "output_type": "display_data"
    },
    {
     "name": "stderr",
     "output_type": "stream",
     "text": [
      "`Trainer.fit` stopped: `max_epochs=50` reached.\n",
      "Restoring states from the checkpoint path at /home/dpiras/MI/notebooks/comparisons/lightning_logs/version_498207/checkpoints/epoch=49-step=300-v70.ckpt\n",
      "Loaded model weights from checkpoint at /home/dpiras/MI/notebooks/comparisons/lightning_logs/version_498207/checkpoints/epoch=49-step=300-v70.ckpt\n"
     ]
    },
    {
     "data": {
      "application/vnd.jupyter.widget-view+json": {
       "model_id": "6b8ea3cb848a482c8406997cafb621ce",
       "version_major": 2,
       "version_minor": 0
      },
      "text/plain": [
       "Testing: 0it [00:00, ?it/s]"
      ]
     },
     "metadata": {},
     "output_type": "display_data"
    },
    {
     "name": "stdout",
     "output_type": "stream",
     "text": [
      "Total time for MINE: 54.338 s\n"
     ]
    }
   ],
   "source": [
    "mine_estimates = []\n",
    "\n",
    "dim = 1\n",
    "lr = 1e-3\n",
    "epochs = 50\n",
    "batch_size = 32\n",
    "loss_type = ['mine']  # mine, mine_biased, fdiv\n",
    "loss = loss_type[0]\n",
    "\n",
    "initial_time = time.time()\n",
    "\n",
    "for alpha in alphas:\n",
    "    x_samples = random_gen.gamma(alpha, 1, N)\n",
    "    # then for each x, we sample from an exp\n",
    "    y_samples = random_gen.exponential(scale = 1/x_samples)\n",
    "    X = np.stack((np.log(x_samples), np.log(y_samples)), axis=0).T\n",
    "\n",
    "    N = X.shape[0]\n",
    "    train_size = int(0.9 * N)\n",
    "    test_size = N - train_size\n",
    "\n",
    "    train_set, test_set = train_test_split(X, test_size=0.1, random_state=42)\n",
    "\n",
    "    tensor_x = torch.Tensor(train_set[:, :1]) # transform to torch tensor\n",
    "    tensor_y = torch.Tensor(train_set[:, 1:]) # transform to torch tensor\n",
    "    my_dataset = TensorDataset(tensor_x,tensor_y)\n",
    "    train_loader = torch.utils.data.DataLoader(my_dataset, batch_size=batch_size, shuffle=True)\n",
    "\n",
    "    tensor_x = torch.Tensor(test_set[:, :1]) # transform to torch tensor\n",
    "    tensor_y = torch.Tensor(test_set[:, 1:]) # transform to torch tensor\n",
    "    my_dataset = TensorDataset(tensor_x,tensor_y)\n",
    "    test_loader = torch.utils.data.DataLoader(my_dataset, batch_size=batch_size, shuffle=True)\n",
    "\n",
    "    kwargs = {\n",
    "        'lr': lr,\n",
    "        'batch_size': batch_size,\n",
    "        'train_loader': train_loader,\n",
    "        'test_loader': test_loader,\n",
    "        'alpha': 1.\n",
    "    }\n",
    "\n",
    "    model = MutualInformationEstimator(\n",
    "        dim, dim, loss=loss, **kwargs).to(device)\n",
    "    \n",
    "    trainer = Trainer(max_epochs=epochs)\n",
    "    trainer.fit(model)\n",
    "    trainer.test()\n",
    "\n",
    "    mine_estimates.append(model.avg_test_mi)\n",
    "\n",
    "mine_time = time.time()-initial_time    \n",
    "    \n",
    "print(f'Total time for MINE: {mine_time:.3f} s')"
   ]
  },
  {
   "cell_type": "markdown",
   "id": "71e5944d",
   "metadata": {},
   "source": [
    "### GMM-MI"
   ]
  },
  {
   "cell_type": "code",
   "execution_count": 5,
   "id": "e696886c",
   "metadata": {},
   "outputs": [],
   "source": [
    "# all unspecified parameters are set to their default values\n",
    "\n",
    "# parameters for every GMM fit that is being run\n",
    "gmm_fit_params = GMMFitParamHolder(threshold_fit=1e-5,\n",
    "                                   reg_covar=1e-12)\n",
    "\n",
    "# parameters to choose the number of components\n",
    "select_components_params = SelectComponentsParamHolder(n_inits=3,\n",
    "                                                       n_folds=2)\n",
    "\n",
    "# parameters for MI distribution estimation\n",
    "mi_dist_params = MIDistParamHolder(n_bootstrap=100,\n",
    "                                   MC_samples=1e4)"
   ]
  },
  {
   "cell_type": "code",
   "execution_count": 6,
   "id": "407b768d",
   "metadata": {},
   "outputs": [
    {
     "name": "stderr",
     "output_type": "stream",
     "text": [
      "100%|██████████| 100/100 [00:01<00:00, 78.23it/s]\n",
      "100%|██████████| 100/100 [00:02<00:00, 42.15it/s]\n",
      "100%|██████████| 100/100 [00:01<00:00, 61.47it/s]\n",
      "100%|██████████| 100/100 [00:03<00:00, 30.55it/s]\n",
      "100%|██████████| 100/100 [00:00<00:00, 100.69it/s]\n",
      "100%|██████████| 100/100 [00:00<00:00, 292.85it/s]\n",
      "100%|██████████| 100/100 [00:01<00:00, 59.62it/s]\n",
      "100%|██████████| 100/100 [00:01<00:00, 70.34it/s]\n",
      "100%|██████████| 100/100 [00:01<00:00, 69.11it/s]\n",
      "100%|██████████| 100/100 [00:00<00:00, 284.58it/s]\n",
      "100%|██████████| 100/100 [00:02<00:00, 47.37it/s]\n",
      "100%|██████████| 100/100 [00:00<00:00, 288.71it/s]\n",
      "100%|██████████| 100/100 [00:02<00:00, 47.20it/s]\n",
      "100%|██████████| 100/100 [00:00<00:00, 284.73it/s]\n",
      "100%|██████████| 100/100 [00:03<00:00, 30.58it/s]\n",
      "100%|██████████| 100/100 [00:00<00:00, 291.31it/s]\n",
      "100%|██████████| 100/100 [00:01<00:00, 51.83it/s]\n",
      "100%|██████████| 100/100 [00:00<00:00, 290.05it/s]\n",
      "100%|██████████| 100/100 [00:02<00:00, 44.64it/s]\n",
      "100%|██████████| 100/100 [00:02<00:00, 46.08it/s]"
     ]
    },
    {
     "name": "stdout",
     "output_type": "stream",
     "text": [
      "Total time for GMM: 41.257 s\n"
     ]
    },
    {
     "name": "stderr",
     "output_type": "stream",
     "text": [
      "\n"
     ]
    }
   ],
   "source": [
    "all_MI_estimates = np.zeros((len(alphas), 2))\n",
    "\n",
    "initial_time = time.time()\n",
    "\n",
    "for r, alpha in enumerate(alphas):\n",
    "    x_samples = random_gen.gamma(alpha, 1, N)\n",
    "    # then for each x, we sample from an exp\n",
    "    y_samples = random_gen.exponential(scale = 1/x_samples)\n",
    "    X = np.stack((np.log(x_samples), np.log(y_samples)), axis=0).T\n",
    "\n",
    "    mi_estimator = EstimateMI(gmm_fit_params=gmm_fit_params,\n",
    "                              select_components_params=select_components_params)\n",
    "    MI_mean, MI_std = mi_estimator.fit_estimate(X, mi_dist_params=mi_dist_params)    \n",
    "\n",
    "    # store results\n",
    "    all_MI_estimates[r, 0] = MI_mean\n",
    "    all_MI_estimates[r, 1] = MI_std\n",
    "\n",
    "gmm_mi_time = time.time()-initial_time\n",
    "print(f'Total time for GMM: {gmm_mi_time:.3f} s')"
   ]
  },
  {
   "cell_type": "markdown",
   "id": "51c2b52e",
   "metadata": {},
   "source": [
    "### Plot results"
   ]
  },
  {
   "cell_type": "code",
   "execution_count": 7,
   "id": "e0b05a1c",
   "metadata": {},
   "outputs": [
    {
     "data": {
      "image/png": "[encoded data removed]",
      "text/plain": [
       "<Figure size 1200x700 with 1 Axes>"
      ]
     },
     "metadata": {},
     "output_type": "display_data"
    }
   ],
   "source": [
    "# let's plot all of this\n",
    "fig, ax = plt.subplots(1, 1, figsize=(12, 7))\n",
    "\n",
    "sigmas = 2\n",
    "lw = 3\n",
    "\n",
    "ax.tick_params(axis='both', which='major', labelsize=22, size=10)\n",
    "ax.tick_params(axis='both', which='minor', labelsize=22, size=5)\n",
    "ax.plot(alphas, knn_estimates, c='tomato', lw=lw, label=f'KSG ({ksg_time/len(alphas):.3f} s, single estimate)')\n",
    "ax.plot(alphas, mine_estimates, c='darkgreen', ls='-.', lw=lw, label=f'MINE ({mine_time/len(alphas):.1f} s, single estimate)')\n",
    "ax.plot(alphas, all_MI_estimates[:, 0], color='grey', alpha=0.8)\n",
    "ax.fill_between(alphas, all_MI_estimates[:, 0] - sigmas*all_MI_estimates[:, 1], \n",
    "                all_MI_estimates[:, 0]+sigmas*all_MI_estimates[:, 1], \n",
    "                color='grey', alpha=0.8, label=f'GMM-MI ({gmm_mi_time/len(alphas):.1f} s, full distribution)')\n",
    "ax.plot(alphas, analytic, ls='--', c='black', lw=lw, label='Ground truth')\n",
    "\n",
    "ax.legend(fontsize=25, frameon=False)\n",
    "        \n",
    "ax.set_xlabel(r'$\\alpha$', fontsize=30)\n",
    "ax.set_ylabel('Mutual information [nat]', fontsize=25);\n",
    "\n",
    "ax.set_xscale('log')\n",
    "\n",
    "plt.savefig('./figures/gamma_exp_comparison.pdf',  bbox_inches='tight');"
   ]
  },
  {
   "cell_type": "code",
   "execution_count": null,
   "id": "a4a63e2a",
   "metadata": {},
   "outputs": [],
   "source": []
  }
 ],
 "metadata": {
  "kernelspec": {
   "display_name": "Python 3 (ipykernel)",
   "language": "python",
   "name": "python3"
  },
  "language_info": {
   "codemirror_mode": {
    "name": "ipython",
    "version": 3
   },
   "file_extension": ".py",
   "mimetype": "text/x-python",
   "name": "python",
   "nbconvert_exporter": "python",
   "pygments_lexer": "ipython3",
   "version": "3.9.13"
  }
 },
 "nbformat": 4,
 "nbformat_minor": 5
}
