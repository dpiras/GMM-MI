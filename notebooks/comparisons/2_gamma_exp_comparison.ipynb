{
 "cells": [
  {
   "cell_type": "markdown",
   "id": "89af4efe",
   "metadata": {},
   "source": [
    "In this notebook, we compare GMM-MI with the [KSG estimator](https://scikit-learn.org/stable/modules/generated/sklearn.feature_selection.mutual_info_regression.html) and the [MINE estimator](https://github.com/gtegner/mine-pytorch) on a gamma-exponential distribution with varying free parameter $\\alpha$. To run this notebook you would need to install the MINE package following the instructions in the repository; here we already cloned the repository for you and adapted the code to work with python 3.9, so that you only need to run:\n",
    "```\n",
    "cd mine-pytorch\n",
    "pip install -e .\n",
    "```\n",
    "Note the MINE results are not \"reproducible\", in the sense that the seed is not fixed."
   ]
  },
  {
   "cell_type": "markdown",
   "id": "593596a8",
   "metadata": {},
   "source": [
    "### Import packages"
   ]
  },
  {
   "cell_type": "code",
   "execution_count": 1,
   "id": "a981deba",
   "metadata": {},
   "outputs": [
    {
     "name": "stdout",
     "output_type": "stream",
     "text": [
      "Device: cpu\n"
     ]
    }
   ],
   "source": [
    "import numpy as np\n",
    "import time\n",
    "import matplotlib.pyplot as plt\n",
    "# GMM-MI\n",
    "from gmm_mi.mi import EstimateMI\n",
    "from gmm_mi.param_holders import GMMFitParamHolder, SelectComponentsParamHolder, MIDistParamHolder\n",
    "from gmm_mi.utils.analytic_MI import calculate_MI_gammaexp_analytical\n",
    "# KSG\n",
    "from sklearn.feature_selection import mutual_info_regression\n",
    "# MINE\n",
    "from sklearn.model_selection import train_test_split\n",
    "import torch\n",
    "from torch.utils.data import TensorDataset, DataLoader\n",
    "from mine.models.mine import MutualInformationEstimator\n",
    "from pytorch_lightning import Trainer\n",
    "import logging\n",
    "logging.getLogger().setLevel(logging.ERROR)\n",
    "device = 'cuda' if torch.cuda.is_available() else 'cpu'\n",
    "num_gpus = 1 if device=='cuda' else 0"
   ]
  },
  {
   "cell_type": "markdown",
   "id": "5143b6c8",
   "metadata": {},
   "source": [
    "### Calculate the true MI of the synthetic models"
   ]
  },
  {
   "cell_type": "code",
   "execution_count": 2,
   "id": "ba8a30a6",
   "metadata": {
    "scrolled": false
   },
   "outputs": [],
   "source": [
    "alphas = np.logspace(-1, 2, 20)\n",
    "N = int(2e2)\n",
    "# fix random state for stability across runs\n",
    "random_state = 30\n",
    "random_gen = np.random.default_rng(random_state)\n",
    "\n",
    "analytic = []\n",
    "for alpha in alphas:\n",
    "    analytic.append(calculate_MI_gammaexp_analytical(alpha))"
   ]
  },
  {
   "cell_type": "markdown",
   "id": "466a097a",
   "metadata": {},
   "source": [
    "### KSG"
   ]
  },
  {
   "cell_type": "code",
   "execution_count": 3,
   "id": "1b971bfb",
   "metadata": {},
   "outputs": [
    {
     "name": "stdout",
     "output_type": "stream",
     "text": [
      "Total time for KSG: 0.037 s\n"
     ]
    }
   ],
   "source": [
    "knn_estimates = []\n",
    "n_neighbors = 1 # keep minimum bias\n",
    "\n",
    "initial_time = time.time()\n",
    "\n",
    "for alpha in alphas:\n",
    "    x_samples = random_gen.gamma(alpha, 1, N)\n",
    "    # then for each x, we sample from an exp\n",
    "    y_samples = random_gen.exponential(scale = 1/x_samples)\n",
    "    X = np.stack((np.log(x_samples), np.log(y_samples)), axis=0).T\n",
    "    knn_estimates.append(mutual_info_regression(X[:, 0].reshape(-1, 1), X[:, 1], \n",
    "                                                n_neighbors=n_neighbors))\n",
    "\n",
    "ksg_time = time.time()-initial_time    \n",
    "    \n",
    "print(f'Total time for KSG: {ksg_time:.3f} s')"
   ]
  },
  {
   "cell_type": "markdown",
   "id": "a7e611b7",
   "metadata": {},
   "source": [
    "### MINE"
   ]
  },
  {
   "cell_type": "code",
   "execution_count": 4,
   "id": "1b157296",
   "metadata": {
    "scrolled": true
   },
   "outputs": [
    {
     "name": "stderr",
     "output_type": "stream",
     "text": [
      "Multiprocessing is handled by SLURM.\n",
      "GPU available: False, used: False\n",
      "TPU available: False, using: 0 TPU cores\n",
      "IPU available: False, using: 0 IPUs\n",
      "HPU available: False, using: 0 HPUs\n",
      "/home/dpiras/.conda/envs/MI/lib/python3.9/site-packages/pytorch_lightning/callbacks/model_checkpoint.py:616: UserWarning: Checkpoint directory /home/dpiras/MI/notebooks/comparisons/lightning_logs/version_480432/checkpoints exists and is not empty.\n",
      "  rank_zero_warn(f\"Checkpoint directory {dirpath} exists and is not empty.\")\n",
      "\n",
      "  | Name        | Type             | Params\n",
      "-------------------------------------------------\n",
      "0 | T           | CustomSequential | 10.5 K\n",
      "1 | energy_loss | Mine             | 10.5 K\n",
      "-------------------------------------------------\n",
      "10.5 K    Trainable params\n",
      "0         Non-trainable params\n",
      "10.5 K    Total params\n",
      "0.042     Total estimated model params size (MB)\n",
      "SLURM auto-requeueing enabled. Setting signal handlers.\n",
      "/home/dpiras/.conda/envs/MI/lib/python3.9/site-packages/pytorch_lightning/trainer/connectors/data_connector.py:236: PossibleUserWarning: The dataloader, train_dataloader, does not have many workers which may be a bottleneck. Consider increasing the value of the `num_workers` argument` (try 40 which is the number of cpus on this machine) in the `DataLoader` init to improve performance.\n",
      "  rank_zero_warn(\n",
      "/home/dpiras/.conda/envs/MI/lib/python3.9/site-packages/pytorch_lightning/trainer/trainer.py:1892: PossibleUserWarning: The number of training batches (6) is smaller than the logging interval Trainer(log_every_n_steps=50). Set a lower value for log_every_n_steps if you want to see logs for the training epoch.\n",
      "  rank_zero_warn(\n"
     ]
    },
    {
     "data": {
      "application/vnd.jupyter.widget-view+json": {
       "model_id": "5196e300b21d4d2ba8f4dad7b6aeee53",
       "version_major": 2,
       "version_minor": 0
      },
      "text/plain": [
       "Training: 0it [00:00, ?it/s]"
      ]
     },
     "metadata": {},
     "output_type": "display_data"
    },
    {
     "name": "stderr",
     "output_type": "stream",
     "text": [
      "`Trainer.fit` stopped: `max_epochs=50` reached.\n",
      "/home/dpiras/.conda/envs/MI/lib/python3.9/site-packages/pytorch_lightning/trainer/trainer.py:1386: UserWarning: `.test(ckpt_path=None)` was called without a model. The best model of the previous `fit` call will be used. You can pass `.test(ckpt_path='best')` to use the best model or `.test(ckpt_path='last')` to use the last model. If you pass a value, this warning will be silenced.\n",
      "  rank_zero_warn(\n",
      "Restoring states from the checkpoint path at /home/dpiras/MI/notebooks/comparisons/lightning_logs/version_480432/checkpoints/epoch=49-step=300-v80.ckpt\n",
      "Loaded model weights from checkpoint at /home/dpiras/MI/notebooks/comparisons/lightning_logs/version_480432/checkpoints/epoch=49-step=300-v80.ckpt\n",
      "/home/dpiras/.conda/envs/MI/lib/python3.9/site-packages/pytorch_lightning/trainer/connectors/data_connector.py:489: PossibleUserWarning: Your `test_dataloader`'s sampler has shuffling enabled, it is strongly recommended that you turn shuffling off for val/test/predict dataloaders.\n",
      "  rank_zero_warn(\n",
      "/home/dpiras/.conda/envs/MI/lib/python3.9/site-packages/pytorch_lightning/trainer/connectors/data_connector.py:236: PossibleUserWarning: The dataloader, test_dataloader 0, does not have many workers which may be a bottleneck. Consider increasing the value of the `num_workers` argument` (try 40 which is the number of cpus on this machine) in the `DataLoader` init to improve performance.\n",
      "  rank_zero_warn(\n"
     ]
    },
    {
     "data": {
      "application/vnd.jupyter.widget-view+json": {
       "model_id": "bf6510a26aac4e0994f837a991a9274a",
       "version_major": 2,
       "version_minor": 0
      },
      "text/plain": [
       "Testing: 0it [00:00, ?it/s]"
      ]
     },
     "metadata": {},
     "output_type": "display_data"
    },
    {
     "name": "stderr",
     "output_type": "stream",
     "text": [
      "Multiprocessing is handled by SLURM.\n",
      "GPU available: False, used: False\n",
      "TPU available: False, using: 0 TPU cores\n",
      "IPU available: False, using: 0 IPUs\n",
      "HPU available: False, using: 0 HPUs\n",
      "\n",
      "  | Name        | Type             | Params\n",
      "-------------------------------------------------\n",
      "0 | T           | CustomSequential | 10.5 K\n",
      "1 | energy_loss | Mine             | 10.5 K\n",
      "-------------------------------------------------\n",
      "10.5 K    Trainable params\n",
      "0         Non-trainable params\n",
      "10.5 K    Total params\n",
      "0.042     Total estimated model params size (MB)\n",
      "SLURM auto-requeueing enabled. Setting signal handlers.\n"
     ]
    },
    {
     "data": {
      "application/vnd.jupyter.widget-view+json": {
       "model_id": "d4f28b22931440438437077328880b1d",
       "version_major": 2,
       "version_minor": 0
      },
      "text/plain": [
       "Training: 0it [00:00, ?it/s]"
      ]
     },
     "metadata": {},
     "output_type": "display_data"
    },
    {
     "name": "stderr",
     "output_type": "stream",
     "text": [
      "`Trainer.fit` stopped: `max_epochs=50` reached.\n",
      "Restoring states from the checkpoint path at /home/dpiras/MI/notebooks/comparisons/lightning_logs/version_480432/checkpoints/epoch=49-step=300-v81.ckpt\n",
      "Loaded model weights from checkpoint at /home/dpiras/MI/notebooks/comparisons/lightning_logs/version_480432/checkpoints/epoch=49-step=300-v81.ckpt\n"
     ]
    },
    {
     "data": {
      "application/vnd.jupyter.widget-view+json": {
       "model_id": "8dad1a5a8a274a0da76aeb7dd927d869",
       "version_major": 2,
       "version_minor": 0
      },
      "text/plain": [
       "Testing: 0it [00:00, ?it/s]"
      ]
     },
     "metadata": {},
     "output_type": "display_data"
    },
    {
     "name": "stderr",
     "output_type": "stream",
     "text": [
      "Multiprocessing is handled by SLURM.\n",
      "GPU available: False, used: False\n",
      "TPU available: False, using: 0 TPU cores\n",
      "IPU available: False, using: 0 IPUs\n",
      "HPU available: False, using: 0 HPUs\n",
      "\n",
      "  | Name        | Type             | Params\n",
      "-------------------------------------------------\n",
      "0 | T           | CustomSequential | 10.5 K\n",
      "1 | energy_loss | Mine             | 10.5 K\n",
      "-------------------------------------------------\n",
      "10.5 K    Trainable params\n",
      "0         Non-trainable params\n",
      "10.5 K    Total params\n",
      "0.042     Total estimated model params size (MB)\n",
      "SLURM auto-requeueing enabled. Setting signal handlers.\n"
     ]
    },
    {
     "data": {
      "application/vnd.jupyter.widget-view+json": {
       "model_id": "a54ac16909194155a32bcf94a2dcd3c8",
       "version_major": 2,
       "version_minor": 0
      },
      "text/plain": [
       "Training: 0it [00:00, ?it/s]"
      ]
     },
     "metadata": {},
     "output_type": "display_data"
    },
    {
     "name": "stderr",
     "output_type": "stream",
     "text": [
      "`Trainer.fit` stopped: `max_epochs=50` reached.\n",
      "Restoring states from the checkpoint path at /home/dpiras/MI/notebooks/comparisons/lightning_logs/version_480432/checkpoints/epoch=49-step=300-v82.ckpt\n",
      "Loaded model weights from checkpoint at /home/dpiras/MI/notebooks/comparisons/lightning_logs/version_480432/checkpoints/epoch=49-step=300-v82.ckpt\n"
     ]
    },
    {
     "data": {
      "application/vnd.jupyter.widget-view+json": {
       "model_id": "4bfb5acd509d4431b15fd427bf9cb3ba",
       "version_major": 2,
       "version_minor": 0
      },
      "text/plain": [
       "Testing: 0it [00:00, ?it/s]"
      ]
     },
     "metadata": {},
     "output_type": "display_data"
    },
    {
     "name": "stderr",
     "output_type": "stream",
     "text": [
      "Multiprocessing is handled by SLURM.\n",
      "GPU available: False, used: False\n",
      "TPU available: False, using: 0 TPU cores\n",
      "IPU available: False, using: 0 IPUs\n",
      "HPU available: False, using: 0 HPUs\n",
      "\n",
      "  | Name        | Type             | Params\n",
      "-------------------------------------------------\n",
      "0 | T           | CustomSequential | 10.5 K\n",
      "1 | energy_loss | Mine             | 10.5 K\n",
      "-------------------------------------------------\n",
      "10.5 K    Trainable params\n",
      "0         Non-trainable params\n",
      "10.5 K    Total params\n",
      "0.042     Total estimated model params size (MB)\n",
      "SLURM auto-requeueing enabled. Setting signal handlers.\n"
     ]
    },
    {
     "data": {
      "application/vnd.jupyter.widget-view+json": {
       "model_id": "d3acc0cc90da4b4eaa795680c86bc9ed",
       "version_major": 2,
       "version_minor": 0
      },
      "text/plain": [
       "Training: 0it [00:00, ?it/s]"
      ]
     },
     "metadata": {},
     "output_type": "display_data"
    },
    {
     "name": "stderr",
     "output_type": "stream",
     "text": [
      "`Trainer.fit` stopped: `max_epochs=50` reached.\n",
      "Restoring states from the checkpoint path at /home/dpiras/MI/notebooks/comparisons/lightning_logs/version_480432/checkpoints/epoch=49-step=300-v83.ckpt\n",
      "Loaded model weights from checkpoint at /home/dpiras/MI/notebooks/comparisons/lightning_logs/version_480432/checkpoints/epoch=49-step=300-v83.ckpt\n"
     ]
    },
    {
     "data": {
      "application/vnd.jupyter.widget-view+json": {
       "model_id": "acff54b595cd4ce486593b7dce698033",
       "version_major": 2,
       "version_minor": 0
      },
      "text/plain": [
       "Testing: 0it [00:00, ?it/s]"
      ]
     },
     "metadata": {},
     "output_type": "display_data"
    },
    {
     "name": "stderr",
     "output_type": "stream",
     "text": [
      "Multiprocessing is handled by SLURM.\n",
      "GPU available: False, used: False\n",
      "TPU available: False, using: 0 TPU cores\n",
      "IPU available: False, using: 0 IPUs\n",
      "HPU available: False, using: 0 HPUs\n",
      "\n",
      "  | Name        | Type             | Params\n",
      "-------------------------------------------------\n",
      "0 | T           | CustomSequential | 10.5 K\n",
      "1 | energy_loss | Mine             | 10.5 K\n",
      "-------------------------------------------------\n",
      "10.5 K    Trainable params\n",
      "0         Non-trainable params\n",
      "10.5 K    Total params\n",
      "0.042     Total estimated model params size (MB)\n",
      "SLURM auto-requeueing enabled. Setting signal handlers.\n"
     ]
    },
    {
     "data": {
      "application/vnd.jupyter.widget-view+json": {
       "model_id": "116a9f6b1b6a47619a87c58314a3b33e",
       "version_major": 2,
       "version_minor": 0
      },
      "text/plain": [
       "Training: 0it [00:00, ?it/s]"
      ]
     },
     "metadata": {},
     "output_type": "display_data"
    },
    {
     "name": "stderr",
     "output_type": "stream",
     "text": [
      "`Trainer.fit` stopped: `max_epochs=50` reached.\n",
      "Restoring states from the checkpoint path at /home/dpiras/MI/notebooks/comparisons/lightning_logs/version_480432/checkpoints/epoch=49-step=300-v84.ckpt\n",
      "Loaded model weights from checkpoint at /home/dpiras/MI/notebooks/comparisons/lightning_logs/version_480432/checkpoints/epoch=49-step=300-v84.ckpt\n"
     ]
    },
    {
     "data": {
      "application/vnd.jupyter.widget-view+json": {
       "model_id": "5fc8d75f011a4227a2d5c2b9efb1b047",
       "version_major": 2,
       "version_minor": 0
      },
      "text/plain": [
       "Testing: 0it [00:00, ?it/s]"
      ]
     },
     "metadata": {},
     "output_type": "display_data"
    },
    {
     "name": "stderr",
     "output_type": "stream",
     "text": [
      "Multiprocessing is handled by SLURM.\n",
      "GPU available: False, used: False\n",
      "TPU available: False, using: 0 TPU cores\n",
      "IPU available: False, using: 0 IPUs\n",
      "HPU available: False, using: 0 HPUs\n",
      "\n",
      "  | Name        | Type             | Params\n",
      "-------------------------------------------------\n",
      "0 | T           | CustomSequential | 10.5 K\n",
      "1 | energy_loss | Mine             | 10.5 K\n",
      "-------------------------------------------------\n",
      "10.5 K    Trainable params\n",
      "0         Non-trainable params\n",
      "10.5 K    Total params\n",
      "0.042     Total estimated model params size (MB)\n",
      "SLURM auto-requeueing enabled. Setting signal handlers.\n"
     ]
    },
    {
     "data": {
      "application/vnd.jupyter.widget-view+json": {
       "model_id": "643d233581de4ee7ad3819e5e8eef149",
       "version_major": 2,
       "version_minor": 0
      },
      "text/plain": [
       "Training: 0it [00:00, ?it/s]"
      ]
     },
     "metadata": {},
     "output_type": "display_data"
    },
    {
     "name": "stderr",
     "output_type": "stream",
     "text": [
      "`Trainer.fit` stopped: `max_epochs=50` reached.\n",
      "Restoring states from the checkpoint path at /home/dpiras/MI/notebooks/comparisons/lightning_logs/version_480432/checkpoints/epoch=49-step=300-v85.ckpt\n",
      "Loaded model weights from checkpoint at /home/dpiras/MI/notebooks/comparisons/lightning_logs/version_480432/checkpoints/epoch=49-step=300-v85.ckpt\n"
     ]
    },
    {
     "data": {
      "application/vnd.jupyter.widget-view+json": {
       "model_id": "db8de47f3dbf41ab88cf2f0dcbf08611",
       "version_major": 2,
       "version_minor": 0
      },
      "text/plain": [
       "Testing: 0it [00:00, ?it/s]"
      ]
     },
     "metadata": {},
     "output_type": "display_data"
    },
    {
     "name": "stderr",
     "output_type": "stream",
     "text": [
      "Multiprocessing is handled by SLURM.\n",
      "GPU available: False, used: False\n",
      "TPU available: False, using: 0 TPU cores\n",
      "IPU available: False, using: 0 IPUs\n",
      "HPU available: False, using: 0 HPUs\n",
      "\n",
      "  | Name        | Type             | Params\n",
      "-------------------------------------------------\n",
      "0 | T           | CustomSequential | 10.5 K\n",
      "1 | energy_loss | Mine             | 10.5 K\n",
      "-------------------------------------------------\n",
      "10.5 K    Trainable params\n",
      "0         Non-trainable params\n",
      "10.5 K    Total params\n",
      "0.042     Total estimated model params size (MB)\n",
      "SLURM auto-requeueing enabled. Setting signal handlers.\n"
     ]
    },
    {
     "data": {
      "application/vnd.jupyter.widget-view+json": {
       "model_id": "44d00fa8902a4025af4be6740dc767d8",
       "version_major": 2,
       "version_minor": 0
      },
      "text/plain": [
       "Training: 0it [00:00, ?it/s]"
      ]
     },
     "metadata": {},
     "output_type": "display_data"
    },
    {
     "name": "stderr",
     "output_type": "stream",
     "text": [
      "`Trainer.fit` stopped: `max_epochs=50` reached.\n",
      "Restoring states from the checkpoint path at /home/dpiras/MI/notebooks/comparisons/lightning_logs/version_480432/checkpoints/epoch=49-step=300-v86.ckpt\n",
      "Loaded model weights from checkpoint at /home/dpiras/MI/notebooks/comparisons/lightning_logs/version_480432/checkpoints/epoch=49-step=300-v86.ckpt\n"
     ]
    },
    {
     "data": {
      "application/vnd.jupyter.widget-view+json": {
       "model_id": "ec22dfac3ba640f7a434aecb2c3134d8",
       "version_major": 2,
       "version_minor": 0
      },
      "text/plain": [
       "Testing: 0it [00:00, ?it/s]"
      ]
     },
     "metadata": {},
     "output_type": "display_data"
    },
    {
     "name": "stderr",
     "output_type": "stream",
     "text": [
      "Multiprocessing is handled by SLURM.\n",
      "GPU available: False, used: False\n",
      "TPU available: False, using: 0 TPU cores\n",
      "IPU available: False, using: 0 IPUs\n",
      "HPU available: False, using: 0 HPUs\n",
      "\n",
      "  | Name        | Type             | Params\n",
      "-------------------------------------------------\n",
      "0 | T           | CustomSequential | 10.5 K\n",
      "1 | energy_loss | Mine             | 10.5 K\n",
      "-------------------------------------------------\n",
      "10.5 K    Trainable params\n",
      "0         Non-trainable params\n",
      "10.5 K    Total params\n",
      "0.042     Total estimated model params size (MB)\n",
      "SLURM auto-requeueing enabled. Setting signal handlers.\n"
     ]
    },
    {
     "data": {
      "application/vnd.jupyter.widget-view+json": {
       "model_id": "22cbe256d52045a3845d968631a1ae67",
       "version_major": 2,
       "version_minor": 0
      },
      "text/plain": [
       "Training: 0it [00:00, ?it/s]"
      ]
     },
     "metadata": {},
     "output_type": "display_data"
    },
    {
     "name": "stderr",
     "output_type": "stream",
     "text": [
      "`Trainer.fit` stopped: `max_epochs=50` reached.\n",
      "Restoring states from the checkpoint path at /home/dpiras/MI/notebooks/comparisons/lightning_logs/version_480432/checkpoints/epoch=49-step=300-v87.ckpt\n",
      "Loaded model weights from checkpoint at /home/dpiras/MI/notebooks/comparisons/lightning_logs/version_480432/checkpoints/epoch=49-step=300-v87.ckpt\n"
     ]
    },
    {
     "data": {
      "application/vnd.jupyter.widget-view+json": {
       "model_id": "8e061dc18c9547edaf45b00f662d76a7",
       "version_major": 2,
       "version_minor": 0
      },
      "text/plain": [
       "Testing: 0it [00:00, ?it/s]"
      ]
     },
     "metadata": {},
     "output_type": "display_data"
    },
    {
     "name": "stderr",
     "output_type": "stream",
     "text": [
      "Multiprocessing is handled by SLURM.\n",
      "GPU available: False, used: False\n",
      "TPU available: False, using: 0 TPU cores\n",
      "IPU available: False, using: 0 IPUs\n",
      "HPU available: False, using: 0 HPUs\n",
      "\n",
      "  | Name        | Type             | Params\n",
      "-------------------------------------------------\n",
      "0 | T           | CustomSequential | 10.5 K\n",
      "1 | energy_loss | Mine             | 10.5 K\n",
      "-------------------------------------------------\n",
      "10.5 K    Trainable params\n",
      "0         Non-trainable params\n",
      "10.5 K    Total params\n",
      "0.042     Total estimated model params size (MB)\n",
      "SLURM auto-requeueing enabled. Setting signal handlers.\n"
     ]
    },
    {
     "data": {
      "application/vnd.jupyter.widget-view+json": {
       "model_id": "340af53e98b6486dad73377aaf411502",
       "version_major": 2,
       "version_minor": 0
      },
      "text/plain": [
       "Training: 0it [00:00, ?it/s]"
      ]
     },
     "metadata": {},
     "output_type": "display_data"
    },
    {
     "name": "stderr",
     "output_type": "stream",
     "text": [
      "`Trainer.fit` stopped: `max_epochs=50` reached.\n",
      "Restoring states from the checkpoint path at /home/dpiras/MI/notebooks/comparisons/lightning_logs/version_480432/checkpoints/epoch=49-step=300-v88.ckpt\n",
      "Loaded model weights from checkpoint at /home/dpiras/MI/notebooks/comparisons/lightning_logs/version_480432/checkpoints/epoch=49-step=300-v88.ckpt\n"
     ]
    },
    {
     "data": {
      "application/vnd.jupyter.widget-view+json": {
       "model_id": "5b9608f7ec624d1b940ca049e64408ab",
       "version_major": 2,
       "version_minor": 0
      },
      "text/plain": [
       "Testing: 0it [00:00, ?it/s]"
      ]
     },
     "metadata": {},
     "output_type": "display_data"
    },
    {
     "name": "stderr",
     "output_type": "stream",
     "text": [
      "Multiprocessing is handled by SLURM.\n",
      "GPU available: False, used: False\n",
      "TPU available: False, using: 0 TPU cores\n",
      "IPU available: False, using: 0 IPUs\n",
      "HPU available: False, using: 0 HPUs\n",
      "\n",
      "  | Name        | Type             | Params\n",
      "-------------------------------------------------\n",
      "0 | T           | CustomSequential | 10.5 K\n",
      "1 | energy_loss | Mine             | 10.5 K\n",
      "-------------------------------------------------\n",
      "10.5 K    Trainable params\n",
      "0         Non-trainable params\n",
      "10.5 K    Total params\n",
      "0.042     Total estimated model params size (MB)\n",
      "SLURM auto-requeueing enabled. Setting signal handlers.\n"
     ]
    },
    {
     "data": {
      "application/vnd.jupyter.widget-view+json": {
       "model_id": "8d91a802e70143d5aba68d0a57bc2fe2",
       "version_major": 2,
       "version_minor": 0
      },
      "text/plain": [
       "Training: 0it [00:00, ?it/s]"
      ]
     },
     "metadata": {},
     "output_type": "display_data"
    },
    {
     "name": "stderr",
     "output_type": "stream",
     "text": [
      "`Trainer.fit` stopped: `max_epochs=50` reached.\n",
      "Restoring states from the checkpoint path at /home/dpiras/MI/notebooks/comparisons/lightning_logs/version_480432/checkpoints/epoch=49-step=300-v89.ckpt\n",
      "Loaded model weights from checkpoint at /home/dpiras/MI/notebooks/comparisons/lightning_logs/version_480432/checkpoints/epoch=49-step=300-v89.ckpt\n"
     ]
    },
    {
     "data": {
      "application/vnd.jupyter.widget-view+json": {
       "model_id": "e011fe928b5944ff98a41b8e479d27e8",
       "version_major": 2,
       "version_minor": 0
      },
      "text/plain": [
       "Testing: 0it [00:00, ?it/s]"
      ]
     },
     "metadata": {},
     "output_type": "display_data"
    },
    {
     "name": "stderr",
     "output_type": "stream",
     "text": [
      "Multiprocessing is handled by SLURM.\n",
      "GPU available: False, used: False\n",
      "TPU available: False, using: 0 TPU cores\n",
      "IPU available: False, using: 0 IPUs\n",
      "HPU available: False, using: 0 HPUs\n",
      "\n",
      "  | Name        | Type             | Params\n",
      "-------------------------------------------------\n",
      "0 | T           | CustomSequential | 10.5 K\n",
      "1 | energy_loss | Mine             | 10.5 K\n",
      "-------------------------------------------------\n",
      "10.5 K    Trainable params\n",
      "0         Non-trainable params\n",
      "10.5 K    Total params\n",
      "0.042     Total estimated model params size (MB)\n",
      "SLURM auto-requeueing enabled. Setting signal handlers.\n"
     ]
    },
    {
     "data": {
      "application/vnd.jupyter.widget-view+json": {
       "model_id": "9482a3fa26c8429294a4551c6e0dd43b",
       "version_major": 2,
       "version_minor": 0
      },
      "text/plain": [
       "Training: 0it [00:00, ?it/s]"
      ]
     },
     "metadata": {},
     "output_type": "display_data"
    },
    {
     "name": "stderr",
     "output_type": "stream",
     "text": [
      "`Trainer.fit` stopped: `max_epochs=50` reached.\n",
      "Restoring states from the checkpoint path at /home/dpiras/MI/notebooks/comparisons/lightning_logs/version_480432/checkpoints/epoch=49-step=300-v90.ckpt\n",
      "Loaded model weights from checkpoint at /home/dpiras/MI/notebooks/comparisons/lightning_logs/version_480432/checkpoints/epoch=49-step=300-v90.ckpt\n"
     ]
    },
    {
     "data": {
      "application/vnd.jupyter.widget-view+json": {
       "model_id": "3c56be42ae174e779b3565f68fbf579d",
       "version_major": 2,
       "version_minor": 0
      },
      "text/plain": [
       "Testing: 0it [00:00, ?it/s]"
      ]
     },
     "metadata": {},
     "output_type": "display_data"
    },
    {
     "name": "stderr",
     "output_type": "stream",
     "text": [
      "Multiprocessing is handled by SLURM.\n",
      "GPU available: False, used: False\n",
      "TPU available: False, using: 0 TPU cores\n",
      "IPU available: False, using: 0 IPUs\n",
      "HPU available: False, using: 0 HPUs\n",
      "\n",
      "  | Name        | Type             | Params\n",
      "-------------------------------------------------\n",
      "0 | T           | CustomSequential | 10.5 K\n",
      "1 | energy_loss | Mine             | 10.5 K\n",
      "-------------------------------------------------\n",
      "10.5 K    Trainable params\n",
      "0         Non-trainable params\n",
      "10.5 K    Total params\n",
      "0.042     Total estimated model params size (MB)\n",
      "SLURM auto-requeueing enabled. Setting signal handlers.\n"
     ]
    },
    {
     "data": {
      "application/vnd.jupyter.widget-view+json": {
       "model_id": "a16c923061494ea9b01ff9e9a4481158",
       "version_major": 2,
       "version_minor": 0
      },
      "text/plain": [
       "Training: 0it [00:00, ?it/s]"
      ]
     },
     "metadata": {},
     "output_type": "display_data"
    },
    {
     "name": "stderr",
     "output_type": "stream",
     "text": [
      "`Trainer.fit` stopped: `max_epochs=50` reached.\n",
      "Restoring states from the checkpoint path at /home/dpiras/MI/notebooks/comparisons/lightning_logs/version_480432/checkpoints/epoch=49-step=300-v91.ckpt\n",
      "Loaded model weights from checkpoint at /home/dpiras/MI/notebooks/comparisons/lightning_logs/version_480432/checkpoints/epoch=49-step=300-v91.ckpt\n"
     ]
    },
    {
     "data": {
      "application/vnd.jupyter.widget-view+json": {
       "model_id": "240cc44f6d0540059509c750a7bc0a79",
       "version_major": 2,
       "version_minor": 0
      },
      "text/plain": [
       "Testing: 0it [00:00, ?it/s]"
      ]
     },
     "metadata": {},
     "output_type": "display_data"
    },
    {
     "name": "stderr",
     "output_type": "stream",
     "text": [
      "Multiprocessing is handled by SLURM.\n",
      "GPU available: False, used: False\n",
      "TPU available: False, using: 0 TPU cores\n",
      "IPU available: False, using: 0 IPUs\n",
      "HPU available: False, using: 0 HPUs\n",
      "\n",
      "  | Name        | Type             | Params\n",
      "-------------------------------------------------\n",
      "0 | T           | CustomSequential | 10.5 K\n",
      "1 | energy_loss | Mine             | 10.5 K\n",
      "-------------------------------------------------\n",
      "10.5 K    Trainable params\n",
      "0         Non-trainable params\n",
      "10.5 K    Total params\n",
      "0.042     Total estimated model params size (MB)\n",
      "SLURM auto-requeueing enabled. Setting signal handlers.\n"
     ]
    },
    {
     "data": {
      "application/vnd.jupyter.widget-view+json": {
       "model_id": "e9a76375cf9a4281ab80ea5ccf30bdbd",
       "version_major": 2,
       "version_minor": 0
      },
      "text/plain": [
       "Training: 0it [00:00, ?it/s]"
      ]
     },
     "metadata": {},
     "output_type": "display_data"
    },
    {
     "name": "stderr",
     "output_type": "stream",
     "text": [
      "`Trainer.fit` stopped: `max_epochs=50` reached.\n",
      "Restoring states from the checkpoint path at /home/dpiras/MI/notebooks/comparisons/lightning_logs/version_480432/checkpoints/epoch=49-step=300-v92.ckpt\n",
      "Loaded model weights from checkpoint at /home/dpiras/MI/notebooks/comparisons/lightning_logs/version_480432/checkpoints/epoch=49-step=300-v92.ckpt\n"
     ]
    },
    {
     "data": {
      "application/vnd.jupyter.widget-view+json": {
       "model_id": "4bf30da427174025a069aa929c6d62ed",
       "version_major": 2,
       "version_minor": 0
      },
      "text/plain": [
       "Testing: 0it [00:00, ?it/s]"
      ]
     },
     "metadata": {},
     "output_type": "display_data"
    },
    {
     "name": "stderr",
     "output_type": "stream",
     "text": [
      "Multiprocessing is handled by SLURM.\n",
      "GPU available: False, used: False\n",
      "TPU available: False, using: 0 TPU cores\n",
      "IPU available: False, using: 0 IPUs\n",
      "HPU available: False, using: 0 HPUs\n",
      "\n",
      "  | Name        | Type             | Params\n",
      "-------------------------------------------------\n",
      "0 | T           | CustomSequential | 10.5 K\n",
      "1 | energy_loss | Mine             | 10.5 K\n",
      "-------------------------------------------------\n",
      "10.5 K    Trainable params\n",
      "0         Non-trainable params\n",
      "10.5 K    Total params\n",
      "0.042     Total estimated model params size (MB)\n",
      "SLURM auto-requeueing enabled. Setting signal handlers.\n"
     ]
    },
    {
     "data": {
      "application/vnd.jupyter.widget-view+json": {
       "model_id": "60c33eb0c5254c4b99dda46cea72f0b2",
       "version_major": 2,
       "version_minor": 0
      },
      "text/plain": [
       "Training: 0it [00:00, ?it/s]"
      ]
     },
     "metadata": {},
     "output_type": "display_data"
    },
    {
     "name": "stderr",
     "output_type": "stream",
     "text": [
      "`Trainer.fit` stopped: `max_epochs=50` reached.\n",
      "Restoring states from the checkpoint path at /home/dpiras/MI/notebooks/comparisons/lightning_logs/version_480432/checkpoints/epoch=49-step=300-v93.ckpt\n",
      "Loaded model weights from checkpoint at /home/dpiras/MI/notebooks/comparisons/lightning_logs/version_480432/checkpoints/epoch=49-step=300-v93.ckpt\n"
     ]
    },
    {
     "data": {
      "application/vnd.jupyter.widget-view+json": {
       "model_id": "1b9fdc7cf12d4d3e987e77abaf937d64",
       "version_major": 2,
       "version_minor": 0
      },
      "text/plain": [
       "Testing: 0it [00:00, ?it/s]"
      ]
     },
     "metadata": {},
     "output_type": "display_data"
    },
    {
     "name": "stderr",
     "output_type": "stream",
     "text": [
      "Multiprocessing is handled by SLURM.\n",
      "GPU available: False, used: False\n",
      "TPU available: False, using: 0 TPU cores\n",
      "IPU available: False, using: 0 IPUs\n",
      "HPU available: False, using: 0 HPUs\n",
      "\n",
      "  | Name        | Type             | Params\n",
      "-------------------------------------------------\n",
      "0 | T           | CustomSequential | 10.5 K\n",
      "1 | energy_loss | Mine             | 10.5 K\n",
      "-------------------------------------------------\n",
      "10.5 K    Trainable params\n",
      "0         Non-trainable params\n",
      "10.5 K    Total params\n",
      "0.042     Total estimated model params size (MB)\n",
      "SLURM auto-requeueing enabled. Setting signal handlers.\n"
     ]
    },
    {
     "data": {
      "application/vnd.jupyter.widget-view+json": {
       "model_id": "f4fba455689349988317ba6c41a0fcf9",
       "version_major": 2,
       "version_minor": 0
      },
      "text/plain": [
       "Training: 0it [00:00, ?it/s]"
      ]
     },
     "metadata": {},
     "output_type": "display_data"
    },
    {
     "name": "stderr",
     "output_type": "stream",
     "text": [
      "`Trainer.fit` stopped: `max_epochs=50` reached.\n",
      "Restoring states from the checkpoint path at /home/dpiras/MI/notebooks/comparisons/lightning_logs/version_480432/checkpoints/epoch=49-step=300-v94.ckpt\n",
      "Loaded model weights from checkpoint at /home/dpiras/MI/notebooks/comparisons/lightning_logs/version_480432/checkpoints/epoch=49-step=300-v94.ckpt\n"
     ]
    },
    {
     "data": {
      "application/vnd.jupyter.widget-view+json": {
       "model_id": "4c8138e44e2a4a74bfcf5001bdee39cb",
       "version_major": 2,
       "version_minor": 0
      },
      "text/plain": [
       "Testing: 0it [00:00, ?it/s]"
      ]
     },
     "metadata": {},
     "output_type": "display_data"
    },
    {
     "name": "stderr",
     "output_type": "stream",
     "text": [
      "Multiprocessing is handled by SLURM.\n",
      "GPU available: False, used: False\n",
      "TPU available: False, using: 0 TPU cores\n",
      "IPU available: False, using: 0 IPUs\n",
      "HPU available: False, using: 0 HPUs\n",
      "\n",
      "  | Name        | Type             | Params\n",
      "-------------------------------------------------\n",
      "0 | T           | CustomSequential | 10.5 K\n",
      "1 | energy_loss | Mine             | 10.5 K\n",
      "-------------------------------------------------\n",
      "10.5 K    Trainable params\n",
      "0         Non-trainable params\n",
      "10.5 K    Total params\n",
      "0.042     Total estimated model params size (MB)\n",
      "SLURM auto-requeueing enabled. Setting signal handlers.\n"
     ]
    },
    {
     "data": {
      "application/vnd.jupyter.widget-view+json": {
       "model_id": "4da959e290844000a928632b173c6cd1",
       "version_major": 2,
       "version_minor": 0
      },
      "text/plain": [
       "Training: 0it [00:00, ?it/s]"
      ]
     },
     "metadata": {},
     "output_type": "display_data"
    },
    {
     "name": "stderr",
     "output_type": "stream",
     "text": [
      "`Trainer.fit` stopped: `max_epochs=50` reached.\n",
      "Restoring states from the checkpoint path at /home/dpiras/MI/notebooks/comparisons/lightning_logs/version_480432/checkpoints/epoch=49-step=300-v95.ckpt\n",
      "Loaded model weights from checkpoint at /home/dpiras/MI/notebooks/comparisons/lightning_logs/version_480432/checkpoints/epoch=49-step=300-v95.ckpt\n"
     ]
    },
    {
     "data": {
      "application/vnd.jupyter.widget-view+json": {
       "model_id": "451d8dec90ed4635bfbe96cab030ab57",
       "version_major": 2,
       "version_minor": 0
      },
      "text/plain": [
       "Testing: 0it [00:00, ?it/s]"
      ]
     },
     "metadata": {},
     "output_type": "display_data"
    },
    {
     "name": "stderr",
     "output_type": "stream",
     "text": [
      "Multiprocessing is handled by SLURM.\n",
      "GPU available: False, used: False\n",
      "TPU available: False, using: 0 TPU cores\n",
      "IPU available: False, using: 0 IPUs\n",
      "HPU available: False, using: 0 HPUs\n",
      "\n",
      "  | Name        | Type             | Params\n",
      "-------------------------------------------------\n",
      "0 | T           | CustomSequential | 10.5 K\n",
      "1 | energy_loss | Mine             | 10.5 K\n",
      "-------------------------------------------------\n",
      "10.5 K    Trainable params\n",
      "0         Non-trainable params\n",
      "10.5 K    Total params\n",
      "0.042     Total estimated model params size (MB)\n",
      "SLURM auto-requeueing enabled. Setting signal handlers.\n"
     ]
    },
    {
     "data": {
      "application/vnd.jupyter.widget-view+json": {
       "model_id": "630575874b1a4638b4edba1a6033f85e",
       "version_major": 2,
       "version_minor": 0
      },
      "text/plain": [
       "Training: 0it [00:00, ?it/s]"
      ]
     },
     "metadata": {},
     "output_type": "display_data"
    },
    {
     "name": "stderr",
     "output_type": "stream",
     "text": [
      "`Trainer.fit` stopped: `max_epochs=50` reached.\n",
      "Restoring states from the checkpoint path at /home/dpiras/MI/notebooks/comparisons/lightning_logs/version_480432/checkpoints/epoch=49-step=300-v96.ckpt\n",
      "Loaded model weights from checkpoint at /home/dpiras/MI/notebooks/comparisons/lightning_logs/version_480432/checkpoints/epoch=49-step=300-v96.ckpt\n"
     ]
    },
    {
     "data": {
      "application/vnd.jupyter.widget-view+json": {
       "model_id": "687997eace974d4baa64257aadf826b1",
       "version_major": 2,
       "version_minor": 0
      },
      "text/plain": [
       "Testing: 0it [00:00, ?it/s]"
      ]
     },
     "metadata": {},
     "output_type": "display_data"
    },
    {
     "name": "stderr",
     "output_type": "stream",
     "text": [
      "Multiprocessing is handled by SLURM.\n",
      "GPU available: False, used: False\n",
      "TPU available: False, using: 0 TPU cores\n",
      "IPU available: False, using: 0 IPUs\n",
      "HPU available: False, using: 0 HPUs\n",
      "\n",
      "  | Name        | Type             | Params\n",
      "-------------------------------------------------\n",
      "0 | T           | CustomSequential | 10.5 K\n",
      "1 | energy_loss | Mine             | 10.5 K\n",
      "-------------------------------------------------\n",
      "10.5 K    Trainable params\n",
      "0         Non-trainable params\n",
      "10.5 K    Total params\n",
      "0.042     Total estimated model params size (MB)\n",
      "SLURM auto-requeueing enabled. Setting signal handlers.\n"
     ]
    },
    {
     "data": {
      "application/vnd.jupyter.widget-view+json": {
       "model_id": "51ae38cb88e04cf09623856abe8c05fa",
       "version_major": 2,
       "version_minor": 0
      },
      "text/plain": [
       "Training: 0it [00:00, ?it/s]"
      ]
     },
     "metadata": {},
     "output_type": "display_data"
    },
    {
     "name": "stderr",
     "output_type": "stream",
     "text": [
      "`Trainer.fit` stopped: `max_epochs=50` reached.\n",
      "Restoring states from the checkpoint path at /home/dpiras/MI/notebooks/comparisons/lightning_logs/version_480432/checkpoints/epoch=49-step=300-v97.ckpt\n",
      "Loaded model weights from checkpoint at /home/dpiras/MI/notebooks/comparisons/lightning_logs/version_480432/checkpoints/epoch=49-step=300-v97.ckpt\n"
     ]
    },
    {
     "data": {
      "application/vnd.jupyter.widget-view+json": {
       "model_id": "8e6db13f092142189f2ad6d0e89032d4",
       "version_major": 2,
       "version_minor": 0
      },
      "text/plain": [
       "Testing: 0it [00:00, ?it/s]"
      ]
     },
     "metadata": {},
     "output_type": "display_data"
    },
    {
     "name": "stderr",
     "output_type": "stream",
     "text": [
      "Multiprocessing is handled by SLURM.\n",
      "GPU available: False, used: False\n",
      "TPU available: False, using: 0 TPU cores\n",
      "IPU available: False, using: 0 IPUs\n",
      "HPU available: False, using: 0 HPUs\n",
      "\n",
      "  | Name        | Type             | Params\n",
      "-------------------------------------------------\n",
      "0 | T           | CustomSequential | 10.5 K\n",
      "1 | energy_loss | Mine             | 10.5 K\n",
      "-------------------------------------------------\n",
      "10.5 K    Trainable params\n",
      "0         Non-trainable params\n",
      "10.5 K    Total params\n",
      "0.042     Total estimated model params size (MB)\n",
      "SLURM auto-requeueing enabled. Setting signal handlers.\n"
     ]
    },
    {
     "data": {
      "application/vnd.jupyter.widget-view+json": {
       "model_id": "239c32d4b8354268ab8f04d9f3a42bf1",
       "version_major": 2,
       "version_minor": 0
      },
      "text/plain": [
       "Training: 0it [00:00, ?it/s]"
      ]
     },
     "metadata": {},
     "output_type": "display_data"
    },
    {
     "name": "stderr",
     "output_type": "stream",
     "text": [
      "`Trainer.fit` stopped: `max_epochs=50` reached.\n",
      "Restoring states from the checkpoint path at /home/dpiras/MI/notebooks/comparisons/lightning_logs/version_480432/checkpoints/epoch=49-step=300-v98.ckpt\n",
      "Loaded model weights from checkpoint at /home/dpiras/MI/notebooks/comparisons/lightning_logs/version_480432/checkpoints/epoch=49-step=300-v98.ckpt\n"
     ]
    },
    {
     "data": {
      "application/vnd.jupyter.widget-view+json": {
       "model_id": "d1e8a88a38954243bb218cc3ba1e8e30",
       "version_major": 2,
       "version_minor": 0
      },
      "text/plain": [
       "Testing: 0it [00:00, ?it/s]"
      ]
     },
     "metadata": {},
     "output_type": "display_data"
    },
    {
     "name": "stderr",
     "output_type": "stream",
     "text": [
      "Multiprocessing is handled by SLURM.\n",
      "GPU available: False, used: False\n",
      "TPU available: False, using: 0 TPU cores\n",
      "IPU available: False, using: 0 IPUs\n",
      "HPU available: False, using: 0 HPUs\n",
      "\n",
      "  | Name        | Type             | Params\n",
      "-------------------------------------------------\n",
      "0 | T           | CustomSequential | 10.5 K\n",
      "1 | energy_loss | Mine             | 10.5 K\n",
      "-------------------------------------------------\n",
      "10.5 K    Trainable params\n",
      "0         Non-trainable params\n",
      "10.5 K    Total params\n",
      "0.042     Total estimated model params size (MB)\n",
      "SLURM auto-requeueing enabled. Setting signal handlers.\n"
     ]
    },
    {
     "data": {
      "application/vnd.jupyter.widget-view+json": {
       "model_id": "afdcaef9e70f48ebab5539406407e9f4",
       "version_major": 2,
       "version_minor": 0
      },
      "text/plain": [
       "Training: 0it [00:00, ?it/s]"
      ]
     },
     "metadata": {},
     "output_type": "display_data"
    },
    {
     "name": "stderr",
     "output_type": "stream",
     "text": [
      "`Trainer.fit` stopped: `max_epochs=50` reached.\n",
      "Restoring states from the checkpoint path at /home/dpiras/MI/notebooks/comparisons/lightning_logs/version_480432/checkpoints/epoch=49-step=300-v99.ckpt\n",
      "Loaded model weights from checkpoint at /home/dpiras/MI/notebooks/comparisons/lightning_logs/version_480432/checkpoints/epoch=49-step=300-v99.ckpt\n"
     ]
    },
    {
     "data": {
      "application/vnd.jupyter.widget-view+json": {
       "model_id": "0903924661b04e27858a32f116e2f8ba",
       "version_major": 2,
       "version_minor": 0
      },
      "text/plain": [
       "Testing: 0it [00:00, ?it/s]"
      ]
     },
     "metadata": {},
     "output_type": "display_data"
    },
    {
     "name": "stdout",
     "output_type": "stream",
     "text": [
      "Total time for MINE: 59.812 s\n"
     ]
    }
   ],
   "source": [
    "mine_estimates = []\n",
    "\n",
    "dim = 1\n",
    "lr = 1e-3\n",
    "epochs = 50\n",
    "batch_size = 32\n",
    "loss_type = ['mine']  # mine, mine_biased, fdiv\n",
    "loss = loss_type[0]\n",
    "\n",
    "initial_time = time.time()\n",
    "\n",
    "for alpha in alphas:\n",
    "    x_samples = random_gen.gamma(alpha, 1, N)\n",
    "    # then for each x, we sample from an exp\n",
    "    y_samples = random_gen.exponential(scale = 1/x_samples)\n",
    "    X = np.stack((np.log(x_samples), np.log(y_samples)), axis=0).T\n",
    "\n",
    "    N = X.shape[0]\n",
    "    train_size = int(0.9 * N)\n",
    "    test_size = N - train_size\n",
    "\n",
    "    train_set, test_set = train_test_split(X, test_size=0.1, random_state=42)\n",
    "\n",
    "    tensor_x = torch.Tensor(train_set[:, :1]) # transform to torch tensor\n",
    "    tensor_y = torch.Tensor(train_set[:, 1:]) # transform to torch tensor\n",
    "    my_dataset = TensorDataset(tensor_x,tensor_y)\n",
    "    train_loader = torch.utils.data.DataLoader(my_dataset, batch_size=batch_size, shuffle=True)\n",
    "\n",
    "    tensor_x = torch.Tensor(test_set[:, :1]) # transform to torch tensor\n",
    "    tensor_y = torch.Tensor(test_set[:, 1:]) # transform to torch tensor\n",
    "    my_dataset = TensorDataset(tensor_x,tensor_y)\n",
    "    test_loader = torch.utils.data.DataLoader(my_dataset, batch_size=batch_size, shuffle=True)\n",
    "\n",
    "    kwargs = {\n",
    "        'lr': lr,\n",
    "        'batch_size': batch_size,\n",
    "        'train_loader': train_loader,\n",
    "        'test_loader': test_loader,\n",
    "        'alpha': 1.\n",
    "    }\n",
    "\n",
    "    model = MutualInformationEstimator(\n",
    "        dim, dim, loss=loss, **kwargs).to(device)\n",
    "    \n",
    "    trainer = Trainer(max_epochs=epochs)\n",
    "    trainer.fit(model)\n",
    "    trainer.test()\n",
    "\n",
    "    mine_estimates.append(model.avg_test_mi)\n",
    "\n",
    "mine_time = time.time()-initial_time    \n",
    "    \n",
    "print(f'Total time for MINE: {mine_time:.3f} s')"
   ]
  },
  {
   "cell_type": "markdown",
   "id": "71e5944d",
   "metadata": {},
   "source": [
    "### GMM-MI"
   ]
  },
  {
   "cell_type": "code",
   "execution_count": 5,
   "id": "e696886c",
   "metadata": {},
   "outputs": [],
   "source": [
    "# all unspecified parameters are set to their default values\n",
    "\n",
    "# parameters for every GMM fit that is being run\n",
    "gmm_fit_params = GMMFitParamHolder(threshold_fit=1e-5,\n",
    "                                   reg_covar=1e-12)\n",
    "\n",
    "# parameters to choose the number of components\n",
    "select_components_params = SelectComponentsParamHolder(n_inits=3,\n",
    "                                                       n_folds=2)\n",
    "\n",
    "# parameters for MI distribution estimation\n",
    "mi_dist_params = MIDistParamHolder(n_bootstrap=100,\n",
    "                                   MC_samples=1e4)"
   ]
  },
  {
   "cell_type": "code",
   "execution_count": 6,
   "id": "407b768d",
   "metadata": {},
   "outputs": [
    {
     "name": "stderr",
     "output_type": "stream",
     "text": [
      "100%|██████████| 100/100 [00:01<00:00, 82.87it/s]\n",
      "100%|██████████| 100/100 [00:02<00:00, 42.92it/s]\n",
      "100%|██████████| 100/100 [00:01<00:00, 62.92it/s]\n",
      "100%|██████████| 100/100 [00:03<00:00, 30.86it/s]\n",
      "100%|██████████| 100/100 [00:00<00:00, 104.62it/s]\n",
      "100%|██████████| 100/100 [00:00<00:00, 296.65it/s]\n",
      "100%|██████████| 100/100 [00:01<00:00, 60.61it/s]\n",
      "100%|██████████| 100/100 [00:01<00:00, 71.45it/s]\n",
      "100%|██████████| 100/100 [00:01<00:00, 70.61it/s]\n",
      "100%|██████████| 100/100 [00:00<00:00, 295.66it/s]\n",
      "100%|██████████| 100/100 [00:02<00:00, 48.58it/s]\n",
      "100%|██████████| 100/100 [00:00<00:00, 289.19it/s]\n",
      "100%|██████████| 100/100 [00:02<00:00, 46.07it/s]\n",
      "100%|██████████| 100/100 [00:00<00:00, 283.22it/s]\n",
      "100%|██████████| 100/100 [00:03<00:00, 29.93it/s]\n",
      "100%|██████████| 100/100 [00:00<00:00, 297.65it/s]\n",
      "100%|██████████| 100/100 [00:01<00:00, 52.30it/s]\n",
      "100%|██████████| 100/100 [00:00<00:00, 296.15it/s]\n",
      "100%|██████████| 100/100 [00:02<00:00, 45.81it/s]\n",
      "100%|██████████| 100/100 [00:02<00:00, 48.26it/s]"
     ]
    },
    {
     "name": "stdout",
     "output_type": "stream",
     "text": [
      "Total time for GMM: 40.043 s\n"
     ]
    },
    {
     "name": "stderr",
     "output_type": "stream",
     "text": [
      "\n"
     ]
    }
   ],
   "source": [
    "all_MI_estimates = np.zeros((len(alphas), 2))\n",
    "\n",
    "initial_time = time.time()\n",
    "\n",
    "for r, alpha in enumerate(alphas):\n",
    "    x_samples = random_gen.gamma(alpha, 1, N)\n",
    "    # then for each x, we sample from an exp\n",
    "    y_samples = random_gen.exponential(scale = 1/x_samples)\n",
    "    X = np.stack((np.log(x_samples), np.log(y_samples)), axis=0).T\n",
    "\n",
    "    mi_estimator = EstimateMI(gmm_fit_params=gmm_fit_params,\n",
    "                              select_components_params=select_components_params,\n",
    "                              mi_dist_params=mi_dist_params)\n",
    "    MI_mean, MI_std = mi_estimator.fit(X)    \n",
    "\n",
    "    # store results\n",
    "    all_MI_estimates[r, 0] = MI_mean\n",
    "    all_MI_estimates[r, 1] = MI_std\n",
    "\n",
    "gmm_mi_time = time.time()-initial_time\n",
    "print(f'Total time for GMM: {gmm_mi_time:.3f} s')"
   ]
  },
  {
   "cell_type": "markdown",
   "id": "51c2b52e",
   "metadata": {},
   "source": [
    "### Plot results"
   ]
  },
  {
   "cell_type": "code",
   "execution_count": null,
   "id": "e0b05a1c",
   "metadata": {},
   "outputs": [],
   "source": [
    "# let's plot all of this\n",
    "fig, ax = plt.subplots(1, 1, figsize=(12, 7))\n",
    "\n",
    "sigmas = 2\n",
    "lw = 3\n",
    "\n",
    "ax.tick_params(axis='both', which='major', labelsize=22, size=10)\n",
    "ax.tick_params(axis='both', which='minor', labelsize=22, size=5)\n",
    "ax.plot(alphas, knn_estimates, c='tomato', lw=lw, label=f'KSG ({ksg_time/len(alphas):.3f} s, single estimate)')\n",
    "ax.plot(alphas, mine_estimates, c='darkgreen', ls='-.', lw=lw, label=f'MINE ({mine_time/len(alphas):.1f} s, single estimate)')\n",
    "ax.plot(alphas, all_MI_estimates[:, 0], color='grey', alpha=0.8)\n",
    "ax.fill_between(alphas, all_MI_estimates[:, 0] - sigmas*all_MI_estimates[:, 1], \n",
    "                all_MI_estimates[:, 0]+sigmas*all_MI_estimates[:, 1], \n",
    "                color='grey', alpha=0.8, label=f'GMM-MI ({gmm_mi_time/len(alphas):.1f} s, full distribution)')\n",
    "ax.plot(alphas, analytic, ls='--', c='black', lw=lw, label='Ground truth')\n",
    "\n",
    "ax.legend(fontsize=25, frameon=False)\n",
    "        \n",
    "ax.set_xlabel(r'$\\alpha$', fontsize=30)\n",
    "ax.set_ylabel('Mutual information [nat]', fontsize=25);\n",
    "\n",
    "ax.set_xscale('log')\n",
    "\n",
    "plt.savefig('./figures/gamma_exp_comparison.pdf',  bbox_inches='tight');"
   ]
  },
  {
   "cell_type": "code",
   "execution_count": null,
   "id": "a4a63e2a",
   "metadata": {},
   "outputs": [],
   "source": []
  }
 ],
 "metadata": {
  "kernelspec": {
   "display_name": "Python 3 (ipykernel)",
   "language": "python",
   "name": "python3"
  },
  "language_info": {
   "codemirror_mode": {
    "name": "ipython",
    "version": 3
   },
   "file_extension": ".py",
   "mimetype": "text/x-python",
   "name": "python",
   "nbconvert_exporter": "python",
   "pygments_lexer": "ipython3",
   "version": "3.9.13"
  }
 },
 "nbformat": 4,
 "nbformat_minor": 5
}
