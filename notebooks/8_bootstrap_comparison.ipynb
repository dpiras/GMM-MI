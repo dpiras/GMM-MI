{
 "cells": [
  {
   "cell_type": "markdown",
   "id": "89af4efe",
   "metadata": {},
   "source": [
    "In this notebook, we compare GMM-MI with the [KSG estimator](https://scikit-learn.org/stable/modules/generated/sklearn.feature_selection.mutual_info_regression.html) and the [MINE estimator](https://github.com/gtegner/mine-pytorch) on a simple bivariate Gaussian with fixed level of correlation, but adding bootstrap to the other estimators, to estimate an error bar. To run this notebook you will need to install the MINE package following the instructions in the repository, which we report here. The cloning can be avoided if you use the folder already cloned for you in this repo.\n",
    "```\n",
    "git clone git@github.com:gtegner/mine-pytorch.git\n",
    "cd mine-pytorch\n",
    "pip install -e .\n",
    "```\n",
    "(note that to avoid conflicts you should also edit the setup file from `scikit_learn==0.22.1` to `scikit_learn>=0.22.1`).  Note the MINE results are not \"reproducible\", in the sense that the seed is not fixed."
   ]
  },
  {
   "cell_type": "markdown",
   "id": "593596a8",
   "metadata": {},
   "source": [
    "### Import packages"
   ]
  },
  {
   "cell_type": "code",
   "execution_count": 1,
   "id": "a981deba",
   "metadata": {},
   "outputs": [
    {
     "name": "stdout",
     "output_type": "stream",
     "text": [
      "Device: cpu\n"
     ]
    }
   ],
   "source": [
    "import numpy as np\n",
    "import yaml\n",
    "import time\n",
    "import matplotlib.pyplot as plt\n",
    "# GMM-MI\n",
    "from gmm_mi.gmm import GMM\n",
    "from gmm_mi.mi import EstimateMI\n",
    "from gmm_mi.utils.analytic_MI import calculate_MI_D1_analytical\n",
    "# KSG\n",
    "from sklearn.feature_selection import mutual_info_regression\n",
    "# MINE\n",
    "from sklearn.model_selection import train_test_split\n",
    "import torch\n",
    "from torch.utils.data import TensorDataset, DataLoader\n",
    "from mine.models.mine import MutualInformationEstimator\n",
    "from pytorch_lightning import Trainer\n",
    "import logging\n",
    "logging.getLogger().setLevel(logging.ERROR)\n",
    "device = 'cuda' if torch.cuda.is_available() else 'cpu'\n",
    "num_gpus = 1 if device=='cuda' else 0"
   ]
  },
  {
   "cell_type": "markdown",
   "id": "5143b6c8",
   "metadata": {},
   "source": [
    "### Calculate the true MI of the synthetic models"
   ]
  },
  {
   "cell_type": "code",
   "execution_count": 2,
   "id": "ba8a30a6",
   "metadata": {
    "scrolled": false
   },
   "outputs": [],
   "source": [
    "N = 2e2\n",
    "n_components = 1\n",
    "weights = np.array([1.])\n",
    "means = np.zeros((1, 2))\n",
    "C0 = [[1, 0.6], [0.6, 1]] # correlation is fixed to 0.6\n",
    "covariances = np.array([C0])\n",
    "# fix random state for stability across runs\n",
    "random_state = 13\n",
    "analytic = calculate_MI_D1_analytical(covariances[0])\n",
    "\n",
    "# get data whose MI distribution we want to calculate\n",
    "gmm_true = GMM(n_components=n_components, weights_init=weights, means_init=means, \n",
    "               covariances_init=covariances, random_state=random_state)\n",
    "X = gmm_true.sample(N)[0]"
   ]
  },
  {
   "cell_type": "markdown",
   "id": "466a097a",
   "metadata": {},
   "source": [
    "### KSG"
   ]
  },
  {
   "cell_type": "code",
   "execution_count": 3,
   "id": "1b971bfb",
   "metadata": {},
   "outputs": [
    {
     "name": "stdout",
     "output_type": "stream",
     "text": [
      "Total time for KSG: 0.041 s\n"
     ]
    }
   ],
   "source": [
    "knn_estimates_bs = []\n",
    "n_bootstrap = 20\n",
    "n_neighbors = 3\n",
    "\n",
    "initial_time = time.time()\n",
    "\n",
    "# bootstrap available samples\n",
    "for n_b in range(n_bootstrap):\n",
    "    # we use i to change the seed so that the results will be fully reproducible\n",
    "    rng = np.random.default_rng(n_b)\n",
    "    X_bs = rng.choice(X, X.shape[0])\n",
    "    knn_estimates_bs.append(mutual_info_regression(X_bs[:, 0].reshape(-1, 1), X_bs[:, 1], \n",
    "                                                   n_neighbors=n_neighbors))\n",
    "\n",
    "ksg_time = time.time()-initial_time    \n",
    "    \n",
    "print(f'Total time for KSG: {ksg_time:.3f} s')"
   ]
  },
  {
   "cell_type": "markdown",
   "id": "a7e611b7",
   "metadata": {},
   "source": [
    "### MINE"
   ]
  },
  {
   "cell_type": "code",
   "execution_count": 4,
   "id": "1b157296",
   "metadata": {
    "scrolled": true
   },
   "outputs": [
    {
     "name": "stderr",
     "output_type": "stream",
     "text": [
      "2022-08-22 12:03:59.919468: W tensorflow/stream_executor/platform/default/dso_loader.cc:64] Could not load dynamic library 'libcudart.so.11.0'; dlerror: libcudart.so.11.0: cannot open shared object file: No such file or directory; LD_LIBRARY_PATH: /opt/openmpi/lib\n",
      "2022-08-22 12:03:59.919493: I tensorflow/stream_executor/cuda/cudart_stub.cc:29] Ignore above cudart dlerror if you do not have a GPU set up on your machine.\n"
     ]
    },
    {
     "name": "stdout",
     "output_type": "stream",
     "text": [
      "Epoch 50: 100%|██████████| 3/3 [00:00<00:00, 63.90batch/s, batch_idx=2, loss=-0.240, loss_tqdm=-.179, mi=0.179, v_num=412032]  \n",
      "Testing: 100%|██████████| 3/3 [00:00<00:00, 379.96batch/s]\n",
      "Epoch 50: 100%|██████████| 3/3 [00:00<00:00, 63.16batch/s, batch_idx=2, loss=-0.193, loss_tqdm=-.365, mi=0.365, v_num=412032]    \n",
      "Testing: 100%|██████████| 3/3 [00:00<00:00, 226.50batch/s]\n",
      "Epoch 50: 100%|██████████| 3/3 [00:00<00:00, 65.43batch/s, batch_idx=2, loss=-0.194, loss_tqdm=-.12, mi=0.12, v_num=412032]     \n",
      "Testing: 100%|██████████| 3/3 [00:00<00:00, 212.27batch/s]\n",
      "Epoch 50: 100%|██████████| 3/3 [00:00<00:00, 64.27batch/s, batch_idx=2, loss=-0.173, loss_tqdm=0.029, mi=-.029, v_num=412032]    \n",
      "Testing: 100%|██████████| 3/3 [00:00<00:00, 293.31batch/s]\n",
      "Epoch 50: 100%|██████████| 3/3 [00:00<00:00, 64.06batch/s, batch_idx=2, loss=-0.218, loss_tqdm=-.162, mi=0.162, v_num=412032]      \n",
      "Testing: 100%|██████████| 3/3 [00:00<00:00, 374.37batch/s]\n",
      "Epoch 50: 100%|██████████| 3/3 [00:00<00:00, 63.39batch/s, batch_idx=2, loss=-0.280, loss_tqdm=-.279, mi=0.279, v_num=412032]    \n",
      "Testing: 100%|██████████| 3/3 [00:00<00:00, 396.47batch/s]\n",
      "Epoch 50: 100%|██████████| 3/3 [00:00<00:00, 63.36batch/s, batch_idx=2, loss=-0.215, loss_tqdm=-.327, mi=0.327, v_num=412032]    \n",
      "Testing: 100%|██████████| 3/3 [00:00<00:00, 206.47batch/s]\n",
      "Epoch 50: 100%|██████████| 3/3 [00:00<00:00, 64.35batch/s, batch_idx=2, loss=-0.292, loss_tqdm=-.408, mi=0.408, v_num=412032]    \n",
      "Testing: 100%|██████████| 3/3 [00:00<00:00, 378.98batch/s]\n",
      "Epoch 50: 100%|██████████| 3/3 [00:00<00:00, 61.61batch/s, batch_idx=2, loss=-0.242, loss_tqdm=-.418, mi=0.418, v_num=412032]    \n",
      "Testing: 100%|██████████| 3/3 [00:00<00:00, 370.94batch/s]\n",
      "Epoch 50: 100%|██████████| 3/3 [00:00<00:00, 64.36batch/s, batch_idx=2, loss=-0.159, loss_tqdm=-.128, mi=0.128, v_num=412032]    \n",
      "Testing: 100%|██████████| 3/3 [00:00<00:00, 201.15batch/s]\n",
      "Epoch 50: 100%|██████████| 3/3 [00:00<00:00, 64.63batch/s, batch_idx=2, loss=-0.284, loss_tqdm=-.335, mi=0.335, v_num=412032]    \n",
      "Testing: 100%|██████████| 3/3 [00:00<00:00, 385.41batch/s]\n",
      "Epoch 50: 100%|██████████| 3/3 [00:00<00:00, 62.09batch/s, batch_idx=2, loss=-0.218, loss_tqdm=-.236, mi=0.236, v_num=412032]    \n",
      "Testing: 100%|██████████| 3/3 [00:00<00:00, 249.44batch/s]\n",
      "Epoch 50: 100%|██████████| 3/3 [00:00<00:00, 65.10batch/s, batch_idx=2, loss=-0.292, loss_tqdm=-.182, mi=0.182, v_num=412032]   \n",
      "Testing: 100%|██████████| 3/3 [00:00<00:00, 382.01batch/s]\n",
      "Epoch 50: 100%|██████████| 3/3 [00:00<00:00, 63.45batch/s, batch_idx=2, loss=-0.307, loss_tqdm=-.647, mi=0.647, v_num=412032]  \n",
      "Testing: 100%|██████████| 3/3 [00:00<00:00, 395.13batch/s]\n",
      "Epoch 50: 100%|██████████| 3/3 [00:00<00:00, 66.77batch/s, batch_idx=2, loss=-0.264, loss_tqdm=-.168, mi=0.168, v_num=412032]  \n",
      "Testing: 100%|██████████| 3/3 [00:00<00:00, 373.69batch/s]\n",
      "Epoch 50: 100%|██████████| 3/3 [00:00<00:00, 66.01batch/s, batch_idx=2, loss=-0.255, loss_tqdm=-.212, mi=0.212, v_num=412032]    \n",
      "Testing: 100%|██████████| 3/3 [00:00<00:00, 412.28batch/s]\n",
      "Epoch 50: 100%|██████████| 3/3 [00:00<00:00, 64.62batch/s, batch_idx=2, loss=-0.210, loss_tqdm=-.191, mi=0.191, v_num=412032]   \n",
      "Testing: 100%|██████████| 3/3 [00:00<00:00, 394.58batch/s]\n",
      "Epoch 50: 100%|██████████| 3/3 [00:00<00:00, 65.41batch/s, batch_idx=2, loss=-0.250, loss_tqdm=-.332, mi=0.332, v_num=412032]    \n",
      "Testing: 100%|██████████| 3/3 [00:00<00:00, 376.82batch/s]\n",
      "Epoch 50: 100%|██████████| 3/3 [00:00<00:00, 62.92batch/s, batch_idx=2, loss=-0.240, loss_tqdm=-.335, mi=0.335, v_num=412032]   \n",
      "Testing: 100%|██████████| 3/3 [00:00<00:00, 204.65batch/s]\n",
      "Epoch 50: 100%|██████████| 3/3 [00:00<00:00, 65.20batch/s, batch_idx=2, loss=-0.185, loss_tqdm=-.274, mi=0.274, v_num=412032]    \n",
      "Testing: 100%|██████████| 3/3 [00:00<00:00, 247.10batch/s]\n",
      "Total time for MINE: 50.507 s\n"
     ]
    }
   ],
   "source": [
    "mine_estimates_bs = []\n",
    "\n",
    "dim = 1\n",
    "lr = 1e-3\n",
    "epochs = 50\n",
    "batch_size = 64\n",
    "loss_type = ['mine']  # mine, mine_biased, fdiv\n",
    "loss = loss_type[0]\n",
    "\n",
    "initial_time = time.time()\n",
    "\n",
    "# bootstrap available samples\n",
    "for n_b in range(n_bootstrap):\n",
    "    # we use i to change the seed so that the results will be fully reproducible\n",
    "    rng = np.random.default_rng(n_b)\n",
    "    X_bs = rng.choice(X, X.shape[0])\n",
    "\n",
    "    N = X_bs.shape[0]\n",
    "    train_size = int(0.9 * N)\n",
    "    test_size = N - train_size\n",
    "\n",
    "    train_set, test_set = train_test_split(X_bs, test_size=0.1, random_state=42)\n",
    "\n",
    "    tensor_x = torch.Tensor(train_set[:, :1]) # transform to torch tensor\n",
    "    tensor_y = torch.Tensor(train_set[:, 1:]) # transform to torch tensor\n",
    "    my_dataset = TensorDataset(tensor_x,tensor_y)\n",
    "    train_loader = torch.utils.data.DataLoader(my_dataset, batch_size=batch_size, shuffle=True)\n",
    "\n",
    "    tensor_x = torch.Tensor(test_set[:, :1]) # transform to torch tensor\n",
    "    tensor_y = torch.Tensor(test_set[:, 1:]) # transform to torch tensor\n",
    "    my_dataset = TensorDataset(tensor_x,tensor_y)\n",
    "    test_loader = torch.utils.data.DataLoader(my_dataset, batch_size=batch_size, shuffle=True)\n",
    "\n",
    "    kwargs = {\n",
    "        'lr': lr,\n",
    "        'batch_size': batch_size,\n",
    "        'train_loader': train_loader,\n",
    "        'test_loader': test_loader,\n",
    "        'alpha': 1.\n",
    "    }\n",
    "\n",
    "    model = MutualInformationEstimator(\n",
    "        dim, dim, loss=loss, **kwargs).to(device)\n",
    "    \n",
    "    trainer = Trainer(max_epochs=epochs, early_stop_callback=False, gpus=num_gpus)\n",
    "    trainer.fit(model)\n",
    "    trainer.test()\n",
    "\n",
    "    mine_estimates_bs.append(model.avg_test_mi)\n",
    "\n",
    "mine_time = time.time()-initial_time    \n",
    "    \n",
    "print(f'Total time for MINE: {mine_time:.3f} s')"
   ]
  },
  {
   "cell_type": "markdown",
   "id": "71e5944d",
   "metadata": {},
   "source": [
    "### GMM-MI"
   ]
  },
  {
   "cell_type": "code",
   "execution_count": 5,
   "id": "407b768d",
   "metadata": {},
   "outputs": [
    {
     "name": "stdout",
     "output_type": "stream",
     "text": [
      "Total time for GMM: 0.455 s\n"
     ]
    }
   ],
   "source": [
    "# load parameters from yaml file and assign them to variables\n",
    "# not the cleanest and safest way, but it should work\n",
    "with open('./config_parameters_5-8.yml', 'rb') as f:\n",
    "    conf = yaml.safe_load(f.read())\n",
    "locals().update(conf)\n",
    "n_bootstrap = 20\n",
    "\n",
    "initial_time = time.time()\n",
    "\n",
    "MI_mean, MI_std = EstimateMI(n_folds=n_folds, n_inits=n_inits, init_type=init_type, reg_covar=reg_covar, \n",
    "                         tol=tol, max_iter=max_iter, bootstrap=bootstrap, n_bootstrap=n_bootstrap, \n",
    "                         MC_samples=MC_samples, fixed_components=fixed_components, \n",
    "                         fixed_components_number=n_components, select_c=select_c, patience=patience, \n",
    "                         verbose=verbose, return_lcurves=return_lcurves).fit(X)   \n",
    "\n",
    "gmm_mi_time = time.time()-initial_time\n",
    "print(f'Total time for GMM: {gmm_mi_time:.3f} s')"
   ]
  },
  {
   "cell_type": "markdown",
   "id": "51c2b52e",
   "metadata": {},
   "source": [
    "### Plot results"
   ]
  },
  {
   "cell_type": "code",
   "execution_count": 10,
   "id": "e0b05a1c",
   "metadata": {},
   "outputs": [
    {
     "data": {
      "image/png": "[encoded data removed]",
      "text/plain": [
       "<Figure size 864x504 with 1 Axes>"
      ]
     },
     "metadata": {
      "needs_background": "light"
     },
     "output_type": "display_data"
    }
   ],
   "source": [
    "# let's plot all of this\n",
    "fig, ax = plt.subplots(1, 1, figsize=(12, 7))\n",
    "\n",
    "sigmas = 1\n",
    "lw = 3\n",
    "\n",
    "ax.tick_params(axis='both', which='major', labelsize=22, size=10)\n",
    "ax.errorbar(np.mean(knn_estimates_bs), 0.6, xerr=sigmas*np.std(knn_estimates_bs), yerr=None, fmt='.', \n",
    "            markersize=20, color='#7570b3', capsize=10, elinewidth=lw, label=f'KSG ({ksg_time:.2f} s)')\n",
    "ax.errorbar(np.mean(mine_estimates_bs), 0.5, xerr=sigmas*np.std(mine_estimates_bs), yerr=None, fmt='.', \n",
    "            markersize=20, color='#1b9e77', capsize=10, elinewidth=lw, label=f'MINE ({mine_time:.0f} s)')\n",
    "ax.errorbar(MI_mean, 0.4, yerr=None, xerr=sigmas*MI_std, fmt='.', markersize=20, color='#d95f02', \n",
    "            capsize=10, elinewidth=lw, label=f'GMM-MI ({gmm_mi_time:.2f} s)')\n",
    "ax.axvline(analytic, 0, linestyle='--', lw=3, color='k', label='Ground truth')\n",
    "\n",
    "handles, labels = ax.get_legend_handles_labels()\n",
    "i1, i2 = 0, 1\n",
    "handles[i1], handles[i2] = handles[i2], handles[i1] \n",
    "labels[i1], labels[i2] = labels[i2], labels[i1] \n",
    "\n",
    "i1, i2 = 1, 2\n",
    "handles[i1], handles[i2] = handles[i2], handles[i1] \n",
    "labels[i1], labels[i2] = labels[i2], labels[i1] \n",
    "\n",
    "i1, i2 = 2, 3\n",
    "handles[i1], handles[i2] = handles[i2], handles[i1] \n",
    "labels[i1], labels[i2] = labels[i2], labels[i1]\n",
    "\n",
    "ax.legend(handles, labels, fontsize=25, frameon=False, loc='lower right')\n",
    "        \n",
    "ax.axes.yaxis.set_ticks([])\n",
    "ax.set_ylim((0.38, 0.62))\n",
    "\n",
    "ax.set_xlabel('Mutual information [nats]', fontsize=25);\n",
    "plt.savefig('./figures/MI_bootstrap.pdf',  bbox_inches='tight');"
   ]
  },
  {
   "cell_type": "code",
   "execution_count": null,
   "id": "a4a63e2a",
   "metadata": {},
   "outputs": [],
   "source": []
  }
 ],
 "metadata": {
  "kernelspec": {
   "display_name": "Python 3 (ipykernel)",
   "language": "python",
   "name": "python3"
  },
  "language_info": {
   "codemirror_mode": {
    "name": "ipython",
    "version": 3
   },
   "file_extension": ".py",
   "mimetype": "text/x-python",
   "name": "python",
   "nbconvert_exporter": "python",
   "pygments_lexer": "ipython3",
   "version": "3.7.11"
  }
 },
 "nbformat": 4,
 "nbformat_minor": 5
}
