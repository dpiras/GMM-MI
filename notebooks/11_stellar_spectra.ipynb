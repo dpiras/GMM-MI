{
 "cells": [
  {
   "cell_type": "markdown",
   "id": "3ab7d162",
   "metadata": {},
   "source": [
    "In this notebook, we apply GMM-MI to estimate the mutual information between physical parameters and latent variables of the $\\beta$-VAE model trained on stellar spectra in [Sedaghat et al. (2021)](https://academic.oup.com/mnras/article-abstract/501/4/6026/6121645?redirectedFrom=fulltext&login=false). We compare our estimates with their results, obtained with histograms as density estimators. The most meaningful latents are found using the median absolute deviation (MAD). All data can be obtained from the [corresponding repository](https://github.com/NimSed/astro-machines).\n",
    "\n",
    "For this notebook, you will also need `pandas` and `astropy`; you can quickly run form your terminal:\n",
    "    \n",
    "    pip install pandas==1.3.4\n",
    "    pip install pandas==4.3.1"
   ]
  },
  {
   "cell_type": "markdown",
   "id": "593596a8",
   "metadata": {},
   "source": [
    "### Import packages"
   ]
  },
  {
   "cell_type": "code",
   "execution_count": 1,
   "id": "a981deba",
   "metadata": {},
   "outputs": [],
   "source": [
    "import numpy as np\n",
    "import yaml\n",
    "import pandas as pd\n",
    "from astropy.stats import sigma_clip\n",
    "from gmm_mi.gmm import GMM\n",
    "from gmm_mi.mi import EstimateMI\n",
    "from gmm_mi.utils.plotting import create_heatmap, annotate_heatmap"
   ]
  },
  {
   "cell_type": "markdown",
   "id": "5143b6c8",
   "metadata": {},
   "source": [
    "### Load the data"
   ]
  },
  {
   "cell_type": "code",
   "execution_count": 2,
   "id": "ba8a30a6",
   "metadata": {
    "scrolled": false
   },
   "outputs": [],
   "source": [
    "# latents with highest MAD\n",
    "significant_dimensions = [11, 19, 58, 85, 99, 124]\n",
    "stellar_params = ['radvel','Teff','Mass','[M/H]','airmass','snr']\n",
    "\n",
    "# these steps are taken from the astro-machines repository\n",
    "codes_file = './astro_machines_data/encoded_harps_unique_128d_e182_i1500000.npy'\n",
    "codes = pd.DataFrame(np.load(codes_file))\n",
    "labels = pd.read_csv('./astro_machines_data/harps_metadata_and_labels.csv')\n",
    "\n",
    "# if looking at the 'unique' subset, drop unnecessary rows\n",
    "if \"unique\" in codes_file:\n",
    "    labels.dropna(subset=['unique_subset'], inplace=True)\n",
    "\n",
    "# and reindex the codes dataframe accordingly\n",
    "codes.loc[:,'dp_id'] = labels['dp_id'].values\n",
    "labels = labels.set_index('dp_id')\n",
    "codes = codes.set_index('dp_id')"
   ]
  },
  {
   "cell_type": "markdown",
   "id": "eb5a89b3",
   "metadata": {},
   "source": [
    "### Calculate MI between significant latents and stellar spectra parameters"
   ]
  },
  {
   "cell_type": "code",
   "execution_count": null,
   "id": "7b6ae6ce",
   "metadata": {
    "scrolled": true
   },
   "outputs": [
    {
     "name": "stdout",
     "output_type": "stream",
     "text": [
      "Estimating MI...\n"
     ]
    },
    {
     "name": "stderr",
     "output_type": "stream",
     "text": [
      "WARNING: Input data contains invalid values (NaNs or infs), which were automatically clipped. [astropy.stats.sigma_clipping]\n",
      "WARNING: Input data contains invalid values (NaNs or infs), which were automatically clipped. [astropy.stats.sigma_clipping]\n"
     ]
    }
   ],
   "source": [
    "run_this_cell = True\n",
    "\n",
    "if not run_this_cell:\n",
    "    print('Not running this cell...')\n",
    "    pass\n",
    "else:\n",
    "    print(f'Estimating MI...')\n",
    "    all_MI_estimates = np.zeros((len(stellar_params), len(significant_dimensions), 2))\n",
    "    save = True\n",
    "\n",
    "    # load parameters from yaml file and assign them to variables\n",
    "    # not the cleanest and safest way, but it should work\n",
    "    with open('./config_files/config_parameters_9-11.yml', 'rb') as f:\n",
    "        conf = yaml.safe_load(f.read())\n",
    "    locals().update(conf)\n",
    "    # we need to slightly increase reg_covar to avoid\n",
    "    # a singularity in very few occasions\n",
    "    reg_covar = 1e-13\n",
    "    \n",
    "    for li, stellar_param in enumerate(stellar_params):\n",
    "        label = labels.loc[:, stellar_param].values\n",
    "        ind_mask = ~np.isnan(label)\n",
    "        clipped_label = sigma_clip(label,sigma=5,masked=True)\n",
    "        ind_mask = ind_mask & (~clipped_label.mask)\n",
    "        stellar_samples = clipped_label.data[ind_mask]    \n",
    "\n",
    "        for zi, latent_id in enumerate(significant_dimensions):\n",
    "            significant_latent = codes.iloc[:, latent_id].values\n",
    "            latent = significant_latent[ind_mask]\n",
    "            X = np.stack((stellar_samples, latent), axis=0).T          \n",
    "            MI_mean, MI_std = EstimateMI(n_folds=n_folds, n_inits=n_inits, init_type=init_type, reg_covar=reg_covar, \n",
    "                     tol=tol, max_iter=max_iter, bootstrap=bootstrap, n_bootstrap=n_bootstrap, \n",
    "                     MC_samples=MC_samples, metric_method=metric_method, patience=patience, \n",
    "                     verbose=verbose, return_lcurves=return_lcurves).fit(X)   \n",
    "           \n",
    "            # store results\n",
    "            all_MI_estimates[li, zi, 0] = MI_mean\n",
    "            all_MI_estimates[li, zi, 1] = MI_std\n",
    "\n",
    "            if save:\n",
    "                np.save(f'./results/MI_stellar_spectra.npy', all_MI_estimates)"
   ]
  },
  {
   "cell_type": "markdown",
   "id": "6c0a0d90",
   "metadata": {},
   "source": [
    "### Plot results"
   ]
  },
  {
   "cell_type": "code",
   "execution_count": null,
   "id": "4e505020",
   "metadata": {},
   "outputs": [],
   "source": [
    "# load pre-saved results\n",
    "all_MI_estimates = np.load(f'./results/MI_stellar_spectra.npy')"
   ]
  },
  {
   "cell_type": "code",
   "execution_count": null,
   "id": "afac3aff",
   "metadata": {},
   "outputs": [],
   "source": [
    "y_labels = ['Radial\\nvelocity','T$_{\\mathregular{eff}}$','Mass','[M/H]','Air\\nmass','SNR']\n",
    "x_labels = [f\"$z_{{{i}}}$\" for i in significant_dimensions]\n",
    "MI_values = all_MI_estimates[:, :, 0]"
   ]
  },
  {
   "cell_type": "code",
   "execution_count": null,
   "id": "488e58dc",
   "metadata": {},
   "outputs": [],
   "source": [
    "# and plot\n",
    "im, cbar = create_heatmap(MI_values, y_labels, x_labels, cmap=\"YlGn\", \n",
    "                          cbarlabel=\"MI [nats]\", alpha=0.9, vmax=1.5, \n",
    "                          vmin=0, fsize=23)\n",
    "texts = annotate_heatmap(im, valfmt=\"{x:.2f}\", save_fig=True, \n",
    "                         save_path='./figures/Sedaghat_MI_1.pdf',\n",
    "                         fontsize=23)"
   ]
  },
  {
   "cell_type": "markdown",
   "id": "8992f745",
   "metadata": {},
   "source": [
    "### Compare to MI values using histograms, as in Sedaghat et al. (2021)\n",
    "The following code is obtained and adapted from the [astro-machines repository](https://github.com/NimSed/astro-machines)."
   ]
  },
  {
   "cell_type": "code",
   "execution_count": null,
   "id": "0e7763fd",
   "metadata": {},
   "outputs": [],
   "source": [
    "#--- A simple joint Probability Density Estimator\n",
    "def pde2(d1,d2,nbins = 10, sigma=0):\n",
    "    if sigma > 0:\n",
    "        d1 = sigma_clip(d1,sigma=sigma)\n",
    "        d2 = sigma_clip(d2,sigma=sigma)\n",
    "        \n",
    "    h,_,_ = np.histogram2d(d1,d2,bins=[nbins,nbins])\n",
    "    h = h / np.sum(h)\n",
    "    return h\n",
    "\n",
    "#----------------------------------------------------------------------------\n",
    "# Mutual information for joint histogram\n",
    "# from https://matthew-brett.github.io/teaching/mutual_information.html\n",
    "#----------------------------------------------------------------------------\n",
    "def mutual_information(hgram): \n",
    "    # Convert bins counts to probability values\n",
    "    pxy = hgram / float(np.sum(hgram))\n",
    "    px = np.sum(pxy, axis=1) # marginal for x over y\n",
    "    py = np.sum(pxy, axis=0) # marginal for y over x\n",
    "    px_py = px[:, None] * py[None, :] # Broadcast to multiply marginals\n",
    "    # Now we can do the calculation using the pxy, px_py 2D arrays\n",
    "    nzs = pxy > 0 # Only non-zero pxy values contribute to the sum\n",
    "    return np.sum(pxy[nzs] * np.log(pxy[nzs] / px_py[nzs]))\n",
    "\n",
    "nDimensions = codes.shape[1]\n",
    "\n",
    "sed_MI = np.zeros((len(significant_dimensions), nDimensions))\n",
    "for k, stellar_param in enumerate(['radvel','Teff','Mass','[M/H]','airmass','snr']):\n",
    "    label = labels.loc[:,stellar_param].values\n",
    "    \n",
    "    #-- Drop NaNs in labels\n",
    "    ind_mask = ~np.isnan(label)\n",
    "\n",
    "    #-- Ignore outlier (most probably erroneous) labels\n",
    "    label_ = sigma_clip(label,sigma=5,masked=True)\n",
    "    ind_mask = ind_mask & (~label_.mask)\n",
    "    label_ = label_.data[ind_mask]\n",
    "    print(f'# of labels: {len(label_)}')\n",
    "\n",
    "    #--- Compute the MI indicator with 40 bins\n",
    "    nbinss = [40]\n",
    "    MI = np.zeros(nDimensions)\n",
    "    MIs = np.zeros([len(nbinss),nDimensions])\n",
    "\n",
    "    for b, nbins in enumerate(nbinss):\n",
    "        for i in range(nDimensions):\n",
    "            codes_ = codes.iloc[:,i].values\n",
    "            codes_ = codes_[ind_mask]\n",
    "            pqk = pde2(codes_,label_,nbins)\n",
    "            MI[i] = mutual_information(pqk)\n",
    "            MIs[b,i] = MI[i]\n",
    "            sed_MI[k, i] = MI[i] \n",
    "\n",
    "# only keep significante ones            \n",
    "sed_MI = sed_MI[:, significant_dimensions]"
   ]
  },
  {
   "cell_type": "code",
   "execution_count": null,
   "id": "8d99da20",
   "metadata": {},
   "outputs": [],
   "source": [
    "# and plot\n",
    "im, cbar = create_heatmap(sed_MI, y_labels, x_labels, cmap=\"YlGn\", \n",
    "                          cbarlabel=\"MI [nats]\", alpha=0.9, vmax=1.5, \n",
    "                          vmin=0, fsize=23)\n",
    "texts = annotate_heatmap(im, valfmt=\"{x:.2f}\", save_fig=True, \n",
    "                         save_path='./figures/Sedaghat_MI_2.pdf',\n",
    "                         fontsize=23)"
   ]
  },
  {
   "cell_type": "code",
   "execution_count": null,
   "id": "9ade1af6",
   "metadata": {},
   "outputs": [],
   "source": []
  }
 ],
 "metadata": {
  "kernelspec": {
   "display_name": "Python 3 (ipykernel)",
   "language": "python",
   "name": "python3"
  },
  "language_info": {
   "codemirror_mode": {
    "name": "ipython",
    "version": 3
   },
   "file_extension": ".py",
   "mimetype": "text/x-python",
   "name": "python",
   "nbconvert_exporter": "python",
   "pygments_lexer": "ipython3",
   "version": "3.7.11"
  }
 },
 "nbformat": 4,
 "nbformat_minor": 5
}
