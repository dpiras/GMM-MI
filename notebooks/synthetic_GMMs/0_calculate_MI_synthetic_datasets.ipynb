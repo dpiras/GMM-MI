{
 "cells": [
  {
   "cell_type": "markdown",
   "id": "4cf7dc6d",
   "metadata": {},
   "source": [
    "In this notebook, we calculate the \"true\" mutual information for a set of synthetic datasets. We use Monte Carlo integration with a large number of samples to estimate the MI integral (unless an analytic version is available), and save the results."
   ]
  },
  {
   "cell_type": "markdown",
   "id": "593596a8",
   "metadata": {},
   "source": [
    "### Import packages"
   ]
  },
  {
   "cell_type": "code",
   "execution_count": 16,
   "id": "10ebd866",
   "metadata": {},
   "outputs": [],
   "source": [
    "import os\n",
    "import numpy as np\n",
    "from gmm_mi.gmm import GMMWithMI as GMM\n",
    "import gmm_mi.data.synthetic_data as synthetic_data\n",
    "from gmm_mi.utils import analytic_MI"
   ]
  },
  {
   "cell_type": "markdown",
   "id": "e34f587c",
   "metadata": {},
   "source": [
    "### Iterate over the datasets and store the results"
   ]
  },
  {
   "cell_type": "code",
   "execution_count": 2,
   "id": "53754cb5",
   "metadata": {},
   "outputs": [],
   "source": [
    "MI_method = 'MC'\n",
    "MC_samples = 1e8\n",
    "dataset_names = []\n",
    "MI_values = []"
   ]
  },
  {
   "cell_type": "code",
   "execution_count": 3,
   "id": "aed80f42",
   "metadata": {},
   "outputs": [],
   "source": [
    "for d_name, obj in synthetic_data.__dict__.items(): # iterate through every module's attributes\n",
    "    if isinstance(obj, GMM):\n",
    "        dataset_names.append(d_name)\n",
    "        # if 1D, calculate using analytic formula for MI\n",
    "        if len(obj.weights_init) == 1:\n",
    "            MI_value = analytic_MI.calculate_MI_D1_analytical(obj.covariances_init[0])\n",
    "            MI_values.append(MI_value)\n",
    "            continue\n",
    "        if MI_method == 'MC':\n",
    "            MI_value = obj.estimate_MI_MC(MC_samples=MC_samples)\n",
    "        elif MI_method == 'quad':\n",
    "            MI_value = obj.estimate_MI_quad()\n",
    "        MI_values.append(MI_value)"
   ]
  },
  {
   "cell_type": "markdown",
   "id": "e8dacfcb",
   "metadata": {},
   "source": [
    "### Save the MI values"
   ]
  },
  {
   "cell_type": "code",
   "execution_count": 4,
   "id": "cedf88cd",
   "metadata": {},
   "outputs": [],
   "source": [
    "root_folder = './MI_synthetic_datasets'\n",
    "if not os.path.isdir(root_folder):\n",
    "    os.mkdir(root_folder)\n",
    "    \n",
    "for i, MI_value in enumerate(MI_values):\n",
    "    np.save(f\"{root_folder}/MI_{dataset_names[i]}\", MI_value)"
   ]
  },
  {
   "cell_type": "code",
   "execution_count": null,
   "id": "1b3ac91b",
   "metadata": {},
   "outputs": [],
   "source": []
  },
  {
   "cell_type": "code",
   "execution_count": 8,
   "id": "839e8987",
   "metadata": {},
   "outputs": [
    {
     "name": "stdout",
     "output_type": "stream",
     "text": [
      "0.5329727997471472\n",
      "0.35115815077485807\n",
      "0.3705813448903728\n",
      "0.2927555248413233\n",
      "0.15831439374525333\n",
      "0.20065533733557883\n"
     ]
    }
   ],
   "source": [
    "import numpy as np\n",
    "label = 'D3_rhoneq0'\n",
    "analytic = np.load(f'./MI_synthetic_datasets/MI_{label}.npy')\n",
    "\n",
    "N_values = [1000, 2000, 5000, 10000, 20000, 50000]\n",
    "\n",
    "for N in N_values:\n",
    "    MI_file = np.load(f'./results/MI_{label}_501_{N}.npy')\n",
    "    #if N >= 10000:\n",
    "        #MI_file = MI_file[:109]\n",
    "        #print(len(MI_file[MI_file[:, 0] < 0.1, 0]))\n",
    "        #MI_file[MI_file[:, 0] < 0.1, 0] = analytic\n",
    "    \n",
    "    #print((np.mean(MI_file[:, 0] - analytic) / analytic))\n",
    "    #print((np.mean(MI_file[:, 1])))\n",
    "    \n",
    "    print(np.mean( (MI_file[:, 0] - analytic) / MI_file[:, 1]))"
   ]
  },
  {
   "cell_type": "code",
   "execution_count": 54,
   "id": "54c4508e",
   "metadata": {
    "scrolled": true
   },
   "outputs": [
    {
     "data": {
      "text/plain": [
       "array([[0.16766477, 0.00206629],\n",
       "       [0.16553108, 0.00205283],\n",
       "       [0.16827127, 0.00216992],\n",
       "       [0.17048123, 0.00226497],\n",
       "       [0.17139684, 0.00192763],\n",
       "       [0.16843618, 0.00210996],\n",
       "       [0.16972631, 0.00219526],\n",
       "       [0.16855303, 0.00206477],\n",
       "       [0.16498353, 0.00182558],\n",
       "       [0.16385811, 0.00213839],\n",
       "       [0.17155771, 0.00218011],\n",
       "       [0.17028761, 0.00222944],\n",
       "       [0.1697865 , 0.00208097],\n",
       "       [0.17248009, 0.00213248],\n",
       "       [0.16822015, 0.00210024],\n",
       "       [0.17156293, 0.00208151],\n",
       "       [0.16883858, 0.00224315],\n",
       "       [0.17091591, 0.00225011],\n",
       "       [0.16786306, 0.00225258],\n",
       "       [0.1653996 , 0.00203634],\n",
       "       [0.17136842, 0.00212422],\n",
       "       [0.16675541, 0.00225502],\n",
       "       [0.16649969, 0.00206906],\n",
       "       [0.17139805, 0.0022761 ],\n",
       "       [0.16700596, 0.00207874],\n",
       "       [0.16914311, 0.00216963],\n",
       "       [0.1678291 , 0.00222009],\n",
       "       [0.16864597, 0.00210903],\n",
       "       [0.16806084, 0.00214374],\n",
       "       [0.17156542, 0.0018798 ],\n",
       "       [0.1621141 , 0.00202129],\n",
       "       [0.17052894, 0.00229895],\n",
       "       [0.16119851, 0.00199207],\n",
       "       [0.16935207, 0.00213059],\n",
       "       [0.17465449, 0.00206369],\n",
       "       [0.16231927, 0.00230675],\n",
       "       [0.16791612, 0.00222033],\n",
       "       [0.17271307, 0.00219847],\n",
       "       [0.17010301, 0.00230301],\n",
       "       [0.17152572, 0.00216656],\n",
       "       [0.1688415 , 0.0022832 ],\n",
       "       [0.16830948, 0.00222392],\n",
       "       [0.17024609, 0.00206125],\n",
       "       [0.16749008, 0.00217459],\n",
       "       [0.16626264, 0.00202719],\n",
       "       [0.16745756, 0.00183155],\n",
       "       [0.16892788, 0.0020584 ],\n",
       "       [0.16903841, 0.0018185 ],\n",
       "       [0.17392668, 0.00236007],\n",
       "       [0.16692587, 0.00204541],\n",
       "       [0.16670363, 0.00202154],\n",
       "       [0.16498603, 0.00221343],\n",
       "       [0.17111502, 0.00215707],\n",
       "       [0.16513362, 0.00200856],\n",
       "       [0.16497832, 0.00189107],\n",
       "       [0.17080446, 0.00213035],\n",
       "       [0.16720455, 0.0018442 ],\n",
       "       [0.16643099, 0.00201666],\n",
       "       [0.17374001, 0.00203926],\n",
       "       [0.17019987, 0.00185221],\n",
       "       [0.16798061, 0.00213665],\n",
       "       [0.16357521, 0.00206195],\n",
       "       [0.16765204, 0.00221266],\n",
       "       [0.17021982, 0.00227269],\n",
       "       [0.16571542, 0.00227888],\n",
       "       [0.17059649, 0.00179788],\n",
       "       [0.1703854 , 0.00210435],\n",
       "       [0.16711556, 0.00203351],\n",
       "       [0.16855571, 0.00210324],\n",
       "       [0.17320074, 0.00191565],\n",
       "       [0.16593465, 0.00239812],\n",
       "       [0.16673518, 0.00231087],\n",
       "       [0.16240408, 0.00190078],\n",
       "       [0.16470801, 0.00215391],\n",
       "       [0.16513191, 0.00201473],\n",
       "       [0.1656979 , 0.00233679],\n",
       "       [0.16751887, 0.00205604],\n",
       "       [0.17293959, 0.00191954],\n",
       "       [0.17341535, 0.00222982],\n",
       "       [0.16498471, 0.00225762],\n",
       "       [0.16779708, 0.00197236],\n",
       "       [0.16945299, 0.00184691],\n",
       "       [0.16886616, 0.00217145],\n",
       "       [0.16863106, 0.00205601],\n",
       "       [0.16561088, 0.00192584],\n",
       "       [0.16901683, 0.00221727],\n",
       "       [0.16935154, 0.00184242],\n",
       "       [0.16714672, 0.00213242],\n",
       "       [0.170966  , 0.00212309],\n",
       "       [0.17277813, 0.00231348],\n",
       "       [0.16525311, 0.00207516],\n",
       "       [0.16319475, 0.00193589],\n",
       "       [0.17292425, 0.00209018],\n",
       "       [0.1710076 , 0.00224439],\n",
       "       [0.16426993, 0.001942  ],\n",
       "       [0.17154617, 0.00228104],\n",
       "       [0.16440786, 0.00201912],\n",
       "       [0.1689129 , 0.00218689],\n",
       "       [0.17331462, 0.00224592],\n",
       "       [0.1683741 , 0.00205646],\n",
       "       [0.16760504, 0.0022821 ],\n",
       "       [0.16660061, 0.00173508],\n",
       "       [0.17424548, 0.00221123]])"
      ]
     },
     "execution_count": 54,
     "metadata": {},
     "output_type": "execute_result"
    }
   ],
   "source": [
    "MI_file"
   ]
  },
  {
   "cell_type": "code",
   "execution_count": 70,
   "id": "a3b4b114",
   "metadata": {},
   "outputs": [
    {
     "data": {
      "image/png": "[encoded data removed]",
      "text/plain": [
       "<Figure size 1440x720 with 2 Axes>"
      ]
     },
     "metadata": {
      "needs_background": "light"
     },
     "output_type": "display_data"
    }
   ],
   "source": [
    "import matplotlib.pyplot as plt\n",
    "fig, (ax1, ax2) = plt.subplots(1, 2, figsize=(20, 10))\n",
    "ax1.hist(MI_file[:, 0], density=True, histtype='step')\n",
    "ax1.axvline(0.13237903, linewidth=3, c='k', linestyle='--')\n",
    "ax2.hist(MI_file[:, 1], density=True, histtype='step');"
   ]
  },
  {
   "cell_type": "code",
   "execution_count": null,
   "id": "ad4630fc",
   "metadata": {},
   "outputs": [],
   "source": []
  },
  {
   "cell_type": "code",
   "execution_count": null,
   "id": "8667fc4d",
   "metadata": {},
   "outputs": [],
   "source": []
  }
 ],
 "metadata": {
  "kernelspec": {
   "display_name": "Python 3 (ipykernel)",
   "language": "python",
   "name": "python3"
  },
  "language_info": {
   "codemirror_mode": {
    "name": "ipython",
    "version": 3
   },
   "file_extension": ".py",
   "mimetype": "text/x-python",
   "name": "python",
   "nbconvert_exporter": "python",
   "pygments_lexer": "ipython3",
   "version": "3.9.13"
  }
 },
 "nbformat": 4,
 "nbformat_minor": 5
}
